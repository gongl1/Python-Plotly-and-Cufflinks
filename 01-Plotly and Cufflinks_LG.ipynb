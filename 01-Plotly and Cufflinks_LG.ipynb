{
 "cells": [
  {
   "cell_type": "markdown",
   "metadata": {},
   "source": [
    "# Plotly and Cufflinks"
   ]
  },
  {
   "cell_type": "markdown",
   "metadata": {},
   "source": [
    "Plotly is a library that allows you to create interactive plots that you can use in dashboards or websites (you can save them as html files or static images).\n",
    "\n",
    "## Installation\n",
    "\n",
    "In order for this all to work, you'll need to install plotly and cufflinks to call plots directly off of a pandas dataframe. These libraries are not currently available through **conda** but are available through **pip**. Install the libraries at your command line/terminal using:\n",
    "\n",
    "    pip install plotly\n",
    "    pip install cufflinks\n",
    "\n",
    "** NOTE: Make sure you only have one installation of Python on your computer when you do this, otherwise the installation may not work. **\n",
    "\n",
    "## Imports and Set-up"
   ]
  },
  {
   "cell_type": "code",
   "execution_count": 1,
   "metadata": {
    "tags": []
   },
   "outputs": [],
   "source": [
    "# Have to use Notebook to run Plotly here!\n",
    "\n",
    "import pandas as pd\n",
    "import numpy as np\n",
    "%matplotlib inline"
   ]
  },
  {
   "cell_type": "code",
   "execution_count": 2,
   "metadata": {
    "jupyter": {
     "outputs_hidden": false
    }
   },
   "outputs": [
    {
     "name": "stdout",
     "output_type": "stream",
     "text": [
      "5.5.0\n"
     ]
    }
   ],
   "source": [
    "from plotly import __version__\n",
    "from plotly.offline import download_plotlyjs, init_notebook_mode, plot, iplot\n",
    "\n",
    "print(__version__) # requires version >= 1.9.0"
   ]
  },
  {
   "cell_type": "code",
   "execution_count": 3,
   "metadata": {
    "tags": []
   },
   "outputs": [],
   "source": [
    "import cufflinks as cf"
   ]
  },
  {
   "cell_type": "code",
   "execution_count": 4,
   "metadata": {},
   "outputs": [],
   "source": [
    "import chart_studio.plotly as py"
   ]
  },
  {
   "cell_type": "code",
   "execution_count": 5,
   "metadata": {
    "jupyter": {
     "outputs_hidden": false
    }
   },
   "outputs": [
    {
     "data": {
      "text/html": [
       "        <script type=\"text/javascript\">\n",
       "        window.PlotlyConfig = {MathJaxConfig: 'local'};\n",
       "        if (window.MathJax) {MathJax.Hub.Config({SVG: {font: \"STIX-Web\"}});}\n",
       "        if (typeof require !== 'undefined') {\n",
       "        require.undef(\"plotly\");\n",
       "        requirejs.config({\n",
       "            paths: {\n",
       "                'plotly': ['https://cdn.plot.ly/plotly-2.8.3.min']\n",
       "            }\n",
       "        });\n",
       "        require(['plotly'], function(Plotly) {\n",
       "            window._Plotly = Plotly;\n",
       "        });\n",
       "        }\n",
       "        </script>\n",
       "        "
      ]
     },
     "metadata": {},
     "output_type": "display_data"
    }
   ],
   "source": [
    "# For Notebooks\n",
    "init_notebook_mode(connected=True)"
   ]
  },
  {
   "cell_type": "code",
   "execution_count": 6,
   "metadata": {
    "jupyter": {
     "outputs_hidden": false
    }
   },
   "outputs": [
    {
     "data": {
      "text/html": [
       "        <script type=\"text/javascript\">\n",
       "        window.PlotlyConfig = {MathJaxConfig: 'local'};\n",
       "        if (window.MathJax) {MathJax.Hub.Config({SVG: {font: \"STIX-Web\"}});}\n",
       "        if (typeof require !== 'undefined') {\n",
       "        require.undef(\"plotly\");\n",
       "        requirejs.config({\n",
       "            paths: {\n",
       "                'plotly': ['https://cdn.plot.ly/plotly-2.8.3.min']\n",
       "            }\n",
       "        });\n",
       "        require(['plotly'], function(Plotly) {\n",
       "            window._Plotly = Plotly;\n",
       "        });\n",
       "        }\n",
       "        </script>\n",
       "        "
      ]
     },
     "metadata": {},
     "output_type": "display_data"
    }
   ],
   "source": [
    "# For offline use\n",
    "cf.go_offline()"
   ]
  },
  {
   "cell_type": "code",
   "execution_count": 7,
   "metadata": {},
   "outputs": [
    {
     "name": "stdout",
     "output_type": "stream",
     "text": [
      "Requirement already satisfied: plotly in c:\\users\\gongl\\anaconda3\\lib\\site-packages (5.5.0)\n",
      "Requirement already satisfied: six in c:\\users\\gongl\\appdata\\roaming\\python\\python38\\site-packages (from plotly) (1.15.0)\n",
      "Requirement already satisfied: tenacity>=6.2.0 in c:\\users\\gongl\\anaconda3\\lib\\site-packages (from plotly) (8.0.1)\n",
      "Requirement already satisfied: cufflinks in c:\\users\\gongl\\anaconda3\\lib\\site-packages (0.17.3)\n",
      "Requirement already satisfied: plotly>=4.1.1 in c:\\users\\gongl\\anaconda3\\lib\\site-packages (from cufflinks) (5.5.0)\n",
      "Requirement already satisfied: setuptools>=34.4.1 in c:\\users\\gongl\\anaconda3\\lib\\site-packages (from cufflinks) (52.0.0.post20210125)\n",
      "Requirement already satisfied: numpy>=1.9.2 in c:\\users\\gongl\\anaconda3\\lib\\site-packages (from cufflinks) (1.20.3)\n",
      "Requirement already satisfied: colorlover>=0.2.1 in c:\\users\\gongl\\anaconda3\\lib\\site-packages (from cufflinks) (0.3.0)\n",
      "Requirement already satisfied: ipython>=5.3.0 in c:\\users\\gongl\\appdata\\roaming\\python\\python38\\site-packages (from cufflinks) (7.21.0)\n",
      "Requirement already satisfied: six>=1.9.0 in c:\\users\\gongl\\appdata\\roaming\\python\\python38\\site-packages (from cufflinks) (1.15.0)\n",
      "Requirement already satisfied: ipywidgets>=7.0.0 in c:\\users\\gongl\\anaconda3\\lib\\site-packages (from cufflinks) (7.6.3)\n",
      "Requirement already satisfied: pandas>=0.19.2 in c:\\users\\gongl\\anaconda3\\lib\\site-packages (from cufflinks) (1.2.5)\n",
      "Requirement already satisfied: traitlets>=4.2 in c:\\users\\gongl\\appdata\\roaming\\python\\python38\\site-packages (from ipython>=5.3.0->cufflinks) (5.0.5)\n",
      "Requirement already satisfied: colorama in c:\\users\\gongl\\appdata\\roaming\\python\\python38\\site-packages (from ipython>=5.3.0->cufflinks) (0.4.4)\n",
      "Requirement already satisfied: jedi>=0.16 in c:\\users\\gongl\\appdata\\roaming\\python\\python38\\site-packages (from ipython>=5.3.0->cufflinks) (0.18.0)\n",
      "Requirement already satisfied: decorator in c:\\users\\gongl\\appdata\\roaming\\python\\python38\\site-packages (from ipython>=5.3.0->cufflinks) (4.4.2)\n",
      "Requirement already satisfied: prompt-toolkit!=3.0.0,!=3.0.1,<3.1.0,>=2.0.0 in c:\\users\\gongl\\appdata\\roaming\\python\\python38\\site-packages (from ipython>=5.3.0->cufflinks) (3.0.16)\n",
      "Requirement already satisfied: pickleshare in c:\\users\\gongl\\appdata\\roaming\\python\\python38\\site-packages (from ipython>=5.3.0->cufflinks) (0.7.5)\n",
      "Requirement already satisfied: pygments in c:\\users\\gongl\\appdata\\roaming\\python\\python38\\site-packages (from ipython>=5.3.0->cufflinks) (2.8.0)\n",
      "Requirement already satisfied: backcall in c:\\users\\gongl\\appdata\\roaming\\python\\python38\\site-packages (from ipython>=5.3.0->cufflinks) (0.2.0)\n",
      "Requirement already satisfied: ipykernel>=4.5.1 in c:\\users\\gongl\\appdata\\roaming\\python\\python38\\site-packages (from ipywidgets>=7.0.0->cufflinks) (5.5.0)\n",
      "Requirement already satisfied: widgetsnbextension~=3.5.0 in c:\\users\\gongl\\anaconda3\\lib\\site-packages (from ipywidgets>=7.0.0->cufflinks) (3.5.1)\n",
      "Requirement already satisfied: jupyterlab-widgets>=1.0.0 in c:\\users\\gongl\\anaconda3\\lib\\site-packages (from ipywidgets>=7.0.0->cufflinks) (1.0.0)\n",
      "Requirement already satisfied: nbformat>=4.2.0 in c:\\users\\gongl\\anaconda3\\lib\\site-packages (from ipywidgets>=7.0.0->cufflinks) (5.1.3)\n",
      "Requirement already satisfied: tornado>=4.2 in c:\\users\\gongl\\appdata\\roaming\\python\\python38\\site-packages (from ipykernel>=4.5.1->ipywidgets>=7.0.0->cufflinks) (6.1)\n",
      "Requirement already satisfied: jupyter-client in c:\\users\\gongl\\appdata\\roaming\\python\\python38\\site-packages (from ipykernel>=4.5.1->ipywidgets>=7.0.0->cufflinks) (6.1.11)\n",
      "Requirement already satisfied: parso<0.9.0,>=0.8.0 in c:\\users\\gongl\\appdata\\roaming\\python\\python38\\site-packages (from jedi>=0.16->ipython>=5.3.0->cufflinks) (0.8.1)\n",
      "Requirement already satisfied: jsonschema!=2.5.0,>=2.4 in c:\\users\\gongl\\anaconda3\\lib\\site-packages (from nbformat>=4.2.0->ipywidgets>=7.0.0->cufflinks) (3.2.0)\n",
      "Requirement already satisfied: jupyter-core in c:\\users\\gongl\\appdata\\roaming\\python\\python38\\site-packages (from nbformat>=4.2.0->ipywidgets>=7.0.0->cufflinks) (4.7.1)\n",
      "Requirement already satisfied: ipython-genutils in c:\\users\\gongl\\appdata\\roaming\\python\\python38\\site-packages (from nbformat>=4.2.0->ipywidgets>=7.0.0->cufflinks) (0.2.0)\n",
      "Requirement already satisfied: pyrsistent>=0.14.0 in c:\\users\\gongl\\anaconda3\\lib\\site-packages (from jsonschema!=2.5.0,>=2.4->nbformat>=4.2.0->ipywidgets>=7.0.0->cufflinks) (0.17.3)\n",
      "Requirement already satisfied: attrs>=17.4.0 in c:\\users\\gongl\\anaconda3\\lib\\site-packages (from jsonschema!=2.5.0,>=2.4->nbformat>=4.2.0->ipywidgets>=7.0.0->cufflinks) (21.2.0)\n",
      "Requirement already satisfied: python-dateutil>=2.7.3 in c:\\users\\gongl\\appdata\\roaming\\python\\python38\\site-packages (from pandas>=0.19.2->cufflinks) (2.8.1)\n",
      "Requirement already satisfied: pytz>=2017.3 in c:\\users\\gongl\\anaconda3\\lib\\site-packages (from pandas>=0.19.2->cufflinks) (2021.1)\n",
      "Requirement already satisfied: tenacity>=6.2.0 in c:\\users\\gongl\\anaconda3\\lib\\site-packages (from plotly>=4.1.1->cufflinks) (8.0.1)\n",
      "Requirement already satisfied: wcwidth in c:\\users\\gongl\\appdata\\roaming\\python\\python38\\site-packages (from prompt-toolkit!=3.0.0,!=3.0.1,<3.1.0,>=2.0.0->ipython>=5.3.0->cufflinks) (0.2.5)\n",
      "Requirement already satisfied: notebook>=4.4.1 in c:\\users\\gongl\\anaconda3\\lib\\site-packages (from widgetsnbextension~=3.5.0->ipywidgets>=7.0.0->cufflinks) (6.4.0)\n",
      "Requirement already satisfied: prometheus-client in c:\\users\\gongl\\anaconda3\\lib\\site-packages (from notebook>=4.4.1->widgetsnbextension~=3.5.0->ipywidgets>=7.0.0->cufflinks) (0.11.0)\n",
      "Requirement already satisfied: pyzmq>=17 in c:\\users\\gongl\\appdata\\roaming\\python\\python38\\site-packages (from notebook>=4.4.1->widgetsnbextension~=3.5.0->ipywidgets>=7.0.0->cufflinks) (22.0.3)\n",
      "Requirement already satisfied: jinja2 in c:\\users\\gongl\\anaconda3\\lib\\site-packages (from notebook>=4.4.1->widgetsnbextension~=3.5.0->ipywidgets>=7.0.0->cufflinks) (3.0.1)\n",
      "Requirement already satisfied: terminado>=0.8.3 in c:\\users\\gongl\\anaconda3\\lib\\site-packages (from notebook>=4.4.1->widgetsnbextension~=3.5.0->ipywidgets>=7.0.0->cufflinks) (0.9.4)\n",
      "Requirement already satisfied: Send2Trash>=1.5.0 in c:\\users\\gongl\\anaconda3\\lib\\site-packages (from notebook>=4.4.1->widgetsnbextension~=3.5.0->ipywidgets>=7.0.0->cufflinks) (1.5.0)\n",
      "Requirement already satisfied: argon2-cffi in c:\\users\\gongl\\anaconda3\\lib\\site-packages (from notebook>=4.4.1->widgetsnbextension~=3.5.0->ipywidgets>=7.0.0->cufflinks) (20.1.0)\n",
      "Requirement already satisfied: nbconvert in c:\\users\\gongl\\anaconda3\\lib\\site-packages (from notebook>=4.4.1->widgetsnbextension~=3.5.0->ipywidgets>=7.0.0->cufflinks) (6.1.0)\n",
      "Requirement already satisfied: pywin32>=1.0 in c:\\users\\gongl\\appdata\\roaming\\python\\python38\\site-packages (from jupyter-core->nbformat>=4.2.0->ipywidgets>=7.0.0->cufflinks) (300)\n",
      "Requirement already satisfied: pywinpty>=0.5 in c:\\users\\gongl\\anaconda3\\lib\\site-packages (from terminado>=0.8.3->notebook>=4.4.1->widgetsnbextension~=3.5.0->ipywidgets>=7.0.0->cufflinks) (0.5.7)\n",
      "Requirement already satisfied: cffi>=1.0.0 in c:\\users\\gongl\\anaconda3\\lib\\site-packages (from argon2-cffi->notebook>=4.4.1->widgetsnbextension~=3.5.0->ipywidgets>=7.0.0->cufflinks) (1.14.6)\n",
      "Requirement already satisfied: pycparser in c:\\users\\gongl\\anaconda3\\lib\\site-packages (from cffi>=1.0.0->argon2-cffi->notebook>=4.4.1->widgetsnbextension~=3.5.0->ipywidgets>=7.0.0->cufflinks) (2.20)\n",
      "Requirement already satisfied: MarkupSafe>=2.0 in c:\\users\\gongl\\anaconda3\\lib\\site-packages (from jinja2->notebook>=4.4.1->widgetsnbextension~=3.5.0->ipywidgets>=7.0.0->cufflinks) (2.0.1)\n",
      "Requirement already satisfied: jupyterlab-pygments in c:\\users\\gongl\\anaconda3\\lib\\site-packages (from nbconvert->notebook>=4.4.1->widgetsnbextension~=3.5.0->ipywidgets>=7.0.0->cufflinks) (0.1.2)\n",
      "Requirement already satisfied: defusedxml in c:\\users\\gongl\\anaconda3\\lib\\site-packages (from nbconvert->notebook>=4.4.1->widgetsnbextension~=3.5.0->ipywidgets>=7.0.0->cufflinks) (0.7.1)\n",
      "Requirement already satisfied: bleach in c:\\users\\gongl\\anaconda3\\lib\\site-packages (from nbconvert->notebook>=4.4.1->widgetsnbextension~=3.5.0->ipywidgets>=7.0.0->cufflinks) (3.3.1)\n",
      "Requirement already satisfied: testpath in c:\\users\\gongl\\anaconda3\\lib\\site-packages (from nbconvert->notebook>=4.4.1->widgetsnbextension~=3.5.0->ipywidgets>=7.0.0->cufflinks) (0.5.0)\n",
      "Requirement already satisfied: pandocfilters>=1.4.1 in c:\\users\\gongl\\anaconda3\\lib\\site-packages (from nbconvert->notebook>=4.4.1->widgetsnbextension~=3.5.0->ipywidgets>=7.0.0->cufflinks) (1.4.3)\n",
      "Requirement already satisfied: entrypoints>=0.2.2 in c:\\users\\gongl\\anaconda3\\lib\\site-packages (from nbconvert->notebook>=4.4.1->widgetsnbextension~=3.5.0->ipywidgets>=7.0.0->cufflinks) (0.3)\n",
      "Requirement already satisfied: nbclient<0.6.0,>=0.5.0 in c:\\users\\gongl\\anaconda3\\lib\\site-packages (from nbconvert->notebook>=4.4.1->widgetsnbextension~=3.5.0->ipywidgets>=7.0.0->cufflinks) (0.5.3)\n",
      "Requirement already satisfied: mistune<2,>=0.8.1 in c:\\users\\gongl\\anaconda3\\lib\\site-packages (from nbconvert->notebook>=4.4.1->widgetsnbextension~=3.5.0->ipywidgets>=7.0.0->cufflinks) (0.8.4)\n",
      "Requirement already satisfied: nest-asyncio in c:\\users\\gongl\\anaconda3\\lib\\site-packages (from nbclient<0.6.0,>=0.5.0->nbconvert->notebook>=4.4.1->widgetsnbextension~=3.5.0->ipywidgets>=7.0.0->cufflinks) (1.5.1)\n",
      "Requirement already satisfied: async-generator in c:\\users\\gongl\\anaconda3\\lib\\site-packages (from nbclient<0.6.0,>=0.5.0->nbconvert->notebook>=4.4.1->widgetsnbextension~=3.5.0->ipywidgets>=7.0.0->cufflinks) (1.10)\n",
      "Requirement already satisfied: packaging in c:\\users\\gongl\\anaconda3\\lib\\site-packages (from bleach->nbconvert->notebook>=4.4.1->widgetsnbextension~=3.5.0->ipywidgets>=7.0.0->cufflinks) (21.0)\n",
      "Requirement already satisfied: webencodings in c:\\users\\gongl\\anaconda3\\lib\\site-packages (from bleach->nbconvert->notebook>=4.4.1->widgetsnbextension~=3.5.0->ipywidgets>=7.0.0->cufflinks) (0.5.1)\n",
      "Requirement already satisfied: pyparsing>=2.0.2 in c:\\users\\gongl\\anaconda3\\lib\\site-packages (from packaging->bleach->nbconvert->notebook>=4.4.1->widgetsnbextension~=3.5.0->ipywidgets>=7.0.0->cufflinks) (2.4.7)\n"
     ]
    }
   ],
   "source": [
    "!pip install plotly\n",
    "!pip install cufflinks"
   ]
  },
  {
   "cell_type": "markdown",
   "metadata": {},
   "source": [
    "### Fake Data"
   ]
  },
  {
   "cell_type": "code",
   "execution_count": 8,
   "metadata": {
    "jupyter": {
     "outputs_hidden": false
    }
   },
   "outputs": [],
   "source": [
    "df = pd.DataFrame(np.random.randn(100,4),columns='A B C D'.split())"
   ]
  },
  {
   "cell_type": "code",
   "execution_count": 9,
   "metadata": {
    "jupyter": {
     "outputs_hidden": false
    }
   },
   "outputs": [
    {
     "data": {
      "text/html": [
       "<div>\n",
       "<style scoped>\n",
       "    .dataframe tbody tr th:only-of-type {\n",
       "        vertical-align: middle;\n",
       "    }\n",
       "\n",
       "    .dataframe tbody tr th {\n",
       "        vertical-align: top;\n",
       "    }\n",
       "\n",
       "    .dataframe thead th {\n",
       "        text-align: right;\n",
       "    }\n",
       "</style>\n",
       "<table border=\"1\" class=\"dataframe\">\n",
       "  <thead>\n",
       "    <tr style=\"text-align: right;\">\n",
       "      <th></th>\n",
       "      <th>A</th>\n",
       "      <th>B</th>\n",
       "      <th>C</th>\n",
       "      <th>D</th>\n",
       "    </tr>\n",
       "  </thead>\n",
       "  <tbody>\n",
       "    <tr>\n",
       "      <th>0</th>\n",
       "      <td>-1.727725</td>\n",
       "      <td>-0.359274</td>\n",
       "      <td>-0.857660</td>\n",
       "      <td>-0.496558</td>\n",
       "    </tr>\n",
       "    <tr>\n",
       "      <th>1</th>\n",
       "      <td>-0.652395</td>\n",
       "      <td>0.274849</td>\n",
       "      <td>-0.575013</td>\n",
       "      <td>-1.353897</td>\n",
       "    </tr>\n",
       "    <tr>\n",
       "      <th>2</th>\n",
       "      <td>1.711169</td>\n",
       "      <td>-1.840245</td>\n",
       "      <td>0.054437</td>\n",
       "      <td>-0.172236</td>\n",
       "    </tr>\n",
       "    <tr>\n",
       "      <th>3</th>\n",
       "      <td>1.885493</td>\n",
       "      <td>0.419897</td>\n",
       "      <td>0.785222</td>\n",
       "      <td>1.623158</td>\n",
       "    </tr>\n",
       "    <tr>\n",
       "      <th>4</th>\n",
       "      <td>0.279775</td>\n",
       "      <td>0.440880</td>\n",
       "      <td>-0.481549</td>\n",
       "      <td>1.733545</td>\n",
       "    </tr>\n",
       "  </tbody>\n",
       "</table>\n",
       "</div>"
      ],
      "text/plain": [
       "          A         B         C         D\n",
       "0 -1.727725 -0.359274 -0.857660 -0.496558\n",
       "1 -0.652395  0.274849 -0.575013 -1.353897\n",
       "2  1.711169 -1.840245  0.054437 -0.172236\n",
       "3  1.885493  0.419897  0.785222  1.623158\n",
       "4  0.279775  0.440880 -0.481549  1.733545"
      ]
     },
     "execution_count": 9,
     "metadata": {},
     "output_type": "execute_result"
    }
   ],
   "source": [
    "df.head()"
   ]
  },
  {
   "cell_type": "code",
   "execution_count": 10,
   "metadata": {
    "tags": []
   },
   "outputs": [],
   "source": [
    "df2 = pd.DataFrame({'Category':['A','B','C'],'Values':[32,43,50]})"
   ]
  },
  {
   "cell_type": "code",
   "execution_count": 11,
   "metadata": {
    "jupyter": {
     "outputs_hidden": false
    }
   },
   "outputs": [
    {
     "data": {
      "text/html": [
       "<div>\n",
       "<style scoped>\n",
       "    .dataframe tbody tr th:only-of-type {\n",
       "        vertical-align: middle;\n",
       "    }\n",
       "\n",
       "    .dataframe tbody tr th {\n",
       "        vertical-align: top;\n",
       "    }\n",
       "\n",
       "    .dataframe thead th {\n",
       "        text-align: right;\n",
       "    }\n",
       "</style>\n",
       "<table border=\"1\" class=\"dataframe\">\n",
       "  <thead>\n",
       "    <tr style=\"text-align: right;\">\n",
       "      <th></th>\n",
       "      <th>Category</th>\n",
       "      <th>Values</th>\n",
       "    </tr>\n",
       "  </thead>\n",
       "  <tbody>\n",
       "    <tr>\n",
       "      <th>0</th>\n",
       "      <td>A</td>\n",
       "      <td>32</td>\n",
       "    </tr>\n",
       "    <tr>\n",
       "      <th>1</th>\n",
       "      <td>B</td>\n",
       "      <td>43</td>\n",
       "    </tr>\n",
       "    <tr>\n",
       "      <th>2</th>\n",
       "      <td>C</td>\n",
       "      <td>50</td>\n",
       "    </tr>\n",
       "  </tbody>\n",
       "</table>\n",
       "</div>"
      ],
      "text/plain": [
       "  Category  Values\n",
       "0        A      32\n",
       "1        B      43\n",
       "2        C      50"
      ]
     },
     "execution_count": 11,
     "metadata": {},
     "output_type": "execute_result"
    }
   ],
   "source": [
    "df2"
   ]
  },
  {
   "cell_type": "markdown",
   "metadata": {},
   "source": [
    "## Using Cufflinks and iplot()\n",
    "\n",
    "* scatter\n",
    "* bar\n",
    "* box\n",
    "* spread\n",
    "* ratio\n",
    "* heatmap\n",
    "* surface\n",
    "* histogram\n",
    "* bubble"
   ]
  },
  {
   "cell_type": "code",
   "execution_count": 12,
   "metadata": {},
   "outputs": [
    {
     "data": {
      "text/plain": [
       "<AxesSubplot:>"
      ]
     },
     "execution_count": 12,
     "metadata": {},
     "output_type": "execute_result"
    },
    {
     "data": {
      "image/png": "[encoded data removed]",
      "text/plain": [
       "<Figure size 432x288 with 1 Axes>"
      ]
     },
     "metadata": {
      "needs_background": "light"
     },
     "output_type": "display_data"
    }
   ],
   "source": [
    "df.plot()"
   ]
  },
  {
   "cell_type": "markdown",
   "metadata": {},
   "source": [
    "## Scatter"
   ]
  },
  {
   "cell_type": "code",
   "execution_count": 13,
   "metadata": {},
   "outputs": [],
   "source": [
    "%matplotlib inline"
   ]
  },
  {
   "cell_type": "code",
   "execution_count": 17,
   "metadata": {},
   "outputs": [
    {
     "data": {
      "application/vnd.plotly.v1+json": {
       "config": {
        "linkText": "Export to plot.ly",
        "plotlyServerURL": "https://plot.ly",
        "showLink": true
       },
       "data": [
        {
         "line": {
          "color": "rgba(255, 153, 51, 1.0)",
          "dash": "solid",
          "shape": "linear",
          "width": 1.3
         },
         "mode": "lines",
         "name": "A",
         "text": "",
         "type": "scatter",
         "x": [
          0,
          1,
          2,
          3,
          4,
          5,
          6,
          7,
          8,
          9,
          10,
          11,
          12,
          13,
          14,
          15,
          16,
          17,
          18,
          19,
          20,
          21,
          22,
          23,
          24,
          25,
          26,
          27,
          28,
          29,
          30,
          31,
          32,
          33,
          34,
          35,
          36,
          37,
          38,
          39,
          40,
          41,
          42,
          43,
          44,
          45,
          46,
          47,
          48,
          49,
          50,
          51,
          52,
          53,
          54,
          55,
          56,
          57,
          58,
          59,
          60,
          61,
          62,
          63,
          64,
          65,
          66,
          67,
          68,
          69,
          70,
          71,
          72,
          73,
          74,
          75,
          76,
          77,
          78,
          79,
          80,
          81,
          82,
          83,
          84,
          85,
          86,
          87,
          88,
          89,
          90,
          91,
          92,
          93,
          94,
          95,
          96,
          97,
          98,
          99
         ],
         "y": [
          -1.727725252579994,
          -0.6523954972283168,
          1.7111687573755276,
          1.8854926884160432,
          0.2797752300463759,
          -0.12278394235318713,
          -2.4629864633042837,
          -0.78629519698013,
          1.5013687819523045,
          0.5778433356227098,
          -2.1250130799216187,
          0.3074884774377496,
          -0.39557538193393044,
          -0.7210189703241677,
          0.6061344398049183,
          0.7253202601114827,
          0.7539556248165138,
          -0.6899826023857759,
          -1.9861820267153667,
          2.4724627179818857,
          -1.4921740674205082,
          0.21778649632986308,
          -1.2225982276441731,
          0.3022845411813817,
          0.5009163667793719,
          -0.27518666748581294,
          0.3332232948659106,
          0.5530183129927184,
          2.1813543514946936,
          2.3674713894348414,
          0.4040344645695381,
          0.1038752830651099,
          0.8189814485190792,
          0.6565628023965491,
          0.9649713911033581,
          0.4770077483354942,
          -1.1877719893116574,
          -0.3185818235127667,
          -0.4156429945784772,
          0.09263219619292881,
          1.1664812938353366,
          -1.664581973843618,
          0.8941099556511569,
          -0.059261618500232864,
          -0.42899090930167383,
          1.4204537434359545,
          -1.9614667808680513,
          0.5392218409350615,
          0.47024725448087334,
          1.1467256719334287,
          0.6683405973503002,
          -0.1653528442340094,
          0.2720390477214452,
          -0.6859510913281808,
          0.873018803874626,
          -0.4897179349388602,
          0.2791268821380968,
          -0.01369544344158681,
          0.9219045630189825,
          -0.17979824847298675,
          -1.4115107328459895,
          -0.4411751400820583,
          -0.13716549658502647,
          1.0502522594862551,
          -0.19931089910380348,
          1.2830450947207823,
          -0.7369514961753213,
          -0.43860412360855694,
          1.0940477429003814,
          0.8058780282388065,
          -0.2924536277044239,
          2.852728649349453,
          0.04370968310871116,
          -0.8464521149500591,
          2.28771812749006,
          0.010509765405440371,
          -1.4659896454578434,
          0.36111835740287185,
          1.080204647892336,
          0.21540806709294769,
          -1.2746246503442467,
          -0.7772846266240038,
          1.0151964174987262,
          -0.06308949328548494,
          0.6685557331125359,
          1.613021300620463,
          0.47658038207031683,
          -0.0906659850021094,
          -0.2727332447383256,
          -1.1830977459293435,
          1.5018775786963818,
          1.1466140817409018,
          -0.5606275116117502,
          -0.10446970457486329,
          0.3496968132069453,
          -0.6288080145360863,
          0.17515626102678597,
          0.4300673887181837,
          -0.1627117716049884,
          -1.1241376448948244
         ]
        },
        {
         "line": {
          "color": "rgba(55, 128, 191, 1.0)",
          "dash": "solid",
          "shape": "linear",
          "width": 1.3
         },
         "mode": "lines",
         "name": "B",
         "text": "",
         "type": "scatter",
         "x": [
          0,
          1,
          2,
          3,
          4,
          5,
          6,
          7,
          8,
          9,
          10,
          11,
          12,
          13,
          14,
          15,
          16,
          17,
          18,
          19,
          20,
          21,
          22,
          23,
          24,
          25,
          26,
          27,
          28,
          29,
          30,
          31,
          32,
          33,
          34,
          35,
          36,
          37,
          38,
          39,
          40,
          41,
          42,
          43,
          44,
          45,
          46,
          47,
          48,
          49,
          50,
          51,
          52,
          53,
          54,
          55,
          56,
          57,
          58,
          59,
          60,
          61,
          62,
          63,
          64,
          65,
          66,
          67,
          68,
          69,
          70,
          71,
          72,
          73,
          74,
          75,
          76,
          77,
          78,
          79,
          80,
          81,
          82,
          83,
          84,
          85,
          86,
          87,
          88,
          89,
          90,
          91,
          92,
          93,
          94,
          95,
          96,
          97,
          98,
          99
         ],
         "y": [
          -0.35927390814104476,
          0.27484927832288925,
          -1.8402446516963689,
          0.4198969961056575,
          0.4408799218403844,
          -0.665006993082131,
          0.46215986015186405,
          0.5573938040479566,
          0.6821486464071536,
          -0.43277368434188607,
          -1.2513044483714728,
          -0.11800881518163064,
          0.4836095280558225,
          0.7198624924810973,
          0.769734040934067,
          0.32344267033603896,
          -0.5870259090687044,
          1.3764179686571287,
          0.5414625905049074,
          -0.598832443850317,
          -0.3195569510147842,
          1.2187240035662579,
          1.7219914761158468,
          1.0019398201832288,
          1.2712216685342188,
          -0.15169413108128366,
          -2.0769689079471245,
          -0.24617444450180453,
          0.2170377560005709,
          -0.2729310917822944,
          1.0580304337908448,
          0.49066385442413696,
          -0.0634690171707887,
          0.8761236894078324,
          -1.156182292111743,
          -1.7239496549607745,
          0.39963598889609775,
          -1.2405253270562735,
          -1.0844575996887613,
          0.9674204439722415,
          -2.3541883593272517,
          0.8451426886740392,
          0.48949596951889196,
          -1.048367046734212,
          -1.7815751279077898,
          0.09603552656022948,
          1.022949626357811,
          -1.0023988657385754,
          1.426874982960192,
          1.3283805405466318,
          -0.6826435013929715,
          -0.06948124309346751,
          1.197488186443602,
          1.2254917825595262,
          -1.0980833401848957,
          -1.2936343077373555,
          1.1510079929317878,
          0.8458703244821476,
          -1.2145888081746545,
          -0.8788190625374599,
          -1.5966273166290912,
          -0.7875422511564634,
          -0.1341321161518695,
          -1.4763238379407928,
          0.20797838521634457,
          -0.8900356418694271,
          -0.03371763647518824,
          0.7039356095584622,
          0.04616317679909543,
          0.6189737947401249,
          -0.020343437881330532,
          0.5241198908709517,
          -0.7207502317444129,
          -0.5982659043959154,
          -0.9178947753869992,
          1.2093861312135417,
          0.8309601781784342,
          0.5021465962618618,
          0.7693337137248092,
          0.8802821133026897,
          0.8837223679022095,
          0.4640030703367322,
          0.4763622196705976,
          1.4159694950025428,
          -0.29871965306664355,
          -0.8294071562311018,
          2.3446506464640398,
          -1.8637575195725096,
          -0.9628217613471104,
          -0.8981321973001141,
          -1.2529064074869203,
          -0.9883955824352328,
          0.3543575984448734,
          -0.9402400967736599,
          0.27223807132119077,
          -2.1523011662984852,
          1.692728902747629,
          -1.41854939516216,
          -0.2837856089408107,
          -2.0512938927588813
         ]
        },
        {
         "line": {
          "color": "rgba(50, 171, 96, 1.0)",
          "dash": "solid",
          "shape": "linear",
          "width": 1.3
         },
         "mode": "lines",
         "name": "C",
         "text": "",
         "type": "scatter",
         "x": [
          0,
          1,
          2,
          3,
          4,
          5,
          6,
          7,
          8,
          9,
          10,
          11,
          12,
          13,
          14,
          15,
          16,
          17,
          18,
          19,
          20,
          21,
          22,
          23,
          24,
          25,
          26,
          27,
          28,
          29,
          30,
          31,
          32,
          33,
          34,
          35,
          36,
          37,
          38,
          39,
          40,
          41,
          42,
          43,
          44,
          45,
          46,
          47,
          48,
          49,
          50,
          51,
          52,
          53,
          54,
          55,
          56,
          57,
          58,
          59,
          60,
          61,
          62,
          63,
          64,
          65,
          66,
          67,
          68,
          69,
          70,
          71,
          72,
          73,
          74,
          75,
          76,
          77,
          78,
          79,
          80,
          81,
          82,
          83,
          84,
          85,
          86,
          87,
          88,
          89,
          90,
          91,
          92,
          93,
          94,
          95,
          96,
          97,
          98,
          99
         ],
         "y": [
          -0.8576600851820129,
          -0.5750127788884318,
          0.05443737876004868,
          0.7852219652757143,
          -0.4815487628257627,
          0.04459261934043061,
          -0.06139117924853256,
          0.20633355242056056,
          0.3062438902586826,
          1.3296776414925178,
          -0.7677373671277309,
          -0.006243911503915224,
          1.1498310264509497,
          0.18172294440474673,
          -0.19866413611852404,
          -0.8526807024276805,
          0.699245848585638,
          2.3023684100320927,
          -0.9026964338652707,
          -2.126841132369603,
          -0.842454782703909,
          0.6287313876116941,
          0.6682264230511928,
          -0.1769443401341622,
          0.26285762319922845,
          -1.9182082898691377,
          -0.35284934610786284,
          0.10958556503104956,
          -0.39624950688927235,
          0.31471637953316495,
          -0.6383841995137576,
          2.1191646816111716,
          0.1071863837033177,
          -1.0993467054046555,
          -1.1851231161420908,
          0.9078673017445265,
          -0.9240942974216836,
          1.1082905281639326,
          0.5761749525009726,
          -0.5528240035959081,
          -1.08319747021649,
          -0.3976494677458565,
          -0.1518796496642728,
          1.057216241490009,
          0.0864398733826944,
          0.3100534812829789,
          -0.6269403739297886,
          -0.04947723555628706,
          -0.9613648546663213,
          0.8097916556373664,
          -0.4449950508578437,
          0.1853574945940702,
          -0.40107114793418475,
          -1.003082928001767,
          -0.752919299080358,
          -0.5950415455443309,
          -0.28500485049306346,
          0.22621527955495616,
          -1.4791742950433293,
          0.0863555425022727,
          -1.477818299284184,
          0.3181940813153153,
          -1.852121414840407,
          -0.5261400848800919,
          -0.19445599174652403,
          1.2692789684904169,
          0.9994959914342512,
          0.6236723493406674,
          0.6178352553527662,
          0.01180667443335035,
          -0.7145856073326051,
          -0.21614168674591627,
          0.47703388972485505,
          0.8951840409390931,
          0.12843544193826878,
          0.5830450541273284,
          -0.5229493660653698,
          0.1806833566529037,
          1.2369892036717165,
          1.5121942236516193,
          -1.0073202348756185,
          -0.561204749188291,
          -0.20193194149857496,
          -0.08287312206897211,
          0.8298502678698525,
          1.0807107053419196,
          -0.9480437842389379,
          0.19593365881638544,
          -0.07374676095263155,
          -1.20932451397519,
          -1.431085577517493,
          1.816668237644611,
          -0.3765677734224466,
          0.7154783027959628,
          1.4930900832089968,
          0.20413077793277046,
          -1.1301792997773459,
          0.536724977053704,
          1.1284546732489456,
          -0.45357490395777833
         ]
        },
        {
         "line": {
          "color": "rgba(128, 0, 128, 1.0)",
          "dash": "solid",
          "shape": "linear",
          "width": 1.3
         },
         "mode": "lines",
         "name": "D",
         "text": "",
         "type": "scatter",
         "x": [
          0,
          1,
          2,
          3,
          4,
          5,
          6,
          7,
          8,
          9,
          10,
          11,
          12,
          13,
          14,
          15,
          16,
          17,
          18,
          19,
          20,
          21,
          22,
          23,
          24,
          25,
          26,
          27,
          28,
          29,
          30,
          31,
          32,
          33,
          34,
          35,
          36,
          37,
          38,
          39,
          40,
          41,
          42,
          43,
          44,
          45,
          46,
          47,
          48,
          49,
          50,
          51,
          52,
          53,
          54,
          55,
          56,
          57,
          58,
          59,
          60,
          61,
          62,
          63,
          64,
          65,
          66,
          67,
          68,
          69,
          70,
          71,
          72,
          73,
          74,
          75,
          76,
          77,
          78,
          79,
          80,
          81,
          82,
          83,
          84,
          85,
          86,
          87,
          88,
          89,
          90,
          91,
          92,
          93,
          94,
          95,
          96,
          97,
          98,
          99
         ],
         "y": [
          -0.4965581735356254,
          -1.3538967874345176,
          -0.17223560818573722,
          1.6231579665908973,
          1.7335446296311334,
          -0.2030650778601564,
          -0.8452123865917006,
          1.0521305282835511,
          1.0398148392863902,
          -0.050987236786020504,
          -0.57258304732208,
          0.04327595603432784,
          -1.3940547164717714,
          -0.7525124487105035,
          -0.07855624829631365,
          -1.1287941535485626,
          0.04187240456777008,
          1.4784163179354148,
          0.37467197907364774,
          -0.7017974813352993,
          -0.15403843626666303,
          -0.5716045712901606,
          -0.15591731115513588,
          1.0827404114215546,
          0.06824294928725971,
          -0.6664063407263672,
          0.058527585690782445,
          -0.9858046686548356,
          -0.6166101461902966,
          -1.1015216262366498,
          0.48213629877689473,
          0.7272580763180592,
          1.1927992467132755,
          0.007447607351678447,
          0.9569922129220856,
          -1.1567796253878748,
          -0.1064287862458562,
          0.13029253387854112,
          0.035064494826886665,
          0.007923565519073762,
          0.6666927681045107,
          -0.2975599094544142,
          0.5143305432258334,
          -0.5314002154044901,
          0.9862378459404866,
          -0.8561390311252871,
          -0.08201694272839874,
          0.658484445292848,
          -1.1019741335941395,
          1.7357110245871454,
          -0.11175638362924363,
          1.4145749280314097,
          0.0053422645864003295,
          -0.04697930289317601,
          -0.7801131973483182,
          -1.1054144127714947,
          -0.3191975559484706,
          2.1400811034734475,
          -0.28546278269794334,
          -0.026399679763879018,
          -0.13923411297599422,
          0.5953884586032037,
          -0.6078720153987348,
          0.4475031099532303,
          1.3609915633404095,
          -0.3970043698105668,
          -1.483018792788209,
          -0.5391846912785562,
          -0.9115268037798887,
          0.15120485573677836,
          1.188222846229542,
          -0.9754873702920279,
          0.6138966578280636,
          -0.7061571324872323,
          -0.03124596441063452,
          0.2649153628508299,
          -0.27760614222920704,
          1.0501757511701886,
          -1.6212716213140699,
          -0.8593940651917895,
          -0.4191976458232712,
          -0.7588387619889834,
          0.04786717019872002,
          -1.491149338625276,
          0.5932183950134358,
          0.6539229166253674,
          0.6982652058189514,
          0.6481823342092639,
          -1.0097184189627435,
          -0.7995847706776723,
          -1.1795007881349875,
          -1.2948637331231025,
          0.9988398953252201,
          0.811056302157581,
          -0.498460662658745,
          -0.28272291971528696,
          -0.5413007010612112,
          0.7831871945780672,
          -0.7738786516659488,
          -0.2820191552854569
         ]
        }
       ],
       "layout": {
        "legend": {
         "bgcolor": "#F5F6F9",
         "font": {
          "color": "#4D5663"
         }
        },
        "paper_bgcolor": "#F5F6F9",
        "plot_bgcolor": "#F5F6F9",
        "template": {
         "data": {
          "bar": [
           {
            "error_x": {
             "color": "#2a3f5f"
            },
            "error_y": {
             "color": "#2a3f5f"
            },
            "marker": {
             "line": {
              "color": "#E5ECF6",
              "width": 0.5
             },
             "pattern": {
              "fillmode": "overlay",
              "size": 10,
              "solidity": 0.2
             }
            },
            "type": "bar"
           }
          ],
          "barpolar": [
           {
            "marker": {
             "line": {
              "color": "#E5ECF6",
              "width": 0.5
             },
             "pattern": {
              "fillmode": "overlay",
              "size": 10,
              "solidity": 0.2
             }
            },
            "type": "barpolar"
           }
          ],
          "carpet": [
           {
            "aaxis": {
             "endlinecolor": "#2a3f5f",
             "gridcolor": "white",
             "linecolor": "white",
             "minorgridcolor": "white",
             "startlinecolor": "#2a3f5f"
            },
            "baxis": {
             "endlinecolor": "#2a3f5f",
             "gridcolor": "white",
             "linecolor": "white",
             "minorgridcolor": "white",
             "startlinecolor": "#2a3f5f"
            },
            "type": "carpet"
           }
          ],
          "choropleth": [
           {
            "colorbar": {
             "outlinewidth": 0,
             "ticks": ""
            },
            "type": "choropleth"
           }
          ],
          "contour": [
           {
            "colorbar": {
             "outlinewidth": 0,
             "ticks": ""
            },
            "colorscale": [
             [
              0,
              "#0d0887"
             ],
             [
              0.1111111111111111,
              "#46039f"
             ],
             [
              0.2222222222222222,
              "#7201a8"
             ],
             [
              0.3333333333333333,
              "#9c179e"
             ],
             [
              0.4444444444444444,
              "#bd3786"
             ],
             [
              0.5555555555555556,
              "#d8576b"
             ],
             [
              0.6666666666666666,
              "#ed7953"
             ],
             [
              0.7777777777777778,
              "#fb9f3a"
             ],
             [
              0.8888888888888888,
              "#fdca26"
             ],
             [
              1,
              "#f0f921"
             ]
            ],
            "type": "contour"
           }
          ],
          "contourcarpet": [
           {
            "colorbar": {
             "outlinewidth": 0,
             "ticks": ""
            },
            "type": "contourcarpet"
           }
          ],
          "heatmap": [
           {
            "colorbar": {
             "outlinewidth": 0,
             "ticks": ""
            },
            "colorscale": [
             [
              0,
              "#0d0887"
             ],
             [
              0.1111111111111111,
              "#46039f"
             ],
             [
              0.2222222222222222,
              "#7201a8"
             ],
             [
              0.3333333333333333,
              "#9c179e"
             ],
             [
              0.4444444444444444,
              "#bd3786"
             ],
             [
              0.5555555555555556,
              "#d8576b"
             ],
             [
              0.6666666666666666,
              "#ed7953"
             ],
             [
              0.7777777777777778,
              "#fb9f3a"
             ],
             [
              0.8888888888888888,
              "#fdca26"
             ],
             [
              1,
              "#f0f921"
             ]
            ],
            "type": "heatmap"
           }
          ],
          "heatmapgl": [
           {
            "colorbar": {
             "outlinewidth": 0,
             "ticks": ""
            },
            "colorscale": [
             [
              0,
              "#0d0887"
             ],
             [
              0.1111111111111111,
              "#46039f"
             ],
             [
              0.2222222222222222,
              "#7201a8"
             ],
             [
              0.3333333333333333,
              "#9c179e"
             ],
             [
              0.4444444444444444,
              "#bd3786"
             ],
             [
              0.5555555555555556,
              "#d8576b"
             ],
             [
              0.6666666666666666,
              "#ed7953"
             ],
             [
              0.7777777777777778,
              "#fb9f3a"
             ],
             [
              0.8888888888888888,
              "#fdca26"
             ],
             [
              1,
              "#f0f921"
             ]
            ],
            "type": "heatmapgl"
           }
          ],
          "histogram": [
           {
            "marker": {
             "pattern": {
              "fillmode": "overlay",
              "size": 10,
              "solidity": 0.2
             }
            },
            "type": "histogram"
           }
          ],
          "histogram2d": [
           {
            "colorbar": {
             "outlinewidth": 0,
             "ticks": ""
            },
            "colorscale": [
             [
              0,
              "#0d0887"
             ],
             [
              0.1111111111111111,
              "#46039f"
             ],
             [
              0.2222222222222222,
              "#7201a8"
             ],
             [
              0.3333333333333333,
              "#9c179e"
             ],
             [
              0.4444444444444444,
              "#bd3786"
             ],
             [
              0.5555555555555556,
              "#d8576b"
             ],
             [
              0.6666666666666666,
              "#ed7953"
             ],
             [
              0.7777777777777778,
              "#fb9f3a"
             ],
             [
              0.8888888888888888,
              "#fdca26"
             ],
             [
              1,
              "#f0f921"
             ]
            ],
            "type": "histogram2d"
           }
          ],
          "histogram2dcontour": [
           {
            "colorbar": {
             "outlinewidth": 0,
             "ticks": ""
            },
            "colorscale": [
             [
              0,
              "#0d0887"
             ],
             [
              0.1111111111111111,
              "#46039f"
             ],
             [
              0.2222222222222222,
              "#7201a8"
             ],
             [
              0.3333333333333333,
              "#9c179e"
             ],
             [
              0.4444444444444444,
              "#bd3786"
             ],
             [
              0.5555555555555556,
              "#d8576b"
             ],
             [
              0.6666666666666666,
              "#ed7953"
             ],
             [
              0.7777777777777778,
              "#fb9f3a"
             ],
             [
              0.8888888888888888,
              "#fdca26"
             ],
             [
              1,
              "#f0f921"
             ]
            ],
            "type": "histogram2dcontour"
           }
          ],
          "mesh3d": [
           {
            "colorbar": {
             "outlinewidth": 0,
             "ticks": ""
            },
            "type": "mesh3d"
           }
          ],
          "parcoords": [
           {
            "line": {
             "colorbar": {
              "outlinewidth": 0,
              "ticks": ""
             }
            },
            "type": "parcoords"
           }
          ],
          "pie": [
           {
            "automargin": true,
            "type": "pie"
           }
          ],
          "scatter": [
           {
            "marker": {
             "colorbar": {
              "outlinewidth": 0,
              "ticks": ""
             }
            },
            "type": "scatter"
           }
          ],
          "scatter3d": [
           {
            "line": {
             "colorbar": {
              "outlinewidth": 0,
              "ticks": ""
             }
            },
            "marker": {
             "colorbar": {
              "outlinewidth": 0,
              "ticks": ""
             }
            },
            "type": "scatter3d"
           }
          ],
          "scattercarpet": [
           {
            "marker": {
             "colorbar": {
              "outlinewidth": 0,
              "ticks": ""
             }
            },
            "type": "scattercarpet"
           }
          ],
          "scattergeo": [
           {
            "marker": {
             "colorbar": {
              "outlinewidth": 0,
              "ticks": ""
             }
            },
            "type": "scattergeo"
           }
          ],
          "scattergl": [
           {
            "marker": {
             "colorbar": {
              "outlinewidth": 0,
              "ticks": ""
             }
            },
            "type": "scattergl"
           }
          ],
          "scattermapbox": [
           {
            "marker": {
             "colorbar": {
              "outlinewidth": 0,
              "ticks": ""
             }
            },
            "type": "scattermapbox"
           }
          ],
          "scatterpolar": [
           {
            "marker": {
             "colorbar": {
              "outlinewidth": 0,
              "ticks": ""
             }
            },
            "type": "scatterpolar"
           }
          ],
          "scatterpolargl": [
           {
            "marker": {
             "colorbar": {
              "outlinewidth": 0,
              "ticks": ""
             }
            },
            "type": "scatterpolargl"
           }
          ],
          "scatterternary": [
           {
            "marker": {
             "colorbar": {
              "outlinewidth": 0,
              "ticks": ""
             }
            },
            "type": "scatterternary"
           }
          ],
          "surface": [
           {
            "colorbar": {
             "outlinewidth": 0,
             "ticks": ""
            },
            "colorscale": [
             [
              0,
              "#0d0887"
             ],
             [
              0.1111111111111111,
              "#46039f"
             ],
             [
              0.2222222222222222,
              "#7201a8"
             ],
             [
              0.3333333333333333,
              "#9c179e"
             ],
             [
              0.4444444444444444,
              "#bd3786"
             ],
             [
              0.5555555555555556,
              "#d8576b"
             ],
             [
              0.6666666666666666,
              "#ed7953"
             ],
             [
              0.7777777777777778,
              "#fb9f3a"
             ],
             [
              0.8888888888888888,
              "#fdca26"
             ],
             [
              1,
              "#f0f921"
             ]
            ],
            "type": "surface"
           }
          ],
          "table": [
           {
            "cells": {
             "fill": {
              "color": "#EBF0F8"
             },
             "line": {
              "color": "white"
             }
            },
            "header": {
             "fill": {
              "color": "#C8D4E3"
             },
             "line": {
              "color": "white"
             }
            },
            "type": "table"
           }
          ]
         },
         "layout": {
          "annotationdefaults": {
           "arrowcolor": "#2a3f5f",
           "arrowhead": 0,
           "arrowwidth": 1
          },
          "autotypenumbers": "strict",
          "coloraxis": {
           "colorbar": {
            "outlinewidth": 0,
            "ticks": ""
           }
          },
          "colorscale": {
           "diverging": [
            [
             0,
             "#8e0152"
            ],
            [
             0.1,
             "#c51b7d"
            ],
            [
             0.2,
             "#de77ae"
            ],
            [
             0.3,
             "#f1b6da"
            ],
            [
             0.4,
             "#fde0ef"
            ],
            [
             0.5,
             "#f7f7f7"
            ],
            [
             0.6,
             "#e6f5d0"
            ],
            [
             0.7,
             "#b8e186"
            ],
            [
             0.8,
             "#7fbc41"
            ],
            [
             0.9,
             "#4d9221"
            ],
            [
             1,
             "#276419"
            ]
           ],
           "sequential": [
            [
             0,
             "#0d0887"
            ],
            [
             0.1111111111111111,
             "#46039f"
            ],
            [
             0.2222222222222222,
             "#7201a8"
            ],
            [
             0.3333333333333333,
             "#9c179e"
            ],
            [
             0.4444444444444444,
             "#bd3786"
            ],
            [
             0.5555555555555556,
             "#d8576b"
            ],
            [
             0.6666666666666666,
             "#ed7953"
            ],
            [
             0.7777777777777778,
             "#fb9f3a"
            ],
            [
             0.8888888888888888,
             "#fdca26"
            ],
            [
             1,
             "#f0f921"
            ]
           ],
           "sequentialminus": [
            [
             0,
             "#0d0887"
            ],
            [
             0.1111111111111111,
             "#46039f"
            ],
            [
             0.2222222222222222,
             "#7201a8"
            ],
            [
             0.3333333333333333,
             "#9c179e"
            ],
            [
             0.4444444444444444,
             "#bd3786"
            ],
            [
             0.5555555555555556,
             "#d8576b"
            ],
            [
             0.6666666666666666,
             "#ed7953"
            ],
            [
             0.7777777777777778,
             "#fb9f3a"
            ],
            [
             0.8888888888888888,
             "#fdca26"
            ],
            [
             1,
             "#f0f921"
            ]
           ]
          },
          "colorway": [
           "#636efa",
           "#EF553B",
           "#00cc96",
           "#ab63fa",
           "#FFA15A",
           "#19d3f3",
           "#FF6692",
           "#B6E880",
           "#FF97FF",
           "#FECB52"
          ],
          "font": {
           "color": "#2a3f5f"
          },
          "geo": {
           "bgcolor": "white",
           "lakecolor": "white",
           "landcolor": "#E5ECF6",
           "showlakes": true,
           "showland": true,
           "subunitcolor": "white"
          },
          "hoverlabel": {
           "align": "left"
          },
          "hovermode": "closest",
          "mapbox": {
           "style": "light"
          },
          "paper_bgcolor": "white",
          "plot_bgcolor": "#E5ECF6",
          "polar": {
           "angularaxis": {
            "gridcolor": "white",
            "linecolor": "white",
            "ticks": ""
           },
           "bgcolor": "#E5ECF6",
           "radialaxis": {
            "gridcolor": "white",
            "linecolor": "white",
            "ticks": ""
           }
          },
          "scene": {
           "xaxis": {
            "backgroundcolor": "#E5ECF6",
            "gridcolor": "white",
            "gridwidth": 2,
            "linecolor": "white",
            "showbackground": true,
            "ticks": "",
            "zerolinecolor": "white"
           },
           "yaxis": {
            "backgroundcolor": "#E5ECF6",
            "gridcolor": "white",
            "gridwidth": 2,
            "linecolor": "white",
            "showbackground": true,
            "ticks": "",
            "zerolinecolor": "white"
           },
           "zaxis": {
            "backgroundcolor": "#E5ECF6",
            "gridcolor": "white",
            "gridwidth": 2,
            "linecolor": "white",
            "showbackground": true,
            "ticks": "",
            "zerolinecolor": "white"
           }
          },
          "shapedefaults": {
           "line": {
            "color": "#2a3f5f"
           }
          },
          "ternary": {
           "aaxis": {
            "gridcolor": "white",
            "linecolor": "white",
            "ticks": ""
           },
           "baxis": {
            "gridcolor": "white",
            "linecolor": "white",
            "ticks": ""
           },
           "bgcolor": "#E5ECF6",
           "caxis": {
            "gridcolor": "white",
            "linecolor": "white",
            "ticks": ""
           }
          },
          "title": {
           "x": 0.05
          },
          "xaxis": {
           "automargin": true,
           "gridcolor": "white",
           "linecolor": "white",
           "ticks": "",
           "title": {
            "standoff": 15
           },
           "zerolinecolor": "white",
           "zerolinewidth": 2
          },
          "yaxis": {
           "automargin": true,
           "gridcolor": "white",
           "linecolor": "white",
           "ticks": "",
           "title": {
            "standoff": 15
           },
           "zerolinecolor": "white",
           "zerolinewidth": 2
          }
         }
        },
        "title": {
         "font": {
          "color": "#4D5663"
         }
        },
        "xaxis": {
         "gridcolor": "#E1E5ED",
         "showgrid": true,
         "tickfont": {
          "color": "#4D5663"
         },
         "title": {
          "font": {
           "color": "#4D5663"
          },
          "text": ""
         },
         "zerolinecolor": "#E1E5ED"
        },
        "yaxis": {
         "gridcolor": "#E1E5ED",
         "showgrid": true,
         "tickfont": {
          "color": "#4D5663"
         },
         "title": {
          "font": {
           "color": "#4D5663"
          },
          "text": ""
         },
         "zerolinecolor": "#E1E5ED"
        }
       }
      },
      "text/html": [
       "<div>                            <div id=\"66a44bcd-b20e-41a9-9102-c9ff5f338b4b\" class=\"plotly-graph-div\" style=\"height:525px; width:100%;\"></div>            <script type=\"text/javascript\">                require([\"plotly\"], function(Plotly) {                    window.PLOTLYENV=window.PLOTLYENV || {};\n",
       "                    window.PLOTLYENV.BASE_URL='https://plot.ly';                                    if (document.getElementById(\"66a44bcd-b20e-41a9-9102-c9ff5f338b4b\")) {                    Plotly.newPlot(                        \"66a44bcd-b20e-41a9-9102-c9ff5f338b4b\",                        [{\"line\":{\"color\":\"rgba(255, 153, 51, 1.0)\",\"dash\":\"solid\",\"shape\":\"linear\",\"width\":1.3},\"mode\":\"lines\",\"name\":\"A\",\"text\":\"\",\"x\":[0,1,2,3,4,5,6,7,8,9,10,11,12,13,14,15,16,17,18,19,20,21,22,23,24,25,26,27,28,29,30,31,32,33,34,35,36,37,38,39,40,41,42,43,44,45,46,47,48,49,50,51,52,53,54,55,56,57,58,59,60,61,62,63,64,65,66,67,68,69,70,71,72,73,74,75,76,77,78,79,80,81,82,83,84,85,86,87,88,89,90,91,92,93,94,95,96,97,98,99],\"y\":[-1.727725252579994,-0.6523954972283168,1.7111687573755276,1.8854926884160432,0.2797752300463759,-0.12278394235318713,-2.4629864633042837,-0.78629519698013,1.5013687819523045,0.5778433356227098,-2.1250130799216187,0.3074884774377496,-0.39557538193393044,-0.7210189703241677,0.6061344398049183,0.7253202601114827,0.7539556248165138,-0.6899826023857759,-1.9861820267153667,2.4724627179818857,-1.4921740674205082,0.21778649632986308,-1.2225982276441731,0.3022845411813817,0.5009163667793719,-0.27518666748581294,0.3332232948659106,0.5530183129927184,2.1813543514946936,2.3674713894348414,0.4040344645695381,0.1038752830651099,0.8189814485190792,0.6565628023965491,0.9649713911033581,0.4770077483354942,-1.1877719893116574,-0.3185818235127667,-0.4156429945784772,0.09263219619292881,1.1664812938353366,-1.664581973843618,0.8941099556511569,-0.059261618500232864,-0.42899090930167383,1.4204537434359545,-1.9614667808680513,0.5392218409350615,0.47024725448087334,1.1467256719334287,0.6683405973503002,-0.1653528442340094,0.2720390477214452,-0.6859510913281808,0.873018803874626,-0.4897179349388602,0.2791268821380968,-0.01369544344158681,0.9219045630189825,-0.17979824847298675,-1.4115107328459895,-0.4411751400820583,-0.13716549658502647,1.0502522594862551,-0.19931089910380348,1.2830450947207823,-0.7369514961753213,-0.43860412360855694,1.0940477429003814,0.8058780282388065,-0.2924536277044239,2.852728649349453,0.04370968310871116,-0.8464521149500591,2.28771812749006,0.010509765405440371,-1.4659896454578434,0.36111835740287185,1.080204647892336,0.21540806709294769,-1.2746246503442467,-0.7772846266240038,1.0151964174987262,-0.06308949328548494,0.6685557331125359,1.613021300620463,0.47658038207031683,-0.0906659850021094,-0.2727332447383256,-1.1830977459293435,1.5018775786963818,1.1466140817409018,-0.5606275116117502,-0.10446970457486329,0.3496968132069453,-0.6288080145360863,0.17515626102678597,0.4300673887181837,-0.1627117716049884,-1.1241376448948244],\"type\":\"scatter\"},{\"line\":{\"color\":\"rgba(55, 128, 191, 1.0)\",\"dash\":\"solid\",\"shape\":\"linear\",\"width\":1.3},\"mode\":\"lines\",\"name\":\"B\",\"text\":\"\",\"x\":[0,1,2,3,4,5,6,7,8,9,10,11,12,13,14,15,16,17,18,19,20,21,22,23,24,25,26,27,28,29,30,31,32,33,34,35,36,37,38,39,40,41,42,43,44,45,46,47,48,49,50,51,52,53,54,55,56,57,58,59,60,61,62,63,64,65,66,67,68,69,70,71,72,73,74,75,76,77,78,79,80,81,82,83,84,85,86,87,88,89,90,91,92,93,94,95,96,97,98,99],\"y\":[-0.35927390814104476,0.27484927832288925,-1.8402446516963689,0.4198969961056575,0.4408799218403844,-0.665006993082131,0.46215986015186405,0.5573938040479566,0.6821486464071536,-0.43277368434188607,-1.2513044483714728,-0.11800881518163064,0.4836095280558225,0.7198624924810973,0.769734040934067,0.32344267033603896,-0.5870259090687044,1.3764179686571287,0.5414625905049074,-0.598832443850317,-0.3195569510147842,1.2187240035662579,1.7219914761158468,1.0019398201832288,1.2712216685342188,-0.15169413108128366,-2.0769689079471245,-0.24617444450180453,0.2170377560005709,-0.2729310917822944,1.0580304337908448,0.49066385442413696,-0.0634690171707887,0.8761236894078324,-1.156182292111743,-1.7239496549607745,0.39963598889609775,-1.2405253270562735,-1.0844575996887613,0.9674204439722415,-2.3541883593272517,0.8451426886740392,0.48949596951889196,-1.048367046734212,-1.7815751279077898,0.09603552656022948,1.022949626357811,-1.0023988657385754,1.426874982960192,1.3283805405466318,-0.6826435013929715,-0.06948124309346751,1.197488186443602,1.2254917825595262,-1.0980833401848957,-1.2936343077373555,1.1510079929317878,0.8458703244821476,-1.2145888081746545,-0.8788190625374599,-1.5966273166290912,-0.7875422511564634,-0.1341321161518695,-1.4763238379407928,0.20797838521634457,-0.8900356418694271,-0.03371763647518824,0.7039356095584622,0.04616317679909543,0.6189737947401249,-0.020343437881330532,0.5241198908709517,-0.7207502317444129,-0.5982659043959154,-0.9178947753869992,1.2093861312135417,0.8309601781784342,0.5021465962618618,0.7693337137248092,0.8802821133026897,0.8837223679022095,0.4640030703367322,0.4763622196705976,1.4159694950025428,-0.29871965306664355,-0.8294071562311018,2.3446506464640398,-1.8637575195725096,-0.9628217613471104,-0.8981321973001141,-1.2529064074869203,-0.9883955824352328,0.3543575984448734,-0.9402400967736599,0.27223807132119077,-2.1523011662984852,1.692728902747629,-1.41854939516216,-0.2837856089408107,-2.0512938927588813],\"type\":\"scatter\"},{\"line\":{\"color\":\"rgba(50, 171, 96, 1.0)\",\"dash\":\"solid\",\"shape\":\"linear\",\"width\":1.3},\"mode\":\"lines\",\"name\":\"C\",\"text\":\"\",\"x\":[0,1,2,3,4,5,6,7,8,9,10,11,12,13,14,15,16,17,18,19,20,21,22,23,24,25,26,27,28,29,30,31,32,33,34,35,36,37,38,39,40,41,42,43,44,45,46,47,48,49,50,51,52,53,54,55,56,57,58,59,60,61,62,63,64,65,66,67,68,69,70,71,72,73,74,75,76,77,78,79,80,81,82,83,84,85,86,87,88,89,90,91,92,93,94,95,96,97,98,99],\"y\":[-0.8576600851820129,-0.5750127788884318,0.05443737876004868,0.7852219652757143,-0.4815487628257627,0.04459261934043061,-0.06139117924853256,0.20633355242056056,0.3062438902586826,1.3296776414925178,-0.7677373671277309,-0.006243911503915224,1.1498310264509497,0.18172294440474673,-0.19866413611852404,-0.8526807024276805,0.699245848585638,2.3023684100320927,-0.9026964338652707,-2.126841132369603,-0.842454782703909,0.6287313876116941,0.6682264230511928,-0.1769443401341622,0.26285762319922845,-1.9182082898691377,-0.35284934610786284,0.10958556503104956,-0.39624950688927235,0.31471637953316495,-0.6383841995137576,2.1191646816111716,0.1071863837033177,-1.0993467054046555,-1.1851231161420908,0.9078673017445265,-0.9240942974216836,1.1082905281639326,0.5761749525009726,-0.5528240035959081,-1.08319747021649,-0.3976494677458565,-0.1518796496642728,1.057216241490009,0.0864398733826944,0.3100534812829789,-0.6269403739297886,-0.04947723555628706,-0.9613648546663213,0.8097916556373664,-0.4449950508578437,0.1853574945940702,-0.40107114793418475,-1.003082928001767,-0.752919299080358,-0.5950415455443309,-0.28500485049306346,0.22621527955495616,-1.4791742950433293,0.0863555425022727,-1.477818299284184,0.3181940813153153,-1.852121414840407,-0.5261400848800919,-0.19445599174652403,1.2692789684904169,0.9994959914342512,0.6236723493406674,0.6178352553527662,0.01180667443335035,-0.7145856073326051,-0.21614168674591627,0.47703388972485505,0.8951840409390931,0.12843544193826878,0.5830450541273284,-0.5229493660653698,0.1806833566529037,1.2369892036717165,1.5121942236516193,-1.0073202348756185,-0.561204749188291,-0.20193194149857496,-0.08287312206897211,0.8298502678698525,1.0807107053419196,-0.9480437842389379,0.19593365881638544,-0.07374676095263155,-1.20932451397519,-1.431085577517493,1.816668237644611,-0.3765677734224466,0.7154783027959628,1.4930900832089968,0.20413077793277046,-1.1301792997773459,0.536724977053704,1.1284546732489456,-0.45357490395777833],\"type\":\"scatter\"},{\"line\":{\"color\":\"rgba(128, 0, 128, 1.0)\",\"dash\":\"solid\",\"shape\":\"linear\",\"width\":1.3},\"mode\":\"lines\",\"name\":\"D\",\"text\":\"\",\"x\":[0,1,2,3,4,5,6,7,8,9,10,11,12,13,14,15,16,17,18,19,20,21,22,23,24,25,26,27,28,29,30,31,32,33,34,35,36,37,38,39,40,41,42,43,44,45,46,47,48,49,50,51,52,53,54,55,56,57,58,59,60,61,62,63,64,65,66,67,68,69,70,71,72,73,74,75,76,77,78,79,80,81,82,83,84,85,86,87,88,89,90,91,92,93,94,95,96,97,98,99],\"y\":[-0.4965581735356254,-1.3538967874345176,-0.17223560818573722,1.6231579665908973,1.7335446296311334,-0.2030650778601564,-0.8452123865917006,1.0521305282835511,1.0398148392863902,-0.050987236786020504,-0.57258304732208,0.04327595603432784,-1.3940547164717714,-0.7525124487105035,-0.07855624829631365,-1.1287941535485626,0.04187240456777008,1.4784163179354148,0.37467197907364774,-0.7017974813352993,-0.15403843626666303,-0.5716045712901606,-0.15591731115513588,1.0827404114215546,0.06824294928725971,-0.6664063407263672,0.058527585690782445,-0.9858046686548356,-0.6166101461902966,-1.1015216262366498,0.48213629877689473,0.7272580763180592,1.1927992467132755,0.007447607351678447,0.9569922129220856,-1.1567796253878748,-0.1064287862458562,0.13029253387854112,0.035064494826886665,0.007923565519073762,0.6666927681045107,-0.2975599094544142,0.5143305432258334,-0.5314002154044901,0.9862378459404866,-0.8561390311252871,-0.08201694272839874,0.658484445292848,-1.1019741335941395,1.7357110245871454,-0.11175638362924363,1.4145749280314097,0.0053422645864003295,-0.04697930289317601,-0.7801131973483182,-1.1054144127714947,-0.3191975559484706,2.1400811034734475,-0.28546278269794334,-0.026399679763879018,-0.13923411297599422,0.5953884586032037,-0.6078720153987348,0.4475031099532303,1.3609915633404095,-0.3970043698105668,-1.483018792788209,-0.5391846912785562,-0.9115268037798887,0.15120485573677836,1.188222846229542,-0.9754873702920279,0.6138966578280636,-0.7061571324872323,-0.03124596441063452,0.2649153628508299,-0.27760614222920704,1.0501757511701886,-1.6212716213140699,-0.8593940651917895,-0.4191976458232712,-0.7588387619889834,0.04786717019872002,-1.491149338625276,0.5932183950134358,0.6539229166253674,0.6982652058189514,0.6481823342092639,-1.0097184189627435,-0.7995847706776723,-1.1795007881349875,-1.2948637331231025,0.9988398953252201,0.811056302157581,-0.498460662658745,-0.28272291971528696,-0.5413007010612112,0.7831871945780672,-0.7738786516659488,-0.2820191552854569],\"type\":\"scatter\"}],                        {\"legend\":{\"bgcolor\":\"#F5F6F9\",\"font\":{\"color\":\"#4D5663\"}},\"paper_bgcolor\":\"#F5F6F9\",\"plot_bgcolor\":\"#F5F6F9\",\"template\":{\"data\":{\"barpolar\":[{\"marker\":{\"line\":{\"color\":\"#E5ECF6\",\"width\":0.5},\"pattern\":{\"fillmode\":\"overlay\",\"size\":10,\"solidity\":0.2}},\"type\":\"barpolar\"}],\"bar\":[{\"error_x\":{\"color\":\"#2a3f5f\"},\"error_y\":{\"color\":\"#2a3f5f\"},\"marker\":{\"line\":{\"color\":\"#E5ECF6\",\"width\":0.5},\"pattern\":{\"fillmode\":\"overlay\",\"size\":10,\"solidity\":0.2}},\"type\":\"bar\"}],\"carpet\":[{\"aaxis\":{\"endlinecolor\":\"#2a3f5f\",\"gridcolor\":\"white\",\"linecolor\":\"white\",\"minorgridcolor\":\"white\",\"startlinecolor\":\"#2a3f5f\"},\"baxis\":{\"endlinecolor\":\"#2a3f5f\",\"gridcolor\":\"white\",\"linecolor\":\"white\",\"minorgridcolor\":\"white\",\"startlinecolor\":\"#2a3f5f\"},\"type\":\"carpet\"}],\"choropleth\":[{\"colorbar\":{\"outlinewidth\":0,\"ticks\":\"\"},\"type\":\"choropleth\"}],\"contourcarpet\":[{\"colorbar\":{\"outlinewidth\":0,\"ticks\":\"\"},\"type\":\"contourcarpet\"}],\"contour\":[{\"colorbar\":{\"outlinewidth\":0,\"ticks\":\"\"},\"colorscale\":[[0.0,\"#0d0887\"],[0.1111111111111111,\"#46039f\"],[0.2222222222222222,\"#7201a8\"],[0.3333333333333333,\"#9c179e\"],[0.4444444444444444,\"#bd3786\"],[0.5555555555555556,\"#d8576b\"],[0.6666666666666666,\"#ed7953\"],[0.7777777777777778,\"#fb9f3a\"],[0.8888888888888888,\"#fdca26\"],[1.0,\"#f0f921\"]],\"type\":\"contour\"}],\"heatmapgl\":[{\"colorbar\":{\"outlinewidth\":0,\"ticks\":\"\"},\"colorscale\":[[0.0,\"#0d0887\"],[0.1111111111111111,\"#46039f\"],[0.2222222222222222,\"#7201a8\"],[0.3333333333333333,\"#9c179e\"],[0.4444444444444444,\"#bd3786\"],[0.5555555555555556,\"#d8576b\"],[0.6666666666666666,\"#ed7953\"],[0.7777777777777778,\"#fb9f3a\"],[0.8888888888888888,\"#fdca26\"],[1.0,\"#f0f921\"]],\"type\":\"heatmapgl\"}],\"heatmap\":[{\"colorbar\":{\"outlinewidth\":0,\"ticks\":\"\"},\"colorscale\":[[0.0,\"#0d0887\"],[0.1111111111111111,\"#46039f\"],[0.2222222222222222,\"#7201a8\"],[0.3333333333333333,\"#9c179e\"],[0.4444444444444444,\"#bd3786\"],[0.5555555555555556,\"#d8576b\"],[0.6666666666666666,\"#ed7953\"],[0.7777777777777778,\"#fb9f3a\"],[0.8888888888888888,\"#fdca26\"],[1.0,\"#f0f921\"]],\"type\":\"heatmap\"}],\"histogram2dcontour\":[{\"colorbar\":{\"outlinewidth\":0,\"ticks\":\"\"},\"colorscale\":[[0.0,\"#0d0887\"],[0.1111111111111111,\"#46039f\"],[0.2222222222222222,\"#7201a8\"],[0.3333333333333333,\"#9c179e\"],[0.4444444444444444,\"#bd3786\"],[0.5555555555555556,\"#d8576b\"],[0.6666666666666666,\"#ed7953\"],[0.7777777777777778,\"#fb9f3a\"],[0.8888888888888888,\"#fdca26\"],[1.0,\"#f0f921\"]],\"type\":\"histogram2dcontour\"}],\"histogram2d\":[{\"colorbar\":{\"outlinewidth\":0,\"ticks\":\"\"},\"colorscale\":[[0.0,\"#0d0887\"],[0.1111111111111111,\"#46039f\"],[0.2222222222222222,\"#7201a8\"],[0.3333333333333333,\"#9c179e\"],[0.4444444444444444,\"#bd3786\"],[0.5555555555555556,\"#d8576b\"],[0.6666666666666666,\"#ed7953\"],[0.7777777777777778,\"#fb9f3a\"],[0.8888888888888888,\"#fdca26\"],[1.0,\"#f0f921\"]],\"type\":\"histogram2d\"}],\"histogram\":[{\"marker\":{\"pattern\":{\"fillmode\":\"overlay\",\"size\":10,\"solidity\":0.2}},\"type\":\"histogram\"}],\"mesh3d\":[{\"colorbar\":{\"outlinewidth\":0,\"ticks\":\"\"},\"type\":\"mesh3d\"}],\"parcoords\":[{\"line\":{\"colorbar\":{\"outlinewidth\":0,\"ticks\":\"\"}},\"type\":\"parcoords\"}],\"pie\":[{\"automargin\":true,\"type\":\"pie\"}],\"scatter3d\":[{\"line\":{\"colorbar\":{\"outlinewidth\":0,\"ticks\":\"\"}},\"marker\":{\"colorbar\":{\"outlinewidth\":0,\"ticks\":\"\"}},\"type\":\"scatter3d\"}],\"scattercarpet\":[{\"marker\":{\"colorbar\":{\"outlinewidth\":0,\"ticks\":\"\"}},\"type\":\"scattercarpet\"}],\"scattergeo\":[{\"marker\":{\"colorbar\":{\"outlinewidth\":0,\"ticks\":\"\"}},\"type\":\"scattergeo\"}],\"scattergl\":[{\"marker\":{\"colorbar\":{\"outlinewidth\":0,\"ticks\":\"\"}},\"type\":\"scattergl\"}],\"scattermapbox\":[{\"marker\":{\"colorbar\":{\"outlinewidth\":0,\"ticks\":\"\"}},\"type\":\"scattermapbox\"}],\"scatterpolargl\":[{\"marker\":{\"colorbar\":{\"outlinewidth\":0,\"ticks\":\"\"}},\"type\":\"scatterpolargl\"}],\"scatterpolar\":[{\"marker\":{\"colorbar\":{\"outlinewidth\":0,\"ticks\":\"\"}},\"type\":\"scatterpolar\"}],\"scatter\":[{\"marker\":{\"colorbar\":{\"outlinewidth\":0,\"ticks\":\"\"}},\"type\":\"scatter\"}],\"scatterternary\":[{\"marker\":{\"colorbar\":{\"outlinewidth\":0,\"ticks\":\"\"}},\"type\":\"scatterternary\"}],\"surface\":[{\"colorbar\":{\"outlinewidth\":0,\"ticks\":\"\"},\"colorscale\":[[0.0,\"#0d0887\"],[0.1111111111111111,\"#46039f\"],[0.2222222222222222,\"#7201a8\"],[0.3333333333333333,\"#9c179e\"],[0.4444444444444444,\"#bd3786\"],[0.5555555555555556,\"#d8576b\"],[0.6666666666666666,\"#ed7953\"],[0.7777777777777778,\"#fb9f3a\"],[0.8888888888888888,\"#fdca26\"],[1.0,\"#f0f921\"]],\"type\":\"surface\"}],\"table\":[{\"cells\":{\"fill\":{\"color\":\"#EBF0F8\"},\"line\":{\"color\":\"white\"}},\"header\":{\"fill\":{\"color\":\"#C8D4E3\"},\"line\":{\"color\":\"white\"}},\"type\":\"table\"}]},\"layout\":{\"annotationdefaults\":{\"arrowcolor\":\"#2a3f5f\",\"arrowhead\":0,\"arrowwidth\":1},\"autotypenumbers\":\"strict\",\"coloraxis\":{\"colorbar\":{\"outlinewidth\":0,\"ticks\":\"\"}},\"colorscale\":{\"diverging\":[[0,\"#8e0152\"],[0.1,\"#c51b7d\"],[0.2,\"#de77ae\"],[0.3,\"#f1b6da\"],[0.4,\"#fde0ef\"],[0.5,\"#f7f7f7\"],[0.6,\"#e6f5d0\"],[0.7,\"#b8e186\"],[0.8,\"#7fbc41\"],[0.9,\"#4d9221\"],[1,\"#276419\"]],\"sequential\":[[0.0,\"#0d0887\"],[0.1111111111111111,\"#46039f\"],[0.2222222222222222,\"#7201a8\"],[0.3333333333333333,\"#9c179e\"],[0.4444444444444444,\"#bd3786\"],[0.5555555555555556,\"#d8576b\"],[0.6666666666666666,\"#ed7953\"],[0.7777777777777778,\"#fb9f3a\"],[0.8888888888888888,\"#fdca26\"],[1.0,\"#f0f921\"]],\"sequentialminus\":[[0.0,\"#0d0887\"],[0.1111111111111111,\"#46039f\"],[0.2222222222222222,\"#7201a8\"],[0.3333333333333333,\"#9c179e\"],[0.4444444444444444,\"#bd3786\"],[0.5555555555555556,\"#d8576b\"],[0.6666666666666666,\"#ed7953\"],[0.7777777777777778,\"#fb9f3a\"],[0.8888888888888888,\"#fdca26\"],[1.0,\"#f0f921\"]]},\"colorway\":[\"#636efa\",\"#EF553B\",\"#00cc96\",\"#ab63fa\",\"#FFA15A\",\"#19d3f3\",\"#FF6692\",\"#B6E880\",\"#FF97FF\",\"#FECB52\"],\"font\":{\"color\":\"#2a3f5f\"},\"geo\":{\"bgcolor\":\"white\",\"lakecolor\":\"white\",\"landcolor\":\"#E5ECF6\",\"showlakes\":true,\"showland\":true,\"subunitcolor\":\"white\"},\"hoverlabel\":{\"align\":\"left\"},\"hovermode\":\"closest\",\"mapbox\":{\"style\":\"light\"},\"paper_bgcolor\":\"white\",\"plot_bgcolor\":\"#E5ECF6\",\"polar\":{\"angularaxis\":{\"gridcolor\":\"white\",\"linecolor\":\"white\",\"ticks\":\"\"},\"bgcolor\":\"#E5ECF6\",\"radialaxis\":{\"gridcolor\":\"white\",\"linecolor\":\"white\",\"ticks\":\"\"}},\"scene\":{\"xaxis\":{\"backgroundcolor\":\"#E5ECF6\",\"gridcolor\":\"white\",\"gridwidth\":2,\"linecolor\":\"white\",\"showbackground\":true,\"ticks\":\"\",\"zerolinecolor\":\"white\"},\"yaxis\":{\"backgroundcolor\":\"#E5ECF6\",\"gridcolor\":\"white\",\"gridwidth\":2,\"linecolor\":\"white\",\"showbackground\":true,\"ticks\":\"\",\"zerolinecolor\":\"white\"},\"zaxis\":{\"backgroundcolor\":\"#E5ECF6\",\"gridcolor\":\"white\",\"gridwidth\":2,\"linecolor\":\"white\",\"showbackground\":true,\"ticks\":\"\",\"zerolinecolor\":\"white\"}},\"shapedefaults\":{\"line\":{\"color\":\"#2a3f5f\"}},\"ternary\":{\"aaxis\":{\"gridcolor\":\"white\",\"linecolor\":\"white\",\"ticks\":\"\"},\"baxis\":{\"gridcolor\":\"white\",\"linecolor\":\"white\",\"ticks\":\"\"},\"bgcolor\":\"#E5ECF6\",\"caxis\":{\"gridcolor\":\"white\",\"linecolor\":\"white\",\"ticks\":\"\"}},\"title\":{\"x\":0.05},\"xaxis\":{\"automargin\":true,\"gridcolor\":\"white\",\"linecolor\":\"white\",\"ticks\":\"\",\"title\":{\"standoff\":15},\"zerolinecolor\":\"white\",\"zerolinewidth\":2},\"yaxis\":{\"automargin\":true,\"gridcolor\":\"white\",\"linecolor\":\"white\",\"ticks\":\"\",\"title\":{\"standoff\":15},\"zerolinecolor\":\"white\",\"zerolinewidth\":2}}},\"title\":{\"font\":{\"color\":\"#4D5663\"}},\"xaxis\":{\"gridcolor\":\"#E1E5ED\",\"showgrid\":true,\"tickfont\":{\"color\":\"#4D5663\"},\"title\":{\"font\":{\"color\":\"#4D5663\"},\"text\":\"\"},\"zerolinecolor\":\"#E1E5ED\"},\"yaxis\":{\"gridcolor\":\"#E1E5ED\",\"showgrid\":true,\"tickfont\":{\"color\":\"#4D5663\"},\"title\":{\"font\":{\"color\":\"#4D5663\"},\"text\":\"\"},\"zerolinecolor\":\"#E1E5ED\"}},                        {\"showLink\": true, \"linkText\": \"Export to plot.ly\", \"plotlyServerURL\": \"https://plot.ly\", \"responsive\": true}                    ).then(function(){\n",
       "                            \n",
       "var gd = document.getElementById('66a44bcd-b20e-41a9-9102-c9ff5f338b4b');\n",
       "var x = new MutationObserver(function (mutations, observer) {{\n",
       "        var display = window.getComputedStyle(gd).display;\n",
       "        if (!display || display === 'none') {{\n",
       "            console.log([gd, 'removed!']);\n",
       "            Plotly.purge(gd);\n",
       "            observer.disconnect();\n",
       "        }}\n",
       "}});\n",
       "\n",
       "// Listen for the removal of the full notebook cells\n",
       "var notebookContainer = gd.closest('#notebook-container');\n",
       "if (notebookContainer) {{\n",
       "    x.observe(notebookContainer, {childList: true});\n",
       "}}\n",
       "\n",
       "// Listen for the clearing of the current output cell\n",
       "var outputEl = gd.closest('.output');\n",
       "if (outputEl) {{\n",
       "    x.observe(outputEl, {childList: true});\n",
       "}}\n",
       "\n",
       "                        })                };                });            </script>        </div>"
      ]
     },
     "metadata": {},
     "output_type": "display_data"
    }
   ],
   "source": [
    "df.iplot()"
   ]
  },
  {
   "cell_type": "code",
   "execution_count": 14,
   "metadata": {
    "jupyter": {
     "outputs_hidden": false
    }
   },
   "outputs": [
    {
     "data": {
      "application/vnd.plotly.v1+json": {
       "config": {
        "linkText": "Export to plot.ly",
        "plotlyServerURL": "https://plot.ly",
        "showLink": true
       },
       "data": [
        {
         "line": {
          "color": "rgba(255, 153, 51, 1.0)",
          "dash": "solid",
          "shape": "linear",
          "width": 1.3
         },
         "marker": {
          "size": 10,
          "symbol": "circle"
         },
         "mode": "markers",
         "name": "B",
         "text": "",
         "type": "scatter",
         "x": [
          -1.727725252579994,
          -0.6523954972283168,
          1.7111687573755276,
          1.8854926884160432,
          0.2797752300463759,
          -0.12278394235318713,
          -2.4629864633042837,
          -0.78629519698013,
          1.5013687819523045,
          0.5778433356227098,
          -2.1250130799216187,
          0.3074884774377496,
          -0.39557538193393044,
          -0.7210189703241677,
          0.6061344398049183,
          0.7253202601114827,
          0.7539556248165138,
          -0.6899826023857759,
          -1.9861820267153667,
          2.4724627179818857,
          -1.4921740674205082,
          0.21778649632986308,
          -1.2225982276441731,
          0.3022845411813817,
          0.5009163667793719,
          -0.27518666748581294,
          0.3332232948659106,
          0.5530183129927184,
          2.1813543514946936,
          2.3674713894348414,
          0.4040344645695381,
          0.1038752830651099,
          0.8189814485190792,
          0.6565628023965491,
          0.9649713911033581,
          0.4770077483354942,
          -1.1877719893116574,
          -0.3185818235127667,
          -0.4156429945784772,
          0.09263219619292881,
          1.1664812938353366,
          -1.664581973843618,
          0.8941099556511569,
          -0.059261618500232864,
          -0.42899090930167383,
          1.4204537434359545,
          -1.9614667808680513,
          0.5392218409350615,
          0.47024725448087334,
          1.1467256719334287,
          0.6683405973503002,
          -0.1653528442340094,
          0.2720390477214452,
          -0.6859510913281808,
          0.873018803874626,
          -0.4897179349388602,
          0.2791268821380968,
          -0.01369544344158681,
          0.9219045630189825,
          -0.17979824847298675,
          -1.4115107328459895,
          -0.4411751400820583,
          -0.13716549658502647,
          1.0502522594862551,
          -0.19931089910380348,
          1.2830450947207823,
          -0.7369514961753213,
          -0.43860412360855694,
          1.0940477429003814,
          0.8058780282388065,
          -0.2924536277044239,
          2.852728649349453,
          0.04370968310871116,
          -0.8464521149500591,
          2.28771812749006,
          0.010509765405440371,
          -1.4659896454578434,
          0.36111835740287185,
          1.080204647892336,
          0.21540806709294769,
          -1.2746246503442467,
          -0.7772846266240038,
          1.0151964174987262,
          -0.06308949328548494,
          0.6685557331125359,
          1.613021300620463,
          0.47658038207031683,
          -0.0906659850021094,
          -0.2727332447383256,
          -1.1830977459293435,
          1.5018775786963818,
          1.1466140817409018,
          -0.5606275116117502,
          -0.10446970457486329,
          0.3496968132069453,
          -0.6288080145360863,
          0.17515626102678597,
          0.4300673887181837,
          -0.1627117716049884,
          -1.1241376448948244
         ],
         "y": [
          -0.35927390814104476,
          0.27484927832288925,
          -1.8402446516963689,
          0.4198969961056575,
          0.4408799218403844,
          -0.665006993082131,
          0.46215986015186405,
          0.5573938040479566,
          0.6821486464071536,
          -0.43277368434188607,
          -1.2513044483714728,
          -0.11800881518163064,
          0.4836095280558225,
          0.7198624924810973,
          0.769734040934067,
          0.32344267033603896,
          -0.5870259090687044,
          1.3764179686571287,
          0.5414625905049074,
          -0.598832443850317,
          -0.3195569510147842,
          1.2187240035662579,
          1.7219914761158468,
          1.0019398201832288,
          1.2712216685342188,
          -0.15169413108128366,
          -2.0769689079471245,
          -0.24617444450180453,
          0.2170377560005709,
          -0.2729310917822944,
          1.0580304337908448,
          0.49066385442413696,
          -0.0634690171707887,
          0.8761236894078324,
          -1.156182292111743,
          -1.7239496549607745,
          0.39963598889609775,
          -1.2405253270562735,
          -1.0844575996887613,
          0.9674204439722415,
          -2.3541883593272517,
          0.8451426886740392,
          0.48949596951889196,
          -1.048367046734212,
          -1.7815751279077898,
          0.09603552656022948,
          1.022949626357811,
          -1.0023988657385754,
          1.426874982960192,
          1.3283805405466318,
          -0.6826435013929715,
          -0.06948124309346751,
          1.197488186443602,
          1.2254917825595262,
          -1.0980833401848957,
          -1.2936343077373555,
          1.1510079929317878,
          0.8458703244821476,
          -1.2145888081746545,
          -0.8788190625374599,
          -1.5966273166290912,
          -0.7875422511564634,
          -0.1341321161518695,
          -1.4763238379407928,
          0.20797838521634457,
          -0.8900356418694271,
          -0.03371763647518824,
          0.7039356095584622,
          0.04616317679909543,
          0.6189737947401249,
          -0.020343437881330532,
          0.5241198908709517,
          -0.7207502317444129,
          -0.5982659043959154,
          -0.9178947753869992,
          1.2093861312135417,
          0.8309601781784342,
          0.5021465962618618,
          0.7693337137248092,
          0.8802821133026897,
          0.8837223679022095,
          0.4640030703367322,
          0.4763622196705976,
          1.4159694950025428,
          -0.29871965306664355,
          -0.8294071562311018,
          2.3446506464640398,
          -1.8637575195725096,
          -0.9628217613471104,
          -0.8981321973001141,
          -1.2529064074869203,
          -0.9883955824352328,
          0.3543575984448734,
          -0.9402400967736599,
          0.27223807132119077,
          -2.1523011662984852,
          1.692728902747629,
          -1.41854939516216,
          -0.2837856089408107,
          -2.0512938927588813
         ]
        }
       ],
       "layout": {
        "legend": {
         "bgcolor": "#F5F6F9",
         "font": {
          "color": "#4D5663"
         }
        },
        "paper_bgcolor": "#F5F6F9",
        "plot_bgcolor": "#F5F6F9",
        "template": {
         "data": {
          "bar": [
           {
            "error_x": {
             "color": "#2a3f5f"
            },
            "error_y": {
             "color": "#2a3f5f"
            },
            "marker": {
             "line": {
              "color": "#E5ECF6",
              "width": 0.5
             },
             "pattern": {
              "fillmode": "overlay",
              "size": 10,
              "solidity": 0.2
             }
            },
            "type": "bar"
           }
          ],
          "barpolar": [
           {
            "marker": {
             "line": {
              "color": "#E5ECF6",
              "width": 0.5
             },
             "pattern": {
              "fillmode": "overlay",
              "size": 10,
              "solidity": 0.2
             }
            },
            "type": "barpolar"
           }
          ],
          "carpet": [
           {
            "aaxis": {
             "endlinecolor": "#2a3f5f",
             "gridcolor": "white",
             "linecolor": "white",
             "minorgridcolor": "white",
             "startlinecolor": "#2a3f5f"
            },
            "baxis": {
             "endlinecolor": "#2a3f5f",
             "gridcolor": "white",
             "linecolor": "white",
             "minorgridcolor": "white",
             "startlinecolor": "#2a3f5f"
            },
            "type": "carpet"
           }
          ],
          "choropleth": [
           {
            "colorbar": {
             "outlinewidth": 0,
             "ticks": ""
            },
            "type": "choropleth"
           }
          ],
          "contour": [
           {
            "colorbar": {
             "outlinewidth": 0,
             "ticks": ""
            },
            "colorscale": [
             [
              0,
              "#0d0887"
             ],
             [
              0.1111111111111111,
              "#46039f"
             ],
             [
              0.2222222222222222,
              "#7201a8"
             ],
             [
              0.3333333333333333,
              "#9c179e"
             ],
             [
              0.4444444444444444,
              "#bd3786"
             ],
             [
              0.5555555555555556,
              "#d8576b"
             ],
             [
              0.6666666666666666,
              "#ed7953"
             ],
             [
              0.7777777777777778,
              "#fb9f3a"
             ],
             [
              0.8888888888888888,
              "#fdca26"
             ],
             [
              1,
              "#f0f921"
             ]
            ],
            "type": "contour"
           }
          ],
          "contourcarpet": [
           {
            "colorbar": {
             "outlinewidth": 0,
             "ticks": ""
            },
            "type": "contourcarpet"
           }
          ],
          "heatmap": [
           {
            "colorbar": {
             "outlinewidth": 0,
             "ticks": ""
            },
            "colorscale": [
             [
              0,
              "#0d0887"
             ],
             [
              0.1111111111111111,
              "#46039f"
             ],
             [
              0.2222222222222222,
              "#7201a8"
             ],
             [
              0.3333333333333333,
              "#9c179e"
             ],
             [
              0.4444444444444444,
              "#bd3786"
             ],
             [
              0.5555555555555556,
              "#d8576b"
             ],
             [
              0.6666666666666666,
              "#ed7953"
             ],
             [
              0.7777777777777778,
              "#fb9f3a"
             ],
             [
              0.8888888888888888,
              "#fdca26"
             ],
             [
              1,
              "#f0f921"
             ]
            ],
            "type": "heatmap"
           }
          ],
          "heatmapgl": [
           {
            "colorbar": {
             "outlinewidth": 0,
             "ticks": ""
            },
            "colorscale": [
             [
              0,
              "#0d0887"
             ],
             [
              0.1111111111111111,
              "#46039f"
             ],
             [
              0.2222222222222222,
              "#7201a8"
             ],
             [
              0.3333333333333333,
              "#9c179e"
             ],
             [
              0.4444444444444444,
              "#bd3786"
             ],
             [
              0.5555555555555556,
              "#d8576b"
             ],
             [
              0.6666666666666666,
              "#ed7953"
             ],
             [
              0.7777777777777778,
              "#fb9f3a"
             ],
             [
              0.8888888888888888,
              "#fdca26"
             ],
             [
              1,
              "#f0f921"
             ]
            ],
            "type": "heatmapgl"
           }
          ],
          "histogram": [
           {
            "marker": {
             "pattern": {
              "fillmode": "overlay",
              "size": 10,
              "solidity": 0.2
             }
            },
            "type": "histogram"
           }
          ],
          "histogram2d": [
           {
            "colorbar": {
             "outlinewidth": 0,
             "ticks": ""
            },
            "colorscale": [
             [
              0,
              "#0d0887"
             ],
             [
              0.1111111111111111,
              "#46039f"
             ],
             [
              0.2222222222222222,
              "#7201a8"
             ],
             [
              0.3333333333333333,
              "#9c179e"
             ],
             [
              0.4444444444444444,
              "#bd3786"
             ],
             [
              0.5555555555555556,
              "#d8576b"
             ],
             [
              0.6666666666666666,
              "#ed7953"
             ],
             [
              0.7777777777777778,
              "#fb9f3a"
             ],
             [
              0.8888888888888888,
              "#fdca26"
             ],
             [
              1,
              "#f0f921"
             ]
            ],
            "type": "histogram2d"
           }
          ],
          "histogram2dcontour": [
           {
            "colorbar": {
             "outlinewidth": 0,
             "ticks": ""
            },
            "colorscale": [
             [
              0,
              "#0d0887"
             ],
             [
              0.1111111111111111,
              "#46039f"
             ],
             [
              0.2222222222222222,
              "#7201a8"
             ],
             [
              0.3333333333333333,
              "#9c179e"
             ],
             [
              0.4444444444444444,
              "#bd3786"
             ],
             [
              0.5555555555555556,
              "#d8576b"
             ],
             [
              0.6666666666666666,
              "#ed7953"
             ],
             [
              0.7777777777777778,
              "#fb9f3a"
             ],
             [
              0.8888888888888888,
              "#fdca26"
             ],
             [
              1,
              "#f0f921"
             ]
            ],
            "type": "histogram2dcontour"
           }
          ],
          "mesh3d": [
           {
            "colorbar": {
             "outlinewidth": 0,
             "ticks": ""
            },
            "type": "mesh3d"
           }
          ],
          "parcoords": [
           {
            "line": {
             "colorbar": {
              "outlinewidth": 0,
              "ticks": ""
             }
            },
            "type": "parcoords"
           }
          ],
          "pie": [
           {
            "automargin": true,
            "type": "pie"
           }
          ],
          "scatter": [
           {
            "marker": {
             "colorbar": {
              "outlinewidth": 0,
              "ticks": ""
             }
            },
            "type": "scatter"
           }
          ],
          "scatter3d": [
           {
            "line": {
             "colorbar": {
              "outlinewidth": 0,
              "ticks": ""
             }
            },
            "marker": {
             "colorbar": {
              "outlinewidth": 0,
              "ticks": ""
             }
            },
            "type": "scatter3d"
           }
          ],
          "scattercarpet": [
           {
            "marker": {
             "colorbar": {
              "outlinewidth": 0,
              "ticks": ""
             }
            },
            "type": "scattercarpet"
           }
          ],
          "scattergeo": [
           {
            "marker": {
             "colorbar": {
              "outlinewidth": 0,
              "ticks": ""
             }
            },
            "type": "scattergeo"
           }
          ],
          "scattergl": [
           {
            "marker": {
             "colorbar": {
              "outlinewidth": 0,
              "ticks": ""
             }
            },
            "type": "scattergl"
           }
          ],
          "scattermapbox": [
           {
            "marker": {
             "colorbar": {
              "outlinewidth": 0,
              "ticks": ""
             }
            },
            "type": "scattermapbox"
           }
          ],
          "scatterpolar": [
           {
            "marker": {
             "colorbar": {
              "outlinewidth": 0,
              "ticks": ""
             }
            },
            "type": "scatterpolar"
           }
          ],
          "scatterpolargl": [
           {
            "marker": {
             "colorbar": {
              "outlinewidth": 0,
              "ticks": ""
             }
            },
            "type": "scatterpolargl"
           }
          ],
          "scatterternary": [
           {
            "marker": {
             "colorbar": {
              "outlinewidth": 0,
              "ticks": ""
             }
            },
            "type": "scatterternary"
           }
          ],
          "surface": [
           {
            "colorbar": {
             "outlinewidth": 0,
             "ticks": ""
            },
            "colorscale": [
             [
              0,
              "#0d0887"
             ],
             [
              0.1111111111111111,
              "#46039f"
             ],
             [
              0.2222222222222222,
              "#7201a8"
             ],
             [
              0.3333333333333333,
              "#9c179e"
             ],
             [
              0.4444444444444444,
              "#bd3786"
             ],
             [
              0.5555555555555556,
              "#d8576b"
             ],
             [
              0.6666666666666666,
              "#ed7953"
             ],
             [
              0.7777777777777778,
              "#fb9f3a"
             ],
             [
              0.8888888888888888,
              "#fdca26"
             ],
             [
              1,
              "#f0f921"
             ]
            ],
            "type": "surface"
           }
          ],
          "table": [
           {
            "cells": {
             "fill": {
              "color": "#EBF0F8"
             },
             "line": {
              "color": "white"
             }
            },
            "header": {
             "fill": {
              "color": "#C8D4E3"
             },
             "line": {
              "color": "white"
             }
            },
            "type": "table"
           }
          ]
         },
         "layout": {
          "annotationdefaults": {
           "arrowcolor": "#2a3f5f",
           "arrowhead": 0,
           "arrowwidth": 1
          },
          "autotypenumbers": "strict",
          "coloraxis": {
           "colorbar": {
            "outlinewidth": 0,
            "ticks": ""
           }
          },
          "colorscale": {
           "diverging": [
            [
             0,
             "#8e0152"
            ],
            [
             0.1,
             "#c51b7d"
            ],
            [
             0.2,
             "#de77ae"
            ],
            [
             0.3,
             "#f1b6da"
            ],
            [
             0.4,
             "#fde0ef"
            ],
            [
             0.5,
             "#f7f7f7"
            ],
            [
             0.6,
             "#e6f5d0"
            ],
            [
             0.7,
             "#b8e186"
            ],
            [
             0.8,
             "#7fbc41"
            ],
            [
             0.9,
             "#4d9221"
            ],
            [
             1,
             "#276419"
            ]
           ],
           "sequential": [
            [
             0,
             "#0d0887"
            ],
            [
             0.1111111111111111,
             "#46039f"
            ],
            [
             0.2222222222222222,
             "#7201a8"
            ],
            [
             0.3333333333333333,
             "#9c179e"
            ],
            [
             0.4444444444444444,
             "#bd3786"
            ],
            [
             0.5555555555555556,
             "#d8576b"
            ],
            [
             0.6666666666666666,
             "#ed7953"
            ],
            [
             0.7777777777777778,
             "#fb9f3a"
            ],
            [
             0.8888888888888888,
             "#fdca26"
            ],
            [
             1,
             "#f0f921"
            ]
           ],
           "sequentialminus": [
            [
             0,
             "#0d0887"
            ],
            [
             0.1111111111111111,
             "#46039f"
            ],
            [
             0.2222222222222222,
             "#7201a8"
            ],
            [
             0.3333333333333333,
             "#9c179e"
            ],
            [
             0.4444444444444444,
             "#bd3786"
            ],
            [
             0.5555555555555556,
             "#d8576b"
            ],
            [
             0.6666666666666666,
             "#ed7953"
            ],
            [
             0.7777777777777778,
             "#fb9f3a"
            ],
            [
             0.8888888888888888,
             "#fdca26"
            ],
            [
             1,
             "#f0f921"
            ]
           ]
          },
          "colorway": [
           "#636efa",
           "#EF553B",
           "#00cc96",
           "#ab63fa",
           "#FFA15A",
           "#19d3f3",
           "#FF6692",
           "#B6E880",
           "#FF97FF",
           "#FECB52"
          ],
          "font": {
           "color": "#2a3f5f"
          },
          "geo": {
           "bgcolor": "white",
           "lakecolor": "white",
           "landcolor": "#E5ECF6",
           "showlakes": true,
           "showland": true,
           "subunitcolor": "white"
          },
          "hoverlabel": {
           "align": "left"
          },
          "hovermode": "closest",
          "mapbox": {
           "style": "light"
          },
          "paper_bgcolor": "white",
          "plot_bgcolor": "#E5ECF6",
          "polar": {
           "angularaxis": {
            "gridcolor": "white",
            "linecolor": "white",
            "ticks": ""
           },
           "bgcolor": "#E5ECF6",
           "radialaxis": {
            "gridcolor": "white",
            "linecolor": "white",
            "ticks": ""
           }
          },
          "scene": {
           "xaxis": {
            "backgroundcolor": "#E5ECF6",
            "gridcolor": "white",
            "gridwidth": 2,
            "linecolor": "white",
            "showbackground": true,
            "ticks": "",
            "zerolinecolor": "white"
           },
           "yaxis": {
            "backgroundcolor": "#E5ECF6",
            "gridcolor": "white",
            "gridwidth": 2,
            "linecolor": "white",
            "showbackground": true,
            "ticks": "",
            "zerolinecolor": "white"
           },
           "zaxis": {
            "backgroundcolor": "#E5ECF6",
            "gridcolor": "white",
            "gridwidth": 2,
            "linecolor": "white",
            "showbackground": true,
            "ticks": "",
            "zerolinecolor": "white"
           }
          },
          "shapedefaults": {
           "line": {
            "color": "#2a3f5f"
           }
          },
          "ternary": {
           "aaxis": {
            "gridcolor": "white",
            "linecolor": "white",
            "ticks": ""
           },
           "baxis": {
            "gridcolor": "white",
            "linecolor": "white",
            "ticks": ""
           },
           "bgcolor": "#E5ECF6",
           "caxis": {
            "gridcolor": "white",
            "linecolor": "white",
            "ticks": ""
           }
          },
          "title": {
           "x": 0.05
          },
          "xaxis": {
           "automargin": true,
           "gridcolor": "white",
           "linecolor": "white",
           "ticks": "",
           "title": {
            "standoff": 15
           },
           "zerolinecolor": "white",
           "zerolinewidth": 2
          },
          "yaxis": {
           "automargin": true,
           "gridcolor": "white",
           "linecolor": "white",
           "ticks": "",
           "title": {
            "standoff": 15
           },
           "zerolinecolor": "white",
           "zerolinewidth": 2
          }
         }
        },
        "title": {
         "font": {
          "color": "#4D5663"
         }
        },
        "xaxis": {
         "gridcolor": "#E1E5ED",
         "showgrid": true,
         "tickfont": {
          "color": "#4D5663"
         },
         "title": {
          "font": {
           "color": "#4D5663"
          },
          "text": ""
         },
         "zerolinecolor": "#E1E5ED"
        },
        "yaxis": {
         "gridcolor": "#E1E5ED",
         "showgrid": true,
         "tickfont": {
          "color": "#4D5663"
         },
         "title": {
          "font": {
           "color": "#4D5663"
          },
          "text": ""
         },
         "zerolinecolor": "#E1E5ED"
        }
       }
      },
      "text/html": [
       "<div>                            <div id=\"f2650192-09c7-49b8-a4ef-8aa2396a3b6d\" class=\"plotly-graph-div\" style=\"height:525px; width:100%;\"></div>            <script type=\"text/javascript\">                require([\"plotly\"], function(Plotly) {                    window.PLOTLYENV=window.PLOTLYENV || {};\n",
       "                    window.PLOTLYENV.BASE_URL='https://plot.ly';                                    if (document.getElementById(\"f2650192-09c7-49b8-a4ef-8aa2396a3b6d\")) {                    Plotly.newPlot(                        \"f2650192-09c7-49b8-a4ef-8aa2396a3b6d\",                        [{\"line\":{\"color\":\"rgba(255, 153, 51, 1.0)\",\"dash\":\"solid\",\"shape\":\"linear\",\"width\":1.3},\"marker\":{\"size\":10,\"symbol\":\"circle\"},\"mode\":\"markers\",\"name\":\"B\",\"text\":\"\",\"x\":[-1.727725252579994,-0.6523954972283168,1.7111687573755276,1.8854926884160432,0.2797752300463759,-0.12278394235318713,-2.4629864633042837,-0.78629519698013,1.5013687819523045,0.5778433356227098,-2.1250130799216187,0.3074884774377496,-0.39557538193393044,-0.7210189703241677,0.6061344398049183,0.7253202601114827,0.7539556248165138,-0.6899826023857759,-1.9861820267153667,2.4724627179818857,-1.4921740674205082,0.21778649632986308,-1.2225982276441731,0.3022845411813817,0.5009163667793719,-0.27518666748581294,0.3332232948659106,0.5530183129927184,2.1813543514946936,2.3674713894348414,0.4040344645695381,0.1038752830651099,0.8189814485190792,0.6565628023965491,0.9649713911033581,0.4770077483354942,-1.1877719893116574,-0.3185818235127667,-0.4156429945784772,0.09263219619292881,1.1664812938353366,-1.664581973843618,0.8941099556511569,-0.059261618500232864,-0.42899090930167383,1.4204537434359545,-1.9614667808680513,0.5392218409350615,0.47024725448087334,1.1467256719334287,0.6683405973503002,-0.1653528442340094,0.2720390477214452,-0.6859510913281808,0.873018803874626,-0.4897179349388602,0.2791268821380968,-0.01369544344158681,0.9219045630189825,-0.17979824847298675,-1.4115107328459895,-0.4411751400820583,-0.13716549658502647,1.0502522594862551,-0.19931089910380348,1.2830450947207823,-0.7369514961753213,-0.43860412360855694,1.0940477429003814,0.8058780282388065,-0.2924536277044239,2.852728649349453,0.04370968310871116,-0.8464521149500591,2.28771812749006,0.010509765405440371,-1.4659896454578434,0.36111835740287185,1.080204647892336,0.21540806709294769,-1.2746246503442467,-0.7772846266240038,1.0151964174987262,-0.06308949328548494,0.6685557331125359,1.613021300620463,0.47658038207031683,-0.0906659850021094,-0.2727332447383256,-1.1830977459293435,1.5018775786963818,1.1466140817409018,-0.5606275116117502,-0.10446970457486329,0.3496968132069453,-0.6288080145360863,0.17515626102678597,0.4300673887181837,-0.1627117716049884,-1.1241376448948244],\"y\":[-0.35927390814104476,0.27484927832288925,-1.8402446516963689,0.4198969961056575,0.4408799218403844,-0.665006993082131,0.46215986015186405,0.5573938040479566,0.6821486464071536,-0.43277368434188607,-1.2513044483714728,-0.11800881518163064,0.4836095280558225,0.7198624924810973,0.769734040934067,0.32344267033603896,-0.5870259090687044,1.3764179686571287,0.5414625905049074,-0.598832443850317,-0.3195569510147842,1.2187240035662579,1.7219914761158468,1.0019398201832288,1.2712216685342188,-0.15169413108128366,-2.0769689079471245,-0.24617444450180453,0.2170377560005709,-0.2729310917822944,1.0580304337908448,0.49066385442413696,-0.0634690171707887,0.8761236894078324,-1.156182292111743,-1.7239496549607745,0.39963598889609775,-1.2405253270562735,-1.0844575996887613,0.9674204439722415,-2.3541883593272517,0.8451426886740392,0.48949596951889196,-1.048367046734212,-1.7815751279077898,0.09603552656022948,1.022949626357811,-1.0023988657385754,1.426874982960192,1.3283805405466318,-0.6826435013929715,-0.06948124309346751,1.197488186443602,1.2254917825595262,-1.0980833401848957,-1.2936343077373555,1.1510079929317878,0.8458703244821476,-1.2145888081746545,-0.8788190625374599,-1.5966273166290912,-0.7875422511564634,-0.1341321161518695,-1.4763238379407928,0.20797838521634457,-0.8900356418694271,-0.03371763647518824,0.7039356095584622,0.04616317679909543,0.6189737947401249,-0.020343437881330532,0.5241198908709517,-0.7207502317444129,-0.5982659043959154,-0.9178947753869992,1.2093861312135417,0.8309601781784342,0.5021465962618618,0.7693337137248092,0.8802821133026897,0.8837223679022095,0.4640030703367322,0.4763622196705976,1.4159694950025428,-0.29871965306664355,-0.8294071562311018,2.3446506464640398,-1.8637575195725096,-0.9628217613471104,-0.8981321973001141,-1.2529064074869203,-0.9883955824352328,0.3543575984448734,-0.9402400967736599,0.27223807132119077,-2.1523011662984852,1.692728902747629,-1.41854939516216,-0.2837856089408107,-2.0512938927588813],\"type\":\"scatter\"}],                        {\"legend\":{\"bgcolor\":\"#F5F6F9\",\"font\":{\"color\":\"#4D5663\"}},\"paper_bgcolor\":\"#F5F6F9\",\"plot_bgcolor\":\"#F5F6F9\",\"template\":{\"data\":{\"barpolar\":[{\"marker\":{\"line\":{\"color\":\"#E5ECF6\",\"width\":0.5},\"pattern\":{\"fillmode\":\"overlay\",\"size\":10,\"solidity\":0.2}},\"type\":\"barpolar\"}],\"bar\":[{\"error_x\":{\"color\":\"#2a3f5f\"},\"error_y\":{\"color\":\"#2a3f5f\"},\"marker\":{\"line\":{\"color\":\"#E5ECF6\",\"width\":0.5},\"pattern\":{\"fillmode\":\"overlay\",\"size\":10,\"solidity\":0.2}},\"type\":\"bar\"}],\"carpet\":[{\"aaxis\":{\"endlinecolor\":\"#2a3f5f\",\"gridcolor\":\"white\",\"linecolor\":\"white\",\"minorgridcolor\":\"white\",\"startlinecolor\":\"#2a3f5f\"},\"baxis\":{\"endlinecolor\":\"#2a3f5f\",\"gridcolor\":\"white\",\"linecolor\":\"white\",\"minorgridcolor\":\"white\",\"startlinecolor\":\"#2a3f5f\"},\"type\":\"carpet\"}],\"choropleth\":[{\"colorbar\":{\"outlinewidth\":0,\"ticks\":\"\"},\"type\":\"choropleth\"}],\"contourcarpet\":[{\"colorbar\":{\"outlinewidth\":0,\"ticks\":\"\"},\"type\":\"contourcarpet\"}],\"contour\":[{\"colorbar\":{\"outlinewidth\":0,\"ticks\":\"\"},\"colorscale\":[[0.0,\"#0d0887\"],[0.1111111111111111,\"#46039f\"],[0.2222222222222222,\"#7201a8\"],[0.3333333333333333,\"#9c179e\"],[0.4444444444444444,\"#bd3786\"],[0.5555555555555556,\"#d8576b\"],[0.6666666666666666,\"#ed7953\"],[0.7777777777777778,\"#fb9f3a\"],[0.8888888888888888,\"#fdca26\"],[1.0,\"#f0f921\"]],\"type\":\"contour\"}],\"heatmapgl\":[{\"colorbar\":{\"outlinewidth\":0,\"ticks\":\"\"},\"colorscale\":[[0.0,\"#0d0887\"],[0.1111111111111111,\"#46039f\"],[0.2222222222222222,\"#7201a8\"],[0.3333333333333333,\"#9c179e\"],[0.4444444444444444,\"#bd3786\"],[0.5555555555555556,\"#d8576b\"],[0.6666666666666666,\"#ed7953\"],[0.7777777777777778,\"#fb9f3a\"],[0.8888888888888888,\"#fdca26\"],[1.0,\"#f0f921\"]],\"type\":\"heatmapgl\"}],\"heatmap\":[{\"colorbar\":{\"outlinewidth\":0,\"ticks\":\"\"},\"colorscale\":[[0.0,\"#0d0887\"],[0.1111111111111111,\"#46039f\"],[0.2222222222222222,\"#7201a8\"],[0.3333333333333333,\"#9c179e\"],[0.4444444444444444,\"#bd3786\"],[0.5555555555555556,\"#d8576b\"],[0.6666666666666666,\"#ed7953\"],[0.7777777777777778,\"#fb9f3a\"],[0.8888888888888888,\"#fdca26\"],[1.0,\"#f0f921\"]],\"type\":\"heatmap\"}],\"histogram2dcontour\":[{\"colorbar\":{\"outlinewidth\":0,\"ticks\":\"\"},\"colorscale\":[[0.0,\"#0d0887\"],[0.1111111111111111,\"#46039f\"],[0.2222222222222222,\"#7201a8\"],[0.3333333333333333,\"#9c179e\"],[0.4444444444444444,\"#bd3786\"],[0.5555555555555556,\"#d8576b\"],[0.6666666666666666,\"#ed7953\"],[0.7777777777777778,\"#fb9f3a\"],[0.8888888888888888,\"#fdca26\"],[1.0,\"#f0f921\"]],\"type\":\"histogram2dcontour\"}],\"histogram2d\":[{\"colorbar\":{\"outlinewidth\":0,\"ticks\":\"\"},\"colorscale\":[[0.0,\"#0d0887\"],[0.1111111111111111,\"#46039f\"],[0.2222222222222222,\"#7201a8\"],[0.3333333333333333,\"#9c179e\"],[0.4444444444444444,\"#bd3786\"],[0.5555555555555556,\"#d8576b\"],[0.6666666666666666,\"#ed7953\"],[0.7777777777777778,\"#fb9f3a\"],[0.8888888888888888,\"#fdca26\"],[1.0,\"#f0f921\"]],\"type\":\"histogram2d\"}],\"histogram\":[{\"marker\":{\"pattern\":{\"fillmode\":\"overlay\",\"size\":10,\"solidity\":0.2}},\"type\":\"histogram\"}],\"mesh3d\":[{\"colorbar\":{\"outlinewidth\":0,\"ticks\":\"\"},\"type\":\"mesh3d\"}],\"parcoords\":[{\"line\":{\"colorbar\":{\"outlinewidth\":0,\"ticks\":\"\"}},\"type\":\"parcoords\"}],\"pie\":[{\"automargin\":true,\"type\":\"pie\"}],\"scatter3d\":[{\"line\":{\"colorbar\":{\"outlinewidth\":0,\"ticks\":\"\"}},\"marker\":{\"colorbar\":{\"outlinewidth\":0,\"ticks\":\"\"}},\"type\":\"scatter3d\"}],\"scattercarpet\":[{\"marker\":{\"colorbar\":{\"outlinewidth\":0,\"ticks\":\"\"}},\"type\":\"scattercarpet\"}],\"scattergeo\":[{\"marker\":{\"colorbar\":{\"outlinewidth\":0,\"ticks\":\"\"}},\"type\":\"scattergeo\"}],\"scattergl\":[{\"marker\":{\"colorbar\":{\"outlinewidth\":0,\"ticks\":\"\"}},\"type\":\"scattergl\"}],\"scattermapbox\":[{\"marker\":{\"colorbar\":{\"outlinewidth\":0,\"ticks\":\"\"}},\"type\":\"scattermapbox\"}],\"scatterpolargl\":[{\"marker\":{\"colorbar\":{\"outlinewidth\":0,\"ticks\":\"\"}},\"type\":\"scatterpolargl\"}],\"scatterpolar\":[{\"marker\":{\"colorbar\":{\"outlinewidth\":0,\"ticks\":\"\"}},\"type\":\"scatterpolar\"}],\"scatter\":[{\"marker\":{\"colorbar\":{\"outlinewidth\":0,\"ticks\":\"\"}},\"type\":\"scatter\"}],\"scatterternary\":[{\"marker\":{\"colorbar\":{\"outlinewidth\":0,\"ticks\":\"\"}},\"type\":\"scatterternary\"}],\"surface\":[{\"colorbar\":{\"outlinewidth\":0,\"ticks\":\"\"},\"colorscale\":[[0.0,\"#0d0887\"],[0.1111111111111111,\"#46039f\"],[0.2222222222222222,\"#7201a8\"],[0.3333333333333333,\"#9c179e\"],[0.4444444444444444,\"#bd3786\"],[0.5555555555555556,\"#d8576b\"],[0.6666666666666666,\"#ed7953\"],[0.7777777777777778,\"#fb9f3a\"],[0.8888888888888888,\"#fdca26\"],[1.0,\"#f0f921\"]],\"type\":\"surface\"}],\"table\":[{\"cells\":{\"fill\":{\"color\":\"#EBF0F8\"},\"line\":{\"color\":\"white\"}},\"header\":{\"fill\":{\"color\":\"#C8D4E3\"},\"line\":{\"color\":\"white\"}},\"type\":\"table\"}]},\"layout\":{\"annotationdefaults\":{\"arrowcolor\":\"#2a3f5f\",\"arrowhead\":0,\"arrowwidth\":1},\"autotypenumbers\":\"strict\",\"coloraxis\":{\"colorbar\":{\"outlinewidth\":0,\"ticks\":\"\"}},\"colorscale\":{\"diverging\":[[0,\"#8e0152\"],[0.1,\"#c51b7d\"],[0.2,\"#de77ae\"],[0.3,\"#f1b6da\"],[0.4,\"#fde0ef\"],[0.5,\"#f7f7f7\"],[0.6,\"#e6f5d0\"],[0.7,\"#b8e186\"],[0.8,\"#7fbc41\"],[0.9,\"#4d9221\"],[1,\"#276419\"]],\"sequential\":[[0.0,\"#0d0887\"],[0.1111111111111111,\"#46039f\"],[0.2222222222222222,\"#7201a8\"],[0.3333333333333333,\"#9c179e\"],[0.4444444444444444,\"#bd3786\"],[0.5555555555555556,\"#d8576b\"],[0.6666666666666666,\"#ed7953\"],[0.7777777777777778,\"#fb9f3a\"],[0.8888888888888888,\"#fdca26\"],[1.0,\"#f0f921\"]],\"sequentialminus\":[[0.0,\"#0d0887\"],[0.1111111111111111,\"#46039f\"],[0.2222222222222222,\"#7201a8\"],[0.3333333333333333,\"#9c179e\"],[0.4444444444444444,\"#bd3786\"],[0.5555555555555556,\"#d8576b\"],[0.6666666666666666,\"#ed7953\"],[0.7777777777777778,\"#fb9f3a\"],[0.8888888888888888,\"#fdca26\"],[1.0,\"#f0f921\"]]},\"colorway\":[\"#636efa\",\"#EF553B\",\"#00cc96\",\"#ab63fa\",\"#FFA15A\",\"#19d3f3\",\"#FF6692\",\"#B6E880\",\"#FF97FF\",\"#FECB52\"],\"font\":{\"color\":\"#2a3f5f\"},\"geo\":{\"bgcolor\":\"white\",\"lakecolor\":\"white\",\"landcolor\":\"#E5ECF6\",\"showlakes\":true,\"showland\":true,\"subunitcolor\":\"white\"},\"hoverlabel\":{\"align\":\"left\"},\"hovermode\":\"closest\",\"mapbox\":{\"style\":\"light\"},\"paper_bgcolor\":\"white\",\"plot_bgcolor\":\"#E5ECF6\",\"polar\":{\"angularaxis\":{\"gridcolor\":\"white\",\"linecolor\":\"white\",\"ticks\":\"\"},\"bgcolor\":\"#E5ECF6\",\"radialaxis\":{\"gridcolor\":\"white\",\"linecolor\":\"white\",\"ticks\":\"\"}},\"scene\":{\"xaxis\":{\"backgroundcolor\":\"#E5ECF6\",\"gridcolor\":\"white\",\"gridwidth\":2,\"linecolor\":\"white\",\"showbackground\":true,\"ticks\":\"\",\"zerolinecolor\":\"white\"},\"yaxis\":{\"backgroundcolor\":\"#E5ECF6\",\"gridcolor\":\"white\",\"gridwidth\":2,\"linecolor\":\"white\",\"showbackground\":true,\"ticks\":\"\",\"zerolinecolor\":\"white\"},\"zaxis\":{\"backgroundcolor\":\"#E5ECF6\",\"gridcolor\":\"white\",\"gridwidth\":2,\"linecolor\":\"white\",\"showbackground\":true,\"ticks\":\"\",\"zerolinecolor\":\"white\"}},\"shapedefaults\":{\"line\":{\"color\":\"#2a3f5f\"}},\"ternary\":{\"aaxis\":{\"gridcolor\":\"white\",\"linecolor\":\"white\",\"ticks\":\"\"},\"baxis\":{\"gridcolor\":\"white\",\"linecolor\":\"white\",\"ticks\":\"\"},\"bgcolor\":\"#E5ECF6\",\"caxis\":{\"gridcolor\":\"white\",\"linecolor\":\"white\",\"ticks\":\"\"}},\"title\":{\"x\":0.05},\"xaxis\":{\"automargin\":true,\"gridcolor\":\"white\",\"linecolor\":\"white\",\"ticks\":\"\",\"title\":{\"standoff\":15},\"zerolinecolor\":\"white\",\"zerolinewidth\":2},\"yaxis\":{\"automargin\":true,\"gridcolor\":\"white\",\"linecolor\":\"white\",\"ticks\":\"\",\"title\":{\"standoff\":15},\"zerolinecolor\":\"white\",\"zerolinewidth\":2}}},\"title\":{\"font\":{\"color\":\"#4D5663\"}},\"xaxis\":{\"gridcolor\":\"#E1E5ED\",\"showgrid\":true,\"tickfont\":{\"color\":\"#4D5663\"},\"title\":{\"font\":{\"color\":\"#4D5663\"},\"text\":\"\"},\"zerolinecolor\":\"#E1E5ED\"},\"yaxis\":{\"gridcolor\":\"#E1E5ED\",\"showgrid\":true,\"tickfont\":{\"color\":\"#4D5663\"},\"title\":{\"font\":{\"color\":\"#4D5663\"},\"text\":\"\"},\"zerolinecolor\":\"#E1E5ED\"}},                        {\"showLink\": true, \"linkText\": \"Export to plot.ly\", \"plotlyServerURL\": \"https://plot.ly\", \"responsive\": true}                    ).then(function(){\n",
       "                            \n",
       "var gd = document.getElementById('f2650192-09c7-49b8-a4ef-8aa2396a3b6d');\n",
       "var x = new MutationObserver(function (mutations, observer) {{\n",
       "        var display = window.getComputedStyle(gd).display;\n",
       "        if (!display || display === 'none') {{\n",
       "            console.log([gd, 'removed!']);\n",
       "            Plotly.purge(gd);\n",
       "            observer.disconnect();\n",
       "        }}\n",
       "}});\n",
       "\n",
       "// Listen for the removal of the full notebook cells\n",
       "var notebookContainer = gd.closest('#notebook-container');\n",
       "if (notebookContainer) {{\n",
       "    x.observe(notebookContainer, {childList: true});\n",
       "}}\n",
       "\n",
       "// Listen for the clearing of the current output cell\n",
       "var outputEl = gd.closest('.output');\n",
       "if (outputEl) {{\n",
       "    x.observe(outputEl, {childList: true});\n",
       "}}\n",
       "\n",
       "                        })                };                });            </script>        </div>"
      ]
     },
     "metadata": {},
     "output_type": "display_data"
    }
   ],
   "source": [
    "df.iplot(kind='scatter',x='A',y='B',mode='markers',size=10)"
   ]
  },
  {
   "cell_type": "markdown",
   "metadata": {},
   "source": [
    "## Bar Plots"
   ]
  },
  {
   "cell_type": "code",
   "execution_count": 15,
   "metadata": {
    "jupyter": {
     "outputs_hidden": false
    },
    "scrolled": true
   },
   "outputs": [
    {
     "data": {
      "application/vnd.plotly.v1+json": {
       "config": {
        "linkText": "Export to plot.ly",
        "plotlyServerURL": "https://plot.ly",
        "showLink": true
       },
       "data": [
        {
         "marker": {
          "color": "rgba(255, 153, 51, 0.6)",
          "line": {
           "color": "rgba(255, 153, 51, 1.0)",
           "width": 1
          }
         },
         "name": "Values",
         "orientation": "v",
         "text": "",
         "type": "bar",
         "x": [
          "A",
          "B",
          "C"
         ],
         "y": [
          32,
          43,
          50
         ]
        }
       ],
       "layout": {
        "legend": {
         "bgcolor": "#F5F6F9",
         "font": {
          "color": "#4D5663"
         }
        },
        "paper_bgcolor": "#F5F6F9",
        "plot_bgcolor": "#F5F6F9",
        "template": {
         "data": {
          "bar": [
           {
            "error_x": {
             "color": "#2a3f5f"
            },
            "error_y": {
             "color": "#2a3f5f"
            },
            "marker": {
             "line": {
              "color": "#E5ECF6",
              "width": 0.5
             },
             "pattern": {
              "fillmode": "overlay",
              "size": 10,
              "solidity": 0.2
             }
            },
            "type": "bar"
           }
          ],
          "barpolar": [
           {
            "marker": {
             "line": {
              "color": "#E5ECF6",
              "width": 0.5
             },
             "pattern": {
              "fillmode": "overlay",
              "size": 10,
              "solidity": 0.2
             }
            },
            "type": "barpolar"
           }
          ],
          "carpet": [
           {
            "aaxis": {
             "endlinecolor": "#2a3f5f",
             "gridcolor": "white",
             "linecolor": "white",
             "minorgridcolor": "white",
             "startlinecolor": "#2a3f5f"
            },
            "baxis": {
             "endlinecolor": "#2a3f5f",
             "gridcolor": "white",
             "linecolor": "white",
             "minorgridcolor": "white",
             "startlinecolor": "#2a3f5f"
            },
            "type": "carpet"
           }
          ],
          "choropleth": [
           {
            "colorbar": {
             "outlinewidth": 0,
             "ticks": ""
            },
            "type": "choropleth"
           }
          ],
          "contour": [
           {
            "colorbar": {
             "outlinewidth": 0,
             "ticks": ""
            },
            "colorscale": [
             [
              0,
              "#0d0887"
             ],
             [
              0.1111111111111111,
              "#46039f"
             ],
             [
              0.2222222222222222,
              "#7201a8"
             ],
             [
              0.3333333333333333,
              "#9c179e"
             ],
             [
              0.4444444444444444,
              "#bd3786"
             ],
             [
              0.5555555555555556,
              "#d8576b"
             ],
             [
              0.6666666666666666,
              "#ed7953"
             ],
             [
              0.7777777777777778,
              "#fb9f3a"
             ],
             [
              0.8888888888888888,
              "#fdca26"
             ],
             [
              1,
              "#f0f921"
             ]
            ],
            "type": "contour"
           }
          ],
          "contourcarpet": [
           {
            "colorbar": {
             "outlinewidth": 0,
             "ticks": ""
            },
            "type": "contourcarpet"
           }
          ],
          "heatmap": [
           {
            "colorbar": {
             "outlinewidth": 0,
             "ticks": ""
            },
            "colorscale": [
             [
              0,
              "#0d0887"
             ],
             [
              0.1111111111111111,
              "#46039f"
             ],
             [
              0.2222222222222222,
              "#7201a8"
             ],
             [
              0.3333333333333333,
              "#9c179e"
             ],
             [
              0.4444444444444444,
              "#bd3786"
             ],
             [
              0.5555555555555556,
              "#d8576b"
             ],
             [
              0.6666666666666666,
              "#ed7953"
             ],
             [
              0.7777777777777778,
              "#fb9f3a"
             ],
             [
              0.8888888888888888,
              "#fdca26"
             ],
             [
              1,
              "#f0f921"
             ]
            ],
            "type": "heatmap"
           }
          ],
          "heatmapgl": [
           {
            "colorbar": {
             "outlinewidth": 0,
             "ticks": ""
            },
            "colorscale": [
             [
              0,
              "#0d0887"
             ],
             [
              0.1111111111111111,
              "#46039f"
             ],
             [
              0.2222222222222222,
              "#7201a8"
             ],
             [
              0.3333333333333333,
              "#9c179e"
             ],
             [
              0.4444444444444444,
              "#bd3786"
             ],
             [
              0.5555555555555556,
              "#d8576b"
             ],
             [
              0.6666666666666666,
              "#ed7953"
             ],
             [
              0.7777777777777778,
              "#fb9f3a"
             ],
             [
              0.8888888888888888,
              "#fdca26"
             ],
             [
              1,
              "#f0f921"
             ]
            ],
            "type": "heatmapgl"
           }
          ],
          "histogram": [
           {
            "marker": {
             "pattern": {
              "fillmode": "overlay",
              "size": 10,
              "solidity": 0.2
             }
            },
            "type": "histogram"
           }
          ],
          "histogram2d": [
           {
            "colorbar": {
             "outlinewidth": 0,
             "ticks": ""
            },
            "colorscale": [
             [
              0,
              "#0d0887"
             ],
             [
              0.1111111111111111,
              "#46039f"
             ],
             [
              0.2222222222222222,
              "#7201a8"
             ],
             [
              0.3333333333333333,
              "#9c179e"
             ],
             [
              0.4444444444444444,
              "#bd3786"
             ],
             [
              0.5555555555555556,
              "#d8576b"
             ],
             [
              0.6666666666666666,
              "#ed7953"
             ],
             [
              0.7777777777777778,
              "#fb9f3a"
             ],
             [
              0.8888888888888888,
              "#fdca26"
             ],
             [
              1,
              "#f0f921"
             ]
            ],
            "type": "histogram2d"
           }
          ],
          "histogram2dcontour": [
           {
            "colorbar": {
             "outlinewidth": 0,
             "ticks": ""
            },
            "colorscale": [
             [
              0,
              "#0d0887"
             ],
             [
              0.1111111111111111,
              "#46039f"
             ],
             [
              0.2222222222222222,
              "#7201a8"
             ],
             [
              0.3333333333333333,
              "#9c179e"
             ],
             [
              0.4444444444444444,
              "#bd3786"
             ],
             [
              0.5555555555555556,
              "#d8576b"
             ],
             [
              0.6666666666666666,
              "#ed7953"
             ],
             [
              0.7777777777777778,
              "#fb9f3a"
             ],
             [
              0.8888888888888888,
              "#fdca26"
             ],
             [
              1,
              "#f0f921"
             ]
            ],
            "type": "histogram2dcontour"
           }
          ],
          "mesh3d": [
           {
            "colorbar": {
             "outlinewidth": 0,
             "ticks": ""
            },
            "type": "mesh3d"
           }
          ],
          "parcoords": [
           {
            "line": {
             "colorbar": {
              "outlinewidth": 0,
              "ticks": ""
             }
            },
            "type": "parcoords"
           }
          ],
          "pie": [
           {
            "automargin": true,
            "type": "pie"
           }
          ],
          "scatter": [
           {
            "marker": {
             "colorbar": {
              "outlinewidth": 0,
              "ticks": ""
             }
            },
            "type": "scatter"
           }
          ],
          "scatter3d": [
           {
            "line": {
             "colorbar": {
              "outlinewidth": 0,
              "ticks": ""
             }
            },
            "marker": {
             "colorbar": {
              "outlinewidth": 0,
              "ticks": ""
             }
            },
            "type": "scatter3d"
           }
          ],
          "scattercarpet": [
           {
            "marker": {
             "colorbar": {
              "outlinewidth": 0,
              "ticks": ""
             }
            },
            "type": "scattercarpet"
           }
          ],
          "scattergeo": [
           {
            "marker": {
             "colorbar": {
              "outlinewidth": 0,
              "ticks": ""
             }
            },
            "type": "scattergeo"
           }
          ],
          "scattergl": [
           {
            "marker": {
             "colorbar": {
              "outlinewidth": 0,
              "ticks": ""
             }
            },
            "type": "scattergl"
           }
          ],
          "scattermapbox": [
           {
            "marker": {
             "colorbar": {
              "outlinewidth": 0,
              "ticks": ""
             }
            },
            "type": "scattermapbox"
           }
          ],
          "scatterpolar": [
           {
            "marker": {
             "colorbar": {
              "outlinewidth": 0,
              "ticks": ""
             }
            },
            "type": "scatterpolar"
           }
          ],
          "scatterpolargl": [
           {
            "marker": {
             "colorbar": {
              "outlinewidth": 0,
              "ticks": ""
             }
            },
            "type": "scatterpolargl"
           }
          ],
          "scatterternary": [
           {
            "marker": {
             "colorbar": {
              "outlinewidth": 0,
              "ticks": ""
             }
            },
            "type": "scatterternary"
           }
          ],
          "surface": [
           {
            "colorbar": {
             "outlinewidth": 0,
             "ticks": ""
            },
            "colorscale": [
             [
              0,
              "#0d0887"
             ],
             [
              0.1111111111111111,
              "#46039f"
             ],
             [
              0.2222222222222222,
              "#7201a8"
             ],
             [
              0.3333333333333333,
              "#9c179e"
             ],
             [
              0.4444444444444444,
              "#bd3786"
             ],
             [
              0.5555555555555556,
              "#d8576b"
             ],
             [
              0.6666666666666666,
              "#ed7953"
             ],
             [
              0.7777777777777778,
              "#fb9f3a"
             ],
             [
              0.8888888888888888,
              "#fdca26"
             ],
             [
              1,
              "#f0f921"
             ]
            ],
            "type": "surface"
           }
          ],
          "table": [
           {
            "cells": {
             "fill": {
              "color": "#EBF0F8"
             },
             "line": {
              "color": "white"
             }
            },
            "header": {
             "fill": {
              "color": "#C8D4E3"
             },
             "line": {
              "color": "white"
             }
            },
            "type": "table"
           }
          ]
         },
         "layout": {
          "annotationdefaults": {
           "arrowcolor": "#2a3f5f",
           "arrowhead": 0,
           "arrowwidth": 1
          },
          "autotypenumbers": "strict",
          "coloraxis": {
           "colorbar": {
            "outlinewidth": 0,
            "ticks": ""
           }
          },
          "colorscale": {
           "diverging": [
            [
             0,
             "#8e0152"
            ],
            [
             0.1,
             "#c51b7d"
            ],
            [
             0.2,
             "#de77ae"
            ],
            [
             0.3,
             "#f1b6da"
            ],
            [
             0.4,
             "#fde0ef"
            ],
            [
             0.5,
             "#f7f7f7"
            ],
            [
             0.6,
             "#e6f5d0"
            ],
            [
             0.7,
             "#b8e186"
            ],
            [
             0.8,
             "#7fbc41"
            ],
            [
             0.9,
             "#4d9221"
            ],
            [
             1,
             "#276419"
            ]
           ],
           "sequential": [
            [
             0,
             "#0d0887"
            ],
            [
             0.1111111111111111,
             "#46039f"
            ],
            [
             0.2222222222222222,
             "#7201a8"
            ],
            [
             0.3333333333333333,
             "#9c179e"
            ],
            [
             0.4444444444444444,
             "#bd3786"
            ],
            [
             0.5555555555555556,
             "#d8576b"
            ],
            [
             0.6666666666666666,
             "#ed7953"
            ],
            [
             0.7777777777777778,
             "#fb9f3a"
            ],
            [
             0.8888888888888888,
             "#fdca26"
            ],
            [
             1,
             "#f0f921"
            ]
           ],
           "sequentialminus": [
            [
             0,
             "#0d0887"
            ],
            [
             0.1111111111111111,
             "#46039f"
            ],
            [
             0.2222222222222222,
             "#7201a8"
            ],
            [
             0.3333333333333333,
             "#9c179e"
            ],
            [
             0.4444444444444444,
             "#bd3786"
            ],
            [
             0.5555555555555556,
             "#d8576b"
            ],
            [
             0.6666666666666666,
             "#ed7953"
            ],
            [
             0.7777777777777778,
             "#fb9f3a"
            ],
            [
             0.8888888888888888,
             "#fdca26"
            ],
            [
             1,
             "#f0f921"
            ]
           ]
          },
          "colorway": [
           "#636efa",
           "#EF553B",
           "#00cc96",
           "#ab63fa",
           "#FFA15A",
           "#19d3f3",
           "#FF6692",
           "#B6E880",
           "#FF97FF",
           "#FECB52"
          ],
          "font": {
           "color": "#2a3f5f"
          },
          "geo": {
           "bgcolor": "white",
           "lakecolor": "white",
           "landcolor": "#E5ECF6",
           "showlakes": true,
           "showland": true,
           "subunitcolor": "white"
          },
          "hoverlabel": {
           "align": "left"
          },
          "hovermode": "closest",
          "mapbox": {
           "style": "light"
          },
          "paper_bgcolor": "white",
          "plot_bgcolor": "#E5ECF6",
          "polar": {
           "angularaxis": {
            "gridcolor": "white",
            "linecolor": "white",
            "ticks": ""
           },
           "bgcolor": "#E5ECF6",
           "radialaxis": {
            "gridcolor": "white",
            "linecolor": "white",
            "ticks": ""
           }
          },
          "scene": {
           "xaxis": {
            "backgroundcolor": "#E5ECF6",
            "gridcolor": "white",
            "gridwidth": 2,
            "linecolor": "white",
            "showbackground": true,
            "ticks": "",
            "zerolinecolor": "white"
           },
           "yaxis": {
            "backgroundcolor": "#E5ECF6",
            "gridcolor": "white",
            "gridwidth": 2,
            "linecolor": "white",
            "showbackground": true,
            "ticks": "",
            "zerolinecolor": "white"
           },
           "zaxis": {
            "backgroundcolor": "#E5ECF6",
            "gridcolor": "white",
            "gridwidth": 2,
            "linecolor": "white",
            "showbackground": true,
            "ticks": "",
            "zerolinecolor": "white"
           }
          },
          "shapedefaults": {
           "line": {
            "color": "#2a3f5f"
           }
          },
          "ternary": {
           "aaxis": {
            "gridcolor": "white",
            "linecolor": "white",
            "ticks": ""
           },
           "baxis": {
            "gridcolor": "white",
            "linecolor": "white",
            "ticks": ""
           },
           "bgcolor": "#E5ECF6",
           "caxis": {
            "gridcolor": "white",
            "linecolor": "white",
            "ticks": ""
           }
          },
          "title": {
           "x": 0.05
          },
          "xaxis": {
           "automargin": true,
           "gridcolor": "white",
           "linecolor": "white",
           "ticks": "",
           "title": {
            "standoff": 15
           },
           "zerolinecolor": "white",
           "zerolinewidth": 2
          },
          "yaxis": {
           "automargin": true,
           "gridcolor": "white",
           "linecolor": "white",
           "ticks": "",
           "title": {
            "standoff": 15
           },
           "zerolinecolor": "white",
           "zerolinewidth": 2
          }
         }
        },
        "title": {
         "font": {
          "color": "#4D5663"
         }
        },
        "xaxis": {
         "gridcolor": "#E1E5ED",
         "showgrid": true,
         "tickfont": {
          "color": "#4D5663"
         },
         "title": {
          "font": {
           "color": "#4D5663"
          },
          "text": ""
         },
         "zerolinecolor": "#E1E5ED"
        },
        "yaxis": {
         "gridcolor": "#E1E5ED",
         "showgrid": true,
         "tickfont": {
          "color": "#4D5663"
         },
         "title": {
          "font": {
           "color": "#4D5663"
          },
          "text": ""
         },
         "zerolinecolor": "#E1E5ED"
        }
       }
      },
      "text/html": [
       "<div>                            <div id=\"de6d5265-f55e-4b36-af44-4febe12bf7ea\" class=\"plotly-graph-div\" style=\"height:525px; width:100%;\"></div>            <script type=\"text/javascript\">                require([\"plotly\"], function(Plotly) {                    window.PLOTLYENV=window.PLOTLYENV || {};\n",
       "                    window.PLOTLYENV.BASE_URL='https://plot.ly';                                    if (document.getElementById(\"de6d5265-f55e-4b36-af44-4febe12bf7ea\")) {                    Plotly.newPlot(                        \"de6d5265-f55e-4b36-af44-4febe12bf7ea\",                        [{\"marker\":{\"color\":\"rgba(255, 153, 51, 0.6)\",\"line\":{\"color\":\"rgba(255, 153, 51, 1.0)\",\"width\":1}},\"name\":\"Values\",\"orientation\":\"v\",\"text\":\"\",\"x\":[\"A\",\"B\",\"C\"],\"y\":[32,43,50],\"type\":\"bar\"}],                        {\"legend\":{\"bgcolor\":\"#F5F6F9\",\"font\":{\"color\":\"#4D5663\"}},\"paper_bgcolor\":\"#F5F6F9\",\"plot_bgcolor\":\"#F5F6F9\",\"template\":{\"data\":{\"barpolar\":[{\"marker\":{\"line\":{\"color\":\"#E5ECF6\",\"width\":0.5},\"pattern\":{\"fillmode\":\"overlay\",\"size\":10,\"solidity\":0.2}},\"type\":\"barpolar\"}],\"bar\":[{\"error_x\":{\"color\":\"#2a3f5f\"},\"error_y\":{\"color\":\"#2a3f5f\"},\"marker\":{\"line\":{\"color\":\"#E5ECF6\",\"width\":0.5},\"pattern\":{\"fillmode\":\"overlay\",\"size\":10,\"solidity\":0.2}},\"type\":\"bar\"}],\"carpet\":[{\"aaxis\":{\"endlinecolor\":\"#2a3f5f\",\"gridcolor\":\"white\",\"linecolor\":\"white\",\"minorgridcolor\":\"white\",\"startlinecolor\":\"#2a3f5f\"},\"baxis\":{\"endlinecolor\":\"#2a3f5f\",\"gridcolor\":\"white\",\"linecolor\":\"white\",\"minorgridcolor\":\"white\",\"startlinecolor\":\"#2a3f5f\"},\"type\":\"carpet\"}],\"choropleth\":[{\"colorbar\":{\"outlinewidth\":0,\"ticks\":\"\"},\"type\":\"choropleth\"}],\"contourcarpet\":[{\"colorbar\":{\"outlinewidth\":0,\"ticks\":\"\"},\"type\":\"contourcarpet\"}],\"contour\":[{\"colorbar\":{\"outlinewidth\":0,\"ticks\":\"\"},\"colorscale\":[[0.0,\"#0d0887\"],[0.1111111111111111,\"#46039f\"],[0.2222222222222222,\"#7201a8\"],[0.3333333333333333,\"#9c179e\"],[0.4444444444444444,\"#bd3786\"],[0.5555555555555556,\"#d8576b\"],[0.6666666666666666,\"#ed7953\"],[0.7777777777777778,\"#fb9f3a\"],[0.8888888888888888,\"#fdca26\"],[1.0,\"#f0f921\"]],\"type\":\"contour\"}],\"heatmapgl\":[{\"colorbar\":{\"outlinewidth\":0,\"ticks\":\"\"},\"colorscale\":[[0.0,\"#0d0887\"],[0.1111111111111111,\"#46039f\"],[0.2222222222222222,\"#7201a8\"],[0.3333333333333333,\"#9c179e\"],[0.4444444444444444,\"#bd3786\"],[0.5555555555555556,\"#d8576b\"],[0.6666666666666666,\"#ed7953\"],[0.7777777777777778,\"#fb9f3a\"],[0.8888888888888888,\"#fdca26\"],[1.0,\"#f0f921\"]],\"type\":\"heatmapgl\"}],\"heatmap\":[{\"colorbar\":{\"outlinewidth\":0,\"ticks\":\"\"},\"colorscale\":[[0.0,\"#0d0887\"],[0.1111111111111111,\"#46039f\"],[0.2222222222222222,\"#7201a8\"],[0.3333333333333333,\"#9c179e\"],[0.4444444444444444,\"#bd3786\"],[0.5555555555555556,\"#d8576b\"],[0.6666666666666666,\"#ed7953\"],[0.7777777777777778,\"#fb9f3a\"],[0.8888888888888888,\"#fdca26\"],[1.0,\"#f0f921\"]],\"type\":\"heatmap\"}],\"histogram2dcontour\":[{\"colorbar\":{\"outlinewidth\":0,\"ticks\":\"\"},\"colorscale\":[[0.0,\"#0d0887\"],[0.1111111111111111,\"#46039f\"],[0.2222222222222222,\"#7201a8\"],[0.3333333333333333,\"#9c179e\"],[0.4444444444444444,\"#bd3786\"],[0.5555555555555556,\"#d8576b\"],[0.6666666666666666,\"#ed7953\"],[0.7777777777777778,\"#fb9f3a\"],[0.8888888888888888,\"#fdca26\"],[1.0,\"#f0f921\"]],\"type\":\"histogram2dcontour\"}],\"histogram2d\":[{\"colorbar\":{\"outlinewidth\":0,\"ticks\":\"\"},\"colorscale\":[[0.0,\"#0d0887\"],[0.1111111111111111,\"#46039f\"],[0.2222222222222222,\"#7201a8\"],[0.3333333333333333,\"#9c179e\"],[0.4444444444444444,\"#bd3786\"],[0.5555555555555556,\"#d8576b\"],[0.6666666666666666,\"#ed7953\"],[0.7777777777777778,\"#fb9f3a\"],[0.8888888888888888,\"#fdca26\"],[1.0,\"#f0f921\"]],\"type\":\"histogram2d\"}],\"histogram\":[{\"marker\":{\"pattern\":{\"fillmode\":\"overlay\",\"size\":10,\"solidity\":0.2}},\"type\":\"histogram\"}],\"mesh3d\":[{\"colorbar\":{\"outlinewidth\":0,\"ticks\":\"\"},\"type\":\"mesh3d\"}],\"parcoords\":[{\"line\":{\"colorbar\":{\"outlinewidth\":0,\"ticks\":\"\"}},\"type\":\"parcoords\"}],\"pie\":[{\"automargin\":true,\"type\":\"pie\"}],\"scatter3d\":[{\"line\":{\"colorbar\":{\"outlinewidth\":0,\"ticks\":\"\"}},\"marker\":{\"colorbar\":{\"outlinewidth\":0,\"ticks\":\"\"}},\"type\":\"scatter3d\"}],\"scattercarpet\":[{\"marker\":{\"colorbar\":{\"outlinewidth\":0,\"ticks\":\"\"}},\"type\":\"scattercarpet\"}],\"scattergeo\":[{\"marker\":{\"colorbar\":{\"outlinewidth\":0,\"ticks\":\"\"}},\"type\":\"scattergeo\"}],\"scattergl\":[{\"marker\":{\"colorbar\":{\"outlinewidth\":0,\"ticks\":\"\"}},\"type\":\"scattergl\"}],\"scattermapbox\":[{\"marker\":{\"colorbar\":{\"outlinewidth\":0,\"ticks\":\"\"}},\"type\":\"scattermapbox\"}],\"scatterpolargl\":[{\"marker\":{\"colorbar\":{\"outlinewidth\":0,\"ticks\":\"\"}},\"type\":\"scatterpolargl\"}],\"scatterpolar\":[{\"marker\":{\"colorbar\":{\"outlinewidth\":0,\"ticks\":\"\"}},\"type\":\"scatterpolar\"}],\"scatter\":[{\"marker\":{\"colorbar\":{\"outlinewidth\":0,\"ticks\":\"\"}},\"type\":\"scatter\"}],\"scatterternary\":[{\"marker\":{\"colorbar\":{\"outlinewidth\":0,\"ticks\":\"\"}},\"type\":\"scatterternary\"}],\"surface\":[{\"colorbar\":{\"outlinewidth\":0,\"ticks\":\"\"},\"colorscale\":[[0.0,\"#0d0887\"],[0.1111111111111111,\"#46039f\"],[0.2222222222222222,\"#7201a8\"],[0.3333333333333333,\"#9c179e\"],[0.4444444444444444,\"#bd3786\"],[0.5555555555555556,\"#d8576b\"],[0.6666666666666666,\"#ed7953\"],[0.7777777777777778,\"#fb9f3a\"],[0.8888888888888888,\"#fdca26\"],[1.0,\"#f0f921\"]],\"type\":\"surface\"}],\"table\":[{\"cells\":{\"fill\":{\"color\":\"#EBF0F8\"},\"line\":{\"color\":\"white\"}},\"header\":{\"fill\":{\"color\":\"#C8D4E3\"},\"line\":{\"color\":\"white\"}},\"type\":\"table\"}]},\"layout\":{\"annotationdefaults\":{\"arrowcolor\":\"#2a3f5f\",\"arrowhead\":0,\"arrowwidth\":1},\"autotypenumbers\":\"strict\",\"coloraxis\":{\"colorbar\":{\"outlinewidth\":0,\"ticks\":\"\"}},\"colorscale\":{\"diverging\":[[0,\"#8e0152\"],[0.1,\"#c51b7d\"],[0.2,\"#de77ae\"],[0.3,\"#f1b6da\"],[0.4,\"#fde0ef\"],[0.5,\"#f7f7f7\"],[0.6,\"#e6f5d0\"],[0.7,\"#b8e186\"],[0.8,\"#7fbc41\"],[0.9,\"#4d9221\"],[1,\"#276419\"]],\"sequential\":[[0.0,\"#0d0887\"],[0.1111111111111111,\"#46039f\"],[0.2222222222222222,\"#7201a8\"],[0.3333333333333333,\"#9c179e\"],[0.4444444444444444,\"#bd3786\"],[0.5555555555555556,\"#d8576b\"],[0.6666666666666666,\"#ed7953\"],[0.7777777777777778,\"#fb9f3a\"],[0.8888888888888888,\"#fdca26\"],[1.0,\"#f0f921\"]],\"sequentialminus\":[[0.0,\"#0d0887\"],[0.1111111111111111,\"#46039f\"],[0.2222222222222222,\"#7201a8\"],[0.3333333333333333,\"#9c179e\"],[0.4444444444444444,\"#bd3786\"],[0.5555555555555556,\"#d8576b\"],[0.6666666666666666,\"#ed7953\"],[0.7777777777777778,\"#fb9f3a\"],[0.8888888888888888,\"#fdca26\"],[1.0,\"#f0f921\"]]},\"colorway\":[\"#636efa\",\"#EF553B\",\"#00cc96\",\"#ab63fa\",\"#FFA15A\",\"#19d3f3\",\"#FF6692\",\"#B6E880\",\"#FF97FF\",\"#FECB52\"],\"font\":{\"color\":\"#2a3f5f\"},\"geo\":{\"bgcolor\":\"white\",\"lakecolor\":\"white\",\"landcolor\":\"#E5ECF6\",\"showlakes\":true,\"showland\":true,\"subunitcolor\":\"white\"},\"hoverlabel\":{\"align\":\"left\"},\"hovermode\":\"closest\",\"mapbox\":{\"style\":\"light\"},\"paper_bgcolor\":\"white\",\"plot_bgcolor\":\"#E5ECF6\",\"polar\":{\"angularaxis\":{\"gridcolor\":\"white\",\"linecolor\":\"white\",\"ticks\":\"\"},\"bgcolor\":\"#E5ECF6\",\"radialaxis\":{\"gridcolor\":\"white\",\"linecolor\":\"white\",\"ticks\":\"\"}},\"scene\":{\"xaxis\":{\"backgroundcolor\":\"#E5ECF6\",\"gridcolor\":\"white\",\"gridwidth\":2,\"linecolor\":\"white\",\"showbackground\":true,\"ticks\":\"\",\"zerolinecolor\":\"white\"},\"yaxis\":{\"backgroundcolor\":\"#E5ECF6\",\"gridcolor\":\"white\",\"gridwidth\":2,\"linecolor\":\"white\",\"showbackground\":true,\"ticks\":\"\",\"zerolinecolor\":\"white\"},\"zaxis\":{\"backgroundcolor\":\"#E5ECF6\",\"gridcolor\":\"white\",\"gridwidth\":2,\"linecolor\":\"white\",\"showbackground\":true,\"ticks\":\"\",\"zerolinecolor\":\"white\"}},\"shapedefaults\":{\"line\":{\"color\":\"#2a3f5f\"}},\"ternary\":{\"aaxis\":{\"gridcolor\":\"white\",\"linecolor\":\"white\",\"ticks\":\"\"},\"baxis\":{\"gridcolor\":\"white\",\"linecolor\":\"white\",\"ticks\":\"\"},\"bgcolor\":\"#E5ECF6\",\"caxis\":{\"gridcolor\":\"white\",\"linecolor\":\"white\",\"ticks\":\"\"}},\"title\":{\"x\":0.05},\"xaxis\":{\"automargin\":true,\"gridcolor\":\"white\",\"linecolor\":\"white\",\"ticks\":\"\",\"title\":{\"standoff\":15},\"zerolinecolor\":\"white\",\"zerolinewidth\":2},\"yaxis\":{\"automargin\":true,\"gridcolor\":\"white\",\"linecolor\":\"white\",\"ticks\":\"\",\"title\":{\"standoff\":15},\"zerolinecolor\":\"white\",\"zerolinewidth\":2}}},\"title\":{\"font\":{\"color\":\"#4D5663\"}},\"xaxis\":{\"gridcolor\":\"#E1E5ED\",\"showgrid\":true,\"tickfont\":{\"color\":\"#4D5663\"},\"title\":{\"font\":{\"color\":\"#4D5663\"},\"text\":\"\"},\"zerolinecolor\":\"#E1E5ED\"},\"yaxis\":{\"gridcolor\":\"#E1E5ED\",\"showgrid\":true,\"tickfont\":{\"color\":\"#4D5663\"},\"title\":{\"font\":{\"color\":\"#4D5663\"},\"text\":\"\"},\"zerolinecolor\":\"#E1E5ED\"}},                        {\"showLink\": true, \"linkText\": \"Export to plot.ly\", \"plotlyServerURL\": \"https://plot.ly\", \"responsive\": true}                    ).then(function(){\n",
       "                            \n",
       "var gd = document.getElementById('de6d5265-f55e-4b36-af44-4febe12bf7ea');\n",
       "var x = new MutationObserver(function (mutations, observer) {{\n",
       "        var display = window.getComputedStyle(gd).display;\n",
       "        if (!display || display === 'none') {{\n",
       "            console.log([gd, 'removed!']);\n",
       "            Plotly.purge(gd);\n",
       "            observer.disconnect();\n",
       "        }}\n",
       "}});\n",
       "\n",
       "// Listen for the removal of the full notebook cells\n",
       "var notebookContainer = gd.closest('#notebook-container');\n",
       "if (notebookContainer) {{\n",
       "    x.observe(notebookContainer, {childList: true});\n",
       "}}\n",
       "\n",
       "// Listen for the clearing of the current output cell\n",
       "var outputEl = gd.closest('.output');\n",
       "if (outputEl) {{\n",
       "    x.observe(outputEl, {childList: true});\n",
       "}}\n",
       "\n",
       "                        })                };                });            </script>        </div>"
      ]
     },
     "metadata": {},
     "output_type": "display_data"
    }
   ],
   "source": [
    "df2.iplot(kind='bar',x='Category',y='Values')"
   ]
  },
  {
   "cell_type": "code",
   "execution_count": 18,
   "metadata": {
    "scrolled": true
   },
   "outputs": [
    {
     "data": {
      "text/html": [
       "<div>\n",
       "<style scoped>\n",
       "    .dataframe tbody tr th:only-of-type {\n",
       "        vertical-align: middle;\n",
       "    }\n",
       "\n",
       "    .dataframe tbody tr th {\n",
       "        vertical-align: top;\n",
       "    }\n",
       "\n",
       "    .dataframe thead th {\n",
       "        text-align: right;\n",
       "    }\n",
       "</style>\n",
       "<table border=\"1\" class=\"dataframe\">\n",
       "  <thead>\n",
       "    <tr style=\"text-align: right;\">\n",
       "      <th></th>\n",
       "      <th>A</th>\n",
       "      <th>B</th>\n",
       "      <th>C</th>\n",
       "      <th>D</th>\n",
       "    </tr>\n",
       "  </thead>\n",
       "  <tbody>\n",
       "    <tr>\n",
       "      <th>0</th>\n",
       "      <td>-1.727725</td>\n",
       "      <td>-0.359274</td>\n",
       "      <td>-0.857660</td>\n",
       "      <td>-0.496558</td>\n",
       "    </tr>\n",
       "    <tr>\n",
       "      <th>1</th>\n",
       "      <td>-0.652395</td>\n",
       "      <td>0.274849</td>\n",
       "      <td>-0.575013</td>\n",
       "      <td>-1.353897</td>\n",
       "    </tr>\n",
       "    <tr>\n",
       "      <th>2</th>\n",
       "      <td>1.711169</td>\n",
       "      <td>-1.840245</td>\n",
       "      <td>0.054437</td>\n",
       "      <td>-0.172236</td>\n",
       "    </tr>\n",
       "    <tr>\n",
       "      <th>3</th>\n",
       "      <td>1.885493</td>\n",
       "      <td>0.419897</td>\n",
       "      <td>0.785222</td>\n",
       "      <td>1.623158</td>\n",
       "    </tr>\n",
       "    <tr>\n",
       "      <th>4</th>\n",
       "      <td>0.279775</td>\n",
       "      <td>0.440880</td>\n",
       "      <td>-0.481549</td>\n",
       "      <td>1.733545</td>\n",
       "    </tr>\n",
       "    <tr>\n",
       "      <th>...</th>\n",
       "      <td>...</td>\n",
       "      <td>...</td>\n",
       "      <td>...</td>\n",
       "      <td>...</td>\n",
       "    </tr>\n",
       "    <tr>\n",
       "      <th>95</th>\n",
       "      <td>-0.628808</td>\n",
       "      <td>-2.152301</td>\n",
       "      <td>0.204131</td>\n",
       "      <td>-0.282723</td>\n",
       "    </tr>\n",
       "    <tr>\n",
       "      <th>96</th>\n",
       "      <td>0.175156</td>\n",
       "      <td>1.692729</td>\n",
       "      <td>-1.130179</td>\n",
       "      <td>-0.541301</td>\n",
       "    </tr>\n",
       "    <tr>\n",
       "      <th>97</th>\n",
       "      <td>0.430067</td>\n",
       "      <td>-1.418549</td>\n",
       "      <td>0.536725</td>\n",
       "      <td>0.783187</td>\n",
       "    </tr>\n",
       "    <tr>\n",
       "      <th>98</th>\n",
       "      <td>-0.162712</td>\n",
       "      <td>-0.283786</td>\n",
       "      <td>1.128455</td>\n",
       "      <td>-0.773879</td>\n",
       "    </tr>\n",
       "    <tr>\n",
       "      <th>99</th>\n",
       "      <td>-1.124138</td>\n",
       "      <td>-2.051294</td>\n",
       "      <td>-0.453575</td>\n",
       "      <td>-0.282019</td>\n",
       "    </tr>\n",
       "  </tbody>\n",
       "</table>\n",
       "<p>100 rows × 4 columns</p>\n",
       "</div>"
      ],
      "text/plain": [
       "           A         B         C         D\n",
       "0  -1.727725 -0.359274 -0.857660 -0.496558\n",
       "1  -0.652395  0.274849 -0.575013 -1.353897\n",
       "2   1.711169 -1.840245  0.054437 -0.172236\n",
       "3   1.885493  0.419897  0.785222  1.623158\n",
       "4   0.279775  0.440880 -0.481549  1.733545\n",
       "..       ...       ...       ...       ...\n",
       "95 -0.628808 -2.152301  0.204131 -0.282723\n",
       "96  0.175156  1.692729 -1.130179 -0.541301\n",
       "97  0.430067 -1.418549  0.536725  0.783187\n",
       "98 -0.162712 -0.283786  1.128455 -0.773879\n",
       "99 -1.124138 -2.051294 -0.453575 -0.282019\n",
       "\n",
       "[100 rows x 4 columns]"
      ]
     },
     "execution_count": 18,
     "metadata": {},
     "output_type": "execute_result"
    }
   ],
   "source": [
    "df"
   ]
  },
  {
   "cell_type": "code",
   "execution_count": 19,
   "metadata": {
    "scrolled": true
   },
   "outputs": [
    {
     "data": {
      "application/vnd.plotly.v1+json": {
       "config": {
        "linkText": "Export to plot.ly",
        "plotlyServerURL": "https://plot.ly",
        "showLink": true
       },
       "data": [
        {
         "marker": {
          "color": "rgba(255, 153, 51, 0.6)",
          "line": {
           "color": "rgba(255, 153, 51, 1.0)",
           "width": 1
          }
         },
         "name": "A",
         "orientation": "v",
         "text": "",
         "type": "bar",
         "x": [
          0,
          1,
          2,
          3,
          4,
          5,
          6,
          7,
          8,
          9,
          10,
          11,
          12,
          13,
          14,
          15,
          16,
          17,
          18,
          19,
          20,
          21,
          22,
          23,
          24,
          25,
          26,
          27,
          28,
          29,
          30,
          31,
          32,
          33,
          34,
          35,
          36,
          37,
          38,
          39,
          40,
          41,
          42,
          43,
          44,
          45,
          46,
          47,
          48,
          49,
          50,
          51,
          52,
          53,
          54,
          55,
          56,
          57,
          58,
          59,
          60,
          61,
          62,
          63,
          64,
          65,
          66,
          67,
          68,
          69,
          70,
          71,
          72,
          73,
          74,
          75,
          76,
          77,
          78,
          79,
          80,
          81,
          82,
          83,
          84,
          85,
          86,
          87,
          88,
          89,
          90,
          91,
          92,
          93,
          94,
          95,
          96,
          97,
          98,
          99
         ],
         "y": [
          -1.727725252579994,
          -0.6523954972283168,
          1.7111687573755276,
          1.8854926884160432,
          0.2797752300463759,
          -0.12278394235318713,
          -2.4629864633042837,
          -0.78629519698013,
          1.5013687819523045,
          0.5778433356227098,
          -2.1250130799216187,
          0.3074884774377496,
          -0.39557538193393044,
          -0.7210189703241677,
          0.6061344398049183,
          0.7253202601114827,
          0.7539556248165138,
          -0.6899826023857759,
          -1.9861820267153667,
          2.4724627179818857,
          -1.4921740674205082,
          0.21778649632986308,
          -1.2225982276441731,
          0.3022845411813817,
          0.5009163667793719,
          -0.27518666748581294,
          0.3332232948659106,
          0.5530183129927184,
          2.1813543514946936,
          2.3674713894348414,
          0.4040344645695381,
          0.1038752830651099,
          0.8189814485190792,
          0.6565628023965491,
          0.9649713911033581,
          0.4770077483354942,
          -1.1877719893116574,
          -0.3185818235127667,
          -0.4156429945784772,
          0.09263219619292881,
          1.1664812938353366,
          -1.664581973843618,
          0.8941099556511569,
          -0.059261618500232864,
          -0.42899090930167383,
          1.4204537434359545,
          -1.9614667808680513,
          0.5392218409350615,
          0.47024725448087334,
          1.1467256719334287,
          0.6683405973503002,
          -0.1653528442340094,
          0.2720390477214452,
          -0.6859510913281808,
          0.873018803874626,
          -0.4897179349388602,
          0.2791268821380968,
          -0.01369544344158681,
          0.9219045630189825,
          -0.17979824847298675,
          -1.4115107328459895,
          -0.4411751400820583,
          -0.13716549658502647,
          1.0502522594862551,
          -0.19931089910380348,
          1.2830450947207823,
          -0.7369514961753213,
          -0.43860412360855694,
          1.0940477429003814,
          0.8058780282388065,
          -0.2924536277044239,
          2.852728649349453,
          0.04370968310871116,
          -0.8464521149500591,
          2.28771812749006,
          0.010509765405440371,
          -1.4659896454578434,
          0.36111835740287185,
          1.080204647892336,
          0.21540806709294769,
          -1.2746246503442467,
          -0.7772846266240038,
          1.0151964174987262,
          -0.06308949328548494,
          0.6685557331125359,
          1.613021300620463,
          0.47658038207031683,
          -0.0906659850021094,
          -0.2727332447383256,
          -1.1830977459293435,
          1.5018775786963818,
          1.1466140817409018,
          -0.5606275116117502,
          -0.10446970457486329,
          0.3496968132069453,
          -0.6288080145360863,
          0.17515626102678597,
          0.4300673887181837,
          -0.1627117716049884,
          -1.1241376448948244
         ]
        },
        {
         "marker": {
          "color": "rgba(55, 128, 191, 0.6)",
          "line": {
           "color": "rgba(55, 128, 191, 1.0)",
           "width": 1
          }
         },
         "name": "B",
         "orientation": "v",
         "text": "",
         "type": "bar",
         "x": [
          0,
          1,
          2,
          3,
          4,
          5,
          6,
          7,
          8,
          9,
          10,
          11,
          12,
          13,
          14,
          15,
          16,
          17,
          18,
          19,
          20,
          21,
          22,
          23,
          24,
          25,
          26,
          27,
          28,
          29,
          30,
          31,
          32,
          33,
          34,
          35,
          36,
          37,
          38,
          39,
          40,
          41,
          42,
          43,
          44,
          45,
          46,
          47,
          48,
          49,
          50,
          51,
          52,
          53,
          54,
          55,
          56,
          57,
          58,
          59,
          60,
          61,
          62,
          63,
          64,
          65,
          66,
          67,
          68,
          69,
          70,
          71,
          72,
          73,
          74,
          75,
          76,
          77,
          78,
          79,
          80,
          81,
          82,
          83,
          84,
          85,
          86,
          87,
          88,
          89,
          90,
          91,
          92,
          93,
          94,
          95,
          96,
          97,
          98,
          99
         ],
         "y": [
          -0.35927390814104476,
          0.27484927832288925,
          -1.8402446516963689,
          0.4198969961056575,
          0.4408799218403844,
          -0.665006993082131,
          0.46215986015186405,
          0.5573938040479566,
          0.6821486464071536,
          -0.43277368434188607,
          -1.2513044483714728,
          -0.11800881518163064,
          0.4836095280558225,
          0.7198624924810973,
          0.769734040934067,
          0.32344267033603896,
          -0.5870259090687044,
          1.3764179686571287,
          0.5414625905049074,
          -0.598832443850317,
          -0.3195569510147842,
          1.2187240035662579,
          1.7219914761158468,
          1.0019398201832288,
          1.2712216685342188,
          -0.15169413108128366,
          -2.0769689079471245,
          -0.24617444450180453,
          0.2170377560005709,
          -0.2729310917822944,
          1.0580304337908448,
          0.49066385442413696,
          -0.0634690171707887,
          0.8761236894078324,
          -1.156182292111743,
          -1.7239496549607745,
          0.39963598889609775,
          -1.2405253270562735,
          -1.0844575996887613,
          0.9674204439722415,
          -2.3541883593272517,
          0.8451426886740392,
          0.48949596951889196,
          -1.048367046734212,
          -1.7815751279077898,
          0.09603552656022948,
          1.022949626357811,
          -1.0023988657385754,
          1.426874982960192,
          1.3283805405466318,
          -0.6826435013929715,
          -0.06948124309346751,
          1.197488186443602,
          1.2254917825595262,
          -1.0980833401848957,
          -1.2936343077373555,
          1.1510079929317878,
          0.8458703244821476,
          -1.2145888081746545,
          -0.8788190625374599,
          -1.5966273166290912,
          -0.7875422511564634,
          -0.1341321161518695,
          -1.4763238379407928,
          0.20797838521634457,
          -0.8900356418694271,
          -0.03371763647518824,
          0.7039356095584622,
          0.04616317679909543,
          0.6189737947401249,
          -0.020343437881330532,
          0.5241198908709517,
          -0.7207502317444129,
          -0.5982659043959154,
          -0.9178947753869992,
          1.2093861312135417,
          0.8309601781784342,
          0.5021465962618618,
          0.7693337137248092,
          0.8802821133026897,
          0.8837223679022095,
          0.4640030703367322,
          0.4763622196705976,
          1.4159694950025428,
          -0.29871965306664355,
          -0.8294071562311018,
          2.3446506464640398,
          -1.8637575195725096,
          -0.9628217613471104,
          -0.8981321973001141,
          -1.2529064074869203,
          -0.9883955824352328,
          0.3543575984448734,
          -0.9402400967736599,
          0.27223807132119077,
          -2.1523011662984852,
          1.692728902747629,
          -1.41854939516216,
          -0.2837856089408107,
          -2.0512938927588813
         ]
        },
        {
         "marker": {
          "color": "rgba(50, 171, 96, 0.6)",
          "line": {
           "color": "rgba(50, 171, 96, 1.0)",
           "width": 1
          }
         },
         "name": "C",
         "orientation": "v",
         "text": "",
         "type": "bar",
         "x": [
          0,
          1,
          2,
          3,
          4,
          5,
          6,
          7,
          8,
          9,
          10,
          11,
          12,
          13,
          14,
          15,
          16,
          17,
          18,
          19,
          20,
          21,
          22,
          23,
          24,
          25,
          26,
          27,
          28,
          29,
          30,
          31,
          32,
          33,
          34,
          35,
          36,
          37,
          38,
          39,
          40,
          41,
          42,
          43,
          44,
          45,
          46,
          47,
          48,
          49,
          50,
          51,
          52,
          53,
          54,
          55,
          56,
          57,
          58,
          59,
          60,
          61,
          62,
          63,
          64,
          65,
          66,
          67,
          68,
          69,
          70,
          71,
          72,
          73,
          74,
          75,
          76,
          77,
          78,
          79,
          80,
          81,
          82,
          83,
          84,
          85,
          86,
          87,
          88,
          89,
          90,
          91,
          92,
          93,
          94,
          95,
          96,
          97,
          98,
          99
         ],
         "y": [
          -0.8576600851820129,
          -0.5750127788884318,
          0.05443737876004868,
          0.7852219652757143,
          -0.4815487628257627,
          0.04459261934043061,
          -0.06139117924853256,
          0.20633355242056056,
          0.3062438902586826,
          1.3296776414925178,
          -0.7677373671277309,
          -0.006243911503915224,
          1.1498310264509497,
          0.18172294440474673,
          -0.19866413611852404,
          -0.8526807024276805,
          0.699245848585638,
          2.3023684100320927,
          -0.9026964338652707,
          -2.126841132369603,
          -0.842454782703909,
          0.6287313876116941,
          0.6682264230511928,
          -0.1769443401341622,
          0.26285762319922845,
          -1.9182082898691377,
          -0.35284934610786284,
          0.10958556503104956,
          -0.39624950688927235,
          0.31471637953316495,
          -0.6383841995137576,
          2.1191646816111716,
          0.1071863837033177,
          -1.0993467054046555,
          -1.1851231161420908,
          0.9078673017445265,
          -0.9240942974216836,
          1.1082905281639326,
          0.5761749525009726,
          -0.5528240035959081,
          -1.08319747021649,
          -0.3976494677458565,
          -0.1518796496642728,
          1.057216241490009,
          0.0864398733826944,
          0.3100534812829789,
          -0.6269403739297886,
          -0.04947723555628706,
          -0.9613648546663213,
          0.8097916556373664,
          -0.4449950508578437,
          0.1853574945940702,
          -0.40107114793418475,
          -1.003082928001767,
          -0.752919299080358,
          -0.5950415455443309,
          -0.28500485049306346,
          0.22621527955495616,
          -1.4791742950433293,
          0.0863555425022727,
          -1.477818299284184,
          0.3181940813153153,
          -1.852121414840407,
          -0.5261400848800919,
          -0.19445599174652403,
          1.2692789684904169,
          0.9994959914342512,
          0.6236723493406674,
          0.6178352553527662,
          0.01180667443335035,
          -0.7145856073326051,
          -0.21614168674591627,
          0.47703388972485505,
          0.8951840409390931,
          0.12843544193826878,
          0.5830450541273284,
          -0.5229493660653698,
          0.1806833566529037,
          1.2369892036717165,
          1.5121942236516193,
          -1.0073202348756185,
          -0.561204749188291,
          -0.20193194149857496,
          -0.08287312206897211,
          0.8298502678698525,
          1.0807107053419196,
          -0.9480437842389379,
          0.19593365881638544,
          -0.07374676095263155,
          -1.20932451397519,
          -1.431085577517493,
          1.816668237644611,
          -0.3765677734224466,
          0.7154783027959628,
          1.4930900832089968,
          0.20413077793277046,
          -1.1301792997773459,
          0.536724977053704,
          1.1284546732489456,
          -0.45357490395777833
         ]
        },
        {
         "marker": {
          "color": "rgba(128, 0, 128, 0.6)",
          "line": {
           "color": "rgba(128, 0, 128, 1.0)",
           "width": 1
          }
         },
         "name": "D",
         "orientation": "v",
         "text": "",
         "type": "bar",
         "x": [
          0,
          1,
          2,
          3,
          4,
          5,
          6,
          7,
          8,
          9,
          10,
          11,
          12,
          13,
          14,
          15,
          16,
          17,
          18,
          19,
          20,
          21,
          22,
          23,
          24,
          25,
          26,
          27,
          28,
          29,
          30,
          31,
          32,
          33,
          34,
          35,
          36,
          37,
          38,
          39,
          40,
          41,
          42,
          43,
          44,
          45,
          46,
          47,
          48,
          49,
          50,
          51,
          52,
          53,
          54,
          55,
          56,
          57,
          58,
          59,
          60,
          61,
          62,
          63,
          64,
          65,
          66,
          67,
          68,
          69,
          70,
          71,
          72,
          73,
          74,
          75,
          76,
          77,
          78,
          79,
          80,
          81,
          82,
          83,
          84,
          85,
          86,
          87,
          88,
          89,
          90,
          91,
          92,
          93,
          94,
          95,
          96,
          97,
          98,
          99
         ],
         "y": [
          -0.4965581735356254,
          -1.3538967874345176,
          -0.17223560818573722,
          1.6231579665908973,
          1.7335446296311334,
          -0.2030650778601564,
          -0.8452123865917006,
          1.0521305282835511,
          1.0398148392863902,
          -0.050987236786020504,
          -0.57258304732208,
          0.04327595603432784,
          -1.3940547164717714,
          -0.7525124487105035,
          -0.07855624829631365,
          -1.1287941535485626,
          0.04187240456777008,
          1.4784163179354148,
          0.37467197907364774,
          -0.7017974813352993,
          -0.15403843626666303,
          -0.5716045712901606,
          -0.15591731115513588,
          1.0827404114215546,
          0.06824294928725971,
          -0.6664063407263672,
          0.058527585690782445,
          -0.9858046686548356,
          -0.6166101461902966,
          -1.1015216262366498,
          0.48213629877689473,
          0.7272580763180592,
          1.1927992467132755,
          0.007447607351678447,
          0.9569922129220856,
          -1.1567796253878748,
          -0.1064287862458562,
          0.13029253387854112,
          0.035064494826886665,
          0.007923565519073762,
          0.6666927681045107,
          -0.2975599094544142,
          0.5143305432258334,
          -0.5314002154044901,
          0.9862378459404866,
          -0.8561390311252871,
          -0.08201694272839874,
          0.658484445292848,
          -1.1019741335941395,
          1.7357110245871454,
          -0.11175638362924363,
          1.4145749280314097,
          0.0053422645864003295,
          -0.04697930289317601,
          -0.7801131973483182,
          -1.1054144127714947,
          -0.3191975559484706,
          2.1400811034734475,
          -0.28546278269794334,
          -0.026399679763879018,
          -0.13923411297599422,
          0.5953884586032037,
          -0.6078720153987348,
          0.4475031099532303,
          1.3609915633404095,
          -0.3970043698105668,
          -1.483018792788209,
          -0.5391846912785562,
          -0.9115268037798887,
          0.15120485573677836,
          1.188222846229542,
          -0.9754873702920279,
          0.6138966578280636,
          -0.7061571324872323,
          -0.03124596441063452,
          0.2649153628508299,
          -0.27760614222920704,
          1.0501757511701886,
          -1.6212716213140699,
          -0.8593940651917895,
          -0.4191976458232712,
          -0.7588387619889834,
          0.04786717019872002,
          -1.491149338625276,
          0.5932183950134358,
          0.6539229166253674,
          0.6982652058189514,
          0.6481823342092639,
          -1.0097184189627435,
          -0.7995847706776723,
          -1.1795007881349875,
          -1.2948637331231025,
          0.9988398953252201,
          0.811056302157581,
          -0.498460662658745,
          -0.28272291971528696,
          -0.5413007010612112,
          0.7831871945780672,
          -0.7738786516659488,
          -0.2820191552854569
         ]
        }
       ],
       "layout": {
        "legend": {
         "bgcolor": "#F5F6F9",
         "font": {
          "color": "#4D5663"
         }
        },
        "paper_bgcolor": "#F5F6F9",
        "plot_bgcolor": "#F5F6F9",
        "template": {
         "data": {
          "bar": [
           {
            "error_x": {
             "color": "#2a3f5f"
            },
            "error_y": {
             "color": "#2a3f5f"
            },
            "marker": {
             "line": {
              "color": "#E5ECF6",
              "width": 0.5
             },
             "pattern": {
              "fillmode": "overlay",
              "size": 10,
              "solidity": 0.2
             }
            },
            "type": "bar"
           }
          ],
          "barpolar": [
           {
            "marker": {
             "line": {
              "color": "#E5ECF6",
              "width": 0.5
             },
             "pattern": {
              "fillmode": "overlay",
              "size": 10,
              "solidity": 0.2
             }
            },
            "type": "barpolar"
           }
          ],
          "carpet": [
           {
            "aaxis": {
             "endlinecolor": "#2a3f5f",
             "gridcolor": "white",
             "linecolor": "white",
             "minorgridcolor": "white",
             "startlinecolor": "#2a3f5f"
            },
            "baxis": {
             "endlinecolor": "#2a3f5f",
             "gridcolor": "white",
             "linecolor": "white",
             "minorgridcolor": "white",
             "startlinecolor": "#2a3f5f"
            },
            "type": "carpet"
           }
          ],
          "choropleth": [
           {
            "colorbar": {
             "outlinewidth": 0,
             "ticks": ""
            },
            "type": "choropleth"
           }
          ],
          "contour": [
           {
            "colorbar": {
             "outlinewidth": 0,
             "ticks": ""
            },
            "colorscale": [
             [
              0,
              "#0d0887"
             ],
             [
              0.1111111111111111,
              "#46039f"
             ],
             [
              0.2222222222222222,
              "#7201a8"
             ],
             [
              0.3333333333333333,
              "#9c179e"
             ],
             [
              0.4444444444444444,
              "#bd3786"
             ],
             [
              0.5555555555555556,
              "#d8576b"
             ],
             [
              0.6666666666666666,
              "#ed7953"
             ],
             [
              0.7777777777777778,
              "#fb9f3a"
             ],
             [
              0.8888888888888888,
              "#fdca26"
             ],
             [
              1,
              "#f0f921"
             ]
            ],
            "type": "contour"
           }
          ],
          "contourcarpet": [
           {
            "colorbar": {
             "outlinewidth": 0,
             "ticks": ""
            },
            "type": "contourcarpet"
           }
          ],
          "heatmap": [
           {
            "colorbar": {
             "outlinewidth": 0,
             "ticks": ""
            },
            "colorscale": [
             [
              0,
              "#0d0887"
             ],
             [
              0.1111111111111111,
              "#46039f"
             ],
             [
              0.2222222222222222,
              "#7201a8"
             ],
             [
              0.3333333333333333,
              "#9c179e"
             ],
             [
              0.4444444444444444,
              "#bd3786"
             ],
             [
              0.5555555555555556,
              "#d8576b"
             ],
             [
              0.6666666666666666,
              "#ed7953"
             ],
             [
              0.7777777777777778,
              "#fb9f3a"
             ],
             [
              0.8888888888888888,
              "#fdca26"
             ],
             [
              1,
              "#f0f921"
             ]
            ],
            "type": "heatmap"
           }
          ],
          "heatmapgl": [
           {
            "colorbar": {
             "outlinewidth": 0,
             "ticks": ""
            },
            "colorscale": [
             [
              0,
              "#0d0887"
             ],
             [
              0.1111111111111111,
              "#46039f"
             ],
             [
              0.2222222222222222,
              "#7201a8"
             ],
             [
              0.3333333333333333,
              "#9c179e"
             ],
             [
              0.4444444444444444,
              "#bd3786"
             ],
             [
              0.5555555555555556,
              "#d8576b"
             ],
             [
              0.6666666666666666,
              "#ed7953"
             ],
             [
              0.7777777777777778,
              "#fb9f3a"
             ],
             [
              0.8888888888888888,
              "#fdca26"
             ],
             [
              1,
              "#f0f921"
             ]
            ],
            "type": "heatmapgl"
           }
          ],
          "histogram": [
           {
            "marker": {
             "pattern": {
              "fillmode": "overlay",
              "size": 10,
              "solidity": 0.2
             }
            },
            "type": "histogram"
           }
          ],
          "histogram2d": [
           {
            "colorbar": {
             "outlinewidth": 0,
             "ticks": ""
            },
            "colorscale": [
             [
              0,
              "#0d0887"
             ],
             [
              0.1111111111111111,
              "#46039f"
             ],
             [
              0.2222222222222222,
              "#7201a8"
             ],
             [
              0.3333333333333333,
              "#9c179e"
             ],
             [
              0.4444444444444444,
              "#bd3786"
             ],
             [
              0.5555555555555556,
              "#d8576b"
             ],
             [
              0.6666666666666666,
              "#ed7953"
             ],
             [
              0.7777777777777778,
              "#fb9f3a"
             ],
             [
              0.8888888888888888,
              "#fdca26"
             ],
             [
              1,
              "#f0f921"
             ]
            ],
            "type": "histogram2d"
           }
          ],
          "histogram2dcontour": [
           {
            "colorbar": {
             "outlinewidth": 0,
             "ticks": ""
            },
            "colorscale": [
             [
              0,
              "#0d0887"
             ],
             [
              0.1111111111111111,
              "#46039f"
             ],
             [
              0.2222222222222222,
              "#7201a8"
             ],
             [
              0.3333333333333333,
              "#9c179e"
             ],
             [
              0.4444444444444444,
              "#bd3786"
             ],
             [
              0.5555555555555556,
              "#d8576b"
             ],
             [
              0.6666666666666666,
              "#ed7953"
             ],
             [
              0.7777777777777778,
              "#fb9f3a"
             ],
             [
              0.8888888888888888,
              "#fdca26"
             ],
             [
              1,
              "#f0f921"
             ]
            ],
            "type": "histogram2dcontour"
           }
          ],
          "mesh3d": [
           {
            "colorbar": {
             "outlinewidth": 0,
             "ticks": ""
            },
            "type": "mesh3d"
           }
          ],
          "parcoords": [
           {
            "line": {
             "colorbar": {
              "outlinewidth": 0,
              "ticks": ""
             }
            },
            "type": "parcoords"
           }
          ],
          "pie": [
           {
            "automargin": true,
            "type": "pie"
           }
          ],
          "scatter": [
           {
            "marker": {
             "colorbar": {
              "outlinewidth": 0,
              "ticks": ""
             }
            },
            "type": "scatter"
           }
          ],
          "scatter3d": [
           {
            "line": {
             "colorbar": {
              "outlinewidth": 0,
              "ticks": ""
             }
            },
            "marker": {
             "colorbar": {
              "outlinewidth": 0,
              "ticks": ""
             }
            },
            "type": "scatter3d"
           }
          ],
          "scattercarpet": [
           {
            "marker": {
             "colorbar": {
              "outlinewidth": 0,
              "ticks": ""
             }
            },
            "type": "scattercarpet"
           }
          ],
          "scattergeo": [
           {
            "marker": {
             "colorbar": {
              "outlinewidth": 0,
              "ticks": ""
             }
            },
            "type": "scattergeo"
           }
          ],
          "scattergl": [
           {
            "marker": {
             "colorbar": {
              "outlinewidth": 0,
              "ticks": ""
             }
            },
            "type": "scattergl"
           }
          ],
          "scattermapbox": [
           {
            "marker": {
             "colorbar": {
              "outlinewidth": 0,
              "ticks": ""
             }
            },
            "type": "scattermapbox"
           }
          ],
          "scatterpolar": [
           {
            "marker": {
             "colorbar": {
              "outlinewidth": 0,
              "ticks": ""
             }
            },
            "type": "scatterpolar"
           }
          ],
          "scatterpolargl": [
           {
            "marker": {
             "colorbar": {
              "outlinewidth": 0,
              "ticks": ""
             }
            },
            "type": "scatterpolargl"
           }
          ],
          "scatterternary": [
           {
            "marker": {
             "colorbar": {
              "outlinewidth": 0,
              "ticks": ""
             }
            },
            "type": "scatterternary"
           }
          ],
          "surface": [
           {
            "colorbar": {
             "outlinewidth": 0,
             "ticks": ""
            },
            "colorscale": [
             [
              0,
              "#0d0887"
             ],
             [
              0.1111111111111111,
              "#46039f"
             ],
             [
              0.2222222222222222,
              "#7201a8"
             ],
             [
              0.3333333333333333,
              "#9c179e"
             ],
             [
              0.4444444444444444,
              "#bd3786"
             ],
             [
              0.5555555555555556,
              "#d8576b"
             ],
             [
              0.6666666666666666,
              "#ed7953"
             ],
             [
              0.7777777777777778,
              "#fb9f3a"
             ],
             [
              0.8888888888888888,
              "#fdca26"
             ],
             [
              1,
              "#f0f921"
             ]
            ],
            "type": "surface"
           }
          ],
          "table": [
           {
            "cells": {
             "fill": {
              "color": "#EBF0F8"
             },
             "line": {
              "color": "white"
             }
            },
            "header": {
             "fill": {
              "color": "#C8D4E3"
             },
             "line": {
              "color": "white"
             }
            },
            "type": "table"
           }
          ]
         },
         "layout": {
          "annotationdefaults": {
           "arrowcolor": "#2a3f5f",
           "arrowhead": 0,
           "arrowwidth": 1
          },
          "autotypenumbers": "strict",
          "coloraxis": {
           "colorbar": {
            "outlinewidth": 0,
            "ticks": ""
           }
          },
          "colorscale": {
           "diverging": [
            [
             0,
             "#8e0152"
            ],
            [
             0.1,
             "#c51b7d"
            ],
            [
             0.2,
             "#de77ae"
            ],
            [
             0.3,
             "#f1b6da"
            ],
            [
             0.4,
             "#fde0ef"
            ],
            [
             0.5,
             "#f7f7f7"
            ],
            [
             0.6,
             "#e6f5d0"
            ],
            [
             0.7,
             "#b8e186"
            ],
            [
             0.8,
             "#7fbc41"
            ],
            [
             0.9,
             "#4d9221"
            ],
            [
             1,
             "#276419"
            ]
           ],
           "sequential": [
            [
             0,
             "#0d0887"
            ],
            [
             0.1111111111111111,
             "#46039f"
            ],
            [
             0.2222222222222222,
             "#7201a8"
            ],
            [
             0.3333333333333333,
             "#9c179e"
            ],
            [
             0.4444444444444444,
             "#bd3786"
            ],
            [
             0.5555555555555556,
             "#d8576b"
            ],
            [
             0.6666666666666666,
             "#ed7953"
            ],
            [
             0.7777777777777778,
             "#fb9f3a"
            ],
            [
             0.8888888888888888,
             "#fdca26"
            ],
            [
             1,
             "#f0f921"
            ]
           ],
           "sequentialminus": [
            [
             0,
             "#0d0887"
            ],
            [
             0.1111111111111111,
             "#46039f"
            ],
            [
             0.2222222222222222,
             "#7201a8"
            ],
            [
             0.3333333333333333,
             "#9c179e"
            ],
            [
             0.4444444444444444,
             "#bd3786"
            ],
            [
             0.5555555555555556,
             "#d8576b"
            ],
            [
             0.6666666666666666,
             "#ed7953"
            ],
            [
             0.7777777777777778,
             "#fb9f3a"
            ],
            [
             0.8888888888888888,
             "#fdca26"
            ],
            [
             1,
             "#f0f921"
            ]
           ]
          },
          "colorway": [
           "#636efa",
           "#EF553B",
           "#00cc96",
           "#ab63fa",
           "#FFA15A",
           "#19d3f3",
           "#FF6692",
           "#B6E880",
           "#FF97FF",
           "#FECB52"
          ],
          "font": {
           "color": "#2a3f5f"
          },
          "geo": {
           "bgcolor": "white",
           "lakecolor": "white",
           "landcolor": "#E5ECF6",
           "showlakes": true,
           "showland": true,
           "subunitcolor": "white"
          },
          "hoverlabel": {
           "align": "left"
          },
          "hovermode": "closest",
          "mapbox": {
           "style": "light"
          },
          "paper_bgcolor": "white",
          "plot_bgcolor": "#E5ECF6",
          "polar": {
           "angularaxis": {
            "gridcolor": "white",
            "linecolor": "white",
            "ticks": ""
           },
           "bgcolor": "#E5ECF6",
           "radialaxis": {
            "gridcolor": "white",
            "linecolor": "white",
            "ticks": ""
           }
          },
          "scene": {
           "xaxis": {
            "backgroundcolor": "#E5ECF6",
            "gridcolor": "white",
            "gridwidth": 2,
            "linecolor": "white",
            "showbackground": true,
            "ticks": "",
            "zerolinecolor": "white"
           },
           "yaxis": {
            "backgroundcolor": "#E5ECF6",
            "gridcolor": "white",
            "gridwidth": 2,
            "linecolor": "white",
            "showbackground": true,
            "ticks": "",
            "zerolinecolor": "white"
           },
           "zaxis": {
            "backgroundcolor": "#E5ECF6",
            "gridcolor": "white",
            "gridwidth": 2,
            "linecolor": "white",
            "showbackground": true,
            "ticks": "",
            "zerolinecolor": "white"
           }
          },
          "shapedefaults": {
           "line": {
            "color": "#2a3f5f"
           }
          },
          "ternary": {
           "aaxis": {
            "gridcolor": "white",
            "linecolor": "white",
            "ticks": ""
           },
           "baxis": {
            "gridcolor": "white",
            "linecolor": "white",
            "ticks": ""
           },
           "bgcolor": "#E5ECF6",
           "caxis": {
            "gridcolor": "white",
            "linecolor": "white",
            "ticks": ""
           }
          },
          "title": {
           "x": 0.05
          },
          "xaxis": {
           "automargin": true,
           "gridcolor": "white",
           "linecolor": "white",
           "ticks": "",
           "title": {
            "standoff": 15
           },
           "zerolinecolor": "white",
           "zerolinewidth": 2
          },
          "yaxis": {
           "automargin": true,
           "gridcolor": "white",
           "linecolor": "white",
           "ticks": "",
           "title": {
            "standoff": 15
           },
           "zerolinecolor": "white",
           "zerolinewidth": 2
          }
         }
        },
        "title": {
         "font": {
          "color": "#4D5663"
         }
        },
        "xaxis": {
         "gridcolor": "#E1E5ED",
         "showgrid": true,
         "tickfont": {
          "color": "#4D5663"
         },
         "title": {
          "font": {
           "color": "#4D5663"
          },
          "text": ""
         },
         "zerolinecolor": "#E1E5ED"
        },
        "yaxis": {
         "gridcolor": "#E1E5ED",
         "showgrid": true,
         "tickfont": {
          "color": "#4D5663"
         },
         "title": {
          "font": {
           "color": "#4D5663"
          },
          "text": ""
         },
         "zerolinecolor": "#E1E5ED"
        }
       }
      },
      "text/html": [
       "<div>                            <div id=\"31533a60-6fa5-40e3-8b08-918000b0328f\" class=\"plotly-graph-div\" style=\"height:525px; width:100%;\"></div>            <script type=\"text/javascript\">                require([\"plotly\"], function(Plotly) {                    window.PLOTLYENV=window.PLOTLYENV || {};\n",
       "                    window.PLOTLYENV.BASE_URL='https://plot.ly';                                    if (document.getElementById(\"31533a60-6fa5-40e3-8b08-918000b0328f\")) {                    Plotly.newPlot(                        \"31533a60-6fa5-40e3-8b08-918000b0328f\",                        [{\"marker\":{\"color\":\"rgba(255, 153, 51, 0.6)\",\"line\":{\"color\":\"rgba(255, 153, 51, 1.0)\",\"width\":1}},\"name\":\"A\",\"orientation\":\"v\",\"text\":\"\",\"x\":[0,1,2,3,4,5,6,7,8,9,10,11,12,13,14,15,16,17,18,19,20,21,22,23,24,25,26,27,28,29,30,31,32,33,34,35,36,37,38,39,40,41,42,43,44,45,46,47,48,49,50,51,52,53,54,55,56,57,58,59,60,61,62,63,64,65,66,67,68,69,70,71,72,73,74,75,76,77,78,79,80,81,82,83,84,85,86,87,88,89,90,91,92,93,94,95,96,97,98,99],\"y\":[-1.727725252579994,-0.6523954972283168,1.7111687573755276,1.8854926884160432,0.2797752300463759,-0.12278394235318713,-2.4629864633042837,-0.78629519698013,1.5013687819523045,0.5778433356227098,-2.1250130799216187,0.3074884774377496,-0.39557538193393044,-0.7210189703241677,0.6061344398049183,0.7253202601114827,0.7539556248165138,-0.6899826023857759,-1.9861820267153667,2.4724627179818857,-1.4921740674205082,0.21778649632986308,-1.2225982276441731,0.3022845411813817,0.5009163667793719,-0.27518666748581294,0.3332232948659106,0.5530183129927184,2.1813543514946936,2.3674713894348414,0.4040344645695381,0.1038752830651099,0.8189814485190792,0.6565628023965491,0.9649713911033581,0.4770077483354942,-1.1877719893116574,-0.3185818235127667,-0.4156429945784772,0.09263219619292881,1.1664812938353366,-1.664581973843618,0.8941099556511569,-0.059261618500232864,-0.42899090930167383,1.4204537434359545,-1.9614667808680513,0.5392218409350615,0.47024725448087334,1.1467256719334287,0.6683405973503002,-0.1653528442340094,0.2720390477214452,-0.6859510913281808,0.873018803874626,-0.4897179349388602,0.2791268821380968,-0.01369544344158681,0.9219045630189825,-0.17979824847298675,-1.4115107328459895,-0.4411751400820583,-0.13716549658502647,1.0502522594862551,-0.19931089910380348,1.2830450947207823,-0.7369514961753213,-0.43860412360855694,1.0940477429003814,0.8058780282388065,-0.2924536277044239,2.852728649349453,0.04370968310871116,-0.8464521149500591,2.28771812749006,0.010509765405440371,-1.4659896454578434,0.36111835740287185,1.080204647892336,0.21540806709294769,-1.2746246503442467,-0.7772846266240038,1.0151964174987262,-0.06308949328548494,0.6685557331125359,1.613021300620463,0.47658038207031683,-0.0906659850021094,-0.2727332447383256,-1.1830977459293435,1.5018775786963818,1.1466140817409018,-0.5606275116117502,-0.10446970457486329,0.3496968132069453,-0.6288080145360863,0.17515626102678597,0.4300673887181837,-0.1627117716049884,-1.1241376448948244],\"type\":\"bar\"},{\"marker\":{\"color\":\"rgba(55, 128, 191, 0.6)\",\"line\":{\"color\":\"rgba(55, 128, 191, 1.0)\",\"width\":1}},\"name\":\"B\",\"orientation\":\"v\",\"text\":\"\",\"x\":[0,1,2,3,4,5,6,7,8,9,10,11,12,13,14,15,16,17,18,19,20,21,22,23,24,25,26,27,28,29,30,31,32,33,34,35,36,37,38,39,40,41,42,43,44,45,46,47,48,49,50,51,52,53,54,55,56,57,58,59,60,61,62,63,64,65,66,67,68,69,70,71,72,73,74,75,76,77,78,79,80,81,82,83,84,85,86,87,88,89,90,91,92,93,94,95,96,97,98,99],\"y\":[-0.35927390814104476,0.27484927832288925,-1.8402446516963689,0.4198969961056575,0.4408799218403844,-0.665006993082131,0.46215986015186405,0.5573938040479566,0.6821486464071536,-0.43277368434188607,-1.2513044483714728,-0.11800881518163064,0.4836095280558225,0.7198624924810973,0.769734040934067,0.32344267033603896,-0.5870259090687044,1.3764179686571287,0.5414625905049074,-0.598832443850317,-0.3195569510147842,1.2187240035662579,1.7219914761158468,1.0019398201832288,1.2712216685342188,-0.15169413108128366,-2.0769689079471245,-0.24617444450180453,0.2170377560005709,-0.2729310917822944,1.0580304337908448,0.49066385442413696,-0.0634690171707887,0.8761236894078324,-1.156182292111743,-1.7239496549607745,0.39963598889609775,-1.2405253270562735,-1.0844575996887613,0.9674204439722415,-2.3541883593272517,0.8451426886740392,0.48949596951889196,-1.048367046734212,-1.7815751279077898,0.09603552656022948,1.022949626357811,-1.0023988657385754,1.426874982960192,1.3283805405466318,-0.6826435013929715,-0.06948124309346751,1.197488186443602,1.2254917825595262,-1.0980833401848957,-1.2936343077373555,1.1510079929317878,0.8458703244821476,-1.2145888081746545,-0.8788190625374599,-1.5966273166290912,-0.7875422511564634,-0.1341321161518695,-1.4763238379407928,0.20797838521634457,-0.8900356418694271,-0.03371763647518824,0.7039356095584622,0.04616317679909543,0.6189737947401249,-0.020343437881330532,0.5241198908709517,-0.7207502317444129,-0.5982659043959154,-0.9178947753869992,1.2093861312135417,0.8309601781784342,0.5021465962618618,0.7693337137248092,0.8802821133026897,0.8837223679022095,0.4640030703367322,0.4763622196705976,1.4159694950025428,-0.29871965306664355,-0.8294071562311018,2.3446506464640398,-1.8637575195725096,-0.9628217613471104,-0.8981321973001141,-1.2529064074869203,-0.9883955824352328,0.3543575984448734,-0.9402400967736599,0.27223807132119077,-2.1523011662984852,1.692728902747629,-1.41854939516216,-0.2837856089408107,-2.0512938927588813],\"type\":\"bar\"},{\"marker\":{\"color\":\"rgba(50, 171, 96, 0.6)\",\"line\":{\"color\":\"rgba(50, 171, 96, 1.0)\",\"width\":1}},\"name\":\"C\",\"orientation\":\"v\",\"text\":\"\",\"x\":[0,1,2,3,4,5,6,7,8,9,10,11,12,13,14,15,16,17,18,19,20,21,22,23,24,25,26,27,28,29,30,31,32,33,34,35,36,37,38,39,40,41,42,43,44,45,46,47,48,49,50,51,52,53,54,55,56,57,58,59,60,61,62,63,64,65,66,67,68,69,70,71,72,73,74,75,76,77,78,79,80,81,82,83,84,85,86,87,88,89,90,91,92,93,94,95,96,97,98,99],\"y\":[-0.8576600851820129,-0.5750127788884318,0.05443737876004868,0.7852219652757143,-0.4815487628257627,0.04459261934043061,-0.06139117924853256,0.20633355242056056,0.3062438902586826,1.3296776414925178,-0.7677373671277309,-0.006243911503915224,1.1498310264509497,0.18172294440474673,-0.19866413611852404,-0.8526807024276805,0.699245848585638,2.3023684100320927,-0.9026964338652707,-2.126841132369603,-0.842454782703909,0.6287313876116941,0.6682264230511928,-0.1769443401341622,0.26285762319922845,-1.9182082898691377,-0.35284934610786284,0.10958556503104956,-0.39624950688927235,0.31471637953316495,-0.6383841995137576,2.1191646816111716,0.1071863837033177,-1.0993467054046555,-1.1851231161420908,0.9078673017445265,-0.9240942974216836,1.1082905281639326,0.5761749525009726,-0.5528240035959081,-1.08319747021649,-0.3976494677458565,-0.1518796496642728,1.057216241490009,0.0864398733826944,0.3100534812829789,-0.6269403739297886,-0.04947723555628706,-0.9613648546663213,0.8097916556373664,-0.4449950508578437,0.1853574945940702,-0.40107114793418475,-1.003082928001767,-0.752919299080358,-0.5950415455443309,-0.28500485049306346,0.22621527955495616,-1.4791742950433293,0.0863555425022727,-1.477818299284184,0.3181940813153153,-1.852121414840407,-0.5261400848800919,-0.19445599174652403,1.2692789684904169,0.9994959914342512,0.6236723493406674,0.6178352553527662,0.01180667443335035,-0.7145856073326051,-0.21614168674591627,0.47703388972485505,0.8951840409390931,0.12843544193826878,0.5830450541273284,-0.5229493660653698,0.1806833566529037,1.2369892036717165,1.5121942236516193,-1.0073202348756185,-0.561204749188291,-0.20193194149857496,-0.08287312206897211,0.8298502678698525,1.0807107053419196,-0.9480437842389379,0.19593365881638544,-0.07374676095263155,-1.20932451397519,-1.431085577517493,1.816668237644611,-0.3765677734224466,0.7154783027959628,1.4930900832089968,0.20413077793277046,-1.1301792997773459,0.536724977053704,1.1284546732489456,-0.45357490395777833],\"type\":\"bar\"},{\"marker\":{\"color\":\"rgba(128, 0, 128, 0.6)\",\"line\":{\"color\":\"rgba(128, 0, 128, 1.0)\",\"width\":1}},\"name\":\"D\",\"orientation\":\"v\",\"text\":\"\",\"x\":[0,1,2,3,4,5,6,7,8,9,10,11,12,13,14,15,16,17,18,19,20,21,22,23,24,25,26,27,28,29,30,31,32,33,34,35,36,37,38,39,40,41,42,43,44,45,46,47,48,49,50,51,52,53,54,55,56,57,58,59,60,61,62,63,64,65,66,67,68,69,70,71,72,73,74,75,76,77,78,79,80,81,82,83,84,85,86,87,88,89,90,91,92,93,94,95,96,97,98,99],\"y\":[-0.4965581735356254,-1.3538967874345176,-0.17223560818573722,1.6231579665908973,1.7335446296311334,-0.2030650778601564,-0.8452123865917006,1.0521305282835511,1.0398148392863902,-0.050987236786020504,-0.57258304732208,0.04327595603432784,-1.3940547164717714,-0.7525124487105035,-0.07855624829631365,-1.1287941535485626,0.04187240456777008,1.4784163179354148,0.37467197907364774,-0.7017974813352993,-0.15403843626666303,-0.5716045712901606,-0.15591731115513588,1.0827404114215546,0.06824294928725971,-0.6664063407263672,0.058527585690782445,-0.9858046686548356,-0.6166101461902966,-1.1015216262366498,0.48213629877689473,0.7272580763180592,1.1927992467132755,0.007447607351678447,0.9569922129220856,-1.1567796253878748,-0.1064287862458562,0.13029253387854112,0.035064494826886665,0.007923565519073762,0.6666927681045107,-0.2975599094544142,0.5143305432258334,-0.5314002154044901,0.9862378459404866,-0.8561390311252871,-0.08201694272839874,0.658484445292848,-1.1019741335941395,1.7357110245871454,-0.11175638362924363,1.4145749280314097,0.0053422645864003295,-0.04697930289317601,-0.7801131973483182,-1.1054144127714947,-0.3191975559484706,2.1400811034734475,-0.28546278269794334,-0.026399679763879018,-0.13923411297599422,0.5953884586032037,-0.6078720153987348,0.4475031099532303,1.3609915633404095,-0.3970043698105668,-1.483018792788209,-0.5391846912785562,-0.9115268037798887,0.15120485573677836,1.188222846229542,-0.9754873702920279,0.6138966578280636,-0.7061571324872323,-0.03124596441063452,0.2649153628508299,-0.27760614222920704,1.0501757511701886,-1.6212716213140699,-0.8593940651917895,-0.4191976458232712,-0.7588387619889834,0.04786717019872002,-1.491149338625276,0.5932183950134358,0.6539229166253674,0.6982652058189514,0.6481823342092639,-1.0097184189627435,-0.7995847706776723,-1.1795007881349875,-1.2948637331231025,0.9988398953252201,0.811056302157581,-0.498460662658745,-0.28272291971528696,-0.5413007010612112,0.7831871945780672,-0.7738786516659488,-0.2820191552854569],\"type\":\"bar\"}],                        {\"legend\":{\"bgcolor\":\"#F5F6F9\",\"font\":{\"color\":\"#4D5663\"}},\"paper_bgcolor\":\"#F5F6F9\",\"plot_bgcolor\":\"#F5F6F9\",\"template\":{\"data\":{\"barpolar\":[{\"marker\":{\"line\":{\"color\":\"#E5ECF6\",\"width\":0.5},\"pattern\":{\"fillmode\":\"overlay\",\"size\":10,\"solidity\":0.2}},\"type\":\"barpolar\"}],\"bar\":[{\"error_x\":{\"color\":\"#2a3f5f\"},\"error_y\":{\"color\":\"#2a3f5f\"},\"marker\":{\"line\":{\"color\":\"#E5ECF6\",\"width\":0.5},\"pattern\":{\"fillmode\":\"overlay\",\"size\":10,\"solidity\":0.2}},\"type\":\"bar\"}],\"carpet\":[{\"aaxis\":{\"endlinecolor\":\"#2a3f5f\",\"gridcolor\":\"white\",\"linecolor\":\"white\",\"minorgridcolor\":\"white\",\"startlinecolor\":\"#2a3f5f\"},\"baxis\":{\"endlinecolor\":\"#2a3f5f\",\"gridcolor\":\"white\",\"linecolor\":\"white\",\"minorgridcolor\":\"white\",\"startlinecolor\":\"#2a3f5f\"},\"type\":\"carpet\"}],\"choropleth\":[{\"colorbar\":{\"outlinewidth\":0,\"ticks\":\"\"},\"type\":\"choropleth\"}],\"contourcarpet\":[{\"colorbar\":{\"outlinewidth\":0,\"ticks\":\"\"},\"type\":\"contourcarpet\"}],\"contour\":[{\"colorbar\":{\"outlinewidth\":0,\"ticks\":\"\"},\"colorscale\":[[0.0,\"#0d0887\"],[0.1111111111111111,\"#46039f\"],[0.2222222222222222,\"#7201a8\"],[0.3333333333333333,\"#9c179e\"],[0.4444444444444444,\"#bd3786\"],[0.5555555555555556,\"#d8576b\"],[0.6666666666666666,\"#ed7953\"],[0.7777777777777778,\"#fb9f3a\"],[0.8888888888888888,\"#fdca26\"],[1.0,\"#f0f921\"]],\"type\":\"contour\"}],\"heatmapgl\":[{\"colorbar\":{\"outlinewidth\":0,\"ticks\":\"\"},\"colorscale\":[[0.0,\"#0d0887\"],[0.1111111111111111,\"#46039f\"],[0.2222222222222222,\"#7201a8\"],[0.3333333333333333,\"#9c179e\"],[0.4444444444444444,\"#bd3786\"],[0.5555555555555556,\"#d8576b\"],[0.6666666666666666,\"#ed7953\"],[0.7777777777777778,\"#fb9f3a\"],[0.8888888888888888,\"#fdca26\"],[1.0,\"#f0f921\"]],\"type\":\"heatmapgl\"}],\"heatmap\":[{\"colorbar\":{\"outlinewidth\":0,\"ticks\":\"\"},\"colorscale\":[[0.0,\"#0d0887\"],[0.1111111111111111,\"#46039f\"],[0.2222222222222222,\"#7201a8\"],[0.3333333333333333,\"#9c179e\"],[0.4444444444444444,\"#bd3786\"],[0.5555555555555556,\"#d8576b\"],[0.6666666666666666,\"#ed7953\"],[0.7777777777777778,\"#fb9f3a\"],[0.8888888888888888,\"#fdca26\"],[1.0,\"#f0f921\"]],\"type\":\"heatmap\"}],\"histogram2dcontour\":[{\"colorbar\":{\"outlinewidth\":0,\"ticks\":\"\"},\"colorscale\":[[0.0,\"#0d0887\"],[0.1111111111111111,\"#46039f\"],[0.2222222222222222,\"#7201a8\"],[0.3333333333333333,\"#9c179e\"],[0.4444444444444444,\"#bd3786\"],[0.5555555555555556,\"#d8576b\"],[0.6666666666666666,\"#ed7953\"],[0.7777777777777778,\"#fb9f3a\"],[0.8888888888888888,\"#fdca26\"],[1.0,\"#f0f921\"]],\"type\":\"histogram2dcontour\"}],\"histogram2d\":[{\"colorbar\":{\"outlinewidth\":0,\"ticks\":\"\"},\"colorscale\":[[0.0,\"#0d0887\"],[0.1111111111111111,\"#46039f\"],[0.2222222222222222,\"#7201a8\"],[0.3333333333333333,\"#9c179e\"],[0.4444444444444444,\"#bd3786\"],[0.5555555555555556,\"#d8576b\"],[0.6666666666666666,\"#ed7953\"],[0.7777777777777778,\"#fb9f3a\"],[0.8888888888888888,\"#fdca26\"],[1.0,\"#f0f921\"]],\"type\":\"histogram2d\"}],\"histogram\":[{\"marker\":{\"pattern\":{\"fillmode\":\"overlay\",\"size\":10,\"solidity\":0.2}},\"type\":\"histogram\"}],\"mesh3d\":[{\"colorbar\":{\"outlinewidth\":0,\"ticks\":\"\"},\"type\":\"mesh3d\"}],\"parcoords\":[{\"line\":{\"colorbar\":{\"outlinewidth\":0,\"ticks\":\"\"}},\"type\":\"parcoords\"}],\"pie\":[{\"automargin\":true,\"type\":\"pie\"}],\"scatter3d\":[{\"line\":{\"colorbar\":{\"outlinewidth\":0,\"ticks\":\"\"}},\"marker\":{\"colorbar\":{\"outlinewidth\":0,\"ticks\":\"\"}},\"type\":\"scatter3d\"}],\"scattercarpet\":[{\"marker\":{\"colorbar\":{\"outlinewidth\":0,\"ticks\":\"\"}},\"type\":\"scattercarpet\"}],\"scattergeo\":[{\"marker\":{\"colorbar\":{\"outlinewidth\":0,\"ticks\":\"\"}},\"type\":\"scattergeo\"}],\"scattergl\":[{\"marker\":{\"colorbar\":{\"outlinewidth\":0,\"ticks\":\"\"}},\"type\":\"scattergl\"}],\"scattermapbox\":[{\"marker\":{\"colorbar\":{\"outlinewidth\":0,\"ticks\":\"\"}},\"type\":\"scattermapbox\"}],\"scatterpolargl\":[{\"marker\":{\"colorbar\":{\"outlinewidth\":0,\"ticks\":\"\"}},\"type\":\"scatterpolargl\"}],\"scatterpolar\":[{\"marker\":{\"colorbar\":{\"outlinewidth\":0,\"ticks\":\"\"}},\"type\":\"scatterpolar\"}],\"scatter\":[{\"marker\":{\"colorbar\":{\"outlinewidth\":0,\"ticks\":\"\"}},\"type\":\"scatter\"}],\"scatterternary\":[{\"marker\":{\"colorbar\":{\"outlinewidth\":0,\"ticks\":\"\"}},\"type\":\"scatterternary\"}],\"surface\":[{\"colorbar\":{\"outlinewidth\":0,\"ticks\":\"\"},\"colorscale\":[[0.0,\"#0d0887\"],[0.1111111111111111,\"#46039f\"],[0.2222222222222222,\"#7201a8\"],[0.3333333333333333,\"#9c179e\"],[0.4444444444444444,\"#bd3786\"],[0.5555555555555556,\"#d8576b\"],[0.6666666666666666,\"#ed7953\"],[0.7777777777777778,\"#fb9f3a\"],[0.8888888888888888,\"#fdca26\"],[1.0,\"#f0f921\"]],\"type\":\"surface\"}],\"table\":[{\"cells\":{\"fill\":{\"color\":\"#EBF0F8\"},\"line\":{\"color\":\"white\"}},\"header\":{\"fill\":{\"color\":\"#C8D4E3\"},\"line\":{\"color\":\"white\"}},\"type\":\"table\"}]},\"layout\":{\"annotationdefaults\":{\"arrowcolor\":\"#2a3f5f\",\"arrowhead\":0,\"arrowwidth\":1},\"autotypenumbers\":\"strict\",\"coloraxis\":{\"colorbar\":{\"outlinewidth\":0,\"ticks\":\"\"}},\"colorscale\":{\"diverging\":[[0,\"#8e0152\"],[0.1,\"#c51b7d\"],[0.2,\"#de77ae\"],[0.3,\"#f1b6da\"],[0.4,\"#fde0ef\"],[0.5,\"#f7f7f7\"],[0.6,\"#e6f5d0\"],[0.7,\"#b8e186\"],[0.8,\"#7fbc41\"],[0.9,\"#4d9221\"],[1,\"#276419\"]],\"sequential\":[[0.0,\"#0d0887\"],[0.1111111111111111,\"#46039f\"],[0.2222222222222222,\"#7201a8\"],[0.3333333333333333,\"#9c179e\"],[0.4444444444444444,\"#bd3786\"],[0.5555555555555556,\"#d8576b\"],[0.6666666666666666,\"#ed7953\"],[0.7777777777777778,\"#fb9f3a\"],[0.8888888888888888,\"#fdca26\"],[1.0,\"#f0f921\"]],\"sequentialminus\":[[0.0,\"#0d0887\"],[0.1111111111111111,\"#46039f\"],[0.2222222222222222,\"#7201a8\"],[0.3333333333333333,\"#9c179e\"],[0.4444444444444444,\"#bd3786\"],[0.5555555555555556,\"#d8576b\"],[0.6666666666666666,\"#ed7953\"],[0.7777777777777778,\"#fb9f3a\"],[0.8888888888888888,\"#fdca26\"],[1.0,\"#f0f921\"]]},\"colorway\":[\"#636efa\",\"#EF553B\",\"#00cc96\",\"#ab63fa\",\"#FFA15A\",\"#19d3f3\",\"#FF6692\",\"#B6E880\",\"#FF97FF\",\"#FECB52\"],\"font\":{\"color\":\"#2a3f5f\"},\"geo\":{\"bgcolor\":\"white\",\"lakecolor\":\"white\",\"landcolor\":\"#E5ECF6\",\"showlakes\":true,\"showland\":true,\"subunitcolor\":\"white\"},\"hoverlabel\":{\"align\":\"left\"},\"hovermode\":\"closest\",\"mapbox\":{\"style\":\"light\"},\"paper_bgcolor\":\"white\",\"plot_bgcolor\":\"#E5ECF6\",\"polar\":{\"angularaxis\":{\"gridcolor\":\"white\",\"linecolor\":\"white\",\"ticks\":\"\"},\"bgcolor\":\"#E5ECF6\",\"radialaxis\":{\"gridcolor\":\"white\",\"linecolor\":\"white\",\"ticks\":\"\"}},\"scene\":{\"xaxis\":{\"backgroundcolor\":\"#E5ECF6\",\"gridcolor\":\"white\",\"gridwidth\":2,\"linecolor\":\"white\",\"showbackground\":true,\"ticks\":\"\",\"zerolinecolor\":\"white\"},\"yaxis\":{\"backgroundcolor\":\"#E5ECF6\",\"gridcolor\":\"white\",\"gridwidth\":2,\"linecolor\":\"white\",\"showbackground\":true,\"ticks\":\"\",\"zerolinecolor\":\"white\"},\"zaxis\":{\"backgroundcolor\":\"#E5ECF6\",\"gridcolor\":\"white\",\"gridwidth\":2,\"linecolor\":\"white\",\"showbackground\":true,\"ticks\":\"\",\"zerolinecolor\":\"white\"}},\"shapedefaults\":{\"line\":{\"color\":\"#2a3f5f\"}},\"ternary\":{\"aaxis\":{\"gridcolor\":\"white\",\"linecolor\":\"white\",\"ticks\":\"\"},\"baxis\":{\"gridcolor\":\"white\",\"linecolor\":\"white\",\"ticks\":\"\"},\"bgcolor\":\"#E5ECF6\",\"caxis\":{\"gridcolor\":\"white\",\"linecolor\":\"white\",\"ticks\":\"\"}},\"title\":{\"x\":0.05},\"xaxis\":{\"automargin\":true,\"gridcolor\":\"white\",\"linecolor\":\"white\",\"ticks\":\"\",\"title\":{\"standoff\":15},\"zerolinecolor\":\"white\",\"zerolinewidth\":2},\"yaxis\":{\"automargin\":true,\"gridcolor\":\"white\",\"linecolor\":\"white\",\"ticks\":\"\",\"title\":{\"standoff\":15},\"zerolinecolor\":\"white\",\"zerolinewidth\":2}}},\"title\":{\"font\":{\"color\":\"#4D5663\"}},\"xaxis\":{\"gridcolor\":\"#E1E5ED\",\"showgrid\":true,\"tickfont\":{\"color\":\"#4D5663\"},\"title\":{\"font\":{\"color\":\"#4D5663\"},\"text\":\"\"},\"zerolinecolor\":\"#E1E5ED\"},\"yaxis\":{\"gridcolor\":\"#E1E5ED\",\"showgrid\":true,\"tickfont\":{\"color\":\"#4D5663\"},\"title\":{\"font\":{\"color\":\"#4D5663\"},\"text\":\"\"},\"zerolinecolor\":\"#E1E5ED\"}},                        {\"showLink\": true, \"linkText\": \"Export to plot.ly\", \"plotlyServerURL\": \"https://plot.ly\", \"responsive\": true}                    ).then(function(){\n",
       "                            \n",
       "var gd = document.getElementById('31533a60-6fa5-40e3-8b08-918000b0328f');\n",
       "var x = new MutationObserver(function (mutations, observer) {{\n",
       "        var display = window.getComputedStyle(gd).display;\n",
       "        if (!display || display === 'none') {{\n",
       "            console.log([gd, 'removed!']);\n",
       "            Plotly.purge(gd);\n",
       "            observer.disconnect();\n",
       "        }}\n",
       "}});\n",
       "\n",
       "// Listen for the removal of the full notebook cells\n",
       "var notebookContainer = gd.closest('#notebook-container');\n",
       "if (notebookContainer) {{\n",
       "    x.observe(notebookContainer, {childList: true});\n",
       "}}\n",
       "\n",
       "// Listen for the clearing of the current output cell\n",
       "var outputEl = gd.closest('.output');\n",
       "if (outputEl) {{\n",
       "    x.observe(outputEl, {childList: true});\n",
       "}}\n",
       "\n",
       "                        })                };                });            </script>        </div>"
      ]
     },
     "metadata": {},
     "output_type": "display_data"
    }
   ],
   "source": [
    "df.iplot(kind='bar')"
   ]
  },
  {
   "cell_type": "code",
   "execution_count": 20,
   "metadata": {},
   "outputs": [
    {
     "data": {
      "text/plain": [
       "A    100\n",
       "B    100\n",
       "C    100\n",
       "D    100\n",
       "dtype: int64"
      ]
     },
     "execution_count": 20,
     "metadata": {},
     "output_type": "execute_result"
    }
   ],
   "source": [
    "df.count()"
   ]
  },
  {
   "cell_type": "code",
   "execution_count": 22,
   "metadata": {
    "jupyter": {
     "outputs_hidden": false
    }
   },
   "outputs": [
    {
     "data": {
      "application/vnd.plotly.v1+json": {
       "config": {
        "linkText": "Export to plot.ly",
        "plotlyServerURL": "https://plot.ly",
        "showLink": true
       },
       "data": [
        {
         "marker": {
          "color": "rgba(255, 153, 51, 0.6)",
          "line": {
           "color": "rgba(255, 153, 51, 1.0)",
           "width": 1
          }
         },
         "name": "None",
         "orientation": "v",
         "text": "",
         "type": "bar",
         "x": [
          "A",
          "B",
          "C",
          "D"
         ],
         "y": [
          100,
          100,
          100,
          100
         ]
        }
       ],
       "layout": {
        "legend": {
         "bgcolor": "#F5F6F9",
         "font": {
          "color": "#4D5663"
         }
        },
        "paper_bgcolor": "#F5F6F9",
        "plot_bgcolor": "#F5F6F9",
        "template": {
         "data": {
          "bar": [
           {
            "error_x": {
             "color": "#2a3f5f"
            },
            "error_y": {
             "color": "#2a3f5f"
            },
            "marker": {
             "line": {
              "color": "#E5ECF6",
              "width": 0.5
             },
             "pattern": {
              "fillmode": "overlay",
              "size": 10,
              "solidity": 0.2
             }
            },
            "type": "bar"
           }
          ],
          "barpolar": [
           {
            "marker": {
             "line": {
              "color": "#E5ECF6",
              "width": 0.5
             },
             "pattern": {
              "fillmode": "overlay",
              "size": 10,
              "solidity": 0.2
             }
            },
            "type": "barpolar"
           }
          ],
          "carpet": [
           {
            "aaxis": {
             "endlinecolor": "#2a3f5f",
             "gridcolor": "white",
             "linecolor": "white",
             "minorgridcolor": "white",
             "startlinecolor": "#2a3f5f"
            },
            "baxis": {
             "endlinecolor": "#2a3f5f",
             "gridcolor": "white",
             "linecolor": "white",
             "minorgridcolor": "white",
             "startlinecolor": "#2a3f5f"
            },
            "type": "carpet"
           }
          ],
          "choropleth": [
           {
            "colorbar": {
             "outlinewidth": 0,
             "ticks": ""
            },
            "type": "choropleth"
           }
          ],
          "contour": [
           {
            "colorbar": {
             "outlinewidth": 0,
             "ticks": ""
            },
            "colorscale": [
             [
              0,
              "#0d0887"
             ],
             [
              0.1111111111111111,
              "#46039f"
             ],
             [
              0.2222222222222222,
              "#7201a8"
             ],
             [
              0.3333333333333333,
              "#9c179e"
             ],
             [
              0.4444444444444444,
              "#bd3786"
             ],
             [
              0.5555555555555556,
              "#d8576b"
             ],
             [
              0.6666666666666666,
              "#ed7953"
             ],
             [
              0.7777777777777778,
              "#fb9f3a"
             ],
             [
              0.8888888888888888,
              "#fdca26"
             ],
             [
              1,
              "#f0f921"
             ]
            ],
            "type": "contour"
           }
          ],
          "contourcarpet": [
           {
            "colorbar": {
             "outlinewidth": 0,
             "ticks": ""
            },
            "type": "contourcarpet"
           }
          ],
          "heatmap": [
           {
            "colorbar": {
             "outlinewidth": 0,
             "ticks": ""
            },
            "colorscale": [
             [
              0,
              "#0d0887"
             ],
             [
              0.1111111111111111,
              "#46039f"
             ],
             [
              0.2222222222222222,
              "#7201a8"
             ],
             [
              0.3333333333333333,
              "#9c179e"
             ],
             [
              0.4444444444444444,
              "#bd3786"
             ],
             [
              0.5555555555555556,
              "#d8576b"
             ],
             [
              0.6666666666666666,
              "#ed7953"
             ],
             [
              0.7777777777777778,
              "#fb9f3a"
             ],
             [
              0.8888888888888888,
              "#fdca26"
             ],
             [
              1,
              "#f0f921"
             ]
            ],
            "type": "heatmap"
           }
          ],
          "heatmapgl": [
           {
            "colorbar": {
             "outlinewidth": 0,
             "ticks": ""
            },
            "colorscale": [
             [
              0,
              "#0d0887"
             ],
             [
              0.1111111111111111,
              "#46039f"
             ],
             [
              0.2222222222222222,
              "#7201a8"
             ],
             [
              0.3333333333333333,
              "#9c179e"
             ],
             [
              0.4444444444444444,
              "#bd3786"
             ],
             [
              0.5555555555555556,
              "#d8576b"
             ],
             [
              0.6666666666666666,
              "#ed7953"
             ],
             [
              0.7777777777777778,
              "#fb9f3a"
             ],
             [
              0.8888888888888888,
              "#fdca26"
             ],
             [
              1,
              "#f0f921"
             ]
            ],
            "type": "heatmapgl"
           }
          ],
          "histogram": [
           {
            "marker": {
             "pattern": {
              "fillmode": "overlay",
              "size": 10,
              "solidity": 0.2
             }
            },
            "type": "histogram"
           }
          ],
          "histogram2d": [
           {
            "colorbar": {
             "outlinewidth": 0,
             "ticks": ""
            },
            "colorscale": [
             [
              0,
              "#0d0887"
             ],
             [
              0.1111111111111111,
              "#46039f"
             ],
             [
              0.2222222222222222,
              "#7201a8"
             ],
             [
              0.3333333333333333,
              "#9c179e"
             ],
             [
              0.4444444444444444,
              "#bd3786"
             ],
             [
              0.5555555555555556,
              "#d8576b"
             ],
             [
              0.6666666666666666,
              "#ed7953"
             ],
             [
              0.7777777777777778,
              "#fb9f3a"
             ],
             [
              0.8888888888888888,
              "#fdca26"
             ],
             [
              1,
              "#f0f921"
             ]
            ],
            "type": "histogram2d"
           }
          ],
          "histogram2dcontour": [
           {
            "colorbar": {
             "outlinewidth": 0,
             "ticks": ""
            },
            "colorscale": [
             [
              0,
              "#0d0887"
             ],
             [
              0.1111111111111111,
              "#46039f"
             ],
             [
              0.2222222222222222,
              "#7201a8"
             ],
             [
              0.3333333333333333,
              "#9c179e"
             ],
             [
              0.4444444444444444,
              "#bd3786"
             ],
             [
              0.5555555555555556,
              "#d8576b"
             ],
             [
              0.6666666666666666,
              "#ed7953"
             ],
             [
              0.7777777777777778,
              "#fb9f3a"
             ],
             [
              0.8888888888888888,
              "#fdca26"
             ],
             [
              1,
              "#f0f921"
             ]
            ],
            "type": "histogram2dcontour"
           }
          ],
          "mesh3d": [
           {
            "colorbar": {
             "outlinewidth": 0,
             "ticks": ""
            },
            "type": "mesh3d"
           }
          ],
          "parcoords": [
           {
            "line": {
             "colorbar": {
              "outlinewidth": 0,
              "ticks": ""
             }
            },
            "type": "parcoords"
           }
          ],
          "pie": [
           {
            "automargin": true,
            "type": "pie"
           }
          ],
          "scatter": [
           {
            "marker": {
             "colorbar": {
              "outlinewidth": 0,
              "ticks": ""
             }
            },
            "type": "scatter"
           }
          ],
          "scatter3d": [
           {
            "line": {
             "colorbar": {
              "outlinewidth": 0,
              "ticks": ""
             }
            },
            "marker": {
             "colorbar": {
              "outlinewidth": 0,
              "ticks": ""
             }
            },
            "type": "scatter3d"
           }
          ],
          "scattercarpet": [
           {
            "marker": {
             "colorbar": {
              "outlinewidth": 0,
              "ticks": ""
             }
            },
            "type": "scattercarpet"
           }
          ],
          "scattergeo": [
           {
            "marker": {
             "colorbar": {
              "outlinewidth": 0,
              "ticks": ""
             }
            },
            "type": "scattergeo"
           }
          ],
          "scattergl": [
           {
            "marker": {
             "colorbar": {
              "outlinewidth": 0,
              "ticks": ""
             }
            },
            "type": "scattergl"
           }
          ],
          "scattermapbox": [
           {
            "marker": {
             "colorbar": {
              "outlinewidth": 0,
              "ticks": ""
             }
            },
            "type": "scattermapbox"
           }
          ],
          "scatterpolar": [
           {
            "marker": {
             "colorbar": {
              "outlinewidth": 0,
              "ticks": ""
             }
            },
            "type": "scatterpolar"
           }
          ],
          "scatterpolargl": [
           {
            "marker": {
             "colorbar": {
              "outlinewidth": 0,
              "ticks": ""
             }
            },
            "type": "scatterpolargl"
           }
          ],
          "scatterternary": [
           {
            "marker": {
             "colorbar": {
              "outlinewidth": 0,
              "ticks": ""
             }
            },
            "type": "scatterternary"
           }
          ],
          "surface": [
           {
            "colorbar": {
             "outlinewidth": 0,
             "ticks": ""
            },
            "colorscale": [
             [
              0,
              "#0d0887"
             ],
             [
              0.1111111111111111,
              "#46039f"
             ],
             [
              0.2222222222222222,
              "#7201a8"
             ],
             [
              0.3333333333333333,
              "#9c179e"
             ],
             [
              0.4444444444444444,
              "#bd3786"
             ],
             [
              0.5555555555555556,
              "#d8576b"
             ],
             [
              0.6666666666666666,
              "#ed7953"
             ],
             [
              0.7777777777777778,
              "#fb9f3a"
             ],
             [
              0.8888888888888888,
              "#fdca26"
             ],
             [
              1,
              "#f0f921"
             ]
            ],
            "type": "surface"
           }
          ],
          "table": [
           {
            "cells": {
             "fill": {
              "color": "#EBF0F8"
             },
             "line": {
              "color": "white"
             }
            },
            "header": {
             "fill": {
              "color": "#C8D4E3"
             },
             "line": {
              "color": "white"
             }
            },
            "type": "table"
           }
          ]
         },
         "layout": {
          "annotationdefaults": {
           "arrowcolor": "#2a3f5f",
           "arrowhead": 0,
           "arrowwidth": 1
          },
          "autotypenumbers": "strict",
          "coloraxis": {
           "colorbar": {
            "outlinewidth": 0,
            "ticks": ""
           }
          },
          "colorscale": {
           "diverging": [
            [
             0,
             "#8e0152"
            ],
            [
             0.1,
             "#c51b7d"
            ],
            [
             0.2,
             "#de77ae"
            ],
            [
             0.3,
             "#f1b6da"
            ],
            [
             0.4,
             "#fde0ef"
            ],
            [
             0.5,
             "#f7f7f7"
            ],
            [
             0.6,
             "#e6f5d0"
            ],
            [
             0.7,
             "#b8e186"
            ],
            [
             0.8,
             "#7fbc41"
            ],
            [
             0.9,
             "#4d9221"
            ],
            [
             1,
             "#276419"
            ]
           ],
           "sequential": [
            [
             0,
             "#0d0887"
            ],
            [
             0.1111111111111111,
             "#46039f"
            ],
            [
             0.2222222222222222,
             "#7201a8"
            ],
            [
             0.3333333333333333,
             "#9c179e"
            ],
            [
             0.4444444444444444,
             "#bd3786"
            ],
            [
             0.5555555555555556,
             "#d8576b"
            ],
            [
             0.6666666666666666,
             "#ed7953"
            ],
            [
             0.7777777777777778,
             "#fb9f3a"
            ],
            [
             0.8888888888888888,
             "#fdca26"
            ],
            [
             1,
             "#f0f921"
            ]
           ],
           "sequentialminus": [
            [
             0,
             "#0d0887"
            ],
            [
             0.1111111111111111,
             "#46039f"
            ],
            [
             0.2222222222222222,
             "#7201a8"
            ],
            [
             0.3333333333333333,
             "#9c179e"
            ],
            [
             0.4444444444444444,
             "#bd3786"
            ],
            [
             0.5555555555555556,
             "#d8576b"
            ],
            [
             0.6666666666666666,
             "#ed7953"
            ],
            [
             0.7777777777777778,
             "#fb9f3a"
            ],
            [
             0.8888888888888888,
             "#fdca26"
            ],
            [
             1,
             "#f0f921"
            ]
           ]
          },
          "colorway": [
           "#636efa",
           "#EF553B",
           "#00cc96",
           "#ab63fa",
           "#FFA15A",
           "#19d3f3",
           "#FF6692",
           "#B6E880",
           "#FF97FF",
           "#FECB52"
          ],
          "font": {
           "color": "#2a3f5f"
          },
          "geo": {
           "bgcolor": "white",
           "lakecolor": "white",
           "landcolor": "#E5ECF6",
           "showlakes": true,
           "showland": true,
           "subunitcolor": "white"
          },
          "hoverlabel": {
           "align": "left"
          },
          "hovermode": "closest",
          "mapbox": {
           "style": "light"
          },
          "paper_bgcolor": "white",
          "plot_bgcolor": "#E5ECF6",
          "polar": {
           "angularaxis": {
            "gridcolor": "white",
            "linecolor": "white",
            "ticks": ""
           },
           "bgcolor": "#E5ECF6",
           "radialaxis": {
            "gridcolor": "white",
            "linecolor": "white",
            "ticks": ""
           }
          },
          "scene": {
           "xaxis": {
            "backgroundcolor": "#E5ECF6",
            "gridcolor": "white",
            "gridwidth": 2,
            "linecolor": "white",
            "showbackground": true,
            "ticks": "",
            "zerolinecolor": "white"
           },
           "yaxis": {
            "backgroundcolor": "#E5ECF6",
            "gridcolor": "white",
            "gridwidth": 2,
            "linecolor": "white",
            "showbackground": true,
            "ticks": "",
            "zerolinecolor": "white"
           },
           "zaxis": {
            "backgroundcolor": "#E5ECF6",
            "gridcolor": "white",
            "gridwidth": 2,
            "linecolor": "white",
            "showbackground": true,
            "ticks": "",
            "zerolinecolor": "white"
           }
          },
          "shapedefaults": {
           "line": {
            "color": "#2a3f5f"
           }
          },
          "ternary": {
           "aaxis": {
            "gridcolor": "white",
            "linecolor": "white",
            "ticks": ""
           },
           "baxis": {
            "gridcolor": "white",
            "linecolor": "white",
            "ticks": ""
           },
           "bgcolor": "#E5ECF6",
           "caxis": {
            "gridcolor": "white",
            "linecolor": "white",
            "ticks": ""
           }
          },
          "title": {
           "x": 0.05
          },
          "xaxis": {
           "automargin": true,
           "gridcolor": "white",
           "linecolor": "white",
           "ticks": "",
           "title": {
            "standoff": 15
           },
           "zerolinecolor": "white",
           "zerolinewidth": 2
          },
          "yaxis": {
           "automargin": true,
           "gridcolor": "white",
           "linecolor": "white",
           "ticks": "",
           "title": {
            "standoff": 15
           },
           "zerolinecolor": "white",
           "zerolinewidth": 2
          }
         }
        },
        "title": {
         "font": {
          "color": "#4D5663"
         }
        },
        "xaxis": {
         "gridcolor": "#E1E5ED",
         "showgrid": true,
         "tickfont": {
          "color": "#4D5663"
         },
         "title": {
          "font": {
           "color": "#4D5663"
          },
          "text": ""
         },
         "zerolinecolor": "#E1E5ED"
        },
        "yaxis": {
         "gridcolor": "#E1E5ED",
         "showgrid": true,
         "tickfont": {
          "color": "#4D5663"
         },
         "title": {
          "font": {
           "color": "#4D5663"
          },
          "text": ""
         },
         "zerolinecolor": "#E1E5ED"
        }
       }
      },
      "text/html": [
       "<div>                            <div id=\"d5ce7e9d-4084-4f49-8b3c-4baf4d192697\" class=\"plotly-graph-div\" style=\"height:525px; width:100%;\"></div>            <script type=\"text/javascript\">                require([\"plotly\"], function(Plotly) {                    window.PLOTLYENV=window.PLOTLYENV || {};\n",
       "                    window.PLOTLYENV.BASE_URL='https://plot.ly';                                    if (document.getElementById(\"d5ce7e9d-4084-4f49-8b3c-4baf4d192697\")) {                    Plotly.newPlot(                        \"d5ce7e9d-4084-4f49-8b3c-4baf4d192697\",                        [{\"marker\":{\"color\":\"rgba(255, 153, 51, 0.6)\",\"line\":{\"color\":\"rgba(255, 153, 51, 1.0)\",\"width\":1}},\"name\":\"None\",\"orientation\":\"v\",\"text\":\"\",\"x\":[\"A\",\"B\",\"C\",\"D\"],\"y\":[100,100,100,100],\"type\":\"bar\"}],                        {\"legend\":{\"bgcolor\":\"#F5F6F9\",\"font\":{\"color\":\"#4D5663\"}},\"paper_bgcolor\":\"#F5F6F9\",\"plot_bgcolor\":\"#F5F6F9\",\"template\":{\"data\":{\"barpolar\":[{\"marker\":{\"line\":{\"color\":\"#E5ECF6\",\"width\":0.5},\"pattern\":{\"fillmode\":\"overlay\",\"size\":10,\"solidity\":0.2}},\"type\":\"barpolar\"}],\"bar\":[{\"error_x\":{\"color\":\"#2a3f5f\"},\"error_y\":{\"color\":\"#2a3f5f\"},\"marker\":{\"line\":{\"color\":\"#E5ECF6\",\"width\":0.5},\"pattern\":{\"fillmode\":\"overlay\",\"size\":10,\"solidity\":0.2}},\"type\":\"bar\"}],\"carpet\":[{\"aaxis\":{\"endlinecolor\":\"#2a3f5f\",\"gridcolor\":\"white\",\"linecolor\":\"white\",\"minorgridcolor\":\"white\",\"startlinecolor\":\"#2a3f5f\"},\"baxis\":{\"endlinecolor\":\"#2a3f5f\",\"gridcolor\":\"white\",\"linecolor\":\"white\",\"minorgridcolor\":\"white\",\"startlinecolor\":\"#2a3f5f\"},\"type\":\"carpet\"}],\"choropleth\":[{\"colorbar\":{\"outlinewidth\":0,\"ticks\":\"\"},\"type\":\"choropleth\"}],\"contourcarpet\":[{\"colorbar\":{\"outlinewidth\":0,\"ticks\":\"\"},\"type\":\"contourcarpet\"}],\"contour\":[{\"colorbar\":{\"outlinewidth\":0,\"ticks\":\"\"},\"colorscale\":[[0.0,\"#0d0887\"],[0.1111111111111111,\"#46039f\"],[0.2222222222222222,\"#7201a8\"],[0.3333333333333333,\"#9c179e\"],[0.4444444444444444,\"#bd3786\"],[0.5555555555555556,\"#d8576b\"],[0.6666666666666666,\"#ed7953\"],[0.7777777777777778,\"#fb9f3a\"],[0.8888888888888888,\"#fdca26\"],[1.0,\"#f0f921\"]],\"type\":\"contour\"}],\"heatmapgl\":[{\"colorbar\":{\"outlinewidth\":0,\"ticks\":\"\"},\"colorscale\":[[0.0,\"#0d0887\"],[0.1111111111111111,\"#46039f\"],[0.2222222222222222,\"#7201a8\"],[0.3333333333333333,\"#9c179e\"],[0.4444444444444444,\"#bd3786\"],[0.5555555555555556,\"#d8576b\"],[0.6666666666666666,\"#ed7953\"],[0.7777777777777778,\"#fb9f3a\"],[0.8888888888888888,\"#fdca26\"],[1.0,\"#f0f921\"]],\"type\":\"heatmapgl\"}],\"heatmap\":[{\"colorbar\":{\"outlinewidth\":0,\"ticks\":\"\"},\"colorscale\":[[0.0,\"#0d0887\"],[0.1111111111111111,\"#46039f\"],[0.2222222222222222,\"#7201a8\"],[0.3333333333333333,\"#9c179e\"],[0.4444444444444444,\"#bd3786\"],[0.5555555555555556,\"#d8576b\"],[0.6666666666666666,\"#ed7953\"],[0.7777777777777778,\"#fb9f3a\"],[0.8888888888888888,\"#fdca26\"],[1.0,\"#f0f921\"]],\"type\":\"heatmap\"}],\"histogram2dcontour\":[{\"colorbar\":{\"outlinewidth\":0,\"ticks\":\"\"},\"colorscale\":[[0.0,\"#0d0887\"],[0.1111111111111111,\"#46039f\"],[0.2222222222222222,\"#7201a8\"],[0.3333333333333333,\"#9c179e\"],[0.4444444444444444,\"#bd3786\"],[0.5555555555555556,\"#d8576b\"],[0.6666666666666666,\"#ed7953\"],[0.7777777777777778,\"#fb9f3a\"],[0.8888888888888888,\"#fdca26\"],[1.0,\"#f0f921\"]],\"type\":\"histogram2dcontour\"}],\"histogram2d\":[{\"colorbar\":{\"outlinewidth\":0,\"ticks\":\"\"},\"colorscale\":[[0.0,\"#0d0887\"],[0.1111111111111111,\"#46039f\"],[0.2222222222222222,\"#7201a8\"],[0.3333333333333333,\"#9c179e\"],[0.4444444444444444,\"#bd3786\"],[0.5555555555555556,\"#d8576b\"],[0.6666666666666666,\"#ed7953\"],[0.7777777777777778,\"#fb9f3a\"],[0.8888888888888888,\"#fdca26\"],[1.0,\"#f0f921\"]],\"type\":\"histogram2d\"}],\"histogram\":[{\"marker\":{\"pattern\":{\"fillmode\":\"overlay\",\"size\":10,\"solidity\":0.2}},\"type\":\"histogram\"}],\"mesh3d\":[{\"colorbar\":{\"outlinewidth\":0,\"ticks\":\"\"},\"type\":\"mesh3d\"}],\"parcoords\":[{\"line\":{\"colorbar\":{\"outlinewidth\":0,\"ticks\":\"\"}},\"type\":\"parcoords\"}],\"pie\":[{\"automargin\":true,\"type\":\"pie\"}],\"scatter3d\":[{\"line\":{\"colorbar\":{\"outlinewidth\":0,\"ticks\":\"\"}},\"marker\":{\"colorbar\":{\"outlinewidth\":0,\"ticks\":\"\"}},\"type\":\"scatter3d\"}],\"scattercarpet\":[{\"marker\":{\"colorbar\":{\"outlinewidth\":0,\"ticks\":\"\"}},\"type\":\"scattercarpet\"}],\"scattergeo\":[{\"marker\":{\"colorbar\":{\"outlinewidth\":0,\"ticks\":\"\"}},\"type\":\"scattergeo\"}],\"scattergl\":[{\"marker\":{\"colorbar\":{\"outlinewidth\":0,\"ticks\":\"\"}},\"type\":\"scattergl\"}],\"scattermapbox\":[{\"marker\":{\"colorbar\":{\"outlinewidth\":0,\"ticks\":\"\"}},\"type\":\"scattermapbox\"}],\"scatterpolargl\":[{\"marker\":{\"colorbar\":{\"outlinewidth\":0,\"ticks\":\"\"}},\"type\":\"scatterpolargl\"}],\"scatterpolar\":[{\"marker\":{\"colorbar\":{\"outlinewidth\":0,\"ticks\":\"\"}},\"type\":\"scatterpolar\"}],\"scatter\":[{\"marker\":{\"colorbar\":{\"outlinewidth\":0,\"ticks\":\"\"}},\"type\":\"scatter\"}],\"scatterternary\":[{\"marker\":{\"colorbar\":{\"outlinewidth\":0,\"ticks\":\"\"}},\"type\":\"scatterternary\"}],\"surface\":[{\"colorbar\":{\"outlinewidth\":0,\"ticks\":\"\"},\"colorscale\":[[0.0,\"#0d0887\"],[0.1111111111111111,\"#46039f\"],[0.2222222222222222,\"#7201a8\"],[0.3333333333333333,\"#9c179e\"],[0.4444444444444444,\"#bd3786\"],[0.5555555555555556,\"#d8576b\"],[0.6666666666666666,\"#ed7953\"],[0.7777777777777778,\"#fb9f3a\"],[0.8888888888888888,\"#fdca26\"],[1.0,\"#f0f921\"]],\"type\":\"surface\"}],\"table\":[{\"cells\":{\"fill\":{\"color\":\"#EBF0F8\"},\"line\":{\"color\":\"white\"}},\"header\":{\"fill\":{\"color\":\"#C8D4E3\"},\"line\":{\"color\":\"white\"}},\"type\":\"table\"}]},\"layout\":{\"annotationdefaults\":{\"arrowcolor\":\"#2a3f5f\",\"arrowhead\":0,\"arrowwidth\":1},\"autotypenumbers\":\"strict\",\"coloraxis\":{\"colorbar\":{\"outlinewidth\":0,\"ticks\":\"\"}},\"colorscale\":{\"diverging\":[[0,\"#8e0152\"],[0.1,\"#c51b7d\"],[0.2,\"#de77ae\"],[0.3,\"#f1b6da\"],[0.4,\"#fde0ef\"],[0.5,\"#f7f7f7\"],[0.6,\"#e6f5d0\"],[0.7,\"#b8e186\"],[0.8,\"#7fbc41\"],[0.9,\"#4d9221\"],[1,\"#276419\"]],\"sequential\":[[0.0,\"#0d0887\"],[0.1111111111111111,\"#46039f\"],[0.2222222222222222,\"#7201a8\"],[0.3333333333333333,\"#9c179e\"],[0.4444444444444444,\"#bd3786\"],[0.5555555555555556,\"#d8576b\"],[0.6666666666666666,\"#ed7953\"],[0.7777777777777778,\"#fb9f3a\"],[0.8888888888888888,\"#fdca26\"],[1.0,\"#f0f921\"]],\"sequentialminus\":[[0.0,\"#0d0887\"],[0.1111111111111111,\"#46039f\"],[0.2222222222222222,\"#7201a8\"],[0.3333333333333333,\"#9c179e\"],[0.4444444444444444,\"#bd3786\"],[0.5555555555555556,\"#d8576b\"],[0.6666666666666666,\"#ed7953\"],[0.7777777777777778,\"#fb9f3a\"],[0.8888888888888888,\"#fdca26\"],[1.0,\"#f0f921\"]]},\"colorway\":[\"#636efa\",\"#EF553B\",\"#00cc96\",\"#ab63fa\",\"#FFA15A\",\"#19d3f3\",\"#FF6692\",\"#B6E880\",\"#FF97FF\",\"#FECB52\"],\"font\":{\"color\":\"#2a3f5f\"},\"geo\":{\"bgcolor\":\"white\",\"lakecolor\":\"white\",\"landcolor\":\"#E5ECF6\",\"showlakes\":true,\"showland\":true,\"subunitcolor\":\"white\"},\"hoverlabel\":{\"align\":\"left\"},\"hovermode\":\"closest\",\"mapbox\":{\"style\":\"light\"},\"paper_bgcolor\":\"white\",\"plot_bgcolor\":\"#E5ECF6\",\"polar\":{\"angularaxis\":{\"gridcolor\":\"white\",\"linecolor\":\"white\",\"ticks\":\"\"},\"bgcolor\":\"#E5ECF6\",\"radialaxis\":{\"gridcolor\":\"white\",\"linecolor\":\"white\",\"ticks\":\"\"}},\"scene\":{\"xaxis\":{\"backgroundcolor\":\"#E5ECF6\",\"gridcolor\":\"white\",\"gridwidth\":2,\"linecolor\":\"white\",\"showbackground\":true,\"ticks\":\"\",\"zerolinecolor\":\"white\"},\"yaxis\":{\"backgroundcolor\":\"#E5ECF6\",\"gridcolor\":\"white\",\"gridwidth\":2,\"linecolor\":\"white\",\"showbackground\":true,\"ticks\":\"\",\"zerolinecolor\":\"white\"},\"zaxis\":{\"backgroundcolor\":\"#E5ECF6\",\"gridcolor\":\"white\",\"gridwidth\":2,\"linecolor\":\"white\",\"showbackground\":true,\"ticks\":\"\",\"zerolinecolor\":\"white\"}},\"shapedefaults\":{\"line\":{\"color\":\"#2a3f5f\"}},\"ternary\":{\"aaxis\":{\"gridcolor\":\"white\",\"linecolor\":\"white\",\"ticks\":\"\"},\"baxis\":{\"gridcolor\":\"white\",\"linecolor\":\"white\",\"ticks\":\"\"},\"bgcolor\":\"#E5ECF6\",\"caxis\":{\"gridcolor\":\"white\",\"linecolor\":\"white\",\"ticks\":\"\"}},\"title\":{\"x\":0.05},\"xaxis\":{\"automargin\":true,\"gridcolor\":\"white\",\"linecolor\":\"white\",\"ticks\":\"\",\"title\":{\"standoff\":15},\"zerolinecolor\":\"white\",\"zerolinewidth\":2},\"yaxis\":{\"automargin\":true,\"gridcolor\":\"white\",\"linecolor\":\"white\",\"ticks\":\"\",\"title\":{\"standoff\":15},\"zerolinecolor\":\"white\",\"zerolinewidth\":2}}},\"title\":{\"font\":{\"color\":\"#4D5663\"}},\"xaxis\":{\"gridcolor\":\"#E1E5ED\",\"showgrid\":true,\"tickfont\":{\"color\":\"#4D5663\"},\"title\":{\"font\":{\"color\":\"#4D5663\"},\"text\":\"\"},\"zerolinecolor\":\"#E1E5ED\"},\"yaxis\":{\"gridcolor\":\"#E1E5ED\",\"showgrid\":true,\"tickfont\":{\"color\":\"#4D5663\"},\"title\":{\"font\":{\"color\":\"#4D5663\"},\"text\":\"\"},\"zerolinecolor\":\"#E1E5ED\"}},                        {\"showLink\": true, \"linkText\": \"Export to plot.ly\", \"plotlyServerURL\": \"https://plot.ly\", \"responsive\": true}                    ).then(function(){\n",
       "                            \n",
       "var gd = document.getElementById('d5ce7e9d-4084-4f49-8b3c-4baf4d192697');\n",
       "var x = new MutationObserver(function (mutations, observer) {{\n",
       "        var display = window.getComputedStyle(gd).display;\n",
       "        if (!display || display === 'none') {{\n",
       "            console.log([gd, 'removed!']);\n",
       "            Plotly.purge(gd);\n",
       "            observer.disconnect();\n",
       "        }}\n",
       "}});\n",
       "\n",
       "// Listen for the removal of the full notebook cells\n",
       "var notebookContainer = gd.closest('#notebook-container');\n",
       "if (notebookContainer) {{\n",
       "    x.observe(notebookContainer, {childList: true});\n",
       "}}\n",
       "\n",
       "// Listen for the clearing of the current output cell\n",
       "var outputEl = gd.closest('.output');\n",
       "if (outputEl) {{\n",
       "    x.observe(outputEl, {childList: true});\n",
       "}}\n",
       "\n",
       "                        })                };                });            </script>        </div>"
      ]
     },
     "metadata": {},
     "output_type": "display_data"
    }
   ],
   "source": [
    "# use any aggregate funciton first and then present with bar\n",
    "\n",
    "df.count().iplot(kind='bar')"
   ]
  },
  {
   "cell_type": "markdown",
   "metadata": {},
   "source": [
    "## Boxplots"
   ]
  },
  {
   "cell_type": "code",
   "execution_count": 23,
   "metadata": {
    "jupyter": {
     "outputs_hidden": false
    }
   },
   "outputs": [
    {
     "data": {
      "application/vnd.plotly.v1+json": {
       "config": {
        "linkText": "Export to plot.ly",
        "plotlyServerURL": "https://plot.ly",
        "showLink": true
       },
       "data": [
        {
         "boxpoints": false,
         "line": {
          "width": 1.3
         },
         "marker": {
          "color": "rgba(255, 153, 51, 1.0)"
         },
         "name": "A",
         "orientation": "v",
         "type": "box",
         "y": [
          -1.727725252579994,
          -0.6523954972283168,
          1.7111687573755276,
          1.8854926884160432,
          0.2797752300463759,
          -0.12278394235318713,
          -2.4629864633042837,
          -0.78629519698013,
          1.5013687819523045,
          0.5778433356227098,
          -2.1250130799216187,
          0.3074884774377496,
          -0.39557538193393044,
          -0.7210189703241677,
          0.6061344398049183,
          0.7253202601114827,
          0.7539556248165138,
          -0.6899826023857759,
          -1.9861820267153667,
          2.4724627179818857,
          -1.4921740674205082,
          0.21778649632986308,
          -1.2225982276441731,
          0.3022845411813817,
          0.5009163667793719,
          -0.27518666748581294,
          0.3332232948659106,
          0.5530183129927184,
          2.1813543514946936,
          2.3674713894348414,
          0.4040344645695381,
          0.1038752830651099,
          0.8189814485190792,
          0.6565628023965491,
          0.9649713911033581,
          0.4770077483354942,
          -1.1877719893116574,
          -0.3185818235127667,
          -0.4156429945784772,
          0.09263219619292881,
          1.1664812938353366,
          -1.664581973843618,
          0.8941099556511569,
          -0.059261618500232864,
          -0.42899090930167383,
          1.4204537434359545,
          -1.9614667808680513,
          0.5392218409350615,
          0.47024725448087334,
          1.1467256719334287,
          0.6683405973503002,
          -0.1653528442340094,
          0.2720390477214452,
          -0.6859510913281808,
          0.873018803874626,
          -0.4897179349388602,
          0.2791268821380968,
          -0.01369544344158681,
          0.9219045630189825,
          -0.17979824847298675,
          -1.4115107328459895,
          -0.4411751400820583,
          -0.13716549658502647,
          1.0502522594862551,
          -0.19931089910380348,
          1.2830450947207823,
          -0.7369514961753213,
          -0.43860412360855694,
          1.0940477429003814,
          0.8058780282388065,
          -0.2924536277044239,
          2.852728649349453,
          0.04370968310871116,
          -0.8464521149500591,
          2.28771812749006,
          0.010509765405440371,
          -1.4659896454578434,
          0.36111835740287185,
          1.080204647892336,
          0.21540806709294769,
          -1.2746246503442467,
          -0.7772846266240038,
          1.0151964174987262,
          -0.06308949328548494,
          0.6685557331125359,
          1.613021300620463,
          0.47658038207031683,
          -0.0906659850021094,
          -0.2727332447383256,
          -1.1830977459293435,
          1.5018775786963818,
          1.1466140817409018,
          -0.5606275116117502,
          -0.10446970457486329,
          0.3496968132069453,
          -0.6288080145360863,
          0.17515626102678597,
          0.4300673887181837,
          -0.1627117716049884,
          -1.1241376448948244
         ]
        },
        {
         "boxpoints": false,
         "line": {
          "width": 1.3
         },
         "marker": {
          "color": "rgba(55, 128, 191, 1.0)"
         },
         "name": "B",
         "orientation": "v",
         "type": "box",
         "y": [
          -0.35927390814104476,
          0.27484927832288925,
          -1.8402446516963689,
          0.4198969961056575,
          0.4408799218403844,
          -0.665006993082131,
          0.46215986015186405,
          0.5573938040479566,
          0.6821486464071536,
          -0.43277368434188607,
          -1.2513044483714728,
          -0.11800881518163064,
          0.4836095280558225,
          0.7198624924810973,
          0.769734040934067,
          0.32344267033603896,
          -0.5870259090687044,
          1.3764179686571287,
          0.5414625905049074,
          -0.598832443850317,
          -0.3195569510147842,
          1.2187240035662579,
          1.7219914761158468,
          1.0019398201832288,
          1.2712216685342188,
          -0.15169413108128366,
          -2.0769689079471245,
          -0.24617444450180453,
          0.2170377560005709,
          -0.2729310917822944,
          1.0580304337908448,
          0.49066385442413696,
          -0.0634690171707887,
          0.8761236894078324,
          -1.156182292111743,
          -1.7239496549607745,
          0.39963598889609775,
          -1.2405253270562735,
          -1.0844575996887613,
          0.9674204439722415,
          -2.3541883593272517,
          0.8451426886740392,
          0.48949596951889196,
          -1.048367046734212,
          -1.7815751279077898,
          0.09603552656022948,
          1.022949626357811,
          -1.0023988657385754,
          1.426874982960192,
          1.3283805405466318,
          -0.6826435013929715,
          -0.06948124309346751,
          1.197488186443602,
          1.2254917825595262,
          -1.0980833401848957,
          -1.2936343077373555,
          1.1510079929317878,
          0.8458703244821476,
          -1.2145888081746545,
          -0.8788190625374599,
          -1.5966273166290912,
          -0.7875422511564634,
          -0.1341321161518695,
          -1.4763238379407928,
          0.20797838521634457,
          -0.8900356418694271,
          -0.03371763647518824,
          0.7039356095584622,
          0.04616317679909543,
          0.6189737947401249,
          -0.020343437881330532,
          0.5241198908709517,
          -0.7207502317444129,
          -0.5982659043959154,
          -0.9178947753869992,
          1.2093861312135417,
          0.8309601781784342,
          0.5021465962618618,
          0.7693337137248092,
          0.8802821133026897,
          0.8837223679022095,
          0.4640030703367322,
          0.4763622196705976,
          1.4159694950025428,
          -0.29871965306664355,
          -0.8294071562311018,
          2.3446506464640398,
          -1.8637575195725096,
          -0.9628217613471104,
          -0.8981321973001141,
          -1.2529064074869203,
          -0.9883955824352328,
          0.3543575984448734,
          -0.9402400967736599,
          0.27223807132119077,
          -2.1523011662984852,
          1.692728902747629,
          -1.41854939516216,
          -0.2837856089408107,
          -2.0512938927588813
         ]
        },
        {
         "boxpoints": false,
         "line": {
          "width": 1.3
         },
         "marker": {
          "color": "rgba(50, 171, 96, 1.0)"
         },
         "name": "C",
         "orientation": "v",
         "type": "box",
         "y": [
          -0.8576600851820129,
          -0.5750127788884318,
          0.05443737876004868,
          0.7852219652757143,
          -0.4815487628257627,
          0.04459261934043061,
          -0.06139117924853256,
          0.20633355242056056,
          0.3062438902586826,
          1.3296776414925178,
          -0.7677373671277309,
          -0.006243911503915224,
          1.1498310264509497,
          0.18172294440474673,
          -0.19866413611852404,
          -0.8526807024276805,
          0.699245848585638,
          2.3023684100320927,
          -0.9026964338652707,
          -2.126841132369603,
          -0.842454782703909,
          0.6287313876116941,
          0.6682264230511928,
          -0.1769443401341622,
          0.26285762319922845,
          -1.9182082898691377,
          -0.35284934610786284,
          0.10958556503104956,
          -0.39624950688927235,
          0.31471637953316495,
          -0.6383841995137576,
          2.1191646816111716,
          0.1071863837033177,
          -1.0993467054046555,
          -1.1851231161420908,
          0.9078673017445265,
          -0.9240942974216836,
          1.1082905281639326,
          0.5761749525009726,
          -0.5528240035959081,
          -1.08319747021649,
          -0.3976494677458565,
          -0.1518796496642728,
          1.057216241490009,
          0.0864398733826944,
          0.3100534812829789,
          -0.6269403739297886,
          -0.04947723555628706,
          -0.9613648546663213,
          0.8097916556373664,
          -0.4449950508578437,
          0.1853574945940702,
          -0.40107114793418475,
          -1.003082928001767,
          -0.752919299080358,
          -0.5950415455443309,
          -0.28500485049306346,
          0.22621527955495616,
          -1.4791742950433293,
          0.0863555425022727,
          -1.477818299284184,
          0.3181940813153153,
          -1.852121414840407,
          -0.5261400848800919,
          -0.19445599174652403,
          1.2692789684904169,
          0.9994959914342512,
          0.6236723493406674,
          0.6178352553527662,
          0.01180667443335035,
          -0.7145856073326051,
          -0.21614168674591627,
          0.47703388972485505,
          0.8951840409390931,
          0.12843544193826878,
          0.5830450541273284,
          -0.5229493660653698,
          0.1806833566529037,
          1.2369892036717165,
          1.5121942236516193,
          -1.0073202348756185,
          -0.561204749188291,
          -0.20193194149857496,
          -0.08287312206897211,
          0.8298502678698525,
          1.0807107053419196,
          -0.9480437842389379,
          0.19593365881638544,
          -0.07374676095263155,
          -1.20932451397519,
          -1.431085577517493,
          1.816668237644611,
          -0.3765677734224466,
          0.7154783027959628,
          1.4930900832089968,
          0.20413077793277046,
          -1.1301792997773459,
          0.536724977053704,
          1.1284546732489456,
          -0.45357490395777833
         ]
        },
        {
         "boxpoints": false,
         "line": {
          "width": 1.3
         },
         "marker": {
          "color": "rgba(128, 0, 128, 1.0)"
         },
         "name": "D",
         "orientation": "v",
         "type": "box",
         "y": [
          -0.4965581735356254,
          -1.3538967874345176,
          -0.17223560818573722,
          1.6231579665908973,
          1.7335446296311334,
          -0.2030650778601564,
          -0.8452123865917006,
          1.0521305282835511,
          1.0398148392863902,
          -0.050987236786020504,
          -0.57258304732208,
          0.04327595603432784,
          -1.3940547164717714,
          -0.7525124487105035,
          -0.07855624829631365,
          -1.1287941535485626,
          0.04187240456777008,
          1.4784163179354148,
          0.37467197907364774,
          -0.7017974813352993,
          -0.15403843626666303,
          -0.5716045712901606,
          -0.15591731115513588,
          1.0827404114215546,
          0.06824294928725971,
          -0.6664063407263672,
          0.058527585690782445,
          -0.9858046686548356,
          -0.6166101461902966,
          -1.1015216262366498,
          0.48213629877689473,
          0.7272580763180592,
          1.1927992467132755,
          0.007447607351678447,
          0.9569922129220856,
          -1.1567796253878748,
          -0.1064287862458562,
          0.13029253387854112,
          0.035064494826886665,
          0.007923565519073762,
          0.6666927681045107,
          -0.2975599094544142,
          0.5143305432258334,
          -0.5314002154044901,
          0.9862378459404866,
          -0.8561390311252871,
          -0.08201694272839874,
          0.658484445292848,
          -1.1019741335941395,
          1.7357110245871454,
          -0.11175638362924363,
          1.4145749280314097,
          0.0053422645864003295,
          -0.04697930289317601,
          -0.7801131973483182,
          -1.1054144127714947,
          -0.3191975559484706,
          2.1400811034734475,
          -0.28546278269794334,
          -0.026399679763879018,
          -0.13923411297599422,
          0.5953884586032037,
          -0.6078720153987348,
          0.4475031099532303,
          1.3609915633404095,
          -0.3970043698105668,
          -1.483018792788209,
          -0.5391846912785562,
          -0.9115268037798887,
          0.15120485573677836,
          1.188222846229542,
          -0.9754873702920279,
          0.6138966578280636,
          -0.7061571324872323,
          -0.03124596441063452,
          0.2649153628508299,
          -0.27760614222920704,
          1.0501757511701886,
          -1.6212716213140699,
          -0.8593940651917895,
          -0.4191976458232712,
          -0.7588387619889834,
          0.04786717019872002,
          -1.491149338625276,
          0.5932183950134358,
          0.6539229166253674,
          0.6982652058189514,
          0.6481823342092639,
          -1.0097184189627435,
          -0.7995847706776723,
          -1.1795007881349875,
          -1.2948637331231025,
          0.9988398953252201,
          0.811056302157581,
          -0.498460662658745,
          -0.28272291971528696,
          -0.5413007010612112,
          0.7831871945780672,
          -0.7738786516659488,
          -0.2820191552854569
         ]
        }
       ],
       "layout": {
        "legend": {
         "bgcolor": "#F5F6F9",
         "font": {
          "color": "#4D5663"
         }
        },
        "paper_bgcolor": "#F5F6F9",
        "plot_bgcolor": "#F5F6F9",
        "template": {
         "data": {
          "bar": [
           {
            "error_x": {
             "color": "#2a3f5f"
            },
            "error_y": {
             "color": "#2a3f5f"
            },
            "marker": {
             "line": {
              "color": "#E5ECF6",
              "width": 0.5
             },
             "pattern": {
              "fillmode": "overlay",
              "size": 10,
              "solidity": 0.2
             }
            },
            "type": "bar"
           }
          ],
          "barpolar": [
           {
            "marker": {
             "line": {
              "color": "#E5ECF6",
              "width": 0.5
             },
             "pattern": {
              "fillmode": "overlay",
              "size": 10,
              "solidity": 0.2
             }
            },
            "type": "barpolar"
           }
          ],
          "carpet": [
           {
            "aaxis": {
             "endlinecolor": "#2a3f5f",
             "gridcolor": "white",
             "linecolor": "white",
             "minorgridcolor": "white",
             "startlinecolor": "#2a3f5f"
            },
            "baxis": {
             "endlinecolor": "#2a3f5f",
             "gridcolor": "white",
             "linecolor": "white",
             "minorgridcolor": "white",
             "startlinecolor": "#2a3f5f"
            },
            "type": "carpet"
           }
          ],
          "choropleth": [
           {
            "colorbar": {
             "outlinewidth": 0,
             "ticks": ""
            },
            "type": "choropleth"
           }
          ],
          "contour": [
           {
            "colorbar": {
             "outlinewidth": 0,
             "ticks": ""
            },
            "colorscale": [
             [
              0,
              "#0d0887"
             ],
             [
              0.1111111111111111,
              "#46039f"
             ],
             [
              0.2222222222222222,
              "#7201a8"
             ],
             [
              0.3333333333333333,
              "#9c179e"
             ],
             [
              0.4444444444444444,
              "#bd3786"
             ],
             [
              0.5555555555555556,
              "#d8576b"
             ],
             [
              0.6666666666666666,
              "#ed7953"
             ],
             [
              0.7777777777777778,
              "#fb9f3a"
             ],
             [
              0.8888888888888888,
              "#fdca26"
             ],
             [
              1,
              "#f0f921"
             ]
            ],
            "type": "contour"
           }
          ],
          "contourcarpet": [
           {
            "colorbar": {
             "outlinewidth": 0,
             "ticks": ""
            },
            "type": "contourcarpet"
           }
          ],
          "heatmap": [
           {
            "colorbar": {
             "outlinewidth": 0,
             "ticks": ""
            },
            "colorscale": [
             [
              0,
              "#0d0887"
             ],
             [
              0.1111111111111111,
              "#46039f"
             ],
             [
              0.2222222222222222,
              "#7201a8"
             ],
             [
              0.3333333333333333,
              "#9c179e"
             ],
             [
              0.4444444444444444,
              "#bd3786"
             ],
             [
              0.5555555555555556,
              "#d8576b"
             ],
             [
              0.6666666666666666,
              "#ed7953"
             ],
             [
              0.7777777777777778,
              "#fb9f3a"
             ],
             [
              0.8888888888888888,
              "#fdca26"
             ],
             [
              1,
              "#f0f921"
             ]
            ],
            "type": "heatmap"
           }
          ],
          "heatmapgl": [
           {
            "colorbar": {
             "outlinewidth": 0,
             "ticks": ""
            },
            "colorscale": [
             [
              0,
              "#0d0887"
             ],
             [
              0.1111111111111111,
              "#46039f"
             ],
             [
              0.2222222222222222,
              "#7201a8"
             ],
             [
              0.3333333333333333,
              "#9c179e"
             ],
             [
              0.4444444444444444,
              "#bd3786"
             ],
             [
              0.5555555555555556,
              "#d8576b"
             ],
             [
              0.6666666666666666,
              "#ed7953"
             ],
             [
              0.7777777777777778,
              "#fb9f3a"
             ],
             [
              0.8888888888888888,
              "#fdca26"
             ],
             [
              1,
              "#f0f921"
             ]
            ],
            "type": "heatmapgl"
           }
          ],
          "histogram": [
           {
            "marker": {
             "pattern": {
              "fillmode": "overlay",
              "size": 10,
              "solidity": 0.2
             }
            },
            "type": "histogram"
           }
          ],
          "histogram2d": [
           {
            "colorbar": {
             "outlinewidth": 0,
             "ticks": ""
            },
            "colorscale": [
             [
              0,
              "#0d0887"
             ],
             [
              0.1111111111111111,
              "#46039f"
             ],
             [
              0.2222222222222222,
              "#7201a8"
             ],
             [
              0.3333333333333333,
              "#9c179e"
             ],
             [
              0.4444444444444444,
              "#bd3786"
             ],
             [
              0.5555555555555556,
              "#d8576b"
             ],
             [
              0.6666666666666666,
              "#ed7953"
             ],
             [
              0.7777777777777778,
              "#fb9f3a"
             ],
             [
              0.8888888888888888,
              "#fdca26"
             ],
             [
              1,
              "#f0f921"
             ]
            ],
            "type": "histogram2d"
           }
          ],
          "histogram2dcontour": [
           {
            "colorbar": {
             "outlinewidth": 0,
             "ticks": ""
            },
            "colorscale": [
             [
              0,
              "#0d0887"
             ],
             [
              0.1111111111111111,
              "#46039f"
             ],
             [
              0.2222222222222222,
              "#7201a8"
             ],
             [
              0.3333333333333333,
              "#9c179e"
             ],
             [
              0.4444444444444444,
              "#bd3786"
             ],
             [
              0.5555555555555556,
              "#d8576b"
             ],
             [
              0.6666666666666666,
              "#ed7953"
             ],
             [
              0.7777777777777778,
              "#fb9f3a"
             ],
             [
              0.8888888888888888,
              "#fdca26"
             ],
             [
              1,
              "#f0f921"
             ]
            ],
            "type": "histogram2dcontour"
           }
          ],
          "mesh3d": [
           {
            "colorbar": {
             "outlinewidth": 0,
             "ticks": ""
            },
            "type": "mesh3d"
           }
          ],
          "parcoords": [
           {
            "line": {
             "colorbar": {
              "outlinewidth": 0,
              "ticks": ""
             }
            },
            "type": "parcoords"
           }
          ],
          "pie": [
           {
            "automargin": true,
            "type": "pie"
           }
          ],
          "scatter": [
           {
            "marker": {
             "colorbar": {
              "outlinewidth": 0,
              "ticks": ""
             }
            },
            "type": "scatter"
           }
          ],
          "scatter3d": [
           {
            "line": {
             "colorbar": {
              "outlinewidth": 0,
              "ticks": ""
             }
            },
            "marker": {
             "colorbar": {
              "outlinewidth": 0,
              "ticks": ""
             }
            },
            "type": "scatter3d"
           }
          ],
          "scattercarpet": [
           {
            "marker": {
             "colorbar": {
              "outlinewidth": 0,
              "ticks": ""
             }
            },
            "type": "scattercarpet"
           }
          ],
          "scattergeo": [
           {
            "marker": {
             "colorbar": {
              "outlinewidth": 0,
              "ticks": ""
             }
            },
            "type": "scattergeo"
           }
          ],
          "scattergl": [
           {
            "marker": {
             "colorbar": {
              "outlinewidth": 0,
              "ticks": ""
             }
            },
            "type": "scattergl"
           }
          ],
          "scattermapbox": [
           {
            "marker": {
             "colorbar": {
              "outlinewidth": 0,
              "ticks": ""
             }
            },
            "type": "scattermapbox"
           }
          ],
          "scatterpolar": [
           {
            "marker": {
             "colorbar": {
              "outlinewidth": 0,
              "ticks": ""
             }
            },
            "type": "scatterpolar"
           }
          ],
          "scatterpolargl": [
           {
            "marker": {
             "colorbar": {
              "outlinewidth": 0,
              "ticks": ""
             }
            },
            "type": "scatterpolargl"
           }
          ],
          "scatterternary": [
           {
            "marker": {
             "colorbar": {
              "outlinewidth": 0,
              "ticks": ""
             }
            },
            "type": "scatterternary"
           }
          ],
          "surface": [
           {
            "colorbar": {
             "outlinewidth": 0,
             "ticks": ""
            },
            "colorscale": [
             [
              0,
              "#0d0887"
             ],
             [
              0.1111111111111111,
              "#46039f"
             ],
             [
              0.2222222222222222,
              "#7201a8"
             ],
             [
              0.3333333333333333,
              "#9c179e"
             ],
             [
              0.4444444444444444,
              "#bd3786"
             ],
             [
              0.5555555555555556,
              "#d8576b"
             ],
             [
              0.6666666666666666,
              "#ed7953"
             ],
             [
              0.7777777777777778,
              "#fb9f3a"
             ],
             [
              0.8888888888888888,
              "#fdca26"
             ],
             [
              1,
              "#f0f921"
             ]
            ],
            "type": "surface"
           }
          ],
          "table": [
           {
            "cells": {
             "fill": {
              "color": "#EBF0F8"
             },
             "line": {
              "color": "white"
             }
            },
            "header": {
             "fill": {
              "color": "#C8D4E3"
             },
             "line": {
              "color": "white"
             }
            },
            "type": "table"
           }
          ]
         },
         "layout": {
          "annotationdefaults": {
           "arrowcolor": "#2a3f5f",
           "arrowhead": 0,
           "arrowwidth": 1
          },
          "autotypenumbers": "strict",
          "coloraxis": {
           "colorbar": {
            "outlinewidth": 0,
            "ticks": ""
           }
          },
          "colorscale": {
           "diverging": [
            [
             0,
             "#8e0152"
            ],
            [
             0.1,
             "#c51b7d"
            ],
            [
             0.2,
             "#de77ae"
            ],
            [
             0.3,
             "#f1b6da"
            ],
            [
             0.4,
             "#fde0ef"
            ],
            [
             0.5,
             "#f7f7f7"
            ],
            [
             0.6,
             "#e6f5d0"
            ],
            [
             0.7,
             "#b8e186"
            ],
            [
             0.8,
             "#7fbc41"
            ],
            [
             0.9,
             "#4d9221"
            ],
            [
             1,
             "#276419"
            ]
           ],
           "sequential": [
            [
             0,
             "#0d0887"
            ],
            [
             0.1111111111111111,
             "#46039f"
            ],
            [
             0.2222222222222222,
             "#7201a8"
            ],
            [
             0.3333333333333333,
             "#9c179e"
            ],
            [
             0.4444444444444444,
             "#bd3786"
            ],
            [
             0.5555555555555556,
             "#d8576b"
            ],
            [
             0.6666666666666666,
             "#ed7953"
            ],
            [
             0.7777777777777778,
             "#fb9f3a"
            ],
            [
             0.8888888888888888,
             "#fdca26"
            ],
            [
             1,
             "#f0f921"
            ]
           ],
           "sequentialminus": [
            [
             0,
             "#0d0887"
            ],
            [
             0.1111111111111111,
             "#46039f"
            ],
            [
             0.2222222222222222,
             "#7201a8"
            ],
            [
             0.3333333333333333,
             "#9c179e"
            ],
            [
             0.4444444444444444,
             "#bd3786"
            ],
            [
             0.5555555555555556,
             "#d8576b"
            ],
            [
             0.6666666666666666,
             "#ed7953"
            ],
            [
             0.7777777777777778,
             "#fb9f3a"
            ],
            [
             0.8888888888888888,
             "#fdca26"
            ],
            [
             1,
             "#f0f921"
            ]
           ]
          },
          "colorway": [
           "#636efa",
           "#EF553B",
           "#00cc96",
           "#ab63fa",
           "#FFA15A",
           "#19d3f3",
           "#FF6692",
           "#B6E880",
           "#FF97FF",
           "#FECB52"
          ],
          "font": {
           "color": "#2a3f5f"
          },
          "geo": {
           "bgcolor": "white",
           "lakecolor": "white",
           "landcolor": "#E5ECF6",
           "showlakes": true,
           "showland": true,
           "subunitcolor": "white"
          },
          "hoverlabel": {
           "align": "left"
          },
          "hovermode": "closest",
          "mapbox": {
           "style": "light"
          },
          "paper_bgcolor": "white",
          "plot_bgcolor": "#E5ECF6",
          "polar": {
           "angularaxis": {
            "gridcolor": "white",
            "linecolor": "white",
            "ticks": ""
           },
           "bgcolor": "#E5ECF6",
           "radialaxis": {
            "gridcolor": "white",
            "linecolor": "white",
            "ticks": ""
           }
          },
          "scene": {
           "xaxis": {
            "backgroundcolor": "#E5ECF6",
            "gridcolor": "white",
            "gridwidth": 2,
            "linecolor": "white",
            "showbackground": true,
            "ticks": "",
            "zerolinecolor": "white"
           },
           "yaxis": {
            "backgroundcolor": "#E5ECF6",
            "gridcolor": "white",
            "gridwidth": 2,
            "linecolor": "white",
            "showbackground": true,
            "ticks": "",
            "zerolinecolor": "white"
           },
           "zaxis": {
            "backgroundcolor": "#E5ECF6",
            "gridcolor": "white",
            "gridwidth": 2,
            "linecolor": "white",
            "showbackground": true,
            "ticks": "",
            "zerolinecolor": "white"
           }
          },
          "shapedefaults": {
           "line": {
            "color": "#2a3f5f"
           }
          },
          "ternary": {
           "aaxis": {
            "gridcolor": "white",
            "linecolor": "white",
            "ticks": ""
           },
           "baxis": {
            "gridcolor": "white",
            "linecolor": "white",
            "ticks": ""
           },
           "bgcolor": "#E5ECF6",
           "caxis": {
            "gridcolor": "white",
            "linecolor": "white",
            "ticks": ""
           }
          },
          "title": {
           "x": 0.05
          },
          "xaxis": {
           "automargin": true,
           "gridcolor": "white",
           "linecolor": "white",
           "ticks": "",
           "title": {
            "standoff": 15
           },
           "zerolinecolor": "white",
           "zerolinewidth": 2
          },
          "yaxis": {
           "automargin": true,
           "gridcolor": "white",
           "linecolor": "white",
           "ticks": "",
           "title": {
            "standoff": 15
           },
           "zerolinecolor": "white",
           "zerolinewidth": 2
          }
         }
        },
        "title": {
         "font": {
          "color": "#4D5663"
         }
        },
        "xaxis": {
         "gridcolor": "#E1E5ED",
         "showgrid": true,
         "tickfont": {
          "color": "#4D5663"
         },
         "title": {
          "font": {
           "color": "#4D5663"
          },
          "text": ""
         },
         "zerolinecolor": "#E1E5ED"
        },
        "yaxis": {
         "gridcolor": "#E1E5ED",
         "showgrid": true,
         "tickfont": {
          "color": "#4D5663"
         },
         "title": {
          "font": {
           "color": "#4D5663"
          },
          "text": ""
         },
         "zerolinecolor": "#E1E5ED"
        }
       }
      },
      "text/html": [
       "<div>                            <div id=\"8192b447-002a-49e5-a69d-1ebcd31c6735\" class=\"plotly-graph-div\" style=\"height:525px; width:100%;\"></div>            <script type=\"text/javascript\">                require([\"plotly\"], function(Plotly) {                    window.PLOTLYENV=window.PLOTLYENV || {};\n",
       "                    window.PLOTLYENV.BASE_URL='https://plot.ly';                                    if (document.getElementById(\"8192b447-002a-49e5-a69d-1ebcd31c6735\")) {                    Plotly.newPlot(                        \"8192b447-002a-49e5-a69d-1ebcd31c6735\",                        [{\"boxpoints\":false,\"line\":{\"width\":1.3},\"marker\":{\"color\":\"rgba(255, 153, 51, 1.0)\"},\"name\":\"A\",\"orientation\":\"v\",\"y\":[-1.727725252579994,-0.6523954972283168,1.7111687573755276,1.8854926884160432,0.2797752300463759,-0.12278394235318713,-2.4629864633042837,-0.78629519698013,1.5013687819523045,0.5778433356227098,-2.1250130799216187,0.3074884774377496,-0.39557538193393044,-0.7210189703241677,0.6061344398049183,0.7253202601114827,0.7539556248165138,-0.6899826023857759,-1.9861820267153667,2.4724627179818857,-1.4921740674205082,0.21778649632986308,-1.2225982276441731,0.3022845411813817,0.5009163667793719,-0.27518666748581294,0.3332232948659106,0.5530183129927184,2.1813543514946936,2.3674713894348414,0.4040344645695381,0.1038752830651099,0.8189814485190792,0.6565628023965491,0.9649713911033581,0.4770077483354942,-1.1877719893116574,-0.3185818235127667,-0.4156429945784772,0.09263219619292881,1.1664812938353366,-1.664581973843618,0.8941099556511569,-0.059261618500232864,-0.42899090930167383,1.4204537434359545,-1.9614667808680513,0.5392218409350615,0.47024725448087334,1.1467256719334287,0.6683405973503002,-0.1653528442340094,0.2720390477214452,-0.6859510913281808,0.873018803874626,-0.4897179349388602,0.2791268821380968,-0.01369544344158681,0.9219045630189825,-0.17979824847298675,-1.4115107328459895,-0.4411751400820583,-0.13716549658502647,1.0502522594862551,-0.19931089910380348,1.2830450947207823,-0.7369514961753213,-0.43860412360855694,1.0940477429003814,0.8058780282388065,-0.2924536277044239,2.852728649349453,0.04370968310871116,-0.8464521149500591,2.28771812749006,0.010509765405440371,-1.4659896454578434,0.36111835740287185,1.080204647892336,0.21540806709294769,-1.2746246503442467,-0.7772846266240038,1.0151964174987262,-0.06308949328548494,0.6685557331125359,1.613021300620463,0.47658038207031683,-0.0906659850021094,-0.2727332447383256,-1.1830977459293435,1.5018775786963818,1.1466140817409018,-0.5606275116117502,-0.10446970457486329,0.3496968132069453,-0.6288080145360863,0.17515626102678597,0.4300673887181837,-0.1627117716049884,-1.1241376448948244],\"type\":\"box\"},{\"boxpoints\":false,\"line\":{\"width\":1.3},\"marker\":{\"color\":\"rgba(55, 128, 191, 1.0)\"},\"name\":\"B\",\"orientation\":\"v\",\"y\":[-0.35927390814104476,0.27484927832288925,-1.8402446516963689,0.4198969961056575,0.4408799218403844,-0.665006993082131,0.46215986015186405,0.5573938040479566,0.6821486464071536,-0.43277368434188607,-1.2513044483714728,-0.11800881518163064,0.4836095280558225,0.7198624924810973,0.769734040934067,0.32344267033603896,-0.5870259090687044,1.3764179686571287,0.5414625905049074,-0.598832443850317,-0.3195569510147842,1.2187240035662579,1.7219914761158468,1.0019398201832288,1.2712216685342188,-0.15169413108128366,-2.0769689079471245,-0.24617444450180453,0.2170377560005709,-0.2729310917822944,1.0580304337908448,0.49066385442413696,-0.0634690171707887,0.8761236894078324,-1.156182292111743,-1.7239496549607745,0.39963598889609775,-1.2405253270562735,-1.0844575996887613,0.9674204439722415,-2.3541883593272517,0.8451426886740392,0.48949596951889196,-1.048367046734212,-1.7815751279077898,0.09603552656022948,1.022949626357811,-1.0023988657385754,1.426874982960192,1.3283805405466318,-0.6826435013929715,-0.06948124309346751,1.197488186443602,1.2254917825595262,-1.0980833401848957,-1.2936343077373555,1.1510079929317878,0.8458703244821476,-1.2145888081746545,-0.8788190625374599,-1.5966273166290912,-0.7875422511564634,-0.1341321161518695,-1.4763238379407928,0.20797838521634457,-0.8900356418694271,-0.03371763647518824,0.7039356095584622,0.04616317679909543,0.6189737947401249,-0.020343437881330532,0.5241198908709517,-0.7207502317444129,-0.5982659043959154,-0.9178947753869992,1.2093861312135417,0.8309601781784342,0.5021465962618618,0.7693337137248092,0.8802821133026897,0.8837223679022095,0.4640030703367322,0.4763622196705976,1.4159694950025428,-0.29871965306664355,-0.8294071562311018,2.3446506464640398,-1.8637575195725096,-0.9628217613471104,-0.8981321973001141,-1.2529064074869203,-0.9883955824352328,0.3543575984448734,-0.9402400967736599,0.27223807132119077,-2.1523011662984852,1.692728902747629,-1.41854939516216,-0.2837856089408107,-2.0512938927588813],\"type\":\"box\"},{\"boxpoints\":false,\"line\":{\"width\":1.3},\"marker\":{\"color\":\"rgba(50, 171, 96, 1.0)\"},\"name\":\"C\",\"orientation\":\"v\",\"y\":[-0.8576600851820129,-0.5750127788884318,0.05443737876004868,0.7852219652757143,-0.4815487628257627,0.04459261934043061,-0.06139117924853256,0.20633355242056056,0.3062438902586826,1.3296776414925178,-0.7677373671277309,-0.006243911503915224,1.1498310264509497,0.18172294440474673,-0.19866413611852404,-0.8526807024276805,0.699245848585638,2.3023684100320927,-0.9026964338652707,-2.126841132369603,-0.842454782703909,0.6287313876116941,0.6682264230511928,-0.1769443401341622,0.26285762319922845,-1.9182082898691377,-0.35284934610786284,0.10958556503104956,-0.39624950688927235,0.31471637953316495,-0.6383841995137576,2.1191646816111716,0.1071863837033177,-1.0993467054046555,-1.1851231161420908,0.9078673017445265,-0.9240942974216836,1.1082905281639326,0.5761749525009726,-0.5528240035959081,-1.08319747021649,-0.3976494677458565,-0.1518796496642728,1.057216241490009,0.0864398733826944,0.3100534812829789,-0.6269403739297886,-0.04947723555628706,-0.9613648546663213,0.8097916556373664,-0.4449950508578437,0.1853574945940702,-0.40107114793418475,-1.003082928001767,-0.752919299080358,-0.5950415455443309,-0.28500485049306346,0.22621527955495616,-1.4791742950433293,0.0863555425022727,-1.477818299284184,0.3181940813153153,-1.852121414840407,-0.5261400848800919,-0.19445599174652403,1.2692789684904169,0.9994959914342512,0.6236723493406674,0.6178352553527662,0.01180667443335035,-0.7145856073326051,-0.21614168674591627,0.47703388972485505,0.8951840409390931,0.12843544193826878,0.5830450541273284,-0.5229493660653698,0.1806833566529037,1.2369892036717165,1.5121942236516193,-1.0073202348756185,-0.561204749188291,-0.20193194149857496,-0.08287312206897211,0.8298502678698525,1.0807107053419196,-0.9480437842389379,0.19593365881638544,-0.07374676095263155,-1.20932451397519,-1.431085577517493,1.816668237644611,-0.3765677734224466,0.7154783027959628,1.4930900832089968,0.20413077793277046,-1.1301792997773459,0.536724977053704,1.1284546732489456,-0.45357490395777833],\"type\":\"box\"},{\"boxpoints\":false,\"line\":{\"width\":1.3},\"marker\":{\"color\":\"rgba(128, 0, 128, 1.0)\"},\"name\":\"D\",\"orientation\":\"v\",\"y\":[-0.4965581735356254,-1.3538967874345176,-0.17223560818573722,1.6231579665908973,1.7335446296311334,-0.2030650778601564,-0.8452123865917006,1.0521305282835511,1.0398148392863902,-0.050987236786020504,-0.57258304732208,0.04327595603432784,-1.3940547164717714,-0.7525124487105035,-0.07855624829631365,-1.1287941535485626,0.04187240456777008,1.4784163179354148,0.37467197907364774,-0.7017974813352993,-0.15403843626666303,-0.5716045712901606,-0.15591731115513588,1.0827404114215546,0.06824294928725971,-0.6664063407263672,0.058527585690782445,-0.9858046686548356,-0.6166101461902966,-1.1015216262366498,0.48213629877689473,0.7272580763180592,1.1927992467132755,0.007447607351678447,0.9569922129220856,-1.1567796253878748,-0.1064287862458562,0.13029253387854112,0.035064494826886665,0.007923565519073762,0.6666927681045107,-0.2975599094544142,0.5143305432258334,-0.5314002154044901,0.9862378459404866,-0.8561390311252871,-0.08201694272839874,0.658484445292848,-1.1019741335941395,1.7357110245871454,-0.11175638362924363,1.4145749280314097,0.0053422645864003295,-0.04697930289317601,-0.7801131973483182,-1.1054144127714947,-0.3191975559484706,2.1400811034734475,-0.28546278269794334,-0.026399679763879018,-0.13923411297599422,0.5953884586032037,-0.6078720153987348,0.4475031099532303,1.3609915633404095,-0.3970043698105668,-1.483018792788209,-0.5391846912785562,-0.9115268037798887,0.15120485573677836,1.188222846229542,-0.9754873702920279,0.6138966578280636,-0.7061571324872323,-0.03124596441063452,0.2649153628508299,-0.27760614222920704,1.0501757511701886,-1.6212716213140699,-0.8593940651917895,-0.4191976458232712,-0.7588387619889834,0.04786717019872002,-1.491149338625276,0.5932183950134358,0.6539229166253674,0.6982652058189514,0.6481823342092639,-1.0097184189627435,-0.7995847706776723,-1.1795007881349875,-1.2948637331231025,0.9988398953252201,0.811056302157581,-0.498460662658745,-0.28272291971528696,-0.5413007010612112,0.7831871945780672,-0.7738786516659488,-0.2820191552854569],\"type\":\"box\"}],                        {\"legend\":{\"bgcolor\":\"#F5F6F9\",\"font\":{\"color\":\"#4D5663\"}},\"paper_bgcolor\":\"#F5F6F9\",\"plot_bgcolor\":\"#F5F6F9\",\"template\":{\"data\":{\"barpolar\":[{\"marker\":{\"line\":{\"color\":\"#E5ECF6\",\"width\":0.5},\"pattern\":{\"fillmode\":\"overlay\",\"size\":10,\"solidity\":0.2}},\"type\":\"barpolar\"}],\"bar\":[{\"error_x\":{\"color\":\"#2a3f5f\"},\"error_y\":{\"color\":\"#2a3f5f\"},\"marker\":{\"line\":{\"color\":\"#E5ECF6\",\"width\":0.5},\"pattern\":{\"fillmode\":\"overlay\",\"size\":10,\"solidity\":0.2}},\"type\":\"bar\"}],\"carpet\":[{\"aaxis\":{\"endlinecolor\":\"#2a3f5f\",\"gridcolor\":\"white\",\"linecolor\":\"white\",\"minorgridcolor\":\"white\",\"startlinecolor\":\"#2a3f5f\"},\"baxis\":{\"endlinecolor\":\"#2a3f5f\",\"gridcolor\":\"white\",\"linecolor\":\"white\",\"minorgridcolor\":\"white\",\"startlinecolor\":\"#2a3f5f\"},\"type\":\"carpet\"}],\"choropleth\":[{\"colorbar\":{\"outlinewidth\":0,\"ticks\":\"\"},\"type\":\"choropleth\"}],\"contourcarpet\":[{\"colorbar\":{\"outlinewidth\":0,\"ticks\":\"\"},\"type\":\"contourcarpet\"}],\"contour\":[{\"colorbar\":{\"outlinewidth\":0,\"ticks\":\"\"},\"colorscale\":[[0.0,\"#0d0887\"],[0.1111111111111111,\"#46039f\"],[0.2222222222222222,\"#7201a8\"],[0.3333333333333333,\"#9c179e\"],[0.4444444444444444,\"#bd3786\"],[0.5555555555555556,\"#d8576b\"],[0.6666666666666666,\"#ed7953\"],[0.7777777777777778,\"#fb9f3a\"],[0.8888888888888888,\"#fdca26\"],[1.0,\"#f0f921\"]],\"type\":\"contour\"}],\"heatmapgl\":[{\"colorbar\":{\"outlinewidth\":0,\"ticks\":\"\"},\"colorscale\":[[0.0,\"#0d0887\"],[0.1111111111111111,\"#46039f\"],[0.2222222222222222,\"#7201a8\"],[0.3333333333333333,\"#9c179e\"],[0.4444444444444444,\"#bd3786\"],[0.5555555555555556,\"#d8576b\"],[0.6666666666666666,\"#ed7953\"],[0.7777777777777778,\"#fb9f3a\"],[0.8888888888888888,\"#fdca26\"],[1.0,\"#f0f921\"]],\"type\":\"heatmapgl\"}],\"heatmap\":[{\"colorbar\":{\"outlinewidth\":0,\"ticks\":\"\"},\"colorscale\":[[0.0,\"#0d0887\"],[0.1111111111111111,\"#46039f\"],[0.2222222222222222,\"#7201a8\"],[0.3333333333333333,\"#9c179e\"],[0.4444444444444444,\"#bd3786\"],[0.5555555555555556,\"#d8576b\"],[0.6666666666666666,\"#ed7953\"],[0.7777777777777778,\"#fb9f3a\"],[0.8888888888888888,\"#fdca26\"],[1.0,\"#f0f921\"]],\"type\":\"heatmap\"}],\"histogram2dcontour\":[{\"colorbar\":{\"outlinewidth\":0,\"ticks\":\"\"},\"colorscale\":[[0.0,\"#0d0887\"],[0.1111111111111111,\"#46039f\"],[0.2222222222222222,\"#7201a8\"],[0.3333333333333333,\"#9c179e\"],[0.4444444444444444,\"#bd3786\"],[0.5555555555555556,\"#d8576b\"],[0.6666666666666666,\"#ed7953\"],[0.7777777777777778,\"#fb9f3a\"],[0.8888888888888888,\"#fdca26\"],[1.0,\"#f0f921\"]],\"type\":\"histogram2dcontour\"}],\"histogram2d\":[{\"colorbar\":{\"outlinewidth\":0,\"ticks\":\"\"},\"colorscale\":[[0.0,\"#0d0887\"],[0.1111111111111111,\"#46039f\"],[0.2222222222222222,\"#7201a8\"],[0.3333333333333333,\"#9c179e\"],[0.4444444444444444,\"#bd3786\"],[0.5555555555555556,\"#d8576b\"],[0.6666666666666666,\"#ed7953\"],[0.7777777777777778,\"#fb9f3a\"],[0.8888888888888888,\"#fdca26\"],[1.0,\"#f0f921\"]],\"type\":\"histogram2d\"}],\"histogram\":[{\"marker\":{\"pattern\":{\"fillmode\":\"overlay\",\"size\":10,\"solidity\":0.2}},\"type\":\"histogram\"}],\"mesh3d\":[{\"colorbar\":{\"outlinewidth\":0,\"ticks\":\"\"},\"type\":\"mesh3d\"}],\"parcoords\":[{\"line\":{\"colorbar\":{\"outlinewidth\":0,\"ticks\":\"\"}},\"type\":\"parcoords\"}],\"pie\":[{\"automargin\":true,\"type\":\"pie\"}],\"scatter3d\":[{\"line\":{\"colorbar\":{\"outlinewidth\":0,\"ticks\":\"\"}},\"marker\":{\"colorbar\":{\"outlinewidth\":0,\"ticks\":\"\"}},\"type\":\"scatter3d\"}],\"scattercarpet\":[{\"marker\":{\"colorbar\":{\"outlinewidth\":0,\"ticks\":\"\"}},\"type\":\"scattercarpet\"}],\"scattergeo\":[{\"marker\":{\"colorbar\":{\"outlinewidth\":0,\"ticks\":\"\"}},\"type\":\"scattergeo\"}],\"scattergl\":[{\"marker\":{\"colorbar\":{\"outlinewidth\":0,\"ticks\":\"\"}},\"type\":\"scattergl\"}],\"scattermapbox\":[{\"marker\":{\"colorbar\":{\"outlinewidth\":0,\"ticks\":\"\"}},\"type\":\"scattermapbox\"}],\"scatterpolargl\":[{\"marker\":{\"colorbar\":{\"outlinewidth\":0,\"ticks\":\"\"}},\"type\":\"scatterpolargl\"}],\"scatterpolar\":[{\"marker\":{\"colorbar\":{\"outlinewidth\":0,\"ticks\":\"\"}},\"type\":\"scatterpolar\"}],\"scatter\":[{\"marker\":{\"colorbar\":{\"outlinewidth\":0,\"ticks\":\"\"}},\"type\":\"scatter\"}],\"scatterternary\":[{\"marker\":{\"colorbar\":{\"outlinewidth\":0,\"ticks\":\"\"}},\"type\":\"scatterternary\"}],\"surface\":[{\"colorbar\":{\"outlinewidth\":0,\"ticks\":\"\"},\"colorscale\":[[0.0,\"#0d0887\"],[0.1111111111111111,\"#46039f\"],[0.2222222222222222,\"#7201a8\"],[0.3333333333333333,\"#9c179e\"],[0.4444444444444444,\"#bd3786\"],[0.5555555555555556,\"#d8576b\"],[0.6666666666666666,\"#ed7953\"],[0.7777777777777778,\"#fb9f3a\"],[0.8888888888888888,\"#fdca26\"],[1.0,\"#f0f921\"]],\"type\":\"surface\"}],\"table\":[{\"cells\":{\"fill\":{\"color\":\"#EBF0F8\"},\"line\":{\"color\":\"white\"}},\"header\":{\"fill\":{\"color\":\"#C8D4E3\"},\"line\":{\"color\":\"white\"}},\"type\":\"table\"}]},\"layout\":{\"annotationdefaults\":{\"arrowcolor\":\"#2a3f5f\",\"arrowhead\":0,\"arrowwidth\":1},\"autotypenumbers\":\"strict\",\"coloraxis\":{\"colorbar\":{\"outlinewidth\":0,\"ticks\":\"\"}},\"colorscale\":{\"diverging\":[[0,\"#8e0152\"],[0.1,\"#c51b7d\"],[0.2,\"#de77ae\"],[0.3,\"#f1b6da\"],[0.4,\"#fde0ef\"],[0.5,\"#f7f7f7\"],[0.6,\"#e6f5d0\"],[0.7,\"#b8e186\"],[0.8,\"#7fbc41\"],[0.9,\"#4d9221\"],[1,\"#276419\"]],\"sequential\":[[0.0,\"#0d0887\"],[0.1111111111111111,\"#46039f\"],[0.2222222222222222,\"#7201a8\"],[0.3333333333333333,\"#9c179e\"],[0.4444444444444444,\"#bd3786\"],[0.5555555555555556,\"#d8576b\"],[0.6666666666666666,\"#ed7953\"],[0.7777777777777778,\"#fb9f3a\"],[0.8888888888888888,\"#fdca26\"],[1.0,\"#f0f921\"]],\"sequentialminus\":[[0.0,\"#0d0887\"],[0.1111111111111111,\"#46039f\"],[0.2222222222222222,\"#7201a8\"],[0.3333333333333333,\"#9c179e\"],[0.4444444444444444,\"#bd3786\"],[0.5555555555555556,\"#d8576b\"],[0.6666666666666666,\"#ed7953\"],[0.7777777777777778,\"#fb9f3a\"],[0.8888888888888888,\"#fdca26\"],[1.0,\"#f0f921\"]]},\"colorway\":[\"#636efa\",\"#EF553B\",\"#00cc96\",\"#ab63fa\",\"#FFA15A\",\"#19d3f3\",\"#FF6692\",\"#B6E880\",\"#FF97FF\",\"#FECB52\"],\"font\":{\"color\":\"#2a3f5f\"},\"geo\":{\"bgcolor\":\"white\",\"lakecolor\":\"white\",\"landcolor\":\"#E5ECF6\",\"showlakes\":true,\"showland\":true,\"subunitcolor\":\"white\"},\"hoverlabel\":{\"align\":\"left\"},\"hovermode\":\"closest\",\"mapbox\":{\"style\":\"light\"},\"paper_bgcolor\":\"white\",\"plot_bgcolor\":\"#E5ECF6\",\"polar\":{\"angularaxis\":{\"gridcolor\":\"white\",\"linecolor\":\"white\",\"ticks\":\"\"},\"bgcolor\":\"#E5ECF6\",\"radialaxis\":{\"gridcolor\":\"white\",\"linecolor\":\"white\",\"ticks\":\"\"}},\"scene\":{\"xaxis\":{\"backgroundcolor\":\"#E5ECF6\",\"gridcolor\":\"white\",\"gridwidth\":2,\"linecolor\":\"white\",\"showbackground\":true,\"ticks\":\"\",\"zerolinecolor\":\"white\"},\"yaxis\":{\"backgroundcolor\":\"#E5ECF6\",\"gridcolor\":\"white\",\"gridwidth\":2,\"linecolor\":\"white\",\"showbackground\":true,\"ticks\":\"\",\"zerolinecolor\":\"white\"},\"zaxis\":{\"backgroundcolor\":\"#E5ECF6\",\"gridcolor\":\"white\",\"gridwidth\":2,\"linecolor\":\"white\",\"showbackground\":true,\"ticks\":\"\",\"zerolinecolor\":\"white\"}},\"shapedefaults\":{\"line\":{\"color\":\"#2a3f5f\"}},\"ternary\":{\"aaxis\":{\"gridcolor\":\"white\",\"linecolor\":\"white\",\"ticks\":\"\"},\"baxis\":{\"gridcolor\":\"white\",\"linecolor\":\"white\",\"ticks\":\"\"},\"bgcolor\":\"#E5ECF6\",\"caxis\":{\"gridcolor\":\"white\",\"linecolor\":\"white\",\"ticks\":\"\"}},\"title\":{\"x\":0.05},\"xaxis\":{\"automargin\":true,\"gridcolor\":\"white\",\"linecolor\":\"white\",\"ticks\":\"\",\"title\":{\"standoff\":15},\"zerolinecolor\":\"white\",\"zerolinewidth\":2},\"yaxis\":{\"automargin\":true,\"gridcolor\":\"white\",\"linecolor\":\"white\",\"ticks\":\"\",\"title\":{\"standoff\":15},\"zerolinecolor\":\"white\",\"zerolinewidth\":2}}},\"title\":{\"font\":{\"color\":\"#4D5663\"}},\"xaxis\":{\"gridcolor\":\"#E1E5ED\",\"showgrid\":true,\"tickfont\":{\"color\":\"#4D5663\"},\"title\":{\"font\":{\"color\":\"#4D5663\"},\"text\":\"\"},\"zerolinecolor\":\"#E1E5ED\"},\"yaxis\":{\"gridcolor\":\"#E1E5ED\",\"showgrid\":true,\"tickfont\":{\"color\":\"#4D5663\"},\"title\":{\"font\":{\"color\":\"#4D5663\"},\"text\":\"\"},\"zerolinecolor\":\"#E1E5ED\"}},                        {\"showLink\": true, \"linkText\": \"Export to plot.ly\", \"plotlyServerURL\": \"https://plot.ly\", \"responsive\": true}                    ).then(function(){\n",
       "                            \n",
       "var gd = document.getElementById('8192b447-002a-49e5-a69d-1ebcd31c6735');\n",
       "var x = new MutationObserver(function (mutations, observer) {{\n",
       "        var display = window.getComputedStyle(gd).display;\n",
       "        if (!display || display === 'none') {{\n",
       "            console.log([gd, 'removed!']);\n",
       "            Plotly.purge(gd);\n",
       "            observer.disconnect();\n",
       "        }}\n",
       "}});\n",
       "\n",
       "// Listen for the removal of the full notebook cells\n",
       "var notebookContainer = gd.closest('#notebook-container');\n",
       "if (notebookContainer) {{\n",
       "    x.observe(notebookContainer, {childList: true});\n",
       "}}\n",
       "\n",
       "// Listen for the clearing of the current output cell\n",
       "var outputEl = gd.closest('.output');\n",
       "if (outputEl) {{\n",
       "    x.observe(outputEl, {childList: true});\n",
       "}}\n",
       "\n",
       "                        })                };                });            </script>        </div>"
      ]
     },
     "metadata": {},
     "output_type": "display_data"
    }
   ],
   "source": [
    "df.iplot(kind='box')"
   ]
  },
  {
   "cell_type": "markdown",
   "metadata": {},
   "source": [
    "## 3d Surface"
   ]
  },
  {
   "cell_type": "code",
   "execution_count": 24,
   "metadata": {
    "jupyter": {
     "outputs_hidden": false
    },
    "scrolled": true
   },
   "outputs": [
    {
     "data": {
      "application/vnd.plotly.v1+json": {
       "config": {
        "linkText": "Export to plot.ly",
        "plotlyServerURL": "https://plot.ly",
        "showLink": true
       },
       "data": [
        {
         "colorscale": [
          [
           0,
           "rgb(165,0,38)"
          ],
          [
           0.1,
           "rgb(215,48,39)"
          ],
          [
           0.2,
           "rgb(244,109,67)"
          ],
          [
           0.3,
           "rgb(253,174,97)"
          ],
          [
           0.4,
           "rgb(254,224,144)"
          ],
          [
           0.5,
           "rgb(255,255,191)"
          ],
          [
           0.6,
           "rgb(224,243,248)"
          ],
          [
           0.7,
           "rgb(171,217,233)"
          ],
          [
           0.8,
           "rgb(116,173,209)"
          ],
          [
           0.9,
           "rgb(69,117,180)"
          ],
          [
           1,
           "rgb(49,54,149)"
          ]
         ],
         "type": "surface",
         "x": [
          0,
          1,
          2,
          3,
          4
         ],
         "y": [
          "x",
          "y",
          "z"
         ],
         "z": [
          [
           1,
           2,
           3,
           4,
           5
          ],
          [
           10,
           20,
           30,
           20,
           10
          ],
          [
           5,
           4,
           3,
           2,
           1
          ]
         ]
        }
       ],
       "layout": {
        "legend": {
         "bgcolor": "#F5F6F9",
         "font": {
          "color": "#4D5663"
         }
        },
        "paper_bgcolor": "#F5F6F9",
        "plot_bgcolor": "#F5F6F9",
        "template": {
         "data": {
          "bar": [
           {
            "error_x": {
             "color": "#2a3f5f"
            },
            "error_y": {
             "color": "#2a3f5f"
            },
            "marker": {
             "line": {
              "color": "#E5ECF6",
              "width": 0.5
             },
             "pattern": {
              "fillmode": "overlay",
              "size": 10,
              "solidity": 0.2
             }
            },
            "type": "bar"
           }
          ],
          "barpolar": [
           {
            "marker": {
             "line": {
              "color": "#E5ECF6",
              "width": 0.5
             },
             "pattern": {
              "fillmode": "overlay",
              "size": 10,
              "solidity": 0.2
             }
            },
            "type": "barpolar"
           }
          ],
          "carpet": [
           {
            "aaxis": {
             "endlinecolor": "#2a3f5f",
             "gridcolor": "white",
             "linecolor": "white",
             "minorgridcolor": "white",
             "startlinecolor": "#2a3f5f"
            },
            "baxis": {
             "endlinecolor": "#2a3f5f",
             "gridcolor": "white",
             "linecolor": "white",
             "minorgridcolor": "white",
             "startlinecolor": "#2a3f5f"
            },
            "type": "carpet"
           }
          ],
          "choropleth": [
           {
            "colorbar": {
             "outlinewidth": 0,
             "ticks": ""
            },
            "type": "choropleth"
           }
          ],
          "contour": [
           {
            "colorbar": {
             "outlinewidth": 0,
             "ticks": ""
            },
            "colorscale": [
             [
              0,
              "#0d0887"
             ],
             [
              0.1111111111111111,
              "#46039f"
             ],
             [
              0.2222222222222222,
              "#7201a8"
             ],
             [
              0.3333333333333333,
              "#9c179e"
             ],
             [
              0.4444444444444444,
              "#bd3786"
             ],
             [
              0.5555555555555556,
              "#d8576b"
             ],
             [
              0.6666666666666666,
              "#ed7953"
             ],
             [
              0.7777777777777778,
              "#fb9f3a"
             ],
             [
              0.8888888888888888,
              "#fdca26"
             ],
             [
              1,
              "#f0f921"
             ]
            ],
            "type": "contour"
           }
          ],
          "contourcarpet": [
           {
            "colorbar": {
             "outlinewidth": 0,
             "ticks": ""
            },
            "type": "contourcarpet"
           }
          ],
          "heatmap": [
           {
            "colorbar": {
             "outlinewidth": 0,
             "ticks": ""
            },
            "colorscale": [
             [
              0,
              "#0d0887"
             ],
             [
              0.1111111111111111,
              "#46039f"
             ],
             [
              0.2222222222222222,
              "#7201a8"
             ],
             [
              0.3333333333333333,
              "#9c179e"
             ],
             [
              0.4444444444444444,
              "#bd3786"
             ],
             [
              0.5555555555555556,
              "#d8576b"
             ],
             [
              0.6666666666666666,
              "#ed7953"
             ],
             [
              0.7777777777777778,
              "#fb9f3a"
             ],
             [
              0.8888888888888888,
              "#fdca26"
             ],
             [
              1,
              "#f0f921"
             ]
            ],
            "type": "heatmap"
           }
          ],
          "heatmapgl": [
           {
            "colorbar": {
             "outlinewidth": 0,
             "ticks": ""
            },
            "colorscale": [
             [
              0,
              "#0d0887"
             ],
             [
              0.1111111111111111,
              "#46039f"
             ],
             [
              0.2222222222222222,
              "#7201a8"
             ],
             [
              0.3333333333333333,
              "#9c179e"
             ],
             [
              0.4444444444444444,
              "#bd3786"
             ],
             [
              0.5555555555555556,
              "#d8576b"
             ],
             [
              0.6666666666666666,
              "#ed7953"
             ],
             [
              0.7777777777777778,
              "#fb9f3a"
             ],
             [
              0.8888888888888888,
              "#fdca26"
             ],
             [
              1,
              "#f0f921"
             ]
            ],
            "type": "heatmapgl"
           }
          ],
          "histogram": [
           {
            "marker": {
             "pattern": {
              "fillmode": "overlay",
              "size": 10,
              "solidity": 0.2
             }
            },
            "type": "histogram"
           }
          ],
          "histogram2d": [
           {
            "colorbar": {
             "outlinewidth": 0,
             "ticks": ""
            },
            "colorscale": [
             [
              0,
              "#0d0887"
             ],
             [
              0.1111111111111111,
              "#46039f"
             ],
             [
              0.2222222222222222,
              "#7201a8"
             ],
             [
              0.3333333333333333,
              "#9c179e"
             ],
             [
              0.4444444444444444,
              "#bd3786"
             ],
             [
              0.5555555555555556,
              "#d8576b"
             ],
             [
              0.6666666666666666,
              "#ed7953"
             ],
             [
              0.7777777777777778,
              "#fb9f3a"
             ],
             [
              0.8888888888888888,
              "#fdca26"
             ],
             [
              1,
              "#f0f921"
             ]
            ],
            "type": "histogram2d"
           }
          ],
          "histogram2dcontour": [
           {
            "colorbar": {
             "outlinewidth": 0,
             "ticks": ""
            },
            "colorscale": [
             [
              0,
              "#0d0887"
             ],
             [
              0.1111111111111111,
              "#46039f"
             ],
             [
              0.2222222222222222,
              "#7201a8"
             ],
             [
              0.3333333333333333,
              "#9c179e"
             ],
             [
              0.4444444444444444,
              "#bd3786"
             ],
             [
              0.5555555555555556,
              "#d8576b"
             ],
             [
              0.6666666666666666,
              "#ed7953"
             ],
             [
              0.7777777777777778,
              "#fb9f3a"
             ],
             [
              0.8888888888888888,
              "#fdca26"
             ],
             [
              1,
              "#f0f921"
             ]
            ],
            "type": "histogram2dcontour"
           }
          ],
          "mesh3d": [
           {
            "colorbar": {
             "outlinewidth": 0,
             "ticks": ""
            },
            "type": "mesh3d"
           }
          ],
          "parcoords": [
           {
            "line": {
             "colorbar": {
              "outlinewidth": 0,
              "ticks": ""
             }
            },
            "type": "parcoords"
           }
          ],
          "pie": [
           {
            "automargin": true,
            "type": "pie"
           }
          ],
          "scatter": [
           {
            "marker": {
             "colorbar": {
              "outlinewidth": 0,
              "ticks": ""
             }
            },
            "type": "scatter"
           }
          ],
          "scatter3d": [
           {
            "line": {
             "colorbar": {
              "outlinewidth": 0,
              "ticks": ""
             }
            },
            "marker": {
             "colorbar": {
              "outlinewidth": 0,
              "ticks": ""
             }
            },
            "type": "scatter3d"
           }
          ],
          "scattercarpet": [
           {
            "marker": {
             "colorbar": {
              "outlinewidth": 0,
              "ticks": ""
             }
            },
            "type": "scattercarpet"
           }
          ],
          "scattergeo": [
           {
            "marker": {
             "colorbar": {
              "outlinewidth": 0,
              "ticks": ""
             }
            },
            "type": "scattergeo"
           }
          ],
          "scattergl": [
           {
            "marker": {
             "colorbar": {
              "outlinewidth": 0,
              "ticks": ""
             }
            },
            "type": "scattergl"
           }
          ],
          "scattermapbox": [
           {
            "marker": {
             "colorbar": {
              "outlinewidth": 0,
              "ticks": ""
             }
            },
            "type": "scattermapbox"
           }
          ],
          "scatterpolar": [
           {
            "marker": {
             "colorbar": {
              "outlinewidth": 0,
              "ticks": ""
             }
            },
            "type": "scatterpolar"
           }
          ],
          "scatterpolargl": [
           {
            "marker": {
             "colorbar": {
              "outlinewidth": 0,
              "ticks": ""
             }
            },
            "type": "scatterpolargl"
           }
          ],
          "scatterternary": [
           {
            "marker": {
             "colorbar": {
              "outlinewidth": 0,
              "ticks": ""
             }
            },
            "type": "scatterternary"
           }
          ],
          "surface": [
           {
            "colorbar": {
             "outlinewidth": 0,
             "ticks": ""
            },
            "colorscale": [
             [
              0,
              "#0d0887"
             ],
             [
              0.1111111111111111,
              "#46039f"
             ],
             [
              0.2222222222222222,
              "#7201a8"
             ],
             [
              0.3333333333333333,
              "#9c179e"
             ],
             [
              0.4444444444444444,
              "#bd3786"
             ],
             [
              0.5555555555555556,
              "#d8576b"
             ],
             [
              0.6666666666666666,
              "#ed7953"
             ],
             [
              0.7777777777777778,
              "#fb9f3a"
             ],
             [
              0.8888888888888888,
              "#fdca26"
             ],
             [
              1,
              "#f0f921"
             ]
            ],
            "type": "surface"
           }
          ],
          "table": [
           {
            "cells": {
             "fill": {
              "color": "#EBF0F8"
             },
             "line": {
              "color": "white"
             }
            },
            "header": {
             "fill": {
              "color": "#C8D4E3"
             },
             "line": {
              "color": "white"
             }
            },
            "type": "table"
           }
          ]
         },
         "layout": {
          "annotationdefaults": {
           "arrowcolor": "#2a3f5f",
           "arrowhead": 0,
           "arrowwidth": 1
          },
          "autotypenumbers": "strict",
          "coloraxis": {
           "colorbar": {
            "outlinewidth": 0,
            "ticks": ""
           }
          },
          "colorscale": {
           "diverging": [
            [
             0,
             "#8e0152"
            ],
            [
             0.1,
             "#c51b7d"
            ],
            [
             0.2,
             "#de77ae"
            ],
            [
             0.3,
             "#f1b6da"
            ],
            [
             0.4,
             "#fde0ef"
            ],
            [
             0.5,
             "#f7f7f7"
            ],
            [
             0.6,
             "#e6f5d0"
            ],
            [
             0.7,
             "#b8e186"
            ],
            [
             0.8,
             "#7fbc41"
            ],
            [
             0.9,
             "#4d9221"
            ],
            [
             1,
             "#276419"
            ]
           ],
           "sequential": [
            [
             0,
             "#0d0887"
            ],
            [
             0.1111111111111111,
             "#46039f"
            ],
            [
             0.2222222222222222,
             "#7201a8"
            ],
            [
             0.3333333333333333,
             "#9c179e"
            ],
            [
             0.4444444444444444,
             "#bd3786"
            ],
            [
             0.5555555555555556,
             "#d8576b"
            ],
            [
             0.6666666666666666,
             "#ed7953"
            ],
            [
             0.7777777777777778,
             "#fb9f3a"
            ],
            [
             0.8888888888888888,
             "#fdca26"
            ],
            [
             1,
             "#f0f921"
            ]
           ],
           "sequentialminus": [
            [
             0,
             "#0d0887"
            ],
            [
             0.1111111111111111,
             "#46039f"
            ],
            [
             0.2222222222222222,
             "#7201a8"
            ],
            [
             0.3333333333333333,
             "#9c179e"
            ],
            [
             0.4444444444444444,
             "#bd3786"
            ],
            [
             0.5555555555555556,
             "#d8576b"
            ],
            [
             0.6666666666666666,
             "#ed7953"
            ],
            [
             0.7777777777777778,
             "#fb9f3a"
            ],
            [
             0.8888888888888888,
             "#fdca26"
            ],
            [
             1,
             "#f0f921"
            ]
           ]
          },
          "colorway": [
           "#636efa",
           "#EF553B",
           "#00cc96",
           "#ab63fa",
           "#FFA15A",
           "#19d3f3",
           "#FF6692",
           "#B6E880",
           "#FF97FF",
           "#FECB52"
          ],
          "font": {
           "color": "#2a3f5f"
          },
          "geo": {
           "bgcolor": "white",
           "lakecolor": "white",
           "landcolor": "#E5ECF6",
           "showlakes": true,
           "showland": true,
           "subunitcolor": "white"
          },
          "hoverlabel": {
           "align": "left"
          },
          "hovermode": "closest",
          "mapbox": {
           "style": "light"
          },
          "paper_bgcolor": "white",
          "plot_bgcolor": "#E5ECF6",
          "polar": {
           "angularaxis": {
            "gridcolor": "white",
            "linecolor": "white",
            "ticks": ""
           },
           "bgcolor": "#E5ECF6",
           "radialaxis": {
            "gridcolor": "white",
            "linecolor": "white",
            "ticks": ""
           }
          },
          "scene": {
           "xaxis": {
            "backgroundcolor": "#E5ECF6",
            "gridcolor": "white",
            "gridwidth": 2,
            "linecolor": "white",
            "showbackground": true,
            "ticks": "",
            "zerolinecolor": "white"
           },
           "yaxis": {
            "backgroundcolor": "#E5ECF6",
            "gridcolor": "white",
            "gridwidth": 2,
            "linecolor": "white",
            "showbackground": true,
            "ticks": "",
            "zerolinecolor": "white"
           },
           "zaxis": {
            "backgroundcolor": "#E5ECF6",
            "gridcolor": "white",
            "gridwidth": 2,
            "linecolor": "white",
            "showbackground": true,
            "ticks": "",
            "zerolinecolor": "white"
           }
          },
          "shapedefaults": {
           "line": {
            "color": "#2a3f5f"
           }
          },
          "ternary": {
           "aaxis": {
            "gridcolor": "white",
            "linecolor": "white",
            "ticks": ""
           },
           "baxis": {
            "gridcolor": "white",
            "linecolor": "white",
            "ticks": ""
           },
           "bgcolor": "#E5ECF6",
           "caxis": {
            "gridcolor": "white",
            "linecolor": "white",
            "ticks": ""
           }
          },
          "title": {
           "x": 0.05
          },
          "xaxis": {
           "automargin": true,
           "gridcolor": "white",
           "linecolor": "white",
           "ticks": "",
           "title": {
            "standoff": 15
           },
           "zerolinecolor": "white",
           "zerolinewidth": 2
          },
          "yaxis": {
           "automargin": true,
           "gridcolor": "white",
           "linecolor": "white",
           "ticks": "",
           "title": {
            "standoff": 15
           },
           "zerolinecolor": "white",
           "zerolinewidth": 2
          }
         }
        },
        "title": {
         "font": {
          "color": "#4D5663"
         }
        },
        "xaxis": {
         "gridcolor": "#E1E5ED",
         "showgrid": true,
         "tickfont": {
          "color": "#4D5663"
         },
         "title": {
          "font": {
           "color": "#4D5663"
          },
          "text": ""
         },
         "zerolinecolor": "#E1E5ED"
        },
        "yaxis": {
         "gridcolor": "#E1E5ED",
         "showgrid": true,
         "tickfont": {
          "color": "#4D5663"
         },
         "title": {
          "font": {
           "color": "#4D5663"
          },
          "text": ""
         },
         "zerolinecolor": "#E1E5ED"
        }
       }
      },
      "text/html": [
       "<div>                            <div id=\"3f215a70-afb0-480a-97a6-7e7e2b0203d2\" class=\"plotly-graph-div\" style=\"height:525px; width:100%;\"></div>            <script type=\"text/javascript\">                require([\"plotly\"], function(Plotly) {                    window.PLOTLYENV=window.PLOTLYENV || {};\n",
       "                    window.PLOTLYENV.BASE_URL='https://plot.ly';                                    if (document.getElementById(\"3f215a70-afb0-480a-97a6-7e7e2b0203d2\")) {                    Plotly.newPlot(                        \"3f215a70-afb0-480a-97a6-7e7e2b0203d2\",                        [{\"colorscale\":[[0.0,\"rgb(165,0,38)\"],[0.1,\"rgb(215,48,39)\"],[0.2,\"rgb(244,109,67)\"],[0.3,\"rgb(253,174,97)\"],[0.4,\"rgb(254,224,144)\"],[0.5,\"rgb(255,255,191)\"],[0.6,\"rgb(224,243,248)\"],[0.7,\"rgb(171,217,233)\"],[0.8,\"rgb(116,173,209)\"],[0.9,\"rgb(69,117,180)\"],[1.0,\"rgb(49,54,149)\"]],\"x\":[0,1,2,3,4],\"y\":[\"x\",\"y\",\"z\"],\"z\":[[1,2,3,4,5],[10,20,30,20,10],[5,4,3,2,1]],\"type\":\"surface\"}],                        {\"legend\":{\"bgcolor\":\"#F5F6F9\",\"font\":{\"color\":\"#4D5663\"}},\"paper_bgcolor\":\"#F5F6F9\",\"plot_bgcolor\":\"#F5F6F9\",\"template\":{\"data\":{\"barpolar\":[{\"marker\":{\"line\":{\"color\":\"#E5ECF6\",\"width\":0.5},\"pattern\":{\"fillmode\":\"overlay\",\"size\":10,\"solidity\":0.2}},\"type\":\"barpolar\"}],\"bar\":[{\"error_x\":{\"color\":\"#2a3f5f\"},\"error_y\":{\"color\":\"#2a3f5f\"},\"marker\":{\"line\":{\"color\":\"#E5ECF6\",\"width\":0.5},\"pattern\":{\"fillmode\":\"overlay\",\"size\":10,\"solidity\":0.2}},\"type\":\"bar\"}],\"carpet\":[{\"aaxis\":{\"endlinecolor\":\"#2a3f5f\",\"gridcolor\":\"white\",\"linecolor\":\"white\",\"minorgridcolor\":\"white\",\"startlinecolor\":\"#2a3f5f\"},\"baxis\":{\"endlinecolor\":\"#2a3f5f\",\"gridcolor\":\"white\",\"linecolor\":\"white\",\"minorgridcolor\":\"white\",\"startlinecolor\":\"#2a3f5f\"},\"type\":\"carpet\"}],\"choropleth\":[{\"colorbar\":{\"outlinewidth\":0,\"ticks\":\"\"},\"type\":\"choropleth\"}],\"contourcarpet\":[{\"colorbar\":{\"outlinewidth\":0,\"ticks\":\"\"},\"type\":\"contourcarpet\"}],\"contour\":[{\"colorbar\":{\"outlinewidth\":0,\"ticks\":\"\"},\"colorscale\":[[0.0,\"#0d0887\"],[0.1111111111111111,\"#46039f\"],[0.2222222222222222,\"#7201a8\"],[0.3333333333333333,\"#9c179e\"],[0.4444444444444444,\"#bd3786\"],[0.5555555555555556,\"#d8576b\"],[0.6666666666666666,\"#ed7953\"],[0.7777777777777778,\"#fb9f3a\"],[0.8888888888888888,\"#fdca26\"],[1.0,\"#f0f921\"]],\"type\":\"contour\"}],\"heatmapgl\":[{\"colorbar\":{\"outlinewidth\":0,\"ticks\":\"\"},\"colorscale\":[[0.0,\"#0d0887\"],[0.1111111111111111,\"#46039f\"],[0.2222222222222222,\"#7201a8\"],[0.3333333333333333,\"#9c179e\"],[0.4444444444444444,\"#bd3786\"],[0.5555555555555556,\"#d8576b\"],[0.6666666666666666,\"#ed7953\"],[0.7777777777777778,\"#fb9f3a\"],[0.8888888888888888,\"#fdca26\"],[1.0,\"#f0f921\"]],\"type\":\"heatmapgl\"}],\"heatmap\":[{\"colorbar\":{\"outlinewidth\":0,\"ticks\":\"\"},\"colorscale\":[[0.0,\"#0d0887\"],[0.1111111111111111,\"#46039f\"],[0.2222222222222222,\"#7201a8\"],[0.3333333333333333,\"#9c179e\"],[0.4444444444444444,\"#bd3786\"],[0.5555555555555556,\"#d8576b\"],[0.6666666666666666,\"#ed7953\"],[0.7777777777777778,\"#fb9f3a\"],[0.8888888888888888,\"#fdca26\"],[1.0,\"#f0f921\"]],\"type\":\"heatmap\"}],\"histogram2dcontour\":[{\"colorbar\":{\"outlinewidth\":0,\"ticks\":\"\"},\"colorscale\":[[0.0,\"#0d0887\"],[0.1111111111111111,\"#46039f\"],[0.2222222222222222,\"#7201a8\"],[0.3333333333333333,\"#9c179e\"],[0.4444444444444444,\"#bd3786\"],[0.5555555555555556,\"#d8576b\"],[0.6666666666666666,\"#ed7953\"],[0.7777777777777778,\"#fb9f3a\"],[0.8888888888888888,\"#fdca26\"],[1.0,\"#f0f921\"]],\"type\":\"histogram2dcontour\"}],\"histogram2d\":[{\"colorbar\":{\"outlinewidth\":0,\"ticks\":\"\"},\"colorscale\":[[0.0,\"#0d0887\"],[0.1111111111111111,\"#46039f\"],[0.2222222222222222,\"#7201a8\"],[0.3333333333333333,\"#9c179e\"],[0.4444444444444444,\"#bd3786\"],[0.5555555555555556,\"#d8576b\"],[0.6666666666666666,\"#ed7953\"],[0.7777777777777778,\"#fb9f3a\"],[0.8888888888888888,\"#fdca26\"],[1.0,\"#f0f921\"]],\"type\":\"histogram2d\"}],\"histogram\":[{\"marker\":{\"pattern\":{\"fillmode\":\"overlay\",\"size\":10,\"solidity\":0.2}},\"type\":\"histogram\"}],\"mesh3d\":[{\"colorbar\":{\"outlinewidth\":0,\"ticks\":\"\"},\"type\":\"mesh3d\"}],\"parcoords\":[{\"line\":{\"colorbar\":{\"outlinewidth\":0,\"ticks\":\"\"}},\"type\":\"parcoords\"}],\"pie\":[{\"automargin\":true,\"type\":\"pie\"}],\"scatter3d\":[{\"line\":{\"colorbar\":{\"outlinewidth\":0,\"ticks\":\"\"}},\"marker\":{\"colorbar\":{\"outlinewidth\":0,\"ticks\":\"\"}},\"type\":\"scatter3d\"}],\"scattercarpet\":[{\"marker\":{\"colorbar\":{\"outlinewidth\":0,\"ticks\":\"\"}},\"type\":\"scattercarpet\"}],\"scattergeo\":[{\"marker\":{\"colorbar\":{\"outlinewidth\":0,\"ticks\":\"\"}},\"type\":\"scattergeo\"}],\"scattergl\":[{\"marker\":{\"colorbar\":{\"outlinewidth\":0,\"ticks\":\"\"}},\"type\":\"scattergl\"}],\"scattermapbox\":[{\"marker\":{\"colorbar\":{\"outlinewidth\":0,\"ticks\":\"\"}},\"type\":\"scattermapbox\"}],\"scatterpolargl\":[{\"marker\":{\"colorbar\":{\"outlinewidth\":0,\"ticks\":\"\"}},\"type\":\"scatterpolargl\"}],\"scatterpolar\":[{\"marker\":{\"colorbar\":{\"outlinewidth\":0,\"ticks\":\"\"}},\"type\":\"scatterpolar\"}],\"scatter\":[{\"marker\":{\"colorbar\":{\"outlinewidth\":0,\"ticks\":\"\"}},\"type\":\"scatter\"}],\"scatterternary\":[{\"marker\":{\"colorbar\":{\"outlinewidth\":0,\"ticks\":\"\"}},\"type\":\"scatterternary\"}],\"surface\":[{\"colorbar\":{\"outlinewidth\":0,\"ticks\":\"\"},\"colorscale\":[[0.0,\"#0d0887\"],[0.1111111111111111,\"#46039f\"],[0.2222222222222222,\"#7201a8\"],[0.3333333333333333,\"#9c179e\"],[0.4444444444444444,\"#bd3786\"],[0.5555555555555556,\"#d8576b\"],[0.6666666666666666,\"#ed7953\"],[0.7777777777777778,\"#fb9f3a\"],[0.8888888888888888,\"#fdca26\"],[1.0,\"#f0f921\"]],\"type\":\"surface\"}],\"table\":[{\"cells\":{\"fill\":{\"color\":\"#EBF0F8\"},\"line\":{\"color\":\"white\"}},\"header\":{\"fill\":{\"color\":\"#C8D4E3\"},\"line\":{\"color\":\"white\"}},\"type\":\"table\"}]},\"layout\":{\"annotationdefaults\":{\"arrowcolor\":\"#2a3f5f\",\"arrowhead\":0,\"arrowwidth\":1},\"autotypenumbers\":\"strict\",\"coloraxis\":{\"colorbar\":{\"outlinewidth\":0,\"ticks\":\"\"}},\"colorscale\":{\"diverging\":[[0,\"#8e0152\"],[0.1,\"#c51b7d\"],[0.2,\"#de77ae\"],[0.3,\"#f1b6da\"],[0.4,\"#fde0ef\"],[0.5,\"#f7f7f7\"],[0.6,\"#e6f5d0\"],[0.7,\"#b8e186\"],[0.8,\"#7fbc41\"],[0.9,\"#4d9221\"],[1,\"#276419\"]],\"sequential\":[[0.0,\"#0d0887\"],[0.1111111111111111,\"#46039f\"],[0.2222222222222222,\"#7201a8\"],[0.3333333333333333,\"#9c179e\"],[0.4444444444444444,\"#bd3786\"],[0.5555555555555556,\"#d8576b\"],[0.6666666666666666,\"#ed7953\"],[0.7777777777777778,\"#fb9f3a\"],[0.8888888888888888,\"#fdca26\"],[1.0,\"#f0f921\"]],\"sequentialminus\":[[0.0,\"#0d0887\"],[0.1111111111111111,\"#46039f\"],[0.2222222222222222,\"#7201a8\"],[0.3333333333333333,\"#9c179e\"],[0.4444444444444444,\"#bd3786\"],[0.5555555555555556,\"#d8576b\"],[0.6666666666666666,\"#ed7953\"],[0.7777777777777778,\"#fb9f3a\"],[0.8888888888888888,\"#fdca26\"],[1.0,\"#f0f921\"]]},\"colorway\":[\"#636efa\",\"#EF553B\",\"#00cc96\",\"#ab63fa\",\"#FFA15A\",\"#19d3f3\",\"#FF6692\",\"#B6E880\",\"#FF97FF\",\"#FECB52\"],\"font\":{\"color\":\"#2a3f5f\"},\"geo\":{\"bgcolor\":\"white\",\"lakecolor\":\"white\",\"landcolor\":\"#E5ECF6\",\"showlakes\":true,\"showland\":true,\"subunitcolor\":\"white\"},\"hoverlabel\":{\"align\":\"left\"},\"hovermode\":\"closest\",\"mapbox\":{\"style\":\"light\"},\"paper_bgcolor\":\"white\",\"plot_bgcolor\":\"#E5ECF6\",\"polar\":{\"angularaxis\":{\"gridcolor\":\"white\",\"linecolor\":\"white\",\"ticks\":\"\"},\"bgcolor\":\"#E5ECF6\",\"radialaxis\":{\"gridcolor\":\"white\",\"linecolor\":\"white\",\"ticks\":\"\"}},\"scene\":{\"xaxis\":{\"backgroundcolor\":\"#E5ECF6\",\"gridcolor\":\"white\",\"gridwidth\":2,\"linecolor\":\"white\",\"showbackground\":true,\"ticks\":\"\",\"zerolinecolor\":\"white\"},\"yaxis\":{\"backgroundcolor\":\"#E5ECF6\",\"gridcolor\":\"white\",\"gridwidth\":2,\"linecolor\":\"white\",\"showbackground\":true,\"ticks\":\"\",\"zerolinecolor\":\"white\"},\"zaxis\":{\"backgroundcolor\":\"#E5ECF6\",\"gridcolor\":\"white\",\"gridwidth\":2,\"linecolor\":\"white\",\"showbackground\":true,\"ticks\":\"\",\"zerolinecolor\":\"white\"}},\"shapedefaults\":{\"line\":{\"color\":\"#2a3f5f\"}},\"ternary\":{\"aaxis\":{\"gridcolor\":\"white\",\"linecolor\":\"white\",\"ticks\":\"\"},\"baxis\":{\"gridcolor\":\"white\",\"linecolor\":\"white\",\"ticks\":\"\"},\"bgcolor\":\"#E5ECF6\",\"caxis\":{\"gridcolor\":\"white\",\"linecolor\":\"white\",\"ticks\":\"\"}},\"title\":{\"x\":0.05},\"xaxis\":{\"automargin\":true,\"gridcolor\":\"white\",\"linecolor\":\"white\",\"ticks\":\"\",\"title\":{\"standoff\":15},\"zerolinecolor\":\"white\",\"zerolinewidth\":2},\"yaxis\":{\"automargin\":true,\"gridcolor\":\"white\",\"linecolor\":\"white\",\"ticks\":\"\",\"title\":{\"standoff\":15},\"zerolinecolor\":\"white\",\"zerolinewidth\":2}}},\"title\":{\"font\":{\"color\":\"#4D5663\"}},\"xaxis\":{\"gridcolor\":\"#E1E5ED\",\"showgrid\":true,\"tickfont\":{\"color\":\"#4D5663\"},\"title\":{\"font\":{\"color\":\"#4D5663\"},\"text\":\"\"},\"zerolinecolor\":\"#E1E5ED\"},\"yaxis\":{\"gridcolor\":\"#E1E5ED\",\"showgrid\":true,\"tickfont\":{\"color\":\"#4D5663\"},\"title\":{\"font\":{\"color\":\"#4D5663\"},\"text\":\"\"},\"zerolinecolor\":\"#E1E5ED\"}},                        {\"showLink\": true, \"linkText\": \"Export to plot.ly\", \"plotlyServerURL\": \"https://plot.ly\", \"responsive\": true}                    ).then(function(){\n",
       "                            \n",
       "var gd = document.getElementById('3f215a70-afb0-480a-97a6-7e7e2b0203d2');\n",
       "var x = new MutationObserver(function (mutations, observer) {{\n",
       "        var display = window.getComputedStyle(gd).display;\n",
       "        if (!display || display === 'none') {{\n",
       "            console.log([gd, 'removed!']);\n",
       "            Plotly.purge(gd);\n",
       "            observer.disconnect();\n",
       "        }}\n",
       "}});\n",
       "\n",
       "// Listen for the removal of the full notebook cells\n",
       "var notebookContainer = gd.closest('#notebook-container');\n",
       "if (notebookContainer) {{\n",
       "    x.observe(notebookContainer, {childList: true});\n",
       "}}\n",
       "\n",
       "// Listen for the clearing of the current output cell\n",
       "var outputEl = gd.closest('.output');\n",
       "if (outputEl) {{\n",
       "    x.observe(outputEl, {childList: true});\n",
       "}}\n",
       "\n",
       "                        })                };                });            </script>        </div>"
      ]
     },
     "metadata": {},
     "output_type": "display_data"
    }
   ],
   "source": [
    "df3 = pd.DataFrame({'x':[1,2,3,4,5],'y':[10,20,30,20,10],'z':[5,4,3,2,1]})\n",
    "df3.iplot(kind='surface',colorscale='rdylbu')"
   ]
  },
  {
   "cell_type": "code",
   "execution_count": 25,
   "metadata": {},
   "outputs": [
    {
     "data": {
      "text/html": [
       "<div>\n",
       "<style scoped>\n",
       "    .dataframe tbody tr th:only-of-type {\n",
       "        vertical-align: middle;\n",
       "    }\n",
       "\n",
       "    .dataframe tbody tr th {\n",
       "        vertical-align: top;\n",
       "    }\n",
       "\n",
       "    .dataframe thead th {\n",
       "        text-align: right;\n",
       "    }\n",
       "</style>\n",
       "<table border=\"1\" class=\"dataframe\">\n",
       "  <thead>\n",
       "    <tr style=\"text-align: right;\">\n",
       "      <th></th>\n",
       "      <th>x</th>\n",
       "      <th>y</th>\n",
       "      <th>z</th>\n",
       "    </tr>\n",
       "  </thead>\n",
       "  <tbody>\n",
       "    <tr>\n",
       "      <th>0</th>\n",
       "      <td>1</td>\n",
       "      <td>10</td>\n",
       "      <td>5</td>\n",
       "    </tr>\n",
       "    <tr>\n",
       "      <th>1</th>\n",
       "      <td>2</td>\n",
       "      <td>20</td>\n",
       "      <td>4</td>\n",
       "    </tr>\n",
       "    <tr>\n",
       "      <th>2</th>\n",
       "      <td>3</td>\n",
       "      <td>30</td>\n",
       "      <td>3</td>\n",
       "    </tr>\n",
       "    <tr>\n",
       "      <th>3</th>\n",
       "      <td>4</td>\n",
       "      <td>20</td>\n",
       "      <td>2</td>\n",
       "    </tr>\n",
       "    <tr>\n",
       "      <th>4</th>\n",
       "      <td>5</td>\n",
       "      <td>10</td>\n",
       "      <td>1</td>\n",
       "    </tr>\n",
       "  </tbody>\n",
       "</table>\n",
       "</div>"
      ],
      "text/plain": [
       "   x   y  z\n",
       "0  1  10  5\n",
       "1  2  20  4\n",
       "2  3  30  3\n",
       "3  4  20  2\n",
       "4  5  10  1"
      ]
     },
     "execution_count": 25,
     "metadata": {},
     "output_type": "execute_result"
    }
   ],
   "source": [
    "df3"
   ]
  },
  {
   "cell_type": "markdown",
   "metadata": {},
   "source": [
    "## Spread"
   ]
  },
  {
   "cell_type": "code",
   "execution_count": 26,
   "metadata": {
    "jupyter": {
     "outputs_hidden": false
    },
    "scrolled": true
   },
   "outputs": [
    {
     "name": "stderr",
     "output_type": "stream",
     "text": [
      "C:\\Users\\gongl\\Anaconda3\\lib\\site-packages\\cufflinks\\plotlytools.py:849: FutureWarning:\n",
      "\n",
      "The pandas.np module is deprecated and will be removed from pandas in a future version. Import numpy directly instead\n",
      "\n",
      "C:\\Users\\gongl\\Anaconda3\\lib\\site-packages\\cufflinks\\plotlytools.py:850: FutureWarning:\n",
      "\n",
      "The pandas.np module is deprecated and will be removed from pandas in a future version. Import numpy directly instead\n",
      "\n"
     ]
    },
    {
     "data": {
      "application/vnd.plotly.v1+json": {
       "config": {
        "linkText": "Export to plot.ly",
        "plotlyServerURL": "https://plot.ly",
        "showLink": true
       },
       "data": [
        {
         "line": {
          "color": "rgba(255, 153, 51, 1.0)",
          "dash": "solid",
          "shape": "linear",
          "width": 1.3
         },
         "mode": "lines",
         "name": "A",
         "text": "",
         "type": "scatter",
         "x": [
          0,
          1,
          2,
          3,
          4,
          5,
          6,
          7,
          8,
          9,
          10,
          11,
          12,
          13,
          14,
          15,
          16,
          17,
          18,
          19,
          20,
          21,
          22,
          23,
          24,
          25,
          26,
          27,
          28,
          29,
          30,
          31,
          32,
          33,
          34,
          35,
          36,
          37,
          38,
          39,
          40,
          41,
          42,
          43,
          44,
          45,
          46,
          47,
          48,
          49,
          50,
          51,
          52,
          53,
          54,
          55,
          56,
          57,
          58,
          59,
          60,
          61,
          62,
          63,
          64,
          65,
          66,
          67,
          68,
          69,
          70,
          71,
          72,
          73,
          74,
          75,
          76,
          77,
          78,
          79,
          80,
          81,
          82,
          83,
          84,
          85,
          86,
          87,
          88,
          89,
          90,
          91,
          92,
          93,
          94,
          95,
          96,
          97,
          98,
          99
         ],
         "y": [
          -1.727725252579994,
          -0.6523954972283168,
          1.7111687573755276,
          1.8854926884160432,
          0.2797752300463759,
          -0.12278394235318713,
          -2.4629864633042837,
          -0.78629519698013,
          1.5013687819523045,
          0.5778433356227098,
          -2.1250130799216187,
          0.3074884774377496,
          -0.39557538193393044,
          -0.7210189703241677,
          0.6061344398049183,
          0.7253202601114827,
          0.7539556248165138,
          -0.6899826023857759,
          -1.9861820267153667,
          2.4724627179818857,
          -1.4921740674205082,
          0.21778649632986308,
          -1.2225982276441731,
          0.3022845411813817,
          0.5009163667793719,
          -0.27518666748581294,
          0.3332232948659106,
          0.5530183129927184,
          2.1813543514946936,
          2.3674713894348414,
          0.4040344645695381,
          0.1038752830651099,
          0.8189814485190792,
          0.6565628023965491,
          0.9649713911033581,
          0.4770077483354942,
          -1.1877719893116574,
          -0.3185818235127667,
          -0.4156429945784772,
          0.09263219619292881,
          1.1664812938353366,
          -1.664581973843618,
          0.8941099556511569,
          -0.059261618500232864,
          -0.42899090930167383,
          1.4204537434359545,
          -1.9614667808680513,
          0.5392218409350615,
          0.47024725448087334,
          1.1467256719334287,
          0.6683405973503002,
          -0.1653528442340094,
          0.2720390477214452,
          -0.6859510913281808,
          0.873018803874626,
          -0.4897179349388602,
          0.2791268821380968,
          -0.01369544344158681,
          0.9219045630189825,
          -0.17979824847298675,
          -1.4115107328459895,
          -0.4411751400820583,
          -0.13716549658502647,
          1.0502522594862551,
          -0.19931089910380348,
          1.2830450947207823,
          -0.7369514961753213,
          -0.43860412360855694,
          1.0940477429003814,
          0.8058780282388065,
          -0.2924536277044239,
          2.852728649349453,
          0.04370968310871116,
          -0.8464521149500591,
          2.28771812749006,
          0.010509765405440371,
          -1.4659896454578434,
          0.36111835740287185,
          1.080204647892336,
          0.21540806709294769,
          -1.2746246503442467,
          -0.7772846266240038,
          1.0151964174987262,
          -0.06308949328548494,
          0.6685557331125359,
          1.613021300620463,
          0.47658038207031683,
          -0.0906659850021094,
          -0.2727332447383256,
          -1.1830977459293435,
          1.5018775786963818,
          1.1466140817409018,
          -0.5606275116117502,
          -0.10446970457486329,
          0.3496968132069453,
          -0.6288080145360863,
          0.17515626102678597,
          0.4300673887181837,
          -0.1627117716049884,
          -1.1241376448948244
         ]
        },
        {
         "line": {
          "color": "rgba(55, 128, 191, 1.0)",
          "dash": "solid",
          "shape": "linear",
          "width": 1.3
         },
         "mode": "lines",
         "name": "B",
         "text": "",
         "type": "scatter",
         "x": [
          0,
          1,
          2,
          3,
          4,
          5,
          6,
          7,
          8,
          9,
          10,
          11,
          12,
          13,
          14,
          15,
          16,
          17,
          18,
          19,
          20,
          21,
          22,
          23,
          24,
          25,
          26,
          27,
          28,
          29,
          30,
          31,
          32,
          33,
          34,
          35,
          36,
          37,
          38,
          39,
          40,
          41,
          42,
          43,
          44,
          45,
          46,
          47,
          48,
          49,
          50,
          51,
          52,
          53,
          54,
          55,
          56,
          57,
          58,
          59,
          60,
          61,
          62,
          63,
          64,
          65,
          66,
          67,
          68,
          69,
          70,
          71,
          72,
          73,
          74,
          75,
          76,
          77,
          78,
          79,
          80,
          81,
          82,
          83,
          84,
          85,
          86,
          87,
          88,
          89,
          90,
          91,
          92,
          93,
          94,
          95,
          96,
          97,
          98,
          99
         ],
         "y": [
          -0.35927390814104476,
          0.27484927832288925,
          -1.8402446516963689,
          0.4198969961056575,
          0.4408799218403844,
          -0.665006993082131,
          0.46215986015186405,
          0.5573938040479566,
          0.6821486464071536,
          -0.43277368434188607,
          -1.2513044483714728,
          -0.11800881518163064,
          0.4836095280558225,
          0.7198624924810973,
          0.769734040934067,
          0.32344267033603896,
          -0.5870259090687044,
          1.3764179686571287,
          0.5414625905049074,
          -0.598832443850317,
          -0.3195569510147842,
          1.2187240035662579,
          1.7219914761158468,
          1.0019398201832288,
          1.2712216685342188,
          -0.15169413108128366,
          -2.0769689079471245,
          -0.24617444450180453,
          0.2170377560005709,
          -0.2729310917822944,
          1.0580304337908448,
          0.49066385442413696,
          -0.0634690171707887,
          0.8761236894078324,
          -1.156182292111743,
          -1.7239496549607745,
          0.39963598889609775,
          -1.2405253270562735,
          -1.0844575996887613,
          0.9674204439722415,
          -2.3541883593272517,
          0.8451426886740392,
          0.48949596951889196,
          -1.048367046734212,
          -1.7815751279077898,
          0.09603552656022948,
          1.022949626357811,
          -1.0023988657385754,
          1.426874982960192,
          1.3283805405466318,
          -0.6826435013929715,
          -0.06948124309346751,
          1.197488186443602,
          1.2254917825595262,
          -1.0980833401848957,
          -1.2936343077373555,
          1.1510079929317878,
          0.8458703244821476,
          -1.2145888081746545,
          -0.8788190625374599,
          -1.5966273166290912,
          -0.7875422511564634,
          -0.1341321161518695,
          -1.4763238379407928,
          0.20797838521634457,
          -0.8900356418694271,
          -0.03371763647518824,
          0.7039356095584622,
          0.04616317679909543,
          0.6189737947401249,
          -0.020343437881330532,
          0.5241198908709517,
          -0.7207502317444129,
          -0.5982659043959154,
          -0.9178947753869992,
          1.2093861312135417,
          0.8309601781784342,
          0.5021465962618618,
          0.7693337137248092,
          0.8802821133026897,
          0.8837223679022095,
          0.4640030703367322,
          0.4763622196705976,
          1.4159694950025428,
          -0.29871965306664355,
          -0.8294071562311018,
          2.3446506464640398,
          -1.8637575195725096,
          -0.9628217613471104,
          -0.8981321973001141,
          -1.2529064074869203,
          -0.9883955824352328,
          0.3543575984448734,
          -0.9402400967736599,
          0.27223807132119077,
          -2.1523011662984852,
          1.692728902747629,
          -1.41854939516216,
          -0.2837856089408107,
          -2.0512938927588813
         ]
        },
        {
         "connectgaps": false,
         "fill": "tozeroy",
         "line": {
          "color": "green",
          "dash": "solid",
          "shape": "linear",
          "width": 0.5
         },
         "mode": "lines",
         "name": "Spread",
         "showlegend": false,
         "type": "scatter",
         "x": [
          0,
          1,
          2,
          3,
          4,
          5,
          6,
          7,
          8,
          9,
          10,
          11,
          12,
          13,
          14,
          15,
          16,
          17,
          18,
          19,
          20,
          21,
          22,
          23,
          24,
          25,
          26,
          27,
          28,
          29,
          30,
          31,
          32,
          33,
          34,
          35,
          36,
          37,
          38,
          39,
          40,
          41,
          42,
          43,
          44,
          45,
          46,
          47,
          48,
          49,
          50,
          51,
          52,
          53,
          54,
          55,
          56,
          57,
          58,
          59,
          60,
          61,
          62,
          63,
          64,
          65,
          66,
          67,
          68,
          69,
          70,
          71,
          72,
          73,
          74,
          75,
          76,
          77,
          78,
          79,
          80,
          81,
          82,
          83,
          84,
          85,
          86,
          87,
          88,
          89,
          90,
          91,
          92,
          93,
          94,
          95,
          96,
          97,
          98,
          99
         ],
         "xaxis": "x2",
         "y": [
          "",
          "",
          3.5514134090718965,
          1.4655956923103857,
          "",
          0.5422230507289438,
          "",
          "",
          0.8192201355451509,
          1.0106170199645959,
          "",
          0.42549729261938024,
          "",
          "",
          "",
          0.4018775897754437,
          1.3409815338852182,
          "",
          "",
          3.071295161832203,
          "",
          "",
          "",
          "",
          "",
          "",
          2.410192202813035,
          0.799192757494523,
          1.9643165954941226,
          2.640402481217136,
          "",
          "",
          0.8824504656898678,
          "",
          2.121153683215101,
          2.2009574032962687,
          "",
          0.9219435035435068,
          0.6688146051102841,
          "",
          3.5206696531625883,
          "",
          0.40461398613226496,
          0.9891054282339793,
          1.352584218606116,
          1.324418216875725,
          "",
          1.541620706673637,
          "",
          "",
          1.3509840987432717,
          "",
          "",
          "",
          1.9711021440595218,
          0.8039163727984954,
          "",
          "",
          2.136493371193637,
          0.6990208140644731,
          0.1851165837831017,
          0.34636711107440504,
          "",
          2.526576097427048,
          "",
          2.1730807365902094,
          "",
          "",
          1.047884566101286,
          0.18690423349868157,
          "",
          2.3286087584785014,
          0.764459914853124,
          "",
          3.2056129028770592,
          "",
          "",
          "",
          0.31087093416752676,
          "",
          "",
          "",
          0.5388341978281286,
          "",
          0.9672753861791794,
          2.442428456851565,
          "",
          1.7730915345704001,
          0.6900885166087848,
          "",
          2.754783986183302,
          2.1350096641761347,
          "",
          0.8357703921987967,
          0.07745874188575452,
          1.5234931517623989,
          "",
          1.8486167838803436,
          0.12107383733582228,
          0.9271562478640569
         ],
         "yaxis": "y2"
        },
        {
         "connectgaps": false,
         "fill": "tozeroy",
         "line": {
          "color": "red",
          "dash": "solid",
          "shape": "linear",
          "width": 0.5
         },
         "mode": "lines",
         "name": "Spread",
         "showlegend": false,
         "type": "scatter",
         "x": [
          0,
          1,
          2,
          3,
          4,
          5,
          6,
          7,
          8,
          9,
          10,
          11,
          12,
          13,
          14,
          15,
          16,
          17,
          18,
          19,
          20,
          21,
          22,
          23,
          24,
          25,
          26,
          27,
          28,
          29,
          30,
          31,
          32,
          33,
          34,
          35,
          36,
          37,
          38,
          39,
          40,
          41,
          42,
          43,
          44,
          45,
          46,
          47,
          48,
          49,
          50,
          51,
          52,
          53,
          54,
          55,
          56,
          57,
          58,
          59,
          60,
          61,
          62,
          63,
          64,
          65,
          66,
          67,
          68,
          69,
          70,
          71,
          72,
          73,
          74,
          75,
          76,
          77,
          78,
          79,
          80,
          81,
          82,
          83,
          84,
          85,
          86,
          87,
          88,
          89,
          90,
          91,
          92,
          93,
          94,
          95,
          96,
          97,
          98,
          99
         ],
         "xaxis": "x2",
         "y": [
          -1.3684513444389492,
          -0.9272447755512061,
          "",
          "",
          -0.1611046917940085,
          "",
          -2.925146323456148,
          -1.3436890010280864,
          "",
          "",
          -0.8737086315501459,
          "",
          -0.879184909989753,
          -1.440881462805265,
          -0.16359960112914873,
          "",
          "",
          -2.0664005710429048,
          -2.527644617220274,
          "",
          -1.172617116405724,
          -1.0009375072363949,
          -2.9445897037600197,
          -0.6996552790018471,
          -0.7703053017548469,
          -0.12349253640452929,
          "",
          "",
          "",
          "",
          -0.6539959692213066,
          -0.38678857135902706,
          "",
          -0.2195608870112833,
          "",
          "",
          -1.587407978207755,
          "",
          "",
          -0.8747882477793126,
          "",
          -2.509724662517657,
          "",
          "",
          "",
          "",
          -2.9844164072258623,
          "",
          -0.9566277284793188,
          -0.18165486861320312,
          "",
          -0.09587160114054188,
          -0.9254491387221568,
          -1.911442873887707,
          "",
          "",
          -0.871881110793691,
          -0.8595657679237344,
          "",
          "",
          "",
          "",
          -0.003033380433156957,
          "",
          -0.40728928432014805,
          "",
          -0.7032338597001331,
          -1.1425397331670193,
          "",
          "",
          -0.2721101898230934,
          "",
          "",
          -0.2481862105541437,
          "",
          -1.1988763658081012,
          -2.2969498236362775,
          -0.1410282388589899,
          "",
          -0.664874046209742,
          -2.158347018246456,
          -1.241287696960736,
          "",
          -1.4790589882880276,
          "",
          "",
          -1.8680702643937228,
          "",
          "",
          -0.2849655486292294,
          "",
          "",
          -0.9149851100566235,
          "",
          "",
          "",
          -1.517572641720843,
          "",
          "",
          ""
         ],
         "yaxis": "y2"
        }
       ],
       "layout": {
        "hovermode": "x",
        "legend": {
         "bgcolor": "#F5F6F9",
         "font": {
          "color": "#4D5663"
         }
        },
        "paper_bgcolor": "#F5F6F9",
        "plot_bgcolor": "#F5F6F9",
        "template": {
         "data": {
          "bar": [
           {
            "error_x": {
             "color": "#2a3f5f"
            },
            "error_y": {
             "color": "#2a3f5f"
            },
            "marker": {
             "line": {
              "color": "#E5ECF6",
              "width": 0.5
             },
             "pattern": {
              "fillmode": "overlay",
              "size": 10,
              "solidity": 0.2
             }
            },
            "type": "bar"
           }
          ],
          "barpolar": [
           {
            "marker": {
             "line": {
              "color": "#E5ECF6",
              "width": 0.5
             },
             "pattern": {
              "fillmode": "overlay",
              "size": 10,
              "solidity": 0.2
             }
            },
            "type": "barpolar"
           }
          ],
          "carpet": [
           {
            "aaxis": {
             "endlinecolor": "#2a3f5f",
             "gridcolor": "white",
             "linecolor": "white",
             "minorgridcolor": "white",
             "startlinecolor": "#2a3f5f"
            },
            "baxis": {
             "endlinecolor": "#2a3f5f",
             "gridcolor": "white",
             "linecolor": "white",
             "minorgridcolor": "white",
             "startlinecolor": "#2a3f5f"
            },
            "type": "carpet"
           }
          ],
          "choropleth": [
           {
            "colorbar": {
             "outlinewidth": 0,
             "ticks": ""
            },
            "type": "choropleth"
           }
          ],
          "contour": [
           {
            "colorbar": {
             "outlinewidth": 0,
             "ticks": ""
            },
            "colorscale": [
             [
              0,
              "#0d0887"
             ],
             [
              0.1111111111111111,
              "#46039f"
             ],
             [
              0.2222222222222222,
              "#7201a8"
             ],
             [
              0.3333333333333333,
              "#9c179e"
             ],
             [
              0.4444444444444444,
              "#bd3786"
             ],
             [
              0.5555555555555556,
              "#d8576b"
             ],
             [
              0.6666666666666666,
              "#ed7953"
             ],
             [
              0.7777777777777778,
              "#fb9f3a"
             ],
             [
              0.8888888888888888,
              "#fdca26"
             ],
             [
              1,
              "#f0f921"
             ]
            ],
            "type": "contour"
           }
          ],
          "contourcarpet": [
           {
            "colorbar": {
             "outlinewidth": 0,
             "ticks": ""
            },
            "type": "contourcarpet"
           }
          ],
          "heatmap": [
           {
            "colorbar": {
             "outlinewidth": 0,
             "ticks": ""
            },
            "colorscale": [
             [
              0,
              "#0d0887"
             ],
             [
              0.1111111111111111,
              "#46039f"
             ],
             [
              0.2222222222222222,
              "#7201a8"
             ],
             [
              0.3333333333333333,
              "#9c179e"
             ],
             [
              0.4444444444444444,
              "#bd3786"
             ],
             [
              0.5555555555555556,
              "#d8576b"
             ],
             [
              0.6666666666666666,
              "#ed7953"
             ],
             [
              0.7777777777777778,
              "#fb9f3a"
             ],
             [
              0.8888888888888888,
              "#fdca26"
             ],
             [
              1,
              "#f0f921"
             ]
            ],
            "type": "heatmap"
           }
          ],
          "heatmapgl": [
           {
            "colorbar": {
             "outlinewidth": 0,
             "ticks": ""
            },
            "colorscale": [
             [
              0,
              "#0d0887"
             ],
             [
              0.1111111111111111,
              "#46039f"
             ],
             [
              0.2222222222222222,
              "#7201a8"
             ],
             [
              0.3333333333333333,
              "#9c179e"
             ],
             [
              0.4444444444444444,
              "#bd3786"
             ],
             [
              0.5555555555555556,
              "#d8576b"
             ],
             [
              0.6666666666666666,
              "#ed7953"
             ],
             [
              0.7777777777777778,
              "#fb9f3a"
             ],
             [
              0.8888888888888888,
              "#fdca26"
             ],
             [
              1,
              "#f0f921"
             ]
            ],
            "type": "heatmapgl"
           }
          ],
          "histogram": [
           {
            "marker": {
             "pattern": {
              "fillmode": "overlay",
              "size": 10,
              "solidity": 0.2
             }
            },
            "type": "histogram"
           }
          ],
          "histogram2d": [
           {
            "colorbar": {
             "outlinewidth": 0,
             "ticks": ""
            },
            "colorscale": [
             [
              0,
              "#0d0887"
             ],
             [
              0.1111111111111111,
              "#46039f"
             ],
             [
              0.2222222222222222,
              "#7201a8"
             ],
             [
              0.3333333333333333,
              "#9c179e"
             ],
             [
              0.4444444444444444,
              "#bd3786"
             ],
             [
              0.5555555555555556,
              "#d8576b"
             ],
             [
              0.6666666666666666,
              "#ed7953"
             ],
             [
              0.7777777777777778,
              "#fb9f3a"
             ],
             [
              0.8888888888888888,
              "#fdca26"
             ],
             [
              1,
              "#f0f921"
             ]
            ],
            "type": "histogram2d"
           }
          ],
          "histogram2dcontour": [
           {
            "colorbar": {
             "outlinewidth": 0,
             "ticks": ""
            },
            "colorscale": [
             [
              0,
              "#0d0887"
             ],
             [
              0.1111111111111111,
              "#46039f"
             ],
             [
              0.2222222222222222,
              "#7201a8"
             ],
             [
              0.3333333333333333,
              "#9c179e"
             ],
             [
              0.4444444444444444,
              "#bd3786"
             ],
             [
              0.5555555555555556,
              "#d8576b"
             ],
             [
              0.6666666666666666,
              "#ed7953"
             ],
             [
              0.7777777777777778,
              "#fb9f3a"
             ],
             [
              0.8888888888888888,
              "#fdca26"
             ],
             [
              1,
              "#f0f921"
             ]
            ],
            "type": "histogram2dcontour"
           }
          ],
          "mesh3d": [
           {
            "colorbar": {
             "outlinewidth": 0,
             "ticks": ""
            },
            "type": "mesh3d"
           }
          ],
          "parcoords": [
           {
            "line": {
             "colorbar": {
              "outlinewidth": 0,
              "ticks": ""
             }
            },
            "type": "parcoords"
           }
          ],
          "pie": [
           {
            "automargin": true,
            "type": "pie"
           }
          ],
          "scatter": [
           {
            "marker": {
             "colorbar": {
              "outlinewidth": 0,
              "ticks": ""
             }
            },
            "type": "scatter"
           }
          ],
          "scatter3d": [
           {
            "line": {
             "colorbar": {
              "outlinewidth": 0,
              "ticks": ""
             }
            },
            "marker": {
             "colorbar": {
              "outlinewidth": 0,
              "ticks": ""
             }
            },
            "type": "scatter3d"
           }
          ],
          "scattercarpet": [
           {
            "marker": {
             "colorbar": {
              "outlinewidth": 0,
              "ticks": ""
             }
            },
            "type": "scattercarpet"
           }
          ],
          "scattergeo": [
           {
            "marker": {
             "colorbar": {
              "outlinewidth": 0,
              "ticks": ""
             }
            },
            "type": "scattergeo"
           }
          ],
          "scattergl": [
           {
            "marker": {
             "colorbar": {
              "outlinewidth": 0,
              "ticks": ""
             }
            },
            "type": "scattergl"
           }
          ],
          "scattermapbox": [
           {
            "marker": {
             "colorbar": {
              "outlinewidth": 0,
              "ticks": ""
             }
            },
            "type": "scattermapbox"
           }
          ],
          "scatterpolar": [
           {
            "marker": {
             "colorbar": {
              "outlinewidth": 0,
              "ticks": ""
             }
            },
            "type": "scatterpolar"
           }
          ],
          "scatterpolargl": [
           {
            "marker": {
             "colorbar": {
              "outlinewidth": 0,
              "ticks": ""
             }
            },
            "type": "scatterpolargl"
           }
          ],
          "scatterternary": [
           {
            "marker": {
             "colorbar": {
              "outlinewidth": 0,
              "ticks": ""
             }
            },
            "type": "scatterternary"
           }
          ],
          "surface": [
           {
            "colorbar": {
             "outlinewidth": 0,
             "ticks": ""
            },
            "colorscale": [
             [
              0,
              "#0d0887"
             ],
             [
              0.1111111111111111,
              "#46039f"
             ],
             [
              0.2222222222222222,
              "#7201a8"
             ],
             [
              0.3333333333333333,
              "#9c179e"
             ],
             [
              0.4444444444444444,
              "#bd3786"
             ],
             [
              0.5555555555555556,
              "#d8576b"
             ],
             [
              0.6666666666666666,
              "#ed7953"
             ],
             [
              0.7777777777777778,
              "#fb9f3a"
             ],
             [
              0.8888888888888888,
              "#fdca26"
             ],
             [
              1,
              "#f0f921"
             ]
            ],
            "type": "surface"
           }
          ],
          "table": [
           {
            "cells": {
             "fill": {
              "color": "#EBF0F8"
             },
             "line": {
              "color": "white"
             }
            },
            "header": {
             "fill": {
              "color": "#C8D4E3"
             },
             "line": {
              "color": "white"
             }
            },
            "type": "table"
           }
          ]
         },
         "layout": {
          "annotationdefaults": {
           "arrowcolor": "#2a3f5f",
           "arrowhead": 0,
           "arrowwidth": 1
          },
          "autotypenumbers": "strict",
          "coloraxis": {
           "colorbar": {
            "outlinewidth": 0,
            "ticks": ""
           }
          },
          "colorscale": {
           "diverging": [
            [
             0,
             "#8e0152"
            ],
            [
             0.1,
             "#c51b7d"
            ],
            [
             0.2,
             "#de77ae"
            ],
            [
             0.3,
             "#f1b6da"
            ],
            [
             0.4,
             "#fde0ef"
            ],
            [
             0.5,
             "#f7f7f7"
            ],
            [
             0.6,
             "#e6f5d0"
            ],
            [
             0.7,
             "#b8e186"
            ],
            [
             0.8,
             "#7fbc41"
            ],
            [
             0.9,
             "#4d9221"
            ],
            [
             1,
             "#276419"
            ]
           ],
           "sequential": [
            [
             0,
             "#0d0887"
            ],
            [
             0.1111111111111111,
             "#46039f"
            ],
            [
             0.2222222222222222,
             "#7201a8"
            ],
            [
             0.3333333333333333,
             "#9c179e"
            ],
            [
             0.4444444444444444,
             "#bd3786"
            ],
            [
             0.5555555555555556,
             "#d8576b"
            ],
            [
             0.6666666666666666,
             "#ed7953"
            ],
            [
             0.7777777777777778,
             "#fb9f3a"
            ],
            [
             0.8888888888888888,
             "#fdca26"
            ],
            [
             1,
             "#f0f921"
            ]
           ],
           "sequentialminus": [
            [
             0,
             "#0d0887"
            ],
            [
             0.1111111111111111,
             "#46039f"
            ],
            [
             0.2222222222222222,
             "#7201a8"
            ],
            [
             0.3333333333333333,
             "#9c179e"
            ],
            [
             0.4444444444444444,
             "#bd3786"
            ],
            [
             0.5555555555555556,
             "#d8576b"
            ],
            [
             0.6666666666666666,
             "#ed7953"
            ],
            [
             0.7777777777777778,
             "#fb9f3a"
            ],
            [
             0.8888888888888888,
             "#fdca26"
            ],
            [
             1,
             "#f0f921"
            ]
           ]
          },
          "colorway": [
           "#636efa",
           "#EF553B",
           "#00cc96",
           "#ab63fa",
           "#FFA15A",
           "#19d3f3",
           "#FF6692",
           "#B6E880",
           "#FF97FF",
           "#FECB52"
          ],
          "font": {
           "color": "#2a3f5f"
          },
          "geo": {
           "bgcolor": "white",
           "lakecolor": "white",
           "landcolor": "#E5ECF6",
           "showlakes": true,
           "showland": true,
           "subunitcolor": "white"
          },
          "hoverlabel": {
           "align": "left"
          },
          "hovermode": "closest",
          "mapbox": {
           "style": "light"
          },
          "paper_bgcolor": "white",
          "plot_bgcolor": "#E5ECF6",
          "polar": {
           "angularaxis": {
            "gridcolor": "white",
            "linecolor": "white",
            "ticks": ""
           },
           "bgcolor": "#E5ECF6",
           "radialaxis": {
            "gridcolor": "white",
            "linecolor": "white",
            "ticks": ""
           }
          },
          "scene": {
           "xaxis": {
            "backgroundcolor": "#E5ECF6",
            "gridcolor": "white",
            "gridwidth": 2,
            "linecolor": "white",
            "showbackground": true,
            "ticks": "",
            "zerolinecolor": "white"
           },
           "yaxis": {
            "backgroundcolor": "#E5ECF6",
            "gridcolor": "white",
            "gridwidth": 2,
            "linecolor": "white",
            "showbackground": true,
            "ticks": "",
            "zerolinecolor": "white"
           },
           "zaxis": {
            "backgroundcolor": "#E5ECF6",
            "gridcolor": "white",
            "gridwidth": 2,
            "linecolor": "white",
            "showbackground": true,
            "ticks": "",
            "zerolinecolor": "white"
           }
          },
          "shapedefaults": {
           "line": {
            "color": "#2a3f5f"
           }
          },
          "ternary": {
           "aaxis": {
            "gridcolor": "white",
            "linecolor": "white",
            "ticks": ""
           },
           "baxis": {
            "gridcolor": "white",
            "linecolor": "white",
            "ticks": ""
           },
           "bgcolor": "#E5ECF6",
           "caxis": {
            "gridcolor": "white",
            "linecolor": "white",
            "ticks": ""
           }
          },
          "title": {
           "x": 0.05
          },
          "xaxis": {
           "automargin": true,
           "gridcolor": "white",
           "linecolor": "white",
           "ticks": "",
           "title": {
            "standoff": 15
           },
           "zerolinecolor": "white",
           "zerolinewidth": 2
          },
          "yaxis": {
           "automargin": true,
           "gridcolor": "white",
           "linecolor": "white",
           "ticks": "",
           "title": {
            "standoff": 15
           },
           "zerolinecolor": "white",
           "zerolinewidth": 2
          }
         }
        },
        "title": {
         "font": {
          "color": "#4D5663"
         }
        },
        "xaxis": {
         "gridcolor": "#E1E5ED",
         "showgrid": true,
         "tickfont": {
          "color": "#4D5663"
         },
         "title": {
          "font": {
           "color": "#4D5663"
          },
          "text": ""
         },
         "zerolinecolor": "#E1E5ED"
        },
        "xaxis2": {
         "anchor": "y2",
         "gridcolor": "#E1E5ED",
         "showgrid": true,
         "showticklabels": false,
         "tickfont": {
          "color": "#4D5663"
         },
         "title": {
          "font": {
           "color": "#4D5663"
          },
          "text": ""
         },
         "zerolinecolor": "#E1E5ED"
        },
        "yaxis": {
         "domain": [
          0.3,
          1
         ],
         "gridcolor": "#E1E5ED",
         "showgrid": true,
         "tickfont": {
          "color": "#4D5663"
         },
         "title": {
          "font": {
           "color": "#4D5663"
          },
          "text": ""
         },
         "zerolinecolor": "#E1E5ED"
        },
        "yaxis2": {
         "domain": [
          0,
          0.25
         ],
         "gridcolor": "#E1E5ED",
         "showgrid": true,
         "tickfont": {
          "color": "#4D5663"
         },
         "title": {
          "font": {
           "color": "#4D5663"
          },
          "text": "Spread"
         },
         "zerolinecolor": "#E1E5ED"
        }
       }
      },
      "text/html": [
       "<div>                            <div id=\"540e2dc6-f58c-4758-8f4c-0000ee1e1e3b\" class=\"plotly-graph-div\" style=\"height:525px; width:100%;\"></div>            <script type=\"text/javascript\">                require([\"plotly\"], function(Plotly) {                    window.PLOTLYENV=window.PLOTLYENV || {};\n",
       "                    window.PLOTLYENV.BASE_URL='https://plot.ly';                                    if (document.getElementById(\"540e2dc6-f58c-4758-8f4c-0000ee1e1e3b\")) {                    Plotly.newPlot(                        \"540e2dc6-f58c-4758-8f4c-0000ee1e1e3b\",                        [{\"line\":{\"color\":\"rgba(255, 153, 51, 1.0)\",\"dash\":\"solid\",\"shape\":\"linear\",\"width\":1.3},\"mode\":\"lines\",\"name\":\"A\",\"text\":\"\",\"x\":[0,1,2,3,4,5,6,7,8,9,10,11,12,13,14,15,16,17,18,19,20,21,22,23,24,25,26,27,28,29,30,31,32,33,34,35,36,37,38,39,40,41,42,43,44,45,46,47,48,49,50,51,52,53,54,55,56,57,58,59,60,61,62,63,64,65,66,67,68,69,70,71,72,73,74,75,76,77,78,79,80,81,82,83,84,85,86,87,88,89,90,91,92,93,94,95,96,97,98,99],\"y\":[-1.727725252579994,-0.6523954972283168,1.7111687573755276,1.8854926884160432,0.2797752300463759,-0.12278394235318713,-2.4629864633042837,-0.78629519698013,1.5013687819523045,0.5778433356227098,-2.1250130799216187,0.3074884774377496,-0.39557538193393044,-0.7210189703241677,0.6061344398049183,0.7253202601114827,0.7539556248165138,-0.6899826023857759,-1.9861820267153667,2.4724627179818857,-1.4921740674205082,0.21778649632986308,-1.2225982276441731,0.3022845411813817,0.5009163667793719,-0.27518666748581294,0.3332232948659106,0.5530183129927184,2.1813543514946936,2.3674713894348414,0.4040344645695381,0.1038752830651099,0.8189814485190792,0.6565628023965491,0.9649713911033581,0.4770077483354942,-1.1877719893116574,-0.3185818235127667,-0.4156429945784772,0.09263219619292881,1.1664812938353366,-1.664581973843618,0.8941099556511569,-0.059261618500232864,-0.42899090930167383,1.4204537434359545,-1.9614667808680513,0.5392218409350615,0.47024725448087334,1.1467256719334287,0.6683405973503002,-0.1653528442340094,0.2720390477214452,-0.6859510913281808,0.873018803874626,-0.4897179349388602,0.2791268821380968,-0.01369544344158681,0.9219045630189825,-0.17979824847298675,-1.4115107328459895,-0.4411751400820583,-0.13716549658502647,1.0502522594862551,-0.19931089910380348,1.2830450947207823,-0.7369514961753213,-0.43860412360855694,1.0940477429003814,0.8058780282388065,-0.2924536277044239,2.852728649349453,0.04370968310871116,-0.8464521149500591,2.28771812749006,0.010509765405440371,-1.4659896454578434,0.36111835740287185,1.080204647892336,0.21540806709294769,-1.2746246503442467,-0.7772846266240038,1.0151964174987262,-0.06308949328548494,0.6685557331125359,1.613021300620463,0.47658038207031683,-0.0906659850021094,-0.2727332447383256,-1.1830977459293435,1.5018775786963818,1.1466140817409018,-0.5606275116117502,-0.10446970457486329,0.3496968132069453,-0.6288080145360863,0.17515626102678597,0.4300673887181837,-0.1627117716049884,-1.1241376448948244],\"type\":\"scatter\"},{\"line\":{\"color\":\"rgba(55, 128, 191, 1.0)\",\"dash\":\"solid\",\"shape\":\"linear\",\"width\":1.3},\"mode\":\"lines\",\"name\":\"B\",\"text\":\"\",\"x\":[0,1,2,3,4,5,6,7,8,9,10,11,12,13,14,15,16,17,18,19,20,21,22,23,24,25,26,27,28,29,30,31,32,33,34,35,36,37,38,39,40,41,42,43,44,45,46,47,48,49,50,51,52,53,54,55,56,57,58,59,60,61,62,63,64,65,66,67,68,69,70,71,72,73,74,75,76,77,78,79,80,81,82,83,84,85,86,87,88,89,90,91,92,93,94,95,96,97,98,99],\"y\":[-0.35927390814104476,0.27484927832288925,-1.8402446516963689,0.4198969961056575,0.4408799218403844,-0.665006993082131,0.46215986015186405,0.5573938040479566,0.6821486464071536,-0.43277368434188607,-1.2513044483714728,-0.11800881518163064,0.4836095280558225,0.7198624924810973,0.769734040934067,0.32344267033603896,-0.5870259090687044,1.3764179686571287,0.5414625905049074,-0.598832443850317,-0.3195569510147842,1.2187240035662579,1.7219914761158468,1.0019398201832288,1.2712216685342188,-0.15169413108128366,-2.0769689079471245,-0.24617444450180453,0.2170377560005709,-0.2729310917822944,1.0580304337908448,0.49066385442413696,-0.0634690171707887,0.8761236894078324,-1.156182292111743,-1.7239496549607745,0.39963598889609775,-1.2405253270562735,-1.0844575996887613,0.9674204439722415,-2.3541883593272517,0.8451426886740392,0.48949596951889196,-1.048367046734212,-1.7815751279077898,0.09603552656022948,1.022949626357811,-1.0023988657385754,1.426874982960192,1.3283805405466318,-0.6826435013929715,-0.06948124309346751,1.197488186443602,1.2254917825595262,-1.0980833401848957,-1.2936343077373555,1.1510079929317878,0.8458703244821476,-1.2145888081746545,-0.8788190625374599,-1.5966273166290912,-0.7875422511564634,-0.1341321161518695,-1.4763238379407928,0.20797838521634457,-0.8900356418694271,-0.03371763647518824,0.7039356095584622,0.04616317679909543,0.6189737947401249,-0.020343437881330532,0.5241198908709517,-0.7207502317444129,-0.5982659043959154,-0.9178947753869992,1.2093861312135417,0.8309601781784342,0.5021465962618618,0.7693337137248092,0.8802821133026897,0.8837223679022095,0.4640030703367322,0.4763622196705976,1.4159694950025428,-0.29871965306664355,-0.8294071562311018,2.3446506464640398,-1.8637575195725096,-0.9628217613471104,-0.8981321973001141,-1.2529064074869203,-0.9883955824352328,0.3543575984448734,-0.9402400967736599,0.27223807132119077,-2.1523011662984852,1.692728902747629,-1.41854939516216,-0.2837856089408107,-2.0512938927588813],\"type\":\"scatter\"},{\"connectgaps\":false,\"fill\":\"tozeroy\",\"line\":{\"color\":\"green\",\"dash\":\"solid\",\"shape\":\"linear\",\"width\":0.5},\"mode\":\"lines\",\"name\":\"Spread\",\"showlegend\":false,\"x\":[0,1,2,3,4,5,6,7,8,9,10,11,12,13,14,15,16,17,18,19,20,21,22,23,24,25,26,27,28,29,30,31,32,33,34,35,36,37,38,39,40,41,42,43,44,45,46,47,48,49,50,51,52,53,54,55,56,57,58,59,60,61,62,63,64,65,66,67,68,69,70,71,72,73,74,75,76,77,78,79,80,81,82,83,84,85,86,87,88,89,90,91,92,93,94,95,96,97,98,99],\"xaxis\":\"x2\",\"y\":[\"\",\"\",3.5514134090718965,1.4655956923103857,\"\",0.5422230507289438,\"\",\"\",0.8192201355451509,1.0106170199645959,\"\",0.42549729261938024,\"\",\"\",\"\",0.4018775897754437,1.3409815338852182,\"\",\"\",3.071295161832203,\"\",\"\",\"\",\"\",\"\",\"\",2.410192202813035,0.799192757494523,1.9643165954941226,2.640402481217136,\"\",\"\",0.8824504656898678,\"\",2.121153683215101,2.2009574032962687,\"\",0.9219435035435068,0.6688146051102841,\"\",3.5206696531625883,\"\",0.40461398613226496,0.9891054282339793,1.352584218606116,1.324418216875725,\"\",1.541620706673637,\"\",\"\",1.3509840987432717,\"\",\"\",\"\",1.9711021440595218,0.8039163727984954,\"\",\"\",2.136493371193637,0.6990208140644731,0.1851165837831017,0.34636711107440504,\"\",2.526576097427048,\"\",2.1730807365902094,\"\",\"\",1.047884566101286,0.18690423349868157,\"\",2.3286087584785014,0.764459914853124,\"\",3.2056129028770592,\"\",\"\",\"\",0.31087093416752676,\"\",\"\",\"\",0.5388341978281286,\"\",0.9672753861791794,2.442428456851565,\"\",1.7730915345704001,0.6900885166087848,\"\",2.754783986183302,2.1350096641761347,\"\",0.8357703921987967,0.07745874188575452,1.5234931517623989,\"\",1.8486167838803436,0.12107383733582228,0.9271562478640569],\"yaxis\":\"y2\",\"type\":\"scatter\"},{\"connectgaps\":false,\"fill\":\"tozeroy\",\"line\":{\"color\":\"red\",\"dash\":\"solid\",\"shape\":\"linear\",\"width\":0.5},\"mode\":\"lines\",\"name\":\"Spread\",\"showlegend\":false,\"x\":[0,1,2,3,4,5,6,7,8,9,10,11,12,13,14,15,16,17,18,19,20,21,22,23,24,25,26,27,28,29,30,31,32,33,34,35,36,37,38,39,40,41,42,43,44,45,46,47,48,49,50,51,52,53,54,55,56,57,58,59,60,61,62,63,64,65,66,67,68,69,70,71,72,73,74,75,76,77,78,79,80,81,82,83,84,85,86,87,88,89,90,91,92,93,94,95,96,97,98,99],\"xaxis\":\"x2\",\"y\":[-1.3684513444389492,-0.9272447755512061,\"\",\"\",-0.1611046917940085,\"\",-2.925146323456148,-1.3436890010280864,\"\",\"\",-0.8737086315501459,\"\",-0.879184909989753,-1.440881462805265,-0.16359960112914873,\"\",\"\",-2.0664005710429048,-2.527644617220274,\"\",-1.172617116405724,-1.0009375072363949,-2.9445897037600197,-0.6996552790018471,-0.7703053017548469,-0.12349253640452929,\"\",\"\",\"\",\"\",-0.6539959692213066,-0.38678857135902706,\"\",-0.2195608870112833,\"\",\"\",-1.587407978207755,\"\",\"\",-0.8747882477793126,\"\",-2.509724662517657,\"\",\"\",\"\",\"\",-2.9844164072258623,\"\",-0.9566277284793188,-0.18165486861320312,\"\",-0.09587160114054188,-0.9254491387221568,-1.911442873887707,\"\",\"\",-0.871881110793691,-0.8595657679237344,\"\",\"\",\"\",\"\",-0.003033380433156957,\"\",-0.40728928432014805,\"\",-0.7032338597001331,-1.1425397331670193,\"\",\"\",-0.2721101898230934,\"\",\"\",-0.2481862105541437,\"\",-1.1988763658081012,-2.2969498236362775,-0.1410282388589899,\"\",-0.664874046209742,-2.158347018246456,-1.241287696960736,\"\",-1.4790589882880276,\"\",\"\",-1.8680702643937228,\"\",\"\",-0.2849655486292294,\"\",\"\",-0.9149851100566235,\"\",\"\",\"\",-1.517572641720843,\"\",\"\",\"\"],\"yaxis\":\"y2\",\"type\":\"scatter\"}],                        {\"hovermode\":\"x\",\"legend\":{\"bgcolor\":\"#F5F6F9\",\"font\":{\"color\":\"#4D5663\"}},\"paper_bgcolor\":\"#F5F6F9\",\"plot_bgcolor\":\"#F5F6F9\",\"template\":{\"data\":{\"barpolar\":[{\"marker\":{\"line\":{\"color\":\"#E5ECF6\",\"width\":0.5},\"pattern\":{\"fillmode\":\"overlay\",\"size\":10,\"solidity\":0.2}},\"type\":\"barpolar\"}],\"bar\":[{\"error_x\":{\"color\":\"#2a3f5f\"},\"error_y\":{\"color\":\"#2a3f5f\"},\"marker\":{\"line\":{\"color\":\"#E5ECF6\",\"width\":0.5},\"pattern\":{\"fillmode\":\"overlay\",\"size\":10,\"solidity\":0.2}},\"type\":\"bar\"}],\"carpet\":[{\"aaxis\":{\"endlinecolor\":\"#2a3f5f\",\"gridcolor\":\"white\",\"linecolor\":\"white\",\"minorgridcolor\":\"white\",\"startlinecolor\":\"#2a3f5f\"},\"baxis\":{\"endlinecolor\":\"#2a3f5f\",\"gridcolor\":\"white\",\"linecolor\":\"white\",\"minorgridcolor\":\"white\",\"startlinecolor\":\"#2a3f5f\"},\"type\":\"carpet\"}],\"choropleth\":[{\"colorbar\":{\"outlinewidth\":0,\"ticks\":\"\"},\"type\":\"choropleth\"}],\"contourcarpet\":[{\"colorbar\":{\"outlinewidth\":0,\"ticks\":\"\"},\"type\":\"contourcarpet\"}],\"contour\":[{\"colorbar\":{\"outlinewidth\":0,\"ticks\":\"\"},\"colorscale\":[[0.0,\"#0d0887\"],[0.1111111111111111,\"#46039f\"],[0.2222222222222222,\"#7201a8\"],[0.3333333333333333,\"#9c179e\"],[0.4444444444444444,\"#bd3786\"],[0.5555555555555556,\"#d8576b\"],[0.6666666666666666,\"#ed7953\"],[0.7777777777777778,\"#fb9f3a\"],[0.8888888888888888,\"#fdca26\"],[1.0,\"#f0f921\"]],\"type\":\"contour\"}],\"heatmapgl\":[{\"colorbar\":{\"outlinewidth\":0,\"ticks\":\"\"},\"colorscale\":[[0.0,\"#0d0887\"],[0.1111111111111111,\"#46039f\"],[0.2222222222222222,\"#7201a8\"],[0.3333333333333333,\"#9c179e\"],[0.4444444444444444,\"#bd3786\"],[0.5555555555555556,\"#d8576b\"],[0.6666666666666666,\"#ed7953\"],[0.7777777777777778,\"#fb9f3a\"],[0.8888888888888888,\"#fdca26\"],[1.0,\"#f0f921\"]],\"type\":\"heatmapgl\"}],\"heatmap\":[{\"colorbar\":{\"outlinewidth\":0,\"ticks\":\"\"},\"colorscale\":[[0.0,\"#0d0887\"],[0.1111111111111111,\"#46039f\"],[0.2222222222222222,\"#7201a8\"],[0.3333333333333333,\"#9c179e\"],[0.4444444444444444,\"#bd3786\"],[0.5555555555555556,\"#d8576b\"],[0.6666666666666666,\"#ed7953\"],[0.7777777777777778,\"#fb9f3a\"],[0.8888888888888888,\"#fdca26\"],[1.0,\"#f0f921\"]],\"type\":\"heatmap\"}],\"histogram2dcontour\":[{\"colorbar\":{\"outlinewidth\":0,\"ticks\":\"\"},\"colorscale\":[[0.0,\"#0d0887\"],[0.1111111111111111,\"#46039f\"],[0.2222222222222222,\"#7201a8\"],[0.3333333333333333,\"#9c179e\"],[0.4444444444444444,\"#bd3786\"],[0.5555555555555556,\"#d8576b\"],[0.6666666666666666,\"#ed7953\"],[0.7777777777777778,\"#fb9f3a\"],[0.8888888888888888,\"#fdca26\"],[1.0,\"#f0f921\"]],\"type\":\"histogram2dcontour\"}],\"histogram2d\":[{\"colorbar\":{\"outlinewidth\":0,\"ticks\":\"\"},\"colorscale\":[[0.0,\"#0d0887\"],[0.1111111111111111,\"#46039f\"],[0.2222222222222222,\"#7201a8\"],[0.3333333333333333,\"#9c179e\"],[0.4444444444444444,\"#bd3786\"],[0.5555555555555556,\"#d8576b\"],[0.6666666666666666,\"#ed7953\"],[0.7777777777777778,\"#fb9f3a\"],[0.8888888888888888,\"#fdca26\"],[1.0,\"#f0f921\"]],\"type\":\"histogram2d\"}],\"histogram\":[{\"marker\":{\"pattern\":{\"fillmode\":\"overlay\",\"size\":10,\"solidity\":0.2}},\"type\":\"histogram\"}],\"mesh3d\":[{\"colorbar\":{\"outlinewidth\":0,\"ticks\":\"\"},\"type\":\"mesh3d\"}],\"parcoords\":[{\"line\":{\"colorbar\":{\"outlinewidth\":0,\"ticks\":\"\"}},\"type\":\"parcoords\"}],\"pie\":[{\"automargin\":true,\"type\":\"pie\"}],\"scatter3d\":[{\"line\":{\"colorbar\":{\"outlinewidth\":0,\"ticks\":\"\"}},\"marker\":{\"colorbar\":{\"outlinewidth\":0,\"ticks\":\"\"}},\"type\":\"scatter3d\"}],\"scattercarpet\":[{\"marker\":{\"colorbar\":{\"outlinewidth\":0,\"ticks\":\"\"}},\"type\":\"scattercarpet\"}],\"scattergeo\":[{\"marker\":{\"colorbar\":{\"outlinewidth\":0,\"ticks\":\"\"}},\"type\":\"scattergeo\"}],\"scattergl\":[{\"marker\":{\"colorbar\":{\"outlinewidth\":0,\"ticks\":\"\"}},\"type\":\"scattergl\"}],\"scattermapbox\":[{\"marker\":{\"colorbar\":{\"outlinewidth\":0,\"ticks\":\"\"}},\"type\":\"scattermapbox\"}],\"scatterpolargl\":[{\"marker\":{\"colorbar\":{\"outlinewidth\":0,\"ticks\":\"\"}},\"type\":\"scatterpolargl\"}],\"scatterpolar\":[{\"marker\":{\"colorbar\":{\"outlinewidth\":0,\"ticks\":\"\"}},\"type\":\"scatterpolar\"}],\"scatter\":[{\"marker\":{\"colorbar\":{\"outlinewidth\":0,\"ticks\":\"\"}},\"type\":\"scatter\"}],\"scatterternary\":[{\"marker\":{\"colorbar\":{\"outlinewidth\":0,\"ticks\":\"\"}},\"type\":\"scatterternary\"}],\"surface\":[{\"colorbar\":{\"outlinewidth\":0,\"ticks\":\"\"},\"colorscale\":[[0.0,\"#0d0887\"],[0.1111111111111111,\"#46039f\"],[0.2222222222222222,\"#7201a8\"],[0.3333333333333333,\"#9c179e\"],[0.4444444444444444,\"#bd3786\"],[0.5555555555555556,\"#d8576b\"],[0.6666666666666666,\"#ed7953\"],[0.7777777777777778,\"#fb9f3a\"],[0.8888888888888888,\"#fdca26\"],[1.0,\"#f0f921\"]],\"type\":\"surface\"}],\"table\":[{\"cells\":{\"fill\":{\"color\":\"#EBF0F8\"},\"line\":{\"color\":\"white\"}},\"header\":{\"fill\":{\"color\":\"#C8D4E3\"},\"line\":{\"color\":\"white\"}},\"type\":\"table\"}]},\"layout\":{\"annotationdefaults\":{\"arrowcolor\":\"#2a3f5f\",\"arrowhead\":0,\"arrowwidth\":1},\"autotypenumbers\":\"strict\",\"coloraxis\":{\"colorbar\":{\"outlinewidth\":0,\"ticks\":\"\"}},\"colorscale\":{\"diverging\":[[0,\"#8e0152\"],[0.1,\"#c51b7d\"],[0.2,\"#de77ae\"],[0.3,\"#f1b6da\"],[0.4,\"#fde0ef\"],[0.5,\"#f7f7f7\"],[0.6,\"#e6f5d0\"],[0.7,\"#b8e186\"],[0.8,\"#7fbc41\"],[0.9,\"#4d9221\"],[1,\"#276419\"]],\"sequential\":[[0.0,\"#0d0887\"],[0.1111111111111111,\"#46039f\"],[0.2222222222222222,\"#7201a8\"],[0.3333333333333333,\"#9c179e\"],[0.4444444444444444,\"#bd3786\"],[0.5555555555555556,\"#d8576b\"],[0.6666666666666666,\"#ed7953\"],[0.7777777777777778,\"#fb9f3a\"],[0.8888888888888888,\"#fdca26\"],[1.0,\"#f0f921\"]],\"sequentialminus\":[[0.0,\"#0d0887\"],[0.1111111111111111,\"#46039f\"],[0.2222222222222222,\"#7201a8\"],[0.3333333333333333,\"#9c179e\"],[0.4444444444444444,\"#bd3786\"],[0.5555555555555556,\"#d8576b\"],[0.6666666666666666,\"#ed7953\"],[0.7777777777777778,\"#fb9f3a\"],[0.8888888888888888,\"#fdca26\"],[1.0,\"#f0f921\"]]},\"colorway\":[\"#636efa\",\"#EF553B\",\"#00cc96\",\"#ab63fa\",\"#FFA15A\",\"#19d3f3\",\"#FF6692\",\"#B6E880\",\"#FF97FF\",\"#FECB52\"],\"font\":{\"color\":\"#2a3f5f\"},\"geo\":{\"bgcolor\":\"white\",\"lakecolor\":\"white\",\"landcolor\":\"#E5ECF6\",\"showlakes\":true,\"showland\":true,\"subunitcolor\":\"white\"},\"hoverlabel\":{\"align\":\"left\"},\"hovermode\":\"closest\",\"mapbox\":{\"style\":\"light\"},\"paper_bgcolor\":\"white\",\"plot_bgcolor\":\"#E5ECF6\",\"polar\":{\"angularaxis\":{\"gridcolor\":\"white\",\"linecolor\":\"white\",\"ticks\":\"\"},\"bgcolor\":\"#E5ECF6\",\"radialaxis\":{\"gridcolor\":\"white\",\"linecolor\":\"white\",\"ticks\":\"\"}},\"scene\":{\"xaxis\":{\"backgroundcolor\":\"#E5ECF6\",\"gridcolor\":\"white\",\"gridwidth\":2,\"linecolor\":\"white\",\"showbackground\":true,\"ticks\":\"\",\"zerolinecolor\":\"white\"},\"yaxis\":{\"backgroundcolor\":\"#E5ECF6\",\"gridcolor\":\"white\",\"gridwidth\":2,\"linecolor\":\"white\",\"showbackground\":true,\"ticks\":\"\",\"zerolinecolor\":\"white\"},\"zaxis\":{\"backgroundcolor\":\"#E5ECF6\",\"gridcolor\":\"white\",\"gridwidth\":2,\"linecolor\":\"white\",\"showbackground\":true,\"ticks\":\"\",\"zerolinecolor\":\"white\"}},\"shapedefaults\":{\"line\":{\"color\":\"#2a3f5f\"}},\"ternary\":{\"aaxis\":{\"gridcolor\":\"white\",\"linecolor\":\"white\",\"ticks\":\"\"},\"baxis\":{\"gridcolor\":\"white\",\"linecolor\":\"white\",\"ticks\":\"\"},\"bgcolor\":\"#E5ECF6\",\"caxis\":{\"gridcolor\":\"white\",\"linecolor\":\"white\",\"ticks\":\"\"}},\"title\":{\"x\":0.05},\"xaxis\":{\"automargin\":true,\"gridcolor\":\"white\",\"linecolor\":\"white\",\"ticks\":\"\",\"title\":{\"standoff\":15},\"zerolinecolor\":\"white\",\"zerolinewidth\":2},\"yaxis\":{\"automargin\":true,\"gridcolor\":\"white\",\"linecolor\":\"white\",\"ticks\":\"\",\"title\":{\"standoff\":15},\"zerolinecolor\":\"white\",\"zerolinewidth\":2}}},\"title\":{\"font\":{\"color\":\"#4D5663\"}},\"xaxis\":{\"gridcolor\":\"#E1E5ED\",\"showgrid\":true,\"tickfont\":{\"color\":\"#4D5663\"},\"title\":{\"font\":{\"color\":\"#4D5663\"},\"text\":\"\"},\"zerolinecolor\":\"#E1E5ED\"},\"yaxis\":{\"domain\":[0.3,1],\"gridcolor\":\"#E1E5ED\",\"showgrid\":true,\"tickfont\":{\"color\":\"#4D5663\"},\"title\":{\"font\":{\"color\":\"#4D5663\"},\"text\":\"\"},\"zerolinecolor\":\"#E1E5ED\"},\"yaxis2\":{\"domain\":[0,0.25],\"gridcolor\":\"#E1E5ED\",\"showgrid\":true,\"tickfont\":{\"color\":\"#4D5663\"},\"title\":{\"font\":{\"color\":\"#4D5663\"},\"text\":\"Spread\"},\"zerolinecolor\":\"#E1E5ED\"},\"xaxis2\":{\"anchor\":\"y2\",\"gridcolor\":\"#E1E5ED\",\"showgrid\":true,\"showticklabels\":false,\"tickfont\":{\"color\":\"#4D5663\"},\"title\":{\"font\":{\"color\":\"#4D5663\"},\"text\":\"\"},\"zerolinecolor\":\"#E1E5ED\"}},                        {\"showLink\": true, \"linkText\": \"Export to plot.ly\", \"plotlyServerURL\": \"https://plot.ly\", \"responsive\": true}                    ).then(function(){\n",
       "                            \n",
       "var gd = document.getElementById('540e2dc6-f58c-4758-8f4c-0000ee1e1e3b');\n",
       "var x = new MutationObserver(function (mutations, observer) {{\n",
       "        var display = window.getComputedStyle(gd).display;\n",
       "        if (!display || display === 'none') {{\n",
       "            console.log([gd, 'removed!']);\n",
       "            Plotly.purge(gd);\n",
       "            observer.disconnect();\n",
       "        }}\n",
       "}});\n",
       "\n",
       "// Listen for the removal of the full notebook cells\n",
       "var notebookContainer = gd.closest('#notebook-container');\n",
       "if (notebookContainer) {{\n",
       "    x.observe(notebookContainer, {childList: true});\n",
       "}}\n",
       "\n",
       "// Listen for the clearing of the current output cell\n",
       "var outputEl = gd.closest('.output');\n",
       "if (outputEl) {{\n",
       "    x.observe(outputEl, {childList: true});\n",
       "}}\n",
       "\n",
       "                        })                };                });            </script>        </div>"
      ]
     },
     "metadata": {},
     "output_type": "display_data"
    }
   ],
   "source": [
    "df[['A','B']].iplot(kind='spread')"
   ]
  },
  {
   "cell_type": "markdown",
   "metadata": {},
   "source": [
    "## histogram"
   ]
  },
  {
   "cell_type": "code",
   "execution_count": 28,
   "metadata": {
    "jupyter": {
     "outputs_hidden": false
    },
    "scrolled": true
   },
   "outputs": [
    {
     "data": {
      "application/vnd.plotly.v1+json": {
       "config": {
        "linkText": "Export to plot.ly",
        "plotlyServerURL": "https://plot.ly",
        "showLink": true
       },
       "data": [
        {
         "histfunc": "count",
         "histnorm": "",
         "marker": {
          "color": "rgba(255, 153, 51, 1.0)",
          "line": {
           "color": "#4D5663",
           "width": 1.3
          }
         },
         "name": "A",
         "nbinsx": 50,
         "opacity": 0.8,
         "orientation": "v",
         "type": "histogram",
         "x": [
          -1.727725252579994,
          -0.6523954972283168,
          1.7111687573755276,
          1.8854926884160432,
          0.2797752300463759,
          -0.12278394235318713,
          -2.4629864633042837,
          -0.78629519698013,
          1.5013687819523045,
          0.5778433356227098,
          -2.1250130799216187,
          0.3074884774377496,
          -0.39557538193393044,
          -0.7210189703241677,
          0.6061344398049183,
          0.7253202601114827,
          0.7539556248165138,
          -0.6899826023857759,
          -1.9861820267153667,
          2.4724627179818857,
          -1.4921740674205082,
          0.21778649632986308,
          -1.2225982276441731,
          0.3022845411813817,
          0.5009163667793719,
          -0.27518666748581294,
          0.3332232948659106,
          0.5530183129927184,
          2.1813543514946936,
          2.3674713894348414,
          0.4040344645695381,
          0.1038752830651099,
          0.8189814485190792,
          0.6565628023965491,
          0.9649713911033581,
          0.4770077483354942,
          -1.1877719893116574,
          -0.3185818235127667,
          -0.4156429945784772,
          0.09263219619292881,
          1.1664812938353366,
          -1.664581973843618,
          0.8941099556511569,
          -0.059261618500232864,
          -0.42899090930167383,
          1.4204537434359545,
          -1.9614667808680513,
          0.5392218409350615,
          0.47024725448087334,
          1.1467256719334287,
          0.6683405973503002,
          -0.1653528442340094,
          0.2720390477214452,
          -0.6859510913281808,
          0.873018803874626,
          -0.4897179349388602,
          0.2791268821380968,
          -0.01369544344158681,
          0.9219045630189825,
          -0.17979824847298675,
          -1.4115107328459895,
          -0.4411751400820583,
          -0.13716549658502647,
          1.0502522594862551,
          -0.19931089910380348,
          1.2830450947207823,
          -0.7369514961753213,
          -0.43860412360855694,
          1.0940477429003814,
          0.8058780282388065,
          -0.2924536277044239,
          2.852728649349453,
          0.04370968310871116,
          -0.8464521149500591,
          2.28771812749006,
          0.010509765405440371,
          -1.4659896454578434,
          0.36111835740287185,
          1.080204647892336,
          0.21540806709294769,
          -1.2746246503442467,
          -0.7772846266240038,
          1.0151964174987262,
          -0.06308949328548494,
          0.6685557331125359,
          1.613021300620463,
          0.47658038207031683,
          -0.0906659850021094,
          -0.2727332447383256,
          -1.1830977459293435,
          1.5018775786963818,
          1.1466140817409018,
          -0.5606275116117502,
          -0.10446970457486329,
          0.3496968132069453,
          -0.6288080145360863,
          0.17515626102678597,
          0.4300673887181837,
          -0.1627117716049884,
          -1.1241376448948244
         ]
        }
       ],
       "layout": {
        "barmode": "overlay",
        "legend": {
         "bgcolor": "#F5F6F9",
         "font": {
          "color": "#4D5663"
         }
        },
        "paper_bgcolor": "#F5F6F9",
        "plot_bgcolor": "#F5F6F9",
        "template": {
         "data": {
          "bar": [
           {
            "error_x": {
             "color": "#2a3f5f"
            },
            "error_y": {
             "color": "#2a3f5f"
            },
            "marker": {
             "line": {
              "color": "#E5ECF6",
              "width": 0.5
             },
             "pattern": {
              "fillmode": "overlay",
              "size": 10,
              "solidity": 0.2
             }
            },
            "type": "bar"
           }
          ],
          "barpolar": [
           {
            "marker": {
             "line": {
              "color": "#E5ECF6",
              "width": 0.5
             },
             "pattern": {
              "fillmode": "overlay",
              "size": 10,
              "solidity": 0.2
             }
            },
            "type": "barpolar"
           }
          ],
          "carpet": [
           {
            "aaxis": {
             "endlinecolor": "#2a3f5f",
             "gridcolor": "white",
             "linecolor": "white",
             "minorgridcolor": "white",
             "startlinecolor": "#2a3f5f"
            },
            "baxis": {
             "endlinecolor": "#2a3f5f",
             "gridcolor": "white",
             "linecolor": "white",
             "minorgridcolor": "white",
             "startlinecolor": "#2a3f5f"
            },
            "type": "carpet"
           }
          ],
          "choropleth": [
           {
            "colorbar": {
             "outlinewidth": 0,
             "ticks": ""
            },
            "type": "choropleth"
           }
          ],
          "contour": [
           {
            "colorbar": {
             "outlinewidth": 0,
             "ticks": ""
            },
            "colorscale": [
             [
              0,
              "#0d0887"
             ],
             [
              0.1111111111111111,
              "#46039f"
             ],
             [
              0.2222222222222222,
              "#7201a8"
             ],
             [
              0.3333333333333333,
              "#9c179e"
             ],
             [
              0.4444444444444444,
              "#bd3786"
             ],
             [
              0.5555555555555556,
              "#d8576b"
             ],
             [
              0.6666666666666666,
              "#ed7953"
             ],
             [
              0.7777777777777778,
              "#fb9f3a"
             ],
             [
              0.8888888888888888,
              "#fdca26"
             ],
             [
              1,
              "#f0f921"
             ]
            ],
            "type": "contour"
           }
          ],
          "contourcarpet": [
           {
            "colorbar": {
             "outlinewidth": 0,
             "ticks": ""
            },
            "type": "contourcarpet"
           }
          ],
          "heatmap": [
           {
            "colorbar": {
             "outlinewidth": 0,
             "ticks": ""
            },
            "colorscale": [
             [
              0,
              "#0d0887"
             ],
             [
              0.1111111111111111,
              "#46039f"
             ],
             [
              0.2222222222222222,
              "#7201a8"
             ],
             [
              0.3333333333333333,
              "#9c179e"
             ],
             [
              0.4444444444444444,
              "#bd3786"
             ],
             [
              0.5555555555555556,
              "#d8576b"
             ],
             [
              0.6666666666666666,
              "#ed7953"
             ],
             [
              0.7777777777777778,
              "#fb9f3a"
             ],
             [
              0.8888888888888888,
              "#fdca26"
             ],
             [
              1,
              "#f0f921"
             ]
            ],
            "type": "heatmap"
           }
          ],
          "heatmapgl": [
           {
            "colorbar": {
             "outlinewidth": 0,
             "ticks": ""
            },
            "colorscale": [
             [
              0,
              "#0d0887"
             ],
             [
              0.1111111111111111,
              "#46039f"
             ],
             [
              0.2222222222222222,
              "#7201a8"
             ],
             [
              0.3333333333333333,
              "#9c179e"
             ],
             [
              0.4444444444444444,
              "#bd3786"
             ],
             [
              0.5555555555555556,
              "#d8576b"
             ],
             [
              0.6666666666666666,
              "#ed7953"
             ],
             [
              0.7777777777777778,
              "#fb9f3a"
             ],
             [
              0.8888888888888888,
              "#fdca26"
             ],
             [
              1,
              "#f0f921"
             ]
            ],
            "type": "heatmapgl"
           }
          ],
          "histogram": [
           {
            "marker": {
             "pattern": {
              "fillmode": "overlay",
              "size": 10,
              "solidity": 0.2
             }
            },
            "type": "histogram"
           }
          ],
          "histogram2d": [
           {
            "colorbar": {
             "outlinewidth": 0,
             "ticks": ""
            },
            "colorscale": [
             [
              0,
              "#0d0887"
             ],
             [
              0.1111111111111111,
              "#46039f"
             ],
             [
              0.2222222222222222,
              "#7201a8"
             ],
             [
              0.3333333333333333,
              "#9c179e"
             ],
             [
              0.4444444444444444,
              "#bd3786"
             ],
             [
              0.5555555555555556,
              "#d8576b"
             ],
             [
              0.6666666666666666,
              "#ed7953"
             ],
             [
              0.7777777777777778,
              "#fb9f3a"
             ],
             [
              0.8888888888888888,
              "#fdca26"
             ],
             [
              1,
              "#f0f921"
             ]
            ],
            "type": "histogram2d"
           }
          ],
          "histogram2dcontour": [
           {
            "colorbar": {
             "outlinewidth": 0,
             "ticks": ""
            },
            "colorscale": [
             [
              0,
              "#0d0887"
             ],
             [
              0.1111111111111111,
              "#46039f"
             ],
             [
              0.2222222222222222,
              "#7201a8"
             ],
             [
              0.3333333333333333,
              "#9c179e"
             ],
             [
              0.4444444444444444,
              "#bd3786"
             ],
             [
              0.5555555555555556,
              "#d8576b"
             ],
             [
              0.6666666666666666,
              "#ed7953"
             ],
             [
              0.7777777777777778,
              "#fb9f3a"
             ],
             [
              0.8888888888888888,
              "#fdca26"
             ],
             [
              1,
              "#f0f921"
             ]
            ],
            "type": "histogram2dcontour"
           }
          ],
          "mesh3d": [
           {
            "colorbar": {
             "outlinewidth": 0,
             "ticks": ""
            },
            "type": "mesh3d"
           }
          ],
          "parcoords": [
           {
            "line": {
             "colorbar": {
              "outlinewidth": 0,
              "ticks": ""
             }
            },
            "type": "parcoords"
           }
          ],
          "pie": [
           {
            "automargin": true,
            "type": "pie"
           }
          ],
          "scatter": [
           {
            "marker": {
             "colorbar": {
              "outlinewidth": 0,
              "ticks": ""
             }
            },
            "type": "scatter"
           }
          ],
          "scatter3d": [
           {
            "line": {
             "colorbar": {
              "outlinewidth": 0,
              "ticks": ""
             }
            },
            "marker": {
             "colorbar": {
              "outlinewidth": 0,
              "ticks": ""
             }
            },
            "type": "scatter3d"
           }
          ],
          "scattercarpet": [
           {
            "marker": {
             "colorbar": {
              "outlinewidth": 0,
              "ticks": ""
             }
            },
            "type": "scattercarpet"
           }
          ],
          "scattergeo": [
           {
            "marker": {
             "colorbar": {
              "outlinewidth": 0,
              "ticks": ""
             }
            },
            "type": "scattergeo"
           }
          ],
          "scattergl": [
           {
            "marker": {
             "colorbar": {
              "outlinewidth": 0,
              "ticks": ""
             }
            },
            "type": "scattergl"
           }
          ],
          "scattermapbox": [
           {
            "marker": {
             "colorbar": {
              "outlinewidth": 0,
              "ticks": ""
             }
            },
            "type": "scattermapbox"
           }
          ],
          "scatterpolar": [
           {
            "marker": {
             "colorbar": {
              "outlinewidth": 0,
              "ticks": ""
             }
            },
            "type": "scatterpolar"
           }
          ],
          "scatterpolargl": [
           {
            "marker": {
             "colorbar": {
              "outlinewidth": 0,
              "ticks": ""
             }
            },
            "type": "scatterpolargl"
           }
          ],
          "scatterternary": [
           {
            "marker": {
             "colorbar": {
              "outlinewidth": 0,
              "ticks": ""
             }
            },
            "type": "scatterternary"
           }
          ],
          "surface": [
           {
            "colorbar": {
             "outlinewidth": 0,
             "ticks": ""
            },
            "colorscale": [
             [
              0,
              "#0d0887"
             ],
             [
              0.1111111111111111,
              "#46039f"
             ],
             [
              0.2222222222222222,
              "#7201a8"
             ],
             [
              0.3333333333333333,
              "#9c179e"
             ],
             [
              0.4444444444444444,
              "#bd3786"
             ],
             [
              0.5555555555555556,
              "#d8576b"
             ],
             [
              0.6666666666666666,
              "#ed7953"
             ],
             [
              0.7777777777777778,
              "#fb9f3a"
             ],
             [
              0.8888888888888888,
              "#fdca26"
             ],
             [
              1,
              "#f0f921"
             ]
            ],
            "type": "surface"
           }
          ],
          "table": [
           {
            "cells": {
             "fill": {
              "color": "#EBF0F8"
             },
             "line": {
              "color": "white"
             }
            },
            "header": {
             "fill": {
              "color": "#C8D4E3"
             },
             "line": {
              "color": "white"
             }
            },
            "type": "table"
           }
          ]
         },
         "layout": {
          "annotationdefaults": {
           "arrowcolor": "#2a3f5f",
           "arrowhead": 0,
           "arrowwidth": 1
          },
          "autotypenumbers": "strict",
          "coloraxis": {
           "colorbar": {
            "outlinewidth": 0,
            "ticks": ""
           }
          },
          "colorscale": {
           "diverging": [
            [
             0,
             "#8e0152"
            ],
            [
             0.1,
             "#c51b7d"
            ],
            [
             0.2,
             "#de77ae"
            ],
            [
             0.3,
             "#f1b6da"
            ],
            [
             0.4,
             "#fde0ef"
            ],
            [
             0.5,
             "#f7f7f7"
            ],
            [
             0.6,
             "#e6f5d0"
            ],
            [
             0.7,
             "#b8e186"
            ],
            [
             0.8,
             "#7fbc41"
            ],
            [
             0.9,
             "#4d9221"
            ],
            [
             1,
             "#276419"
            ]
           ],
           "sequential": [
            [
             0,
             "#0d0887"
            ],
            [
             0.1111111111111111,
             "#46039f"
            ],
            [
             0.2222222222222222,
             "#7201a8"
            ],
            [
             0.3333333333333333,
             "#9c179e"
            ],
            [
             0.4444444444444444,
             "#bd3786"
            ],
            [
             0.5555555555555556,
             "#d8576b"
            ],
            [
             0.6666666666666666,
             "#ed7953"
            ],
            [
             0.7777777777777778,
             "#fb9f3a"
            ],
            [
             0.8888888888888888,
             "#fdca26"
            ],
            [
             1,
             "#f0f921"
            ]
           ],
           "sequentialminus": [
            [
             0,
             "#0d0887"
            ],
            [
             0.1111111111111111,
             "#46039f"
            ],
            [
             0.2222222222222222,
             "#7201a8"
            ],
            [
             0.3333333333333333,
             "#9c179e"
            ],
            [
             0.4444444444444444,
             "#bd3786"
            ],
            [
             0.5555555555555556,
             "#d8576b"
            ],
            [
             0.6666666666666666,
             "#ed7953"
            ],
            [
             0.7777777777777778,
             "#fb9f3a"
            ],
            [
             0.8888888888888888,
             "#fdca26"
            ],
            [
             1,
             "#f0f921"
            ]
           ]
          },
          "colorway": [
           "#636efa",
           "#EF553B",
           "#00cc96",
           "#ab63fa",
           "#FFA15A",
           "#19d3f3",
           "#FF6692",
           "#B6E880",
           "#FF97FF",
           "#FECB52"
          ],
          "font": {
           "color": "#2a3f5f"
          },
          "geo": {
           "bgcolor": "white",
           "lakecolor": "white",
           "landcolor": "#E5ECF6",
           "showlakes": true,
           "showland": true,
           "subunitcolor": "white"
          },
          "hoverlabel": {
           "align": "left"
          },
          "hovermode": "closest",
          "mapbox": {
           "style": "light"
          },
          "paper_bgcolor": "white",
          "plot_bgcolor": "#E5ECF6",
          "polar": {
           "angularaxis": {
            "gridcolor": "white",
            "linecolor": "white",
            "ticks": ""
           },
           "bgcolor": "#E5ECF6",
           "radialaxis": {
            "gridcolor": "white",
            "linecolor": "white",
            "ticks": ""
           }
          },
          "scene": {
           "xaxis": {
            "backgroundcolor": "#E5ECF6",
            "gridcolor": "white",
            "gridwidth": 2,
            "linecolor": "white",
            "showbackground": true,
            "ticks": "",
            "zerolinecolor": "white"
           },
           "yaxis": {
            "backgroundcolor": "#E5ECF6",
            "gridcolor": "white",
            "gridwidth": 2,
            "linecolor": "white",
            "showbackground": true,
            "ticks": "",
            "zerolinecolor": "white"
           },
           "zaxis": {
            "backgroundcolor": "#E5ECF6",
            "gridcolor": "white",
            "gridwidth": 2,
            "linecolor": "white",
            "showbackground": true,
            "ticks": "",
            "zerolinecolor": "white"
           }
          },
          "shapedefaults": {
           "line": {
            "color": "#2a3f5f"
           }
          },
          "ternary": {
           "aaxis": {
            "gridcolor": "white",
            "linecolor": "white",
            "ticks": ""
           },
           "baxis": {
            "gridcolor": "white",
            "linecolor": "white",
            "ticks": ""
           },
           "bgcolor": "#E5ECF6",
           "caxis": {
            "gridcolor": "white",
            "linecolor": "white",
            "ticks": ""
           }
          },
          "title": {
           "x": 0.05
          },
          "xaxis": {
           "automargin": true,
           "gridcolor": "white",
           "linecolor": "white",
           "ticks": "",
           "title": {
            "standoff": 15
           },
           "zerolinecolor": "white",
           "zerolinewidth": 2
          },
          "yaxis": {
           "automargin": true,
           "gridcolor": "white",
           "linecolor": "white",
           "ticks": "",
           "title": {
            "standoff": 15
           },
           "zerolinecolor": "white",
           "zerolinewidth": 2
          }
         }
        },
        "title": {
         "font": {
          "color": "#4D5663"
         }
        },
        "xaxis": {
         "gridcolor": "#E1E5ED",
         "showgrid": true,
         "tickfont": {
          "color": "#4D5663"
         },
         "title": {
          "font": {
           "color": "#4D5663"
          },
          "text": ""
         },
         "zerolinecolor": "#E1E5ED"
        },
        "yaxis": {
         "gridcolor": "#E1E5ED",
         "showgrid": true,
         "tickfont": {
          "color": "#4D5663"
         },
         "title": {
          "font": {
           "color": "#4D5663"
          },
          "text": ""
         },
         "zerolinecolor": "#E1E5ED"
        }
       }
      },
      "text/html": [
       "<div>                            <div id=\"1faa211c-6a19-4e41-884e-0d617ce1f536\" class=\"plotly-graph-div\" style=\"height:525px; width:100%;\"></div>            <script type=\"text/javascript\">                require([\"plotly\"], function(Plotly) {                    window.PLOTLYENV=window.PLOTLYENV || {};\n",
       "                    window.PLOTLYENV.BASE_URL='https://plot.ly';                                    if (document.getElementById(\"1faa211c-6a19-4e41-884e-0d617ce1f536\")) {                    Plotly.newPlot(                        \"1faa211c-6a19-4e41-884e-0d617ce1f536\",                        [{\"histfunc\":\"count\",\"histnorm\":\"\",\"marker\":{\"color\":\"rgba(255, 153, 51, 1.0)\",\"line\":{\"color\":\"#4D5663\",\"width\":1.3}},\"name\":\"A\",\"nbinsx\":50,\"opacity\":0.8,\"orientation\":\"v\",\"x\":[-1.727725252579994,-0.6523954972283168,1.7111687573755276,1.8854926884160432,0.2797752300463759,-0.12278394235318713,-2.4629864633042837,-0.78629519698013,1.5013687819523045,0.5778433356227098,-2.1250130799216187,0.3074884774377496,-0.39557538193393044,-0.7210189703241677,0.6061344398049183,0.7253202601114827,0.7539556248165138,-0.6899826023857759,-1.9861820267153667,2.4724627179818857,-1.4921740674205082,0.21778649632986308,-1.2225982276441731,0.3022845411813817,0.5009163667793719,-0.27518666748581294,0.3332232948659106,0.5530183129927184,2.1813543514946936,2.3674713894348414,0.4040344645695381,0.1038752830651099,0.8189814485190792,0.6565628023965491,0.9649713911033581,0.4770077483354942,-1.1877719893116574,-0.3185818235127667,-0.4156429945784772,0.09263219619292881,1.1664812938353366,-1.664581973843618,0.8941099556511569,-0.059261618500232864,-0.42899090930167383,1.4204537434359545,-1.9614667808680513,0.5392218409350615,0.47024725448087334,1.1467256719334287,0.6683405973503002,-0.1653528442340094,0.2720390477214452,-0.6859510913281808,0.873018803874626,-0.4897179349388602,0.2791268821380968,-0.01369544344158681,0.9219045630189825,-0.17979824847298675,-1.4115107328459895,-0.4411751400820583,-0.13716549658502647,1.0502522594862551,-0.19931089910380348,1.2830450947207823,-0.7369514961753213,-0.43860412360855694,1.0940477429003814,0.8058780282388065,-0.2924536277044239,2.852728649349453,0.04370968310871116,-0.8464521149500591,2.28771812749006,0.010509765405440371,-1.4659896454578434,0.36111835740287185,1.080204647892336,0.21540806709294769,-1.2746246503442467,-0.7772846266240038,1.0151964174987262,-0.06308949328548494,0.6685557331125359,1.613021300620463,0.47658038207031683,-0.0906659850021094,-0.2727332447383256,-1.1830977459293435,1.5018775786963818,1.1466140817409018,-0.5606275116117502,-0.10446970457486329,0.3496968132069453,-0.6288080145360863,0.17515626102678597,0.4300673887181837,-0.1627117716049884,-1.1241376448948244],\"type\":\"histogram\"}],                        {\"barmode\":\"overlay\",\"legend\":{\"bgcolor\":\"#F5F6F9\",\"font\":{\"color\":\"#4D5663\"}},\"paper_bgcolor\":\"#F5F6F9\",\"plot_bgcolor\":\"#F5F6F9\",\"template\":{\"data\":{\"barpolar\":[{\"marker\":{\"line\":{\"color\":\"#E5ECF6\",\"width\":0.5},\"pattern\":{\"fillmode\":\"overlay\",\"size\":10,\"solidity\":0.2}},\"type\":\"barpolar\"}],\"bar\":[{\"error_x\":{\"color\":\"#2a3f5f\"},\"error_y\":{\"color\":\"#2a3f5f\"},\"marker\":{\"line\":{\"color\":\"#E5ECF6\",\"width\":0.5},\"pattern\":{\"fillmode\":\"overlay\",\"size\":10,\"solidity\":0.2}},\"type\":\"bar\"}],\"carpet\":[{\"aaxis\":{\"endlinecolor\":\"#2a3f5f\",\"gridcolor\":\"white\",\"linecolor\":\"white\",\"minorgridcolor\":\"white\",\"startlinecolor\":\"#2a3f5f\"},\"baxis\":{\"endlinecolor\":\"#2a3f5f\",\"gridcolor\":\"white\",\"linecolor\":\"white\",\"minorgridcolor\":\"white\",\"startlinecolor\":\"#2a3f5f\"},\"type\":\"carpet\"}],\"choropleth\":[{\"colorbar\":{\"outlinewidth\":0,\"ticks\":\"\"},\"type\":\"choropleth\"}],\"contourcarpet\":[{\"colorbar\":{\"outlinewidth\":0,\"ticks\":\"\"},\"type\":\"contourcarpet\"}],\"contour\":[{\"colorbar\":{\"outlinewidth\":0,\"ticks\":\"\"},\"colorscale\":[[0.0,\"#0d0887\"],[0.1111111111111111,\"#46039f\"],[0.2222222222222222,\"#7201a8\"],[0.3333333333333333,\"#9c179e\"],[0.4444444444444444,\"#bd3786\"],[0.5555555555555556,\"#d8576b\"],[0.6666666666666666,\"#ed7953\"],[0.7777777777777778,\"#fb9f3a\"],[0.8888888888888888,\"#fdca26\"],[1.0,\"#f0f921\"]],\"type\":\"contour\"}],\"heatmapgl\":[{\"colorbar\":{\"outlinewidth\":0,\"ticks\":\"\"},\"colorscale\":[[0.0,\"#0d0887\"],[0.1111111111111111,\"#46039f\"],[0.2222222222222222,\"#7201a8\"],[0.3333333333333333,\"#9c179e\"],[0.4444444444444444,\"#bd3786\"],[0.5555555555555556,\"#d8576b\"],[0.6666666666666666,\"#ed7953\"],[0.7777777777777778,\"#fb9f3a\"],[0.8888888888888888,\"#fdca26\"],[1.0,\"#f0f921\"]],\"type\":\"heatmapgl\"}],\"heatmap\":[{\"colorbar\":{\"outlinewidth\":0,\"ticks\":\"\"},\"colorscale\":[[0.0,\"#0d0887\"],[0.1111111111111111,\"#46039f\"],[0.2222222222222222,\"#7201a8\"],[0.3333333333333333,\"#9c179e\"],[0.4444444444444444,\"#bd3786\"],[0.5555555555555556,\"#d8576b\"],[0.6666666666666666,\"#ed7953\"],[0.7777777777777778,\"#fb9f3a\"],[0.8888888888888888,\"#fdca26\"],[1.0,\"#f0f921\"]],\"type\":\"heatmap\"}],\"histogram2dcontour\":[{\"colorbar\":{\"outlinewidth\":0,\"ticks\":\"\"},\"colorscale\":[[0.0,\"#0d0887\"],[0.1111111111111111,\"#46039f\"],[0.2222222222222222,\"#7201a8\"],[0.3333333333333333,\"#9c179e\"],[0.4444444444444444,\"#bd3786\"],[0.5555555555555556,\"#d8576b\"],[0.6666666666666666,\"#ed7953\"],[0.7777777777777778,\"#fb9f3a\"],[0.8888888888888888,\"#fdca26\"],[1.0,\"#f0f921\"]],\"type\":\"histogram2dcontour\"}],\"histogram2d\":[{\"colorbar\":{\"outlinewidth\":0,\"ticks\":\"\"},\"colorscale\":[[0.0,\"#0d0887\"],[0.1111111111111111,\"#46039f\"],[0.2222222222222222,\"#7201a8\"],[0.3333333333333333,\"#9c179e\"],[0.4444444444444444,\"#bd3786\"],[0.5555555555555556,\"#d8576b\"],[0.6666666666666666,\"#ed7953\"],[0.7777777777777778,\"#fb9f3a\"],[0.8888888888888888,\"#fdca26\"],[1.0,\"#f0f921\"]],\"type\":\"histogram2d\"}],\"histogram\":[{\"marker\":{\"pattern\":{\"fillmode\":\"overlay\",\"size\":10,\"solidity\":0.2}},\"type\":\"histogram\"}],\"mesh3d\":[{\"colorbar\":{\"outlinewidth\":0,\"ticks\":\"\"},\"type\":\"mesh3d\"}],\"parcoords\":[{\"line\":{\"colorbar\":{\"outlinewidth\":0,\"ticks\":\"\"}},\"type\":\"parcoords\"}],\"pie\":[{\"automargin\":true,\"type\":\"pie\"}],\"scatter3d\":[{\"line\":{\"colorbar\":{\"outlinewidth\":0,\"ticks\":\"\"}},\"marker\":{\"colorbar\":{\"outlinewidth\":0,\"ticks\":\"\"}},\"type\":\"scatter3d\"}],\"scattercarpet\":[{\"marker\":{\"colorbar\":{\"outlinewidth\":0,\"ticks\":\"\"}},\"type\":\"scattercarpet\"}],\"scattergeo\":[{\"marker\":{\"colorbar\":{\"outlinewidth\":0,\"ticks\":\"\"}},\"type\":\"scattergeo\"}],\"scattergl\":[{\"marker\":{\"colorbar\":{\"outlinewidth\":0,\"ticks\":\"\"}},\"type\":\"scattergl\"}],\"scattermapbox\":[{\"marker\":{\"colorbar\":{\"outlinewidth\":0,\"ticks\":\"\"}},\"type\":\"scattermapbox\"}],\"scatterpolargl\":[{\"marker\":{\"colorbar\":{\"outlinewidth\":0,\"ticks\":\"\"}},\"type\":\"scatterpolargl\"}],\"scatterpolar\":[{\"marker\":{\"colorbar\":{\"outlinewidth\":0,\"ticks\":\"\"}},\"type\":\"scatterpolar\"}],\"scatter\":[{\"marker\":{\"colorbar\":{\"outlinewidth\":0,\"ticks\":\"\"}},\"type\":\"scatter\"}],\"scatterternary\":[{\"marker\":{\"colorbar\":{\"outlinewidth\":0,\"ticks\":\"\"}},\"type\":\"scatterternary\"}],\"surface\":[{\"colorbar\":{\"outlinewidth\":0,\"ticks\":\"\"},\"colorscale\":[[0.0,\"#0d0887\"],[0.1111111111111111,\"#46039f\"],[0.2222222222222222,\"#7201a8\"],[0.3333333333333333,\"#9c179e\"],[0.4444444444444444,\"#bd3786\"],[0.5555555555555556,\"#d8576b\"],[0.6666666666666666,\"#ed7953\"],[0.7777777777777778,\"#fb9f3a\"],[0.8888888888888888,\"#fdca26\"],[1.0,\"#f0f921\"]],\"type\":\"surface\"}],\"table\":[{\"cells\":{\"fill\":{\"color\":\"#EBF0F8\"},\"line\":{\"color\":\"white\"}},\"header\":{\"fill\":{\"color\":\"#C8D4E3\"},\"line\":{\"color\":\"white\"}},\"type\":\"table\"}]},\"layout\":{\"annotationdefaults\":{\"arrowcolor\":\"#2a3f5f\",\"arrowhead\":0,\"arrowwidth\":1},\"autotypenumbers\":\"strict\",\"coloraxis\":{\"colorbar\":{\"outlinewidth\":0,\"ticks\":\"\"}},\"colorscale\":{\"diverging\":[[0,\"#8e0152\"],[0.1,\"#c51b7d\"],[0.2,\"#de77ae\"],[0.3,\"#f1b6da\"],[0.4,\"#fde0ef\"],[0.5,\"#f7f7f7\"],[0.6,\"#e6f5d0\"],[0.7,\"#b8e186\"],[0.8,\"#7fbc41\"],[0.9,\"#4d9221\"],[1,\"#276419\"]],\"sequential\":[[0.0,\"#0d0887\"],[0.1111111111111111,\"#46039f\"],[0.2222222222222222,\"#7201a8\"],[0.3333333333333333,\"#9c179e\"],[0.4444444444444444,\"#bd3786\"],[0.5555555555555556,\"#d8576b\"],[0.6666666666666666,\"#ed7953\"],[0.7777777777777778,\"#fb9f3a\"],[0.8888888888888888,\"#fdca26\"],[1.0,\"#f0f921\"]],\"sequentialminus\":[[0.0,\"#0d0887\"],[0.1111111111111111,\"#46039f\"],[0.2222222222222222,\"#7201a8\"],[0.3333333333333333,\"#9c179e\"],[0.4444444444444444,\"#bd3786\"],[0.5555555555555556,\"#d8576b\"],[0.6666666666666666,\"#ed7953\"],[0.7777777777777778,\"#fb9f3a\"],[0.8888888888888888,\"#fdca26\"],[1.0,\"#f0f921\"]]},\"colorway\":[\"#636efa\",\"#EF553B\",\"#00cc96\",\"#ab63fa\",\"#FFA15A\",\"#19d3f3\",\"#FF6692\",\"#B6E880\",\"#FF97FF\",\"#FECB52\"],\"font\":{\"color\":\"#2a3f5f\"},\"geo\":{\"bgcolor\":\"white\",\"lakecolor\":\"white\",\"landcolor\":\"#E5ECF6\",\"showlakes\":true,\"showland\":true,\"subunitcolor\":\"white\"},\"hoverlabel\":{\"align\":\"left\"},\"hovermode\":\"closest\",\"mapbox\":{\"style\":\"light\"},\"paper_bgcolor\":\"white\",\"plot_bgcolor\":\"#E5ECF6\",\"polar\":{\"angularaxis\":{\"gridcolor\":\"white\",\"linecolor\":\"white\",\"ticks\":\"\"},\"bgcolor\":\"#E5ECF6\",\"radialaxis\":{\"gridcolor\":\"white\",\"linecolor\":\"white\",\"ticks\":\"\"}},\"scene\":{\"xaxis\":{\"backgroundcolor\":\"#E5ECF6\",\"gridcolor\":\"white\",\"gridwidth\":2,\"linecolor\":\"white\",\"showbackground\":true,\"ticks\":\"\",\"zerolinecolor\":\"white\"},\"yaxis\":{\"backgroundcolor\":\"#E5ECF6\",\"gridcolor\":\"white\",\"gridwidth\":2,\"linecolor\":\"white\",\"showbackground\":true,\"ticks\":\"\",\"zerolinecolor\":\"white\"},\"zaxis\":{\"backgroundcolor\":\"#E5ECF6\",\"gridcolor\":\"white\",\"gridwidth\":2,\"linecolor\":\"white\",\"showbackground\":true,\"ticks\":\"\",\"zerolinecolor\":\"white\"}},\"shapedefaults\":{\"line\":{\"color\":\"#2a3f5f\"}},\"ternary\":{\"aaxis\":{\"gridcolor\":\"white\",\"linecolor\":\"white\",\"ticks\":\"\"},\"baxis\":{\"gridcolor\":\"white\",\"linecolor\":\"white\",\"ticks\":\"\"},\"bgcolor\":\"#E5ECF6\",\"caxis\":{\"gridcolor\":\"white\",\"linecolor\":\"white\",\"ticks\":\"\"}},\"title\":{\"x\":0.05},\"xaxis\":{\"automargin\":true,\"gridcolor\":\"white\",\"linecolor\":\"white\",\"ticks\":\"\",\"title\":{\"standoff\":15},\"zerolinecolor\":\"white\",\"zerolinewidth\":2},\"yaxis\":{\"automargin\":true,\"gridcolor\":\"white\",\"linecolor\":\"white\",\"ticks\":\"\",\"title\":{\"standoff\":15},\"zerolinecolor\":\"white\",\"zerolinewidth\":2}}},\"title\":{\"font\":{\"color\":\"#4D5663\"}},\"xaxis\":{\"gridcolor\":\"#E1E5ED\",\"showgrid\":true,\"tickfont\":{\"color\":\"#4D5663\"},\"title\":{\"font\":{\"color\":\"#4D5663\"},\"text\":\"\"},\"zerolinecolor\":\"#E1E5ED\"},\"yaxis\":{\"gridcolor\":\"#E1E5ED\",\"showgrid\":true,\"tickfont\":{\"color\":\"#4D5663\"},\"title\":{\"font\":{\"color\":\"#4D5663\"},\"text\":\"\"},\"zerolinecolor\":\"#E1E5ED\"}},                        {\"showLink\": true, \"linkText\": \"Export to plot.ly\", \"plotlyServerURL\": \"https://plot.ly\", \"responsive\": true}                    ).then(function(){\n",
       "                            \n",
       "var gd = document.getElementById('1faa211c-6a19-4e41-884e-0d617ce1f536');\n",
       "var x = new MutationObserver(function (mutations, observer) {{\n",
       "        var display = window.getComputedStyle(gd).display;\n",
       "        if (!display || display === 'none') {{\n",
       "            console.log([gd, 'removed!']);\n",
       "            Plotly.purge(gd);\n",
       "            observer.disconnect();\n",
       "        }}\n",
       "}});\n",
       "\n",
       "// Listen for the removal of the full notebook cells\n",
       "var notebookContainer = gd.closest('#notebook-container');\n",
       "if (notebookContainer) {{\n",
       "    x.observe(notebookContainer, {childList: true});\n",
       "}}\n",
       "\n",
       "// Listen for the clearing of the current output cell\n",
       "var outputEl = gd.closest('.output');\n",
       "if (outputEl) {{\n",
       "    x.observe(outputEl, {childList: true});\n",
       "}}\n",
       "\n",
       "                        })                };                });            </script>        </div>"
      ]
     },
     "metadata": {},
     "output_type": "display_data"
    }
   ],
   "source": [
    "df['A'].iplot(kind='hist',bins=50)"
   ]
  },
  {
   "cell_type": "code",
   "execution_count": 29,
   "metadata": {},
   "outputs": [
    {
     "data": {
      "application/vnd.plotly.v1+json": {
       "config": {
        "linkText": "Export to plot.ly",
        "plotlyServerURL": "https://plot.ly",
        "showLink": true
       },
       "data": [
        {
         "histfunc": "count",
         "histnorm": "",
         "marker": {
          "color": "rgba(255, 153, 51, 1.0)",
          "line": {
           "color": "#4D5663",
           "width": 1.3
          }
         },
         "name": "A",
         "nbinsx": 50,
         "opacity": 0.8,
         "orientation": "v",
         "type": "histogram",
         "x": [
          -1.727725252579994,
          -0.6523954972283168,
          1.7111687573755276,
          1.8854926884160432,
          0.2797752300463759,
          -0.12278394235318713,
          -2.4629864633042837,
          -0.78629519698013,
          1.5013687819523045,
          0.5778433356227098,
          -2.1250130799216187,
          0.3074884774377496,
          -0.39557538193393044,
          -0.7210189703241677,
          0.6061344398049183,
          0.7253202601114827,
          0.7539556248165138,
          -0.6899826023857759,
          -1.9861820267153667,
          2.4724627179818857,
          -1.4921740674205082,
          0.21778649632986308,
          -1.2225982276441731,
          0.3022845411813817,
          0.5009163667793719,
          -0.27518666748581294,
          0.3332232948659106,
          0.5530183129927184,
          2.1813543514946936,
          2.3674713894348414,
          0.4040344645695381,
          0.1038752830651099,
          0.8189814485190792,
          0.6565628023965491,
          0.9649713911033581,
          0.4770077483354942,
          -1.1877719893116574,
          -0.3185818235127667,
          -0.4156429945784772,
          0.09263219619292881,
          1.1664812938353366,
          -1.664581973843618,
          0.8941099556511569,
          -0.059261618500232864,
          -0.42899090930167383,
          1.4204537434359545,
          -1.9614667808680513,
          0.5392218409350615,
          0.47024725448087334,
          1.1467256719334287,
          0.6683405973503002,
          -0.1653528442340094,
          0.2720390477214452,
          -0.6859510913281808,
          0.873018803874626,
          -0.4897179349388602,
          0.2791268821380968,
          -0.01369544344158681,
          0.9219045630189825,
          -0.17979824847298675,
          -1.4115107328459895,
          -0.4411751400820583,
          -0.13716549658502647,
          1.0502522594862551,
          -0.19931089910380348,
          1.2830450947207823,
          -0.7369514961753213,
          -0.43860412360855694,
          1.0940477429003814,
          0.8058780282388065,
          -0.2924536277044239,
          2.852728649349453,
          0.04370968310871116,
          -0.8464521149500591,
          2.28771812749006,
          0.010509765405440371,
          -1.4659896454578434,
          0.36111835740287185,
          1.080204647892336,
          0.21540806709294769,
          -1.2746246503442467,
          -0.7772846266240038,
          1.0151964174987262,
          -0.06308949328548494,
          0.6685557331125359,
          1.613021300620463,
          0.47658038207031683,
          -0.0906659850021094,
          -0.2727332447383256,
          -1.1830977459293435,
          1.5018775786963818,
          1.1466140817409018,
          -0.5606275116117502,
          -0.10446970457486329,
          0.3496968132069453,
          -0.6288080145360863,
          0.17515626102678597,
          0.4300673887181837,
          -0.1627117716049884,
          -1.1241376448948244
         ]
        },
        {
         "histfunc": "count",
         "histnorm": "",
         "marker": {
          "color": "rgba(55, 128, 191, 1.0)",
          "line": {
           "color": "#4D5663",
           "width": 1.3
          }
         },
         "name": "B",
         "nbinsx": 50,
         "opacity": 0.8,
         "orientation": "v",
         "type": "histogram",
         "x": [
          -0.35927390814104476,
          0.27484927832288925,
          -1.8402446516963689,
          0.4198969961056575,
          0.4408799218403844,
          -0.665006993082131,
          0.46215986015186405,
          0.5573938040479566,
          0.6821486464071536,
          -0.43277368434188607,
          -1.2513044483714728,
          -0.11800881518163064,
          0.4836095280558225,
          0.7198624924810973,
          0.769734040934067,
          0.32344267033603896,
          -0.5870259090687044,
          1.3764179686571287,
          0.5414625905049074,
          -0.598832443850317,
          -0.3195569510147842,
          1.2187240035662579,
          1.7219914761158468,
          1.0019398201832288,
          1.2712216685342188,
          -0.15169413108128366,
          -2.0769689079471245,
          -0.24617444450180453,
          0.2170377560005709,
          -0.2729310917822944,
          1.0580304337908448,
          0.49066385442413696,
          -0.0634690171707887,
          0.8761236894078324,
          -1.156182292111743,
          -1.7239496549607745,
          0.39963598889609775,
          -1.2405253270562735,
          -1.0844575996887613,
          0.9674204439722415,
          -2.3541883593272517,
          0.8451426886740392,
          0.48949596951889196,
          -1.048367046734212,
          -1.7815751279077898,
          0.09603552656022948,
          1.022949626357811,
          -1.0023988657385754,
          1.426874982960192,
          1.3283805405466318,
          -0.6826435013929715,
          -0.06948124309346751,
          1.197488186443602,
          1.2254917825595262,
          -1.0980833401848957,
          -1.2936343077373555,
          1.1510079929317878,
          0.8458703244821476,
          -1.2145888081746545,
          -0.8788190625374599,
          -1.5966273166290912,
          -0.7875422511564634,
          -0.1341321161518695,
          -1.4763238379407928,
          0.20797838521634457,
          -0.8900356418694271,
          -0.03371763647518824,
          0.7039356095584622,
          0.04616317679909543,
          0.6189737947401249,
          -0.020343437881330532,
          0.5241198908709517,
          -0.7207502317444129,
          -0.5982659043959154,
          -0.9178947753869992,
          1.2093861312135417,
          0.8309601781784342,
          0.5021465962618618,
          0.7693337137248092,
          0.8802821133026897,
          0.8837223679022095,
          0.4640030703367322,
          0.4763622196705976,
          1.4159694950025428,
          -0.29871965306664355,
          -0.8294071562311018,
          2.3446506464640398,
          -1.8637575195725096,
          -0.9628217613471104,
          -0.8981321973001141,
          -1.2529064074869203,
          -0.9883955824352328,
          0.3543575984448734,
          -0.9402400967736599,
          0.27223807132119077,
          -2.1523011662984852,
          1.692728902747629,
          -1.41854939516216,
          -0.2837856089408107,
          -2.0512938927588813
         ]
        },
        {
         "histfunc": "count",
         "histnorm": "",
         "marker": {
          "color": "rgba(50, 171, 96, 1.0)",
          "line": {
           "color": "#4D5663",
           "width": 1.3
          }
         },
         "name": "C",
         "nbinsx": 50,
         "opacity": 0.8,
         "orientation": "v",
         "type": "histogram",
         "x": [
          -0.8576600851820129,
          -0.5750127788884318,
          0.05443737876004868,
          0.7852219652757143,
          -0.4815487628257627,
          0.04459261934043061,
          -0.06139117924853256,
          0.20633355242056056,
          0.3062438902586826,
          1.3296776414925178,
          -0.7677373671277309,
          -0.006243911503915224,
          1.1498310264509497,
          0.18172294440474673,
          -0.19866413611852404,
          -0.8526807024276805,
          0.699245848585638,
          2.3023684100320927,
          -0.9026964338652707,
          -2.126841132369603,
          -0.842454782703909,
          0.6287313876116941,
          0.6682264230511928,
          -0.1769443401341622,
          0.26285762319922845,
          -1.9182082898691377,
          -0.35284934610786284,
          0.10958556503104956,
          -0.39624950688927235,
          0.31471637953316495,
          -0.6383841995137576,
          2.1191646816111716,
          0.1071863837033177,
          -1.0993467054046555,
          -1.1851231161420908,
          0.9078673017445265,
          -0.9240942974216836,
          1.1082905281639326,
          0.5761749525009726,
          -0.5528240035959081,
          -1.08319747021649,
          -0.3976494677458565,
          -0.1518796496642728,
          1.057216241490009,
          0.0864398733826944,
          0.3100534812829789,
          -0.6269403739297886,
          -0.04947723555628706,
          -0.9613648546663213,
          0.8097916556373664,
          -0.4449950508578437,
          0.1853574945940702,
          -0.40107114793418475,
          -1.003082928001767,
          -0.752919299080358,
          -0.5950415455443309,
          -0.28500485049306346,
          0.22621527955495616,
          -1.4791742950433293,
          0.0863555425022727,
          -1.477818299284184,
          0.3181940813153153,
          -1.852121414840407,
          -0.5261400848800919,
          -0.19445599174652403,
          1.2692789684904169,
          0.9994959914342512,
          0.6236723493406674,
          0.6178352553527662,
          0.01180667443335035,
          -0.7145856073326051,
          -0.21614168674591627,
          0.47703388972485505,
          0.8951840409390931,
          0.12843544193826878,
          0.5830450541273284,
          -0.5229493660653698,
          0.1806833566529037,
          1.2369892036717165,
          1.5121942236516193,
          -1.0073202348756185,
          -0.561204749188291,
          -0.20193194149857496,
          -0.08287312206897211,
          0.8298502678698525,
          1.0807107053419196,
          -0.9480437842389379,
          0.19593365881638544,
          -0.07374676095263155,
          -1.20932451397519,
          -1.431085577517493,
          1.816668237644611,
          -0.3765677734224466,
          0.7154783027959628,
          1.4930900832089968,
          0.20413077793277046,
          -1.1301792997773459,
          0.536724977053704,
          1.1284546732489456,
          -0.45357490395777833
         ]
        },
        {
         "histfunc": "count",
         "histnorm": "",
         "marker": {
          "color": "rgba(128, 0, 128, 1.0)",
          "line": {
           "color": "#4D5663",
           "width": 1.3
          }
         },
         "name": "D",
         "nbinsx": 50,
         "opacity": 0.8,
         "orientation": "v",
         "type": "histogram",
         "x": [
          -0.4965581735356254,
          -1.3538967874345176,
          -0.17223560818573722,
          1.6231579665908973,
          1.7335446296311334,
          -0.2030650778601564,
          -0.8452123865917006,
          1.0521305282835511,
          1.0398148392863902,
          -0.050987236786020504,
          -0.57258304732208,
          0.04327595603432784,
          -1.3940547164717714,
          -0.7525124487105035,
          -0.07855624829631365,
          -1.1287941535485626,
          0.04187240456777008,
          1.4784163179354148,
          0.37467197907364774,
          -0.7017974813352993,
          -0.15403843626666303,
          -0.5716045712901606,
          -0.15591731115513588,
          1.0827404114215546,
          0.06824294928725971,
          -0.6664063407263672,
          0.058527585690782445,
          -0.9858046686548356,
          -0.6166101461902966,
          -1.1015216262366498,
          0.48213629877689473,
          0.7272580763180592,
          1.1927992467132755,
          0.007447607351678447,
          0.9569922129220856,
          -1.1567796253878748,
          -0.1064287862458562,
          0.13029253387854112,
          0.035064494826886665,
          0.007923565519073762,
          0.6666927681045107,
          -0.2975599094544142,
          0.5143305432258334,
          -0.5314002154044901,
          0.9862378459404866,
          -0.8561390311252871,
          -0.08201694272839874,
          0.658484445292848,
          -1.1019741335941395,
          1.7357110245871454,
          -0.11175638362924363,
          1.4145749280314097,
          0.0053422645864003295,
          -0.04697930289317601,
          -0.7801131973483182,
          -1.1054144127714947,
          -0.3191975559484706,
          2.1400811034734475,
          -0.28546278269794334,
          -0.026399679763879018,
          -0.13923411297599422,
          0.5953884586032037,
          -0.6078720153987348,
          0.4475031099532303,
          1.3609915633404095,
          -0.3970043698105668,
          -1.483018792788209,
          -0.5391846912785562,
          -0.9115268037798887,
          0.15120485573677836,
          1.188222846229542,
          -0.9754873702920279,
          0.6138966578280636,
          -0.7061571324872323,
          -0.03124596441063452,
          0.2649153628508299,
          -0.27760614222920704,
          1.0501757511701886,
          -1.6212716213140699,
          -0.8593940651917895,
          -0.4191976458232712,
          -0.7588387619889834,
          0.04786717019872002,
          -1.491149338625276,
          0.5932183950134358,
          0.6539229166253674,
          0.6982652058189514,
          0.6481823342092639,
          -1.0097184189627435,
          -0.7995847706776723,
          -1.1795007881349875,
          -1.2948637331231025,
          0.9988398953252201,
          0.811056302157581,
          -0.498460662658745,
          -0.28272291971528696,
          -0.5413007010612112,
          0.7831871945780672,
          -0.7738786516659488,
          -0.2820191552854569
         ]
        }
       ],
       "layout": {
        "barmode": "overlay",
        "legend": {
         "bgcolor": "#F5F6F9",
         "font": {
          "color": "#4D5663"
         }
        },
        "paper_bgcolor": "#F5F6F9",
        "plot_bgcolor": "#F5F6F9",
        "template": {
         "data": {
          "bar": [
           {
            "error_x": {
             "color": "#2a3f5f"
            },
            "error_y": {
             "color": "#2a3f5f"
            },
            "marker": {
             "line": {
              "color": "#E5ECF6",
              "width": 0.5
             },
             "pattern": {
              "fillmode": "overlay",
              "size": 10,
              "solidity": 0.2
             }
            },
            "type": "bar"
           }
          ],
          "barpolar": [
           {
            "marker": {
             "line": {
              "color": "#E5ECF6",
              "width": 0.5
             },
             "pattern": {
              "fillmode": "overlay",
              "size": 10,
              "solidity": 0.2
             }
            },
            "type": "barpolar"
           }
          ],
          "carpet": [
           {
            "aaxis": {
             "endlinecolor": "#2a3f5f",
             "gridcolor": "white",
             "linecolor": "white",
             "minorgridcolor": "white",
             "startlinecolor": "#2a3f5f"
            },
            "baxis": {
             "endlinecolor": "#2a3f5f",
             "gridcolor": "white",
             "linecolor": "white",
             "minorgridcolor": "white",
             "startlinecolor": "#2a3f5f"
            },
            "type": "carpet"
           }
          ],
          "choropleth": [
           {
            "colorbar": {
             "outlinewidth": 0,
             "ticks": ""
            },
            "type": "choropleth"
           }
          ],
          "contour": [
           {
            "colorbar": {
             "outlinewidth": 0,
             "ticks": ""
            },
            "colorscale": [
             [
              0,
              "#0d0887"
             ],
             [
              0.1111111111111111,
              "#46039f"
             ],
             [
              0.2222222222222222,
              "#7201a8"
             ],
             [
              0.3333333333333333,
              "#9c179e"
             ],
             [
              0.4444444444444444,
              "#bd3786"
             ],
             [
              0.5555555555555556,
              "#d8576b"
             ],
             [
              0.6666666666666666,
              "#ed7953"
             ],
             [
              0.7777777777777778,
              "#fb9f3a"
             ],
             [
              0.8888888888888888,
              "#fdca26"
             ],
             [
              1,
              "#f0f921"
             ]
            ],
            "type": "contour"
           }
          ],
          "contourcarpet": [
           {
            "colorbar": {
             "outlinewidth": 0,
             "ticks": ""
            },
            "type": "contourcarpet"
           }
          ],
          "heatmap": [
           {
            "colorbar": {
             "outlinewidth": 0,
             "ticks": ""
            },
            "colorscale": [
             [
              0,
              "#0d0887"
             ],
             [
              0.1111111111111111,
              "#46039f"
             ],
             [
              0.2222222222222222,
              "#7201a8"
             ],
             [
              0.3333333333333333,
              "#9c179e"
             ],
             [
              0.4444444444444444,
              "#bd3786"
             ],
             [
              0.5555555555555556,
              "#d8576b"
             ],
             [
              0.6666666666666666,
              "#ed7953"
             ],
             [
              0.7777777777777778,
              "#fb9f3a"
             ],
             [
              0.8888888888888888,
              "#fdca26"
             ],
             [
              1,
              "#f0f921"
             ]
            ],
            "type": "heatmap"
           }
          ],
          "heatmapgl": [
           {
            "colorbar": {
             "outlinewidth": 0,
             "ticks": ""
            },
            "colorscale": [
             [
              0,
              "#0d0887"
             ],
             [
              0.1111111111111111,
              "#46039f"
             ],
             [
              0.2222222222222222,
              "#7201a8"
             ],
             [
              0.3333333333333333,
              "#9c179e"
             ],
             [
              0.4444444444444444,
              "#bd3786"
             ],
             [
              0.5555555555555556,
              "#d8576b"
             ],
             [
              0.6666666666666666,
              "#ed7953"
             ],
             [
              0.7777777777777778,
              "#fb9f3a"
             ],
             [
              0.8888888888888888,
              "#fdca26"
             ],
             [
              1,
              "#f0f921"
             ]
            ],
            "type": "heatmapgl"
           }
          ],
          "histogram": [
           {
            "marker": {
             "pattern": {
              "fillmode": "overlay",
              "size": 10,
              "solidity": 0.2
             }
            },
            "type": "histogram"
           }
          ],
          "histogram2d": [
           {
            "colorbar": {
             "outlinewidth": 0,
             "ticks": ""
            },
            "colorscale": [
             [
              0,
              "#0d0887"
             ],
             [
              0.1111111111111111,
              "#46039f"
             ],
             [
              0.2222222222222222,
              "#7201a8"
             ],
             [
              0.3333333333333333,
              "#9c179e"
             ],
             [
              0.4444444444444444,
              "#bd3786"
             ],
             [
              0.5555555555555556,
              "#d8576b"
             ],
             [
              0.6666666666666666,
              "#ed7953"
             ],
             [
              0.7777777777777778,
              "#fb9f3a"
             ],
             [
              0.8888888888888888,
              "#fdca26"
             ],
             [
              1,
              "#f0f921"
             ]
            ],
            "type": "histogram2d"
           }
          ],
          "histogram2dcontour": [
           {
            "colorbar": {
             "outlinewidth": 0,
             "ticks": ""
            },
            "colorscale": [
             [
              0,
              "#0d0887"
             ],
             [
              0.1111111111111111,
              "#46039f"
             ],
             [
              0.2222222222222222,
              "#7201a8"
             ],
             [
              0.3333333333333333,
              "#9c179e"
             ],
             [
              0.4444444444444444,
              "#bd3786"
             ],
             [
              0.5555555555555556,
              "#d8576b"
             ],
             [
              0.6666666666666666,
              "#ed7953"
             ],
             [
              0.7777777777777778,
              "#fb9f3a"
             ],
             [
              0.8888888888888888,
              "#fdca26"
             ],
             [
              1,
              "#f0f921"
             ]
            ],
            "type": "histogram2dcontour"
           }
          ],
          "mesh3d": [
           {
            "colorbar": {
             "outlinewidth": 0,
             "ticks": ""
            },
            "type": "mesh3d"
           }
          ],
          "parcoords": [
           {
            "line": {
             "colorbar": {
              "outlinewidth": 0,
              "ticks": ""
             }
            },
            "type": "parcoords"
           }
          ],
          "pie": [
           {
            "automargin": true,
            "type": "pie"
           }
          ],
          "scatter": [
           {
            "marker": {
             "colorbar": {
              "outlinewidth": 0,
              "ticks": ""
             }
            },
            "type": "scatter"
           }
          ],
          "scatter3d": [
           {
            "line": {
             "colorbar": {
              "outlinewidth": 0,
              "ticks": ""
             }
            },
            "marker": {
             "colorbar": {
              "outlinewidth": 0,
              "ticks": ""
             }
            },
            "type": "scatter3d"
           }
          ],
          "scattercarpet": [
           {
            "marker": {
             "colorbar": {
              "outlinewidth": 0,
              "ticks": ""
             }
            },
            "type": "scattercarpet"
           }
          ],
          "scattergeo": [
           {
            "marker": {
             "colorbar": {
              "outlinewidth": 0,
              "ticks": ""
             }
            },
            "type": "scattergeo"
           }
          ],
          "scattergl": [
           {
            "marker": {
             "colorbar": {
              "outlinewidth": 0,
              "ticks": ""
             }
            },
            "type": "scattergl"
           }
          ],
          "scattermapbox": [
           {
            "marker": {
             "colorbar": {
              "outlinewidth": 0,
              "ticks": ""
             }
            },
            "type": "scattermapbox"
           }
          ],
          "scatterpolar": [
           {
            "marker": {
             "colorbar": {
              "outlinewidth": 0,
              "ticks": ""
             }
            },
            "type": "scatterpolar"
           }
          ],
          "scatterpolargl": [
           {
            "marker": {
             "colorbar": {
              "outlinewidth": 0,
              "ticks": ""
             }
            },
            "type": "scatterpolargl"
           }
          ],
          "scatterternary": [
           {
            "marker": {
             "colorbar": {
              "outlinewidth": 0,
              "ticks": ""
             }
            },
            "type": "scatterternary"
           }
          ],
          "surface": [
           {
            "colorbar": {
             "outlinewidth": 0,
             "ticks": ""
            },
            "colorscale": [
             [
              0,
              "#0d0887"
             ],
             [
              0.1111111111111111,
              "#46039f"
             ],
             [
              0.2222222222222222,
              "#7201a8"
             ],
             [
              0.3333333333333333,
              "#9c179e"
             ],
             [
              0.4444444444444444,
              "#bd3786"
             ],
             [
              0.5555555555555556,
              "#d8576b"
             ],
             [
              0.6666666666666666,
              "#ed7953"
             ],
             [
              0.7777777777777778,
              "#fb9f3a"
             ],
             [
              0.8888888888888888,
              "#fdca26"
             ],
             [
              1,
              "#f0f921"
             ]
            ],
            "type": "surface"
           }
          ],
          "table": [
           {
            "cells": {
             "fill": {
              "color": "#EBF0F8"
             },
             "line": {
              "color": "white"
             }
            },
            "header": {
             "fill": {
              "color": "#C8D4E3"
             },
             "line": {
              "color": "white"
             }
            },
            "type": "table"
           }
          ]
         },
         "layout": {
          "annotationdefaults": {
           "arrowcolor": "#2a3f5f",
           "arrowhead": 0,
           "arrowwidth": 1
          },
          "autotypenumbers": "strict",
          "coloraxis": {
           "colorbar": {
            "outlinewidth": 0,
            "ticks": ""
           }
          },
          "colorscale": {
           "diverging": [
            [
             0,
             "#8e0152"
            ],
            [
             0.1,
             "#c51b7d"
            ],
            [
             0.2,
             "#de77ae"
            ],
            [
             0.3,
             "#f1b6da"
            ],
            [
             0.4,
             "#fde0ef"
            ],
            [
             0.5,
             "#f7f7f7"
            ],
            [
             0.6,
             "#e6f5d0"
            ],
            [
             0.7,
             "#b8e186"
            ],
            [
             0.8,
             "#7fbc41"
            ],
            [
             0.9,
             "#4d9221"
            ],
            [
             1,
             "#276419"
            ]
           ],
           "sequential": [
            [
             0,
             "#0d0887"
            ],
            [
             0.1111111111111111,
             "#46039f"
            ],
            [
             0.2222222222222222,
             "#7201a8"
            ],
            [
             0.3333333333333333,
             "#9c179e"
            ],
            [
             0.4444444444444444,
             "#bd3786"
            ],
            [
             0.5555555555555556,
             "#d8576b"
            ],
            [
             0.6666666666666666,
             "#ed7953"
            ],
            [
             0.7777777777777778,
             "#fb9f3a"
            ],
            [
             0.8888888888888888,
             "#fdca26"
            ],
            [
             1,
             "#f0f921"
            ]
           ],
           "sequentialminus": [
            [
             0,
             "#0d0887"
            ],
            [
             0.1111111111111111,
             "#46039f"
            ],
            [
             0.2222222222222222,
             "#7201a8"
            ],
            [
             0.3333333333333333,
             "#9c179e"
            ],
            [
             0.4444444444444444,
             "#bd3786"
            ],
            [
             0.5555555555555556,
             "#d8576b"
            ],
            [
             0.6666666666666666,
             "#ed7953"
            ],
            [
             0.7777777777777778,
             "#fb9f3a"
            ],
            [
             0.8888888888888888,
             "#fdca26"
            ],
            [
             1,
             "#f0f921"
            ]
           ]
          },
          "colorway": [
           "#636efa",
           "#EF553B",
           "#00cc96",
           "#ab63fa",
           "#FFA15A",
           "#19d3f3",
           "#FF6692",
           "#B6E880",
           "#FF97FF",
           "#FECB52"
          ],
          "font": {
           "color": "#2a3f5f"
          },
          "geo": {
           "bgcolor": "white",
           "lakecolor": "white",
           "landcolor": "#E5ECF6",
           "showlakes": true,
           "showland": true,
           "subunitcolor": "white"
          },
          "hoverlabel": {
           "align": "left"
          },
          "hovermode": "closest",
          "mapbox": {
           "style": "light"
          },
          "paper_bgcolor": "white",
          "plot_bgcolor": "#E5ECF6",
          "polar": {
           "angularaxis": {
            "gridcolor": "white",
            "linecolor": "white",
            "ticks": ""
           },
           "bgcolor": "#E5ECF6",
           "radialaxis": {
            "gridcolor": "white",
            "linecolor": "white",
            "ticks": ""
           }
          },
          "scene": {
           "xaxis": {
            "backgroundcolor": "#E5ECF6",
            "gridcolor": "white",
            "gridwidth": 2,
            "linecolor": "white",
            "showbackground": true,
            "ticks": "",
            "zerolinecolor": "white"
           },
           "yaxis": {
            "backgroundcolor": "#E5ECF6",
            "gridcolor": "white",
            "gridwidth": 2,
            "linecolor": "white",
            "showbackground": true,
            "ticks": "",
            "zerolinecolor": "white"
           },
           "zaxis": {
            "backgroundcolor": "#E5ECF6",
            "gridcolor": "white",
            "gridwidth": 2,
            "linecolor": "white",
            "showbackground": true,
            "ticks": "",
            "zerolinecolor": "white"
           }
          },
          "shapedefaults": {
           "line": {
            "color": "#2a3f5f"
           }
          },
          "ternary": {
           "aaxis": {
            "gridcolor": "white",
            "linecolor": "white",
            "ticks": ""
           },
           "baxis": {
            "gridcolor": "white",
            "linecolor": "white",
            "ticks": ""
           },
           "bgcolor": "#E5ECF6",
           "caxis": {
            "gridcolor": "white",
            "linecolor": "white",
            "ticks": ""
           }
          },
          "title": {
           "x": 0.05
          },
          "xaxis": {
           "automargin": true,
           "gridcolor": "white",
           "linecolor": "white",
           "ticks": "",
           "title": {
            "standoff": 15
           },
           "zerolinecolor": "white",
           "zerolinewidth": 2
          },
          "yaxis": {
           "automargin": true,
           "gridcolor": "white",
           "linecolor": "white",
           "ticks": "",
           "title": {
            "standoff": 15
           },
           "zerolinecolor": "white",
           "zerolinewidth": 2
          }
         }
        },
        "title": {
         "font": {
          "color": "#4D5663"
         }
        },
        "xaxis": {
         "gridcolor": "#E1E5ED",
         "showgrid": true,
         "tickfont": {
          "color": "#4D5663"
         },
         "title": {
          "font": {
           "color": "#4D5663"
          },
          "text": ""
         },
         "zerolinecolor": "#E1E5ED"
        },
        "yaxis": {
         "gridcolor": "#E1E5ED",
         "showgrid": true,
         "tickfont": {
          "color": "#4D5663"
         },
         "title": {
          "font": {
           "color": "#4D5663"
          },
          "text": ""
         },
         "zerolinecolor": "#E1E5ED"
        }
       }
      },
      "text/html": [
       "<div>                            <div id=\"85814b73-fc04-42b0-bb83-e1b832822f96\" class=\"plotly-graph-div\" style=\"height:525px; width:100%;\"></div>            <script type=\"text/javascript\">                require([\"plotly\"], function(Plotly) {                    window.PLOTLYENV=window.PLOTLYENV || {};\n",
       "                    window.PLOTLYENV.BASE_URL='https://plot.ly';                                    if (document.getElementById(\"85814b73-fc04-42b0-bb83-e1b832822f96\")) {                    Plotly.newPlot(                        \"85814b73-fc04-42b0-bb83-e1b832822f96\",                        [{\"histfunc\":\"count\",\"histnorm\":\"\",\"marker\":{\"color\":\"rgba(255, 153, 51, 1.0)\",\"line\":{\"color\":\"#4D5663\",\"width\":1.3}},\"name\":\"A\",\"nbinsx\":50,\"opacity\":0.8,\"orientation\":\"v\",\"x\":[-1.727725252579994,-0.6523954972283168,1.7111687573755276,1.8854926884160432,0.2797752300463759,-0.12278394235318713,-2.4629864633042837,-0.78629519698013,1.5013687819523045,0.5778433356227098,-2.1250130799216187,0.3074884774377496,-0.39557538193393044,-0.7210189703241677,0.6061344398049183,0.7253202601114827,0.7539556248165138,-0.6899826023857759,-1.9861820267153667,2.4724627179818857,-1.4921740674205082,0.21778649632986308,-1.2225982276441731,0.3022845411813817,0.5009163667793719,-0.27518666748581294,0.3332232948659106,0.5530183129927184,2.1813543514946936,2.3674713894348414,0.4040344645695381,0.1038752830651099,0.8189814485190792,0.6565628023965491,0.9649713911033581,0.4770077483354942,-1.1877719893116574,-0.3185818235127667,-0.4156429945784772,0.09263219619292881,1.1664812938353366,-1.664581973843618,0.8941099556511569,-0.059261618500232864,-0.42899090930167383,1.4204537434359545,-1.9614667808680513,0.5392218409350615,0.47024725448087334,1.1467256719334287,0.6683405973503002,-0.1653528442340094,0.2720390477214452,-0.6859510913281808,0.873018803874626,-0.4897179349388602,0.2791268821380968,-0.01369544344158681,0.9219045630189825,-0.17979824847298675,-1.4115107328459895,-0.4411751400820583,-0.13716549658502647,1.0502522594862551,-0.19931089910380348,1.2830450947207823,-0.7369514961753213,-0.43860412360855694,1.0940477429003814,0.8058780282388065,-0.2924536277044239,2.852728649349453,0.04370968310871116,-0.8464521149500591,2.28771812749006,0.010509765405440371,-1.4659896454578434,0.36111835740287185,1.080204647892336,0.21540806709294769,-1.2746246503442467,-0.7772846266240038,1.0151964174987262,-0.06308949328548494,0.6685557331125359,1.613021300620463,0.47658038207031683,-0.0906659850021094,-0.2727332447383256,-1.1830977459293435,1.5018775786963818,1.1466140817409018,-0.5606275116117502,-0.10446970457486329,0.3496968132069453,-0.6288080145360863,0.17515626102678597,0.4300673887181837,-0.1627117716049884,-1.1241376448948244],\"type\":\"histogram\"},{\"histfunc\":\"count\",\"histnorm\":\"\",\"marker\":{\"color\":\"rgba(55, 128, 191, 1.0)\",\"line\":{\"color\":\"#4D5663\",\"width\":1.3}},\"name\":\"B\",\"nbinsx\":50,\"opacity\":0.8,\"orientation\":\"v\",\"x\":[-0.35927390814104476,0.27484927832288925,-1.8402446516963689,0.4198969961056575,0.4408799218403844,-0.665006993082131,0.46215986015186405,0.5573938040479566,0.6821486464071536,-0.43277368434188607,-1.2513044483714728,-0.11800881518163064,0.4836095280558225,0.7198624924810973,0.769734040934067,0.32344267033603896,-0.5870259090687044,1.3764179686571287,0.5414625905049074,-0.598832443850317,-0.3195569510147842,1.2187240035662579,1.7219914761158468,1.0019398201832288,1.2712216685342188,-0.15169413108128366,-2.0769689079471245,-0.24617444450180453,0.2170377560005709,-0.2729310917822944,1.0580304337908448,0.49066385442413696,-0.0634690171707887,0.8761236894078324,-1.156182292111743,-1.7239496549607745,0.39963598889609775,-1.2405253270562735,-1.0844575996887613,0.9674204439722415,-2.3541883593272517,0.8451426886740392,0.48949596951889196,-1.048367046734212,-1.7815751279077898,0.09603552656022948,1.022949626357811,-1.0023988657385754,1.426874982960192,1.3283805405466318,-0.6826435013929715,-0.06948124309346751,1.197488186443602,1.2254917825595262,-1.0980833401848957,-1.2936343077373555,1.1510079929317878,0.8458703244821476,-1.2145888081746545,-0.8788190625374599,-1.5966273166290912,-0.7875422511564634,-0.1341321161518695,-1.4763238379407928,0.20797838521634457,-0.8900356418694271,-0.03371763647518824,0.7039356095584622,0.04616317679909543,0.6189737947401249,-0.020343437881330532,0.5241198908709517,-0.7207502317444129,-0.5982659043959154,-0.9178947753869992,1.2093861312135417,0.8309601781784342,0.5021465962618618,0.7693337137248092,0.8802821133026897,0.8837223679022095,0.4640030703367322,0.4763622196705976,1.4159694950025428,-0.29871965306664355,-0.8294071562311018,2.3446506464640398,-1.8637575195725096,-0.9628217613471104,-0.8981321973001141,-1.2529064074869203,-0.9883955824352328,0.3543575984448734,-0.9402400967736599,0.27223807132119077,-2.1523011662984852,1.692728902747629,-1.41854939516216,-0.2837856089408107,-2.0512938927588813],\"type\":\"histogram\"},{\"histfunc\":\"count\",\"histnorm\":\"\",\"marker\":{\"color\":\"rgba(50, 171, 96, 1.0)\",\"line\":{\"color\":\"#4D5663\",\"width\":1.3}},\"name\":\"C\",\"nbinsx\":50,\"opacity\":0.8,\"orientation\":\"v\",\"x\":[-0.8576600851820129,-0.5750127788884318,0.05443737876004868,0.7852219652757143,-0.4815487628257627,0.04459261934043061,-0.06139117924853256,0.20633355242056056,0.3062438902586826,1.3296776414925178,-0.7677373671277309,-0.006243911503915224,1.1498310264509497,0.18172294440474673,-0.19866413611852404,-0.8526807024276805,0.699245848585638,2.3023684100320927,-0.9026964338652707,-2.126841132369603,-0.842454782703909,0.6287313876116941,0.6682264230511928,-0.1769443401341622,0.26285762319922845,-1.9182082898691377,-0.35284934610786284,0.10958556503104956,-0.39624950688927235,0.31471637953316495,-0.6383841995137576,2.1191646816111716,0.1071863837033177,-1.0993467054046555,-1.1851231161420908,0.9078673017445265,-0.9240942974216836,1.1082905281639326,0.5761749525009726,-0.5528240035959081,-1.08319747021649,-0.3976494677458565,-0.1518796496642728,1.057216241490009,0.0864398733826944,0.3100534812829789,-0.6269403739297886,-0.04947723555628706,-0.9613648546663213,0.8097916556373664,-0.4449950508578437,0.1853574945940702,-0.40107114793418475,-1.003082928001767,-0.752919299080358,-0.5950415455443309,-0.28500485049306346,0.22621527955495616,-1.4791742950433293,0.0863555425022727,-1.477818299284184,0.3181940813153153,-1.852121414840407,-0.5261400848800919,-0.19445599174652403,1.2692789684904169,0.9994959914342512,0.6236723493406674,0.6178352553527662,0.01180667443335035,-0.7145856073326051,-0.21614168674591627,0.47703388972485505,0.8951840409390931,0.12843544193826878,0.5830450541273284,-0.5229493660653698,0.1806833566529037,1.2369892036717165,1.5121942236516193,-1.0073202348756185,-0.561204749188291,-0.20193194149857496,-0.08287312206897211,0.8298502678698525,1.0807107053419196,-0.9480437842389379,0.19593365881638544,-0.07374676095263155,-1.20932451397519,-1.431085577517493,1.816668237644611,-0.3765677734224466,0.7154783027959628,1.4930900832089968,0.20413077793277046,-1.1301792997773459,0.536724977053704,1.1284546732489456,-0.45357490395777833],\"type\":\"histogram\"},{\"histfunc\":\"count\",\"histnorm\":\"\",\"marker\":{\"color\":\"rgba(128, 0, 128, 1.0)\",\"line\":{\"color\":\"#4D5663\",\"width\":1.3}},\"name\":\"D\",\"nbinsx\":50,\"opacity\":0.8,\"orientation\":\"v\",\"x\":[-0.4965581735356254,-1.3538967874345176,-0.17223560818573722,1.6231579665908973,1.7335446296311334,-0.2030650778601564,-0.8452123865917006,1.0521305282835511,1.0398148392863902,-0.050987236786020504,-0.57258304732208,0.04327595603432784,-1.3940547164717714,-0.7525124487105035,-0.07855624829631365,-1.1287941535485626,0.04187240456777008,1.4784163179354148,0.37467197907364774,-0.7017974813352993,-0.15403843626666303,-0.5716045712901606,-0.15591731115513588,1.0827404114215546,0.06824294928725971,-0.6664063407263672,0.058527585690782445,-0.9858046686548356,-0.6166101461902966,-1.1015216262366498,0.48213629877689473,0.7272580763180592,1.1927992467132755,0.007447607351678447,0.9569922129220856,-1.1567796253878748,-0.1064287862458562,0.13029253387854112,0.035064494826886665,0.007923565519073762,0.6666927681045107,-0.2975599094544142,0.5143305432258334,-0.5314002154044901,0.9862378459404866,-0.8561390311252871,-0.08201694272839874,0.658484445292848,-1.1019741335941395,1.7357110245871454,-0.11175638362924363,1.4145749280314097,0.0053422645864003295,-0.04697930289317601,-0.7801131973483182,-1.1054144127714947,-0.3191975559484706,2.1400811034734475,-0.28546278269794334,-0.026399679763879018,-0.13923411297599422,0.5953884586032037,-0.6078720153987348,0.4475031099532303,1.3609915633404095,-0.3970043698105668,-1.483018792788209,-0.5391846912785562,-0.9115268037798887,0.15120485573677836,1.188222846229542,-0.9754873702920279,0.6138966578280636,-0.7061571324872323,-0.03124596441063452,0.2649153628508299,-0.27760614222920704,1.0501757511701886,-1.6212716213140699,-0.8593940651917895,-0.4191976458232712,-0.7588387619889834,0.04786717019872002,-1.491149338625276,0.5932183950134358,0.6539229166253674,0.6982652058189514,0.6481823342092639,-1.0097184189627435,-0.7995847706776723,-1.1795007881349875,-1.2948637331231025,0.9988398953252201,0.811056302157581,-0.498460662658745,-0.28272291971528696,-0.5413007010612112,0.7831871945780672,-0.7738786516659488,-0.2820191552854569],\"type\":\"histogram\"}],                        {\"barmode\":\"overlay\",\"legend\":{\"bgcolor\":\"#F5F6F9\",\"font\":{\"color\":\"#4D5663\"}},\"paper_bgcolor\":\"#F5F6F9\",\"plot_bgcolor\":\"#F5F6F9\",\"template\":{\"data\":{\"barpolar\":[{\"marker\":{\"line\":{\"color\":\"#E5ECF6\",\"width\":0.5},\"pattern\":{\"fillmode\":\"overlay\",\"size\":10,\"solidity\":0.2}},\"type\":\"barpolar\"}],\"bar\":[{\"error_x\":{\"color\":\"#2a3f5f\"},\"error_y\":{\"color\":\"#2a3f5f\"},\"marker\":{\"line\":{\"color\":\"#E5ECF6\",\"width\":0.5},\"pattern\":{\"fillmode\":\"overlay\",\"size\":10,\"solidity\":0.2}},\"type\":\"bar\"}],\"carpet\":[{\"aaxis\":{\"endlinecolor\":\"#2a3f5f\",\"gridcolor\":\"white\",\"linecolor\":\"white\",\"minorgridcolor\":\"white\",\"startlinecolor\":\"#2a3f5f\"},\"baxis\":{\"endlinecolor\":\"#2a3f5f\",\"gridcolor\":\"white\",\"linecolor\":\"white\",\"minorgridcolor\":\"white\",\"startlinecolor\":\"#2a3f5f\"},\"type\":\"carpet\"}],\"choropleth\":[{\"colorbar\":{\"outlinewidth\":0,\"ticks\":\"\"},\"type\":\"choropleth\"}],\"contourcarpet\":[{\"colorbar\":{\"outlinewidth\":0,\"ticks\":\"\"},\"type\":\"contourcarpet\"}],\"contour\":[{\"colorbar\":{\"outlinewidth\":0,\"ticks\":\"\"},\"colorscale\":[[0.0,\"#0d0887\"],[0.1111111111111111,\"#46039f\"],[0.2222222222222222,\"#7201a8\"],[0.3333333333333333,\"#9c179e\"],[0.4444444444444444,\"#bd3786\"],[0.5555555555555556,\"#d8576b\"],[0.6666666666666666,\"#ed7953\"],[0.7777777777777778,\"#fb9f3a\"],[0.8888888888888888,\"#fdca26\"],[1.0,\"#f0f921\"]],\"type\":\"contour\"}],\"heatmapgl\":[{\"colorbar\":{\"outlinewidth\":0,\"ticks\":\"\"},\"colorscale\":[[0.0,\"#0d0887\"],[0.1111111111111111,\"#46039f\"],[0.2222222222222222,\"#7201a8\"],[0.3333333333333333,\"#9c179e\"],[0.4444444444444444,\"#bd3786\"],[0.5555555555555556,\"#d8576b\"],[0.6666666666666666,\"#ed7953\"],[0.7777777777777778,\"#fb9f3a\"],[0.8888888888888888,\"#fdca26\"],[1.0,\"#f0f921\"]],\"type\":\"heatmapgl\"}],\"heatmap\":[{\"colorbar\":{\"outlinewidth\":0,\"ticks\":\"\"},\"colorscale\":[[0.0,\"#0d0887\"],[0.1111111111111111,\"#46039f\"],[0.2222222222222222,\"#7201a8\"],[0.3333333333333333,\"#9c179e\"],[0.4444444444444444,\"#bd3786\"],[0.5555555555555556,\"#d8576b\"],[0.6666666666666666,\"#ed7953\"],[0.7777777777777778,\"#fb9f3a\"],[0.8888888888888888,\"#fdca26\"],[1.0,\"#f0f921\"]],\"type\":\"heatmap\"}],\"histogram2dcontour\":[{\"colorbar\":{\"outlinewidth\":0,\"ticks\":\"\"},\"colorscale\":[[0.0,\"#0d0887\"],[0.1111111111111111,\"#46039f\"],[0.2222222222222222,\"#7201a8\"],[0.3333333333333333,\"#9c179e\"],[0.4444444444444444,\"#bd3786\"],[0.5555555555555556,\"#d8576b\"],[0.6666666666666666,\"#ed7953\"],[0.7777777777777778,\"#fb9f3a\"],[0.8888888888888888,\"#fdca26\"],[1.0,\"#f0f921\"]],\"type\":\"histogram2dcontour\"}],\"histogram2d\":[{\"colorbar\":{\"outlinewidth\":0,\"ticks\":\"\"},\"colorscale\":[[0.0,\"#0d0887\"],[0.1111111111111111,\"#46039f\"],[0.2222222222222222,\"#7201a8\"],[0.3333333333333333,\"#9c179e\"],[0.4444444444444444,\"#bd3786\"],[0.5555555555555556,\"#d8576b\"],[0.6666666666666666,\"#ed7953\"],[0.7777777777777778,\"#fb9f3a\"],[0.8888888888888888,\"#fdca26\"],[1.0,\"#f0f921\"]],\"type\":\"histogram2d\"}],\"histogram\":[{\"marker\":{\"pattern\":{\"fillmode\":\"overlay\",\"size\":10,\"solidity\":0.2}},\"type\":\"histogram\"}],\"mesh3d\":[{\"colorbar\":{\"outlinewidth\":0,\"ticks\":\"\"},\"type\":\"mesh3d\"}],\"parcoords\":[{\"line\":{\"colorbar\":{\"outlinewidth\":0,\"ticks\":\"\"}},\"type\":\"parcoords\"}],\"pie\":[{\"automargin\":true,\"type\":\"pie\"}],\"scatter3d\":[{\"line\":{\"colorbar\":{\"outlinewidth\":0,\"ticks\":\"\"}},\"marker\":{\"colorbar\":{\"outlinewidth\":0,\"ticks\":\"\"}},\"type\":\"scatter3d\"}],\"scattercarpet\":[{\"marker\":{\"colorbar\":{\"outlinewidth\":0,\"ticks\":\"\"}},\"type\":\"scattercarpet\"}],\"scattergeo\":[{\"marker\":{\"colorbar\":{\"outlinewidth\":0,\"ticks\":\"\"}},\"type\":\"scattergeo\"}],\"scattergl\":[{\"marker\":{\"colorbar\":{\"outlinewidth\":0,\"ticks\":\"\"}},\"type\":\"scattergl\"}],\"scattermapbox\":[{\"marker\":{\"colorbar\":{\"outlinewidth\":0,\"ticks\":\"\"}},\"type\":\"scattermapbox\"}],\"scatterpolargl\":[{\"marker\":{\"colorbar\":{\"outlinewidth\":0,\"ticks\":\"\"}},\"type\":\"scatterpolargl\"}],\"scatterpolar\":[{\"marker\":{\"colorbar\":{\"outlinewidth\":0,\"ticks\":\"\"}},\"type\":\"scatterpolar\"}],\"scatter\":[{\"marker\":{\"colorbar\":{\"outlinewidth\":0,\"ticks\":\"\"}},\"type\":\"scatter\"}],\"scatterternary\":[{\"marker\":{\"colorbar\":{\"outlinewidth\":0,\"ticks\":\"\"}},\"type\":\"scatterternary\"}],\"surface\":[{\"colorbar\":{\"outlinewidth\":0,\"ticks\":\"\"},\"colorscale\":[[0.0,\"#0d0887\"],[0.1111111111111111,\"#46039f\"],[0.2222222222222222,\"#7201a8\"],[0.3333333333333333,\"#9c179e\"],[0.4444444444444444,\"#bd3786\"],[0.5555555555555556,\"#d8576b\"],[0.6666666666666666,\"#ed7953\"],[0.7777777777777778,\"#fb9f3a\"],[0.8888888888888888,\"#fdca26\"],[1.0,\"#f0f921\"]],\"type\":\"surface\"}],\"table\":[{\"cells\":{\"fill\":{\"color\":\"#EBF0F8\"},\"line\":{\"color\":\"white\"}},\"header\":{\"fill\":{\"color\":\"#C8D4E3\"},\"line\":{\"color\":\"white\"}},\"type\":\"table\"}]},\"layout\":{\"annotationdefaults\":{\"arrowcolor\":\"#2a3f5f\",\"arrowhead\":0,\"arrowwidth\":1},\"autotypenumbers\":\"strict\",\"coloraxis\":{\"colorbar\":{\"outlinewidth\":0,\"ticks\":\"\"}},\"colorscale\":{\"diverging\":[[0,\"#8e0152\"],[0.1,\"#c51b7d\"],[0.2,\"#de77ae\"],[0.3,\"#f1b6da\"],[0.4,\"#fde0ef\"],[0.5,\"#f7f7f7\"],[0.6,\"#e6f5d0\"],[0.7,\"#b8e186\"],[0.8,\"#7fbc41\"],[0.9,\"#4d9221\"],[1,\"#276419\"]],\"sequential\":[[0.0,\"#0d0887\"],[0.1111111111111111,\"#46039f\"],[0.2222222222222222,\"#7201a8\"],[0.3333333333333333,\"#9c179e\"],[0.4444444444444444,\"#bd3786\"],[0.5555555555555556,\"#d8576b\"],[0.6666666666666666,\"#ed7953\"],[0.7777777777777778,\"#fb9f3a\"],[0.8888888888888888,\"#fdca26\"],[1.0,\"#f0f921\"]],\"sequentialminus\":[[0.0,\"#0d0887\"],[0.1111111111111111,\"#46039f\"],[0.2222222222222222,\"#7201a8\"],[0.3333333333333333,\"#9c179e\"],[0.4444444444444444,\"#bd3786\"],[0.5555555555555556,\"#d8576b\"],[0.6666666666666666,\"#ed7953\"],[0.7777777777777778,\"#fb9f3a\"],[0.8888888888888888,\"#fdca26\"],[1.0,\"#f0f921\"]]},\"colorway\":[\"#636efa\",\"#EF553B\",\"#00cc96\",\"#ab63fa\",\"#FFA15A\",\"#19d3f3\",\"#FF6692\",\"#B6E880\",\"#FF97FF\",\"#FECB52\"],\"font\":{\"color\":\"#2a3f5f\"},\"geo\":{\"bgcolor\":\"white\",\"lakecolor\":\"white\",\"landcolor\":\"#E5ECF6\",\"showlakes\":true,\"showland\":true,\"subunitcolor\":\"white\"},\"hoverlabel\":{\"align\":\"left\"},\"hovermode\":\"closest\",\"mapbox\":{\"style\":\"light\"},\"paper_bgcolor\":\"white\",\"plot_bgcolor\":\"#E5ECF6\",\"polar\":{\"angularaxis\":{\"gridcolor\":\"white\",\"linecolor\":\"white\",\"ticks\":\"\"},\"bgcolor\":\"#E5ECF6\",\"radialaxis\":{\"gridcolor\":\"white\",\"linecolor\":\"white\",\"ticks\":\"\"}},\"scene\":{\"xaxis\":{\"backgroundcolor\":\"#E5ECF6\",\"gridcolor\":\"white\",\"gridwidth\":2,\"linecolor\":\"white\",\"showbackground\":true,\"ticks\":\"\",\"zerolinecolor\":\"white\"},\"yaxis\":{\"backgroundcolor\":\"#E5ECF6\",\"gridcolor\":\"white\",\"gridwidth\":2,\"linecolor\":\"white\",\"showbackground\":true,\"ticks\":\"\",\"zerolinecolor\":\"white\"},\"zaxis\":{\"backgroundcolor\":\"#E5ECF6\",\"gridcolor\":\"white\",\"gridwidth\":2,\"linecolor\":\"white\",\"showbackground\":true,\"ticks\":\"\",\"zerolinecolor\":\"white\"}},\"shapedefaults\":{\"line\":{\"color\":\"#2a3f5f\"}},\"ternary\":{\"aaxis\":{\"gridcolor\":\"white\",\"linecolor\":\"white\",\"ticks\":\"\"},\"baxis\":{\"gridcolor\":\"white\",\"linecolor\":\"white\",\"ticks\":\"\"},\"bgcolor\":\"#E5ECF6\",\"caxis\":{\"gridcolor\":\"white\",\"linecolor\":\"white\",\"ticks\":\"\"}},\"title\":{\"x\":0.05},\"xaxis\":{\"automargin\":true,\"gridcolor\":\"white\",\"linecolor\":\"white\",\"ticks\":\"\",\"title\":{\"standoff\":15},\"zerolinecolor\":\"white\",\"zerolinewidth\":2},\"yaxis\":{\"automargin\":true,\"gridcolor\":\"white\",\"linecolor\":\"white\",\"ticks\":\"\",\"title\":{\"standoff\":15},\"zerolinecolor\":\"white\",\"zerolinewidth\":2}}},\"title\":{\"font\":{\"color\":\"#4D5663\"}},\"xaxis\":{\"gridcolor\":\"#E1E5ED\",\"showgrid\":true,\"tickfont\":{\"color\":\"#4D5663\"},\"title\":{\"font\":{\"color\":\"#4D5663\"},\"text\":\"\"},\"zerolinecolor\":\"#E1E5ED\"},\"yaxis\":{\"gridcolor\":\"#E1E5ED\",\"showgrid\":true,\"tickfont\":{\"color\":\"#4D5663\"},\"title\":{\"font\":{\"color\":\"#4D5663\"},\"text\":\"\"},\"zerolinecolor\":\"#E1E5ED\"}},                        {\"showLink\": true, \"linkText\": \"Export to plot.ly\", \"plotlyServerURL\": \"https://plot.ly\", \"responsive\": true}                    ).then(function(){\n",
       "                            \n",
       "var gd = document.getElementById('85814b73-fc04-42b0-bb83-e1b832822f96');\n",
       "var x = new MutationObserver(function (mutations, observer) {{\n",
       "        var display = window.getComputedStyle(gd).display;\n",
       "        if (!display || display === 'none') {{\n",
       "            console.log([gd, 'removed!']);\n",
       "            Plotly.purge(gd);\n",
       "            observer.disconnect();\n",
       "        }}\n",
       "}});\n",
       "\n",
       "// Listen for the removal of the full notebook cells\n",
       "var notebookContainer = gd.closest('#notebook-container');\n",
       "if (notebookContainer) {{\n",
       "    x.observe(notebookContainer, {childList: true});\n",
       "}}\n",
       "\n",
       "// Listen for the clearing of the current output cell\n",
       "var outputEl = gd.closest('.output');\n",
       "if (outputEl) {{\n",
       "    x.observe(outputEl, {childList: true});\n",
       "}}\n",
       "\n",
       "                        })                };                });            </script>        </div>"
      ]
     },
     "metadata": {},
     "output_type": "display_data"
    }
   ],
   "source": [
    "df.iplot(kind='hist',bins=50)"
   ]
  },
  {
   "cell_type": "code",
   "execution_count": 30,
   "metadata": {
    "jupyter": {
     "outputs_hidden": false
    }
   },
   "outputs": [
    {
     "data": {
      "application/vnd.plotly.v1+json": {
       "config": {
        "linkText": "Export to plot.ly",
        "plotlyServerURL": "https://plot.ly",
        "showLink": true
       },
       "data": [
        {
         "marker": {
          "color": [
           "rgb(255, 153, 51)",
           "rgb(55, 128, 191)",
           "rgb(50, 171, 96)",
           "rgb(128, 0, 128)",
           "rgb(219, 64, 82)",
           "rgb(0, 128, 128)",
           "rgb(255, 255, 51)",
           "rgb(128, 128, 0)",
           "rgb(251, 128, 114)",
           "rgb(128, 177, 211)"
          ],
          "line": {
           "width": 1.3
          },
          "size": [
           40,
           47,
           61,
           77,
           49,
           61,
           58,
           64,
           66,
           90,
           42,
           59,
           85,
           64,
           55,
           40,
           75,
           112,
           39,
           12,
           40,
           74,
           75,
           56,
           65,
           16,
           52,
           62,
           51,
           67,
           45,
           107,
           62,
           35,
           33,
           80,
           39,
           85,
           73,
           47,
           35,
           51,
           56,
           83,
           61,
           67,
           45,
           58,
           38,
           78,
           49,
           64,
           50,
           37,
           43,
           46,
           53,
           65,
           26,
           61,
           26,
           67,
           18,
           48,
           55,
           88,
           82,
           74,
           73,
           60,
           43,
           55,
           70,
           80,
           62,
           73,
           48,
           64,
           87,
           94,
           37,
           47,
           55,
           58,
           78,
           84,
           38,
           64,
           58,
           32,
           27,
           101,
           51,
           76,
           93,
           64,
           34,
           72,
           85,
           49
          ],
          "symbol": "circle"
         },
         "mode": "markers",
         "text": "",
         "type": "scatter",
         "x": [
          -1.727725252579994,
          -0.6523954972283168,
          1.7111687573755276,
          1.8854926884160432,
          0.2797752300463759,
          -0.12278394235318713,
          -2.4629864633042837,
          -0.78629519698013,
          1.5013687819523045,
          0.5778433356227098,
          -2.1250130799216187,
          0.3074884774377496,
          -0.39557538193393044,
          -0.7210189703241677,
          0.6061344398049183,
          0.7253202601114827,
          0.7539556248165138,
          -0.6899826023857759,
          -1.9861820267153667,
          2.4724627179818857,
          -1.4921740674205082,
          0.21778649632986308,
          -1.2225982276441731,
          0.3022845411813817,
          0.5009163667793719,
          -0.27518666748581294,
          0.3332232948659106,
          0.5530183129927184,
          2.1813543514946936,
          2.3674713894348414,
          0.4040344645695381,
          0.1038752830651099,
          0.8189814485190792,
          0.6565628023965491,
          0.9649713911033581,
          0.4770077483354942,
          -1.1877719893116574,
          -0.3185818235127667,
          -0.4156429945784772,
          0.09263219619292881,
          1.1664812938353366,
          -1.664581973843618,
          0.8941099556511569,
          -0.059261618500232864,
          -0.42899090930167383,
          1.4204537434359545,
          -1.9614667808680513,
          0.5392218409350615,
          0.47024725448087334,
          1.1467256719334287,
          0.6683405973503002,
          -0.1653528442340094,
          0.2720390477214452,
          -0.6859510913281808,
          0.873018803874626,
          -0.4897179349388602,
          0.2791268821380968,
          -0.01369544344158681,
          0.9219045630189825,
          -0.17979824847298675,
          -1.4115107328459895,
          -0.4411751400820583,
          -0.13716549658502647,
          1.0502522594862551,
          -0.19931089910380348,
          1.2830450947207823,
          -0.7369514961753213,
          -0.43860412360855694,
          1.0940477429003814,
          0.8058780282388065,
          -0.2924536277044239,
          2.852728649349453,
          0.04370968310871116,
          -0.8464521149500591,
          2.28771812749006,
          0.010509765405440371,
          -1.4659896454578434,
          0.36111835740287185,
          1.080204647892336,
          0.21540806709294769,
          -1.2746246503442467,
          -0.7772846266240038,
          1.0151964174987262,
          -0.06308949328548494,
          0.6685557331125359,
          1.613021300620463,
          0.47658038207031683,
          -0.0906659850021094,
          -0.2727332447383256,
          -1.1830977459293435,
          1.5018775786963818,
          1.1466140817409018,
          -0.5606275116117502,
          -0.10446970457486329,
          0.3496968132069453,
          -0.6288080145360863,
          0.17515626102678597,
          0.4300673887181837,
          -0.1627117716049884,
          -1.1241376448948244
         ],
         "y": [
          -0.35927390814104476,
          0.27484927832288925,
          -1.8402446516963689,
          0.4198969961056575,
          0.4408799218403844,
          -0.665006993082131,
          0.46215986015186405,
          0.5573938040479566,
          0.6821486464071536,
          -0.43277368434188607,
          -1.2513044483714728,
          -0.11800881518163064,
          0.4836095280558225,
          0.7198624924810973,
          0.769734040934067,
          0.32344267033603896,
          -0.5870259090687044,
          1.3764179686571287,
          0.5414625905049074,
          -0.598832443850317,
          -0.3195569510147842,
          1.2187240035662579,
          1.7219914761158468,
          1.0019398201832288,
          1.2712216685342188,
          -0.15169413108128366,
          -2.0769689079471245,
          -0.24617444450180453,
          0.2170377560005709,
          -0.2729310917822944,
          1.0580304337908448,
          0.49066385442413696,
          -0.0634690171707887,
          0.8761236894078324,
          -1.156182292111743,
          -1.7239496549607745,
          0.39963598889609775,
          -1.2405253270562735,
          -1.0844575996887613,
          0.9674204439722415,
          -2.3541883593272517,
          0.8451426886740392,
          0.48949596951889196,
          -1.048367046734212,
          -1.7815751279077898,
          0.09603552656022948,
          1.022949626357811,
          -1.0023988657385754,
          1.426874982960192,
          1.3283805405466318,
          -0.6826435013929715,
          -0.06948124309346751,
          1.197488186443602,
          1.2254917825595262,
          -1.0980833401848957,
          -1.2936343077373555,
          1.1510079929317878,
          0.8458703244821476,
          -1.2145888081746545,
          -0.8788190625374599,
          -1.5966273166290912,
          -0.7875422511564634,
          -0.1341321161518695,
          -1.4763238379407928,
          0.20797838521634457,
          -0.8900356418694271,
          -0.03371763647518824,
          0.7039356095584622,
          0.04616317679909543,
          0.6189737947401249,
          -0.020343437881330532,
          0.5241198908709517,
          -0.7207502317444129,
          -0.5982659043959154,
          -0.9178947753869992,
          1.2093861312135417,
          0.8309601781784342,
          0.5021465962618618,
          0.7693337137248092,
          0.8802821133026897,
          0.8837223679022095,
          0.4640030703367322,
          0.4763622196705976,
          1.4159694950025428,
          -0.29871965306664355,
          -0.8294071562311018,
          2.3446506464640398,
          -1.8637575195725096,
          -0.9628217613471104,
          -0.8981321973001141,
          -1.2529064074869203,
          -0.9883955824352328,
          0.3543575984448734,
          -0.9402400967736599,
          0.27223807132119077,
          -2.1523011662984852,
          1.692728902747629,
          -1.41854939516216,
          -0.2837856089408107,
          -2.0512938927588813
         ]
        }
       ],
       "layout": {
        "legend": {
         "bgcolor": "#F5F6F9",
         "font": {
          "color": "#4D5663"
         }
        },
        "paper_bgcolor": "#F5F6F9",
        "plot_bgcolor": "#F5F6F9",
        "template": {
         "data": {
          "bar": [
           {
            "error_x": {
             "color": "#2a3f5f"
            },
            "error_y": {
             "color": "#2a3f5f"
            },
            "marker": {
             "line": {
              "color": "#E5ECF6",
              "width": 0.5
             },
             "pattern": {
              "fillmode": "overlay",
              "size": 10,
              "solidity": 0.2
             }
            },
            "type": "bar"
           }
          ],
          "barpolar": [
           {
            "marker": {
             "line": {
              "color": "#E5ECF6",
              "width": 0.5
             },
             "pattern": {
              "fillmode": "overlay",
              "size": 10,
              "solidity": 0.2
             }
            },
            "type": "barpolar"
           }
          ],
          "carpet": [
           {
            "aaxis": {
             "endlinecolor": "#2a3f5f",
             "gridcolor": "white",
             "linecolor": "white",
             "minorgridcolor": "white",
             "startlinecolor": "#2a3f5f"
            },
            "baxis": {
             "endlinecolor": "#2a3f5f",
             "gridcolor": "white",
             "linecolor": "white",
             "minorgridcolor": "white",
             "startlinecolor": "#2a3f5f"
            },
            "type": "carpet"
           }
          ],
          "choropleth": [
           {
            "colorbar": {
             "outlinewidth": 0,
             "ticks": ""
            },
            "type": "choropleth"
           }
          ],
          "contour": [
           {
            "colorbar": {
             "outlinewidth": 0,
             "ticks": ""
            },
            "colorscale": [
             [
              0,
              "#0d0887"
             ],
             [
              0.1111111111111111,
              "#46039f"
             ],
             [
              0.2222222222222222,
              "#7201a8"
             ],
             [
              0.3333333333333333,
              "#9c179e"
             ],
             [
              0.4444444444444444,
              "#bd3786"
             ],
             [
              0.5555555555555556,
              "#d8576b"
             ],
             [
              0.6666666666666666,
              "#ed7953"
             ],
             [
              0.7777777777777778,
              "#fb9f3a"
             ],
             [
              0.8888888888888888,
              "#fdca26"
             ],
             [
              1,
              "#f0f921"
             ]
            ],
            "type": "contour"
           }
          ],
          "contourcarpet": [
           {
            "colorbar": {
             "outlinewidth": 0,
             "ticks": ""
            },
            "type": "contourcarpet"
           }
          ],
          "heatmap": [
           {
            "colorbar": {
             "outlinewidth": 0,
             "ticks": ""
            },
            "colorscale": [
             [
              0,
              "#0d0887"
             ],
             [
              0.1111111111111111,
              "#46039f"
             ],
             [
              0.2222222222222222,
              "#7201a8"
             ],
             [
              0.3333333333333333,
              "#9c179e"
             ],
             [
              0.4444444444444444,
              "#bd3786"
             ],
             [
              0.5555555555555556,
              "#d8576b"
             ],
             [
              0.6666666666666666,
              "#ed7953"
             ],
             [
              0.7777777777777778,
              "#fb9f3a"
             ],
             [
              0.8888888888888888,
              "#fdca26"
             ],
             [
              1,
              "#f0f921"
             ]
            ],
            "type": "heatmap"
           }
          ],
          "heatmapgl": [
           {
            "colorbar": {
             "outlinewidth": 0,
             "ticks": ""
            },
            "colorscale": [
             [
              0,
              "#0d0887"
             ],
             [
              0.1111111111111111,
              "#46039f"
             ],
             [
              0.2222222222222222,
              "#7201a8"
             ],
             [
              0.3333333333333333,
              "#9c179e"
             ],
             [
              0.4444444444444444,
              "#bd3786"
             ],
             [
              0.5555555555555556,
              "#d8576b"
             ],
             [
              0.6666666666666666,
              "#ed7953"
             ],
             [
              0.7777777777777778,
              "#fb9f3a"
             ],
             [
              0.8888888888888888,
              "#fdca26"
             ],
             [
              1,
              "#f0f921"
             ]
            ],
            "type": "heatmapgl"
           }
          ],
          "histogram": [
           {
            "marker": {
             "pattern": {
              "fillmode": "overlay",
              "size": 10,
              "solidity": 0.2
             }
            },
            "type": "histogram"
           }
          ],
          "histogram2d": [
           {
            "colorbar": {
             "outlinewidth": 0,
             "ticks": ""
            },
            "colorscale": [
             [
              0,
              "#0d0887"
             ],
             [
              0.1111111111111111,
              "#46039f"
             ],
             [
              0.2222222222222222,
              "#7201a8"
             ],
             [
              0.3333333333333333,
              "#9c179e"
             ],
             [
              0.4444444444444444,
              "#bd3786"
             ],
             [
              0.5555555555555556,
              "#d8576b"
             ],
             [
              0.6666666666666666,
              "#ed7953"
             ],
             [
              0.7777777777777778,
              "#fb9f3a"
             ],
             [
              0.8888888888888888,
              "#fdca26"
             ],
             [
              1,
              "#f0f921"
             ]
            ],
            "type": "histogram2d"
           }
          ],
          "histogram2dcontour": [
           {
            "colorbar": {
             "outlinewidth": 0,
             "ticks": ""
            },
            "colorscale": [
             [
              0,
              "#0d0887"
             ],
             [
              0.1111111111111111,
              "#46039f"
             ],
             [
              0.2222222222222222,
              "#7201a8"
             ],
             [
              0.3333333333333333,
              "#9c179e"
             ],
             [
              0.4444444444444444,
              "#bd3786"
             ],
             [
              0.5555555555555556,
              "#d8576b"
             ],
             [
              0.6666666666666666,
              "#ed7953"
             ],
             [
              0.7777777777777778,
              "#fb9f3a"
             ],
             [
              0.8888888888888888,
              "#fdca26"
             ],
             [
              1,
              "#f0f921"
             ]
            ],
            "type": "histogram2dcontour"
           }
          ],
          "mesh3d": [
           {
            "colorbar": {
             "outlinewidth": 0,
             "ticks": ""
            },
            "type": "mesh3d"
           }
          ],
          "parcoords": [
           {
            "line": {
             "colorbar": {
              "outlinewidth": 0,
              "ticks": ""
             }
            },
            "type": "parcoords"
           }
          ],
          "pie": [
           {
            "automargin": true,
            "type": "pie"
           }
          ],
          "scatter": [
           {
            "marker": {
             "colorbar": {
              "outlinewidth": 0,
              "ticks": ""
             }
            },
            "type": "scatter"
           }
          ],
          "scatter3d": [
           {
            "line": {
             "colorbar": {
              "outlinewidth": 0,
              "ticks": ""
             }
            },
            "marker": {
             "colorbar": {
              "outlinewidth": 0,
              "ticks": ""
             }
            },
            "type": "scatter3d"
           }
          ],
          "scattercarpet": [
           {
            "marker": {
             "colorbar": {
              "outlinewidth": 0,
              "ticks": ""
             }
            },
            "type": "scattercarpet"
           }
          ],
          "scattergeo": [
           {
            "marker": {
             "colorbar": {
              "outlinewidth": 0,
              "ticks": ""
             }
            },
            "type": "scattergeo"
           }
          ],
          "scattergl": [
           {
            "marker": {
             "colorbar": {
              "outlinewidth": 0,
              "ticks": ""
             }
            },
            "type": "scattergl"
           }
          ],
          "scattermapbox": [
           {
            "marker": {
             "colorbar": {
              "outlinewidth": 0,
              "ticks": ""
             }
            },
            "type": "scattermapbox"
           }
          ],
          "scatterpolar": [
           {
            "marker": {
             "colorbar": {
              "outlinewidth": 0,
              "ticks": ""
             }
            },
            "type": "scatterpolar"
           }
          ],
          "scatterpolargl": [
           {
            "marker": {
             "colorbar": {
              "outlinewidth": 0,
              "ticks": ""
             }
            },
            "type": "scatterpolargl"
           }
          ],
          "scatterternary": [
           {
            "marker": {
             "colorbar": {
              "outlinewidth": 0,
              "ticks": ""
             }
            },
            "type": "scatterternary"
           }
          ],
          "surface": [
           {
            "colorbar": {
             "outlinewidth": 0,
             "ticks": ""
            },
            "colorscale": [
             [
              0,
              "#0d0887"
             ],
             [
              0.1111111111111111,
              "#46039f"
             ],
             [
              0.2222222222222222,
              "#7201a8"
             ],
             [
              0.3333333333333333,
              "#9c179e"
             ],
             [
              0.4444444444444444,
              "#bd3786"
             ],
             [
              0.5555555555555556,
              "#d8576b"
             ],
             [
              0.6666666666666666,
              "#ed7953"
             ],
             [
              0.7777777777777778,
              "#fb9f3a"
             ],
             [
              0.8888888888888888,
              "#fdca26"
             ],
             [
              1,
              "#f0f921"
             ]
            ],
            "type": "surface"
           }
          ],
          "table": [
           {
            "cells": {
             "fill": {
              "color": "#EBF0F8"
             },
             "line": {
              "color": "white"
             }
            },
            "header": {
             "fill": {
              "color": "#C8D4E3"
             },
             "line": {
              "color": "white"
             }
            },
            "type": "table"
           }
          ]
         },
         "layout": {
          "annotationdefaults": {
           "arrowcolor": "#2a3f5f",
           "arrowhead": 0,
           "arrowwidth": 1
          },
          "autotypenumbers": "strict",
          "coloraxis": {
           "colorbar": {
            "outlinewidth": 0,
            "ticks": ""
           }
          },
          "colorscale": {
           "diverging": [
            [
             0,
             "#8e0152"
            ],
            [
             0.1,
             "#c51b7d"
            ],
            [
             0.2,
             "#de77ae"
            ],
            [
             0.3,
             "#f1b6da"
            ],
            [
             0.4,
             "#fde0ef"
            ],
            [
             0.5,
             "#f7f7f7"
            ],
            [
             0.6,
             "#e6f5d0"
            ],
            [
             0.7,
             "#b8e186"
            ],
            [
             0.8,
             "#7fbc41"
            ],
            [
             0.9,
             "#4d9221"
            ],
            [
             1,
             "#276419"
            ]
           ],
           "sequential": [
            [
             0,
             "#0d0887"
            ],
            [
             0.1111111111111111,
             "#46039f"
            ],
            [
             0.2222222222222222,
             "#7201a8"
            ],
            [
             0.3333333333333333,
             "#9c179e"
            ],
            [
             0.4444444444444444,
             "#bd3786"
            ],
            [
             0.5555555555555556,
             "#d8576b"
            ],
            [
             0.6666666666666666,
             "#ed7953"
            ],
            [
             0.7777777777777778,
             "#fb9f3a"
            ],
            [
             0.8888888888888888,
             "#fdca26"
            ],
            [
             1,
             "#f0f921"
            ]
           ],
           "sequentialminus": [
            [
             0,
             "#0d0887"
            ],
            [
             0.1111111111111111,
             "#46039f"
            ],
            [
             0.2222222222222222,
             "#7201a8"
            ],
            [
             0.3333333333333333,
             "#9c179e"
            ],
            [
             0.4444444444444444,
             "#bd3786"
            ],
            [
             0.5555555555555556,
             "#d8576b"
            ],
            [
             0.6666666666666666,
             "#ed7953"
            ],
            [
             0.7777777777777778,
             "#fb9f3a"
            ],
            [
             0.8888888888888888,
             "#fdca26"
            ],
            [
             1,
             "#f0f921"
            ]
           ]
          },
          "colorway": [
           "#636efa",
           "#EF553B",
           "#00cc96",
           "#ab63fa",
           "#FFA15A",
           "#19d3f3",
           "#FF6692",
           "#B6E880",
           "#FF97FF",
           "#FECB52"
          ],
          "font": {
           "color": "#2a3f5f"
          },
          "geo": {
           "bgcolor": "white",
           "lakecolor": "white",
           "landcolor": "#E5ECF6",
           "showlakes": true,
           "showland": true,
           "subunitcolor": "white"
          },
          "hoverlabel": {
           "align": "left"
          },
          "hovermode": "closest",
          "mapbox": {
           "style": "light"
          },
          "paper_bgcolor": "white",
          "plot_bgcolor": "#E5ECF6",
          "polar": {
           "angularaxis": {
            "gridcolor": "white",
            "linecolor": "white",
            "ticks": ""
           },
           "bgcolor": "#E5ECF6",
           "radialaxis": {
            "gridcolor": "white",
            "linecolor": "white",
            "ticks": ""
           }
          },
          "scene": {
           "xaxis": {
            "backgroundcolor": "#E5ECF6",
            "gridcolor": "white",
            "gridwidth": 2,
            "linecolor": "white",
            "showbackground": true,
            "ticks": "",
            "zerolinecolor": "white"
           },
           "yaxis": {
            "backgroundcolor": "#E5ECF6",
            "gridcolor": "white",
            "gridwidth": 2,
            "linecolor": "white",
            "showbackground": true,
            "ticks": "",
            "zerolinecolor": "white"
           },
           "zaxis": {
            "backgroundcolor": "#E5ECF6",
            "gridcolor": "white",
            "gridwidth": 2,
            "linecolor": "white",
            "showbackground": true,
            "ticks": "",
            "zerolinecolor": "white"
           }
          },
          "shapedefaults": {
           "line": {
            "color": "#2a3f5f"
           }
          },
          "ternary": {
           "aaxis": {
            "gridcolor": "white",
            "linecolor": "white",
            "ticks": ""
           },
           "baxis": {
            "gridcolor": "white",
            "linecolor": "white",
            "ticks": ""
           },
           "bgcolor": "#E5ECF6",
           "caxis": {
            "gridcolor": "white",
            "linecolor": "white",
            "ticks": ""
           }
          },
          "title": {
           "x": 0.05
          },
          "xaxis": {
           "automargin": true,
           "gridcolor": "white",
           "linecolor": "white",
           "ticks": "",
           "title": {
            "standoff": 15
           },
           "zerolinecolor": "white",
           "zerolinewidth": 2
          },
          "yaxis": {
           "automargin": true,
           "gridcolor": "white",
           "linecolor": "white",
           "ticks": "",
           "title": {
            "standoff": 15
           },
           "zerolinecolor": "white",
           "zerolinewidth": 2
          }
         }
        },
        "title": {
         "font": {
          "color": "#4D5663"
         }
        },
        "xaxis": {
         "gridcolor": "#E1E5ED",
         "showgrid": true,
         "tickfont": {
          "color": "#4D5663"
         },
         "title": {
          "font": {
           "color": "#4D5663"
          },
          "text": ""
         },
         "zerolinecolor": "#E1E5ED"
        },
        "yaxis": {
         "gridcolor": "#E1E5ED",
         "showgrid": true,
         "tickfont": {
          "color": "#4D5663"
         },
         "title": {
          "font": {
           "color": "#4D5663"
          },
          "text": ""
         },
         "zerolinecolor": "#E1E5ED"
        }
       }
      },
      "text/html": [
       "<div>                            <div id=\"734110ef-1325-4e0a-bdee-d626f7b7f762\" class=\"plotly-graph-div\" style=\"height:525px; width:100%;\"></div>            <script type=\"text/javascript\">                require([\"plotly\"], function(Plotly) {                    window.PLOTLYENV=window.PLOTLYENV || {};\n",
       "                    window.PLOTLYENV.BASE_URL='https://plot.ly';                                    if (document.getElementById(\"734110ef-1325-4e0a-bdee-d626f7b7f762\")) {                    Plotly.newPlot(                        \"734110ef-1325-4e0a-bdee-d626f7b7f762\",                        [{\"marker\":{\"color\":[\"rgb(255, 153, 51)\",\"rgb(55, 128, 191)\",\"rgb(50, 171, 96)\",\"rgb(128, 0, 128)\",\"rgb(219, 64, 82)\",\"rgb(0, 128, 128)\",\"rgb(255, 255, 51)\",\"rgb(128, 128, 0)\",\"rgb(251, 128, 114)\",\"rgb(128, 177, 211)\"],\"line\":{\"width\":1.3},\"size\":[40,47,61,77,49,61,58,64,66,90,42,59,85,64,55,40,75,112,39,12,40,74,75,56,65,16,52,62,51,67,45,107,62,35,33,80,39,85,73,47,35,51,56,83,61,67,45,58,38,78,49,64,50,37,43,46,53,65,26,61,26,67,18,48,55,88,82,74,73,60,43,55,70,80,62,73,48,64,87,94,37,47,55,58,78,84,38,64,58,32,27,101,51,76,93,64,34,72,85,49],\"symbol\":\"circle\"},\"mode\":\"markers\",\"text\":\"\",\"x\":[-1.727725252579994,-0.6523954972283168,1.7111687573755276,1.8854926884160432,0.2797752300463759,-0.12278394235318713,-2.4629864633042837,-0.78629519698013,1.5013687819523045,0.5778433356227098,-2.1250130799216187,0.3074884774377496,-0.39557538193393044,-0.7210189703241677,0.6061344398049183,0.7253202601114827,0.7539556248165138,-0.6899826023857759,-1.9861820267153667,2.4724627179818857,-1.4921740674205082,0.21778649632986308,-1.2225982276441731,0.3022845411813817,0.5009163667793719,-0.27518666748581294,0.3332232948659106,0.5530183129927184,2.1813543514946936,2.3674713894348414,0.4040344645695381,0.1038752830651099,0.8189814485190792,0.6565628023965491,0.9649713911033581,0.4770077483354942,-1.1877719893116574,-0.3185818235127667,-0.4156429945784772,0.09263219619292881,1.1664812938353366,-1.664581973843618,0.8941099556511569,-0.059261618500232864,-0.42899090930167383,1.4204537434359545,-1.9614667808680513,0.5392218409350615,0.47024725448087334,1.1467256719334287,0.6683405973503002,-0.1653528442340094,0.2720390477214452,-0.6859510913281808,0.873018803874626,-0.4897179349388602,0.2791268821380968,-0.01369544344158681,0.9219045630189825,-0.17979824847298675,-1.4115107328459895,-0.4411751400820583,-0.13716549658502647,1.0502522594862551,-0.19931089910380348,1.2830450947207823,-0.7369514961753213,-0.43860412360855694,1.0940477429003814,0.8058780282388065,-0.2924536277044239,2.852728649349453,0.04370968310871116,-0.8464521149500591,2.28771812749006,0.010509765405440371,-1.4659896454578434,0.36111835740287185,1.080204647892336,0.21540806709294769,-1.2746246503442467,-0.7772846266240038,1.0151964174987262,-0.06308949328548494,0.6685557331125359,1.613021300620463,0.47658038207031683,-0.0906659850021094,-0.2727332447383256,-1.1830977459293435,1.5018775786963818,1.1466140817409018,-0.5606275116117502,-0.10446970457486329,0.3496968132069453,-0.6288080145360863,0.17515626102678597,0.4300673887181837,-0.1627117716049884,-1.1241376448948244],\"y\":[-0.35927390814104476,0.27484927832288925,-1.8402446516963689,0.4198969961056575,0.4408799218403844,-0.665006993082131,0.46215986015186405,0.5573938040479566,0.6821486464071536,-0.43277368434188607,-1.2513044483714728,-0.11800881518163064,0.4836095280558225,0.7198624924810973,0.769734040934067,0.32344267033603896,-0.5870259090687044,1.3764179686571287,0.5414625905049074,-0.598832443850317,-0.3195569510147842,1.2187240035662579,1.7219914761158468,1.0019398201832288,1.2712216685342188,-0.15169413108128366,-2.0769689079471245,-0.24617444450180453,0.2170377560005709,-0.2729310917822944,1.0580304337908448,0.49066385442413696,-0.0634690171707887,0.8761236894078324,-1.156182292111743,-1.7239496549607745,0.39963598889609775,-1.2405253270562735,-1.0844575996887613,0.9674204439722415,-2.3541883593272517,0.8451426886740392,0.48949596951889196,-1.048367046734212,-1.7815751279077898,0.09603552656022948,1.022949626357811,-1.0023988657385754,1.426874982960192,1.3283805405466318,-0.6826435013929715,-0.06948124309346751,1.197488186443602,1.2254917825595262,-1.0980833401848957,-1.2936343077373555,1.1510079929317878,0.8458703244821476,-1.2145888081746545,-0.8788190625374599,-1.5966273166290912,-0.7875422511564634,-0.1341321161518695,-1.4763238379407928,0.20797838521634457,-0.8900356418694271,-0.03371763647518824,0.7039356095584622,0.04616317679909543,0.6189737947401249,-0.020343437881330532,0.5241198908709517,-0.7207502317444129,-0.5982659043959154,-0.9178947753869992,1.2093861312135417,0.8309601781784342,0.5021465962618618,0.7693337137248092,0.8802821133026897,0.8837223679022095,0.4640030703367322,0.4763622196705976,1.4159694950025428,-0.29871965306664355,-0.8294071562311018,2.3446506464640398,-1.8637575195725096,-0.9628217613471104,-0.8981321973001141,-1.2529064074869203,-0.9883955824352328,0.3543575984448734,-0.9402400967736599,0.27223807132119077,-2.1523011662984852,1.692728902747629,-1.41854939516216,-0.2837856089408107,-2.0512938927588813],\"type\":\"scatter\"}],                        {\"legend\":{\"bgcolor\":\"#F5F6F9\",\"font\":{\"color\":\"#4D5663\"}},\"paper_bgcolor\":\"#F5F6F9\",\"plot_bgcolor\":\"#F5F6F9\",\"template\":{\"data\":{\"barpolar\":[{\"marker\":{\"line\":{\"color\":\"#E5ECF6\",\"width\":0.5},\"pattern\":{\"fillmode\":\"overlay\",\"size\":10,\"solidity\":0.2}},\"type\":\"barpolar\"}],\"bar\":[{\"error_x\":{\"color\":\"#2a3f5f\"},\"error_y\":{\"color\":\"#2a3f5f\"},\"marker\":{\"line\":{\"color\":\"#E5ECF6\",\"width\":0.5},\"pattern\":{\"fillmode\":\"overlay\",\"size\":10,\"solidity\":0.2}},\"type\":\"bar\"}],\"carpet\":[{\"aaxis\":{\"endlinecolor\":\"#2a3f5f\",\"gridcolor\":\"white\",\"linecolor\":\"white\",\"minorgridcolor\":\"white\",\"startlinecolor\":\"#2a3f5f\"},\"baxis\":{\"endlinecolor\":\"#2a3f5f\",\"gridcolor\":\"white\",\"linecolor\":\"white\",\"minorgridcolor\":\"white\",\"startlinecolor\":\"#2a3f5f\"},\"type\":\"carpet\"}],\"choropleth\":[{\"colorbar\":{\"outlinewidth\":0,\"ticks\":\"\"},\"type\":\"choropleth\"}],\"contourcarpet\":[{\"colorbar\":{\"outlinewidth\":0,\"ticks\":\"\"},\"type\":\"contourcarpet\"}],\"contour\":[{\"colorbar\":{\"outlinewidth\":0,\"ticks\":\"\"},\"colorscale\":[[0.0,\"#0d0887\"],[0.1111111111111111,\"#46039f\"],[0.2222222222222222,\"#7201a8\"],[0.3333333333333333,\"#9c179e\"],[0.4444444444444444,\"#bd3786\"],[0.5555555555555556,\"#d8576b\"],[0.6666666666666666,\"#ed7953\"],[0.7777777777777778,\"#fb9f3a\"],[0.8888888888888888,\"#fdca26\"],[1.0,\"#f0f921\"]],\"type\":\"contour\"}],\"heatmapgl\":[{\"colorbar\":{\"outlinewidth\":0,\"ticks\":\"\"},\"colorscale\":[[0.0,\"#0d0887\"],[0.1111111111111111,\"#46039f\"],[0.2222222222222222,\"#7201a8\"],[0.3333333333333333,\"#9c179e\"],[0.4444444444444444,\"#bd3786\"],[0.5555555555555556,\"#d8576b\"],[0.6666666666666666,\"#ed7953\"],[0.7777777777777778,\"#fb9f3a\"],[0.8888888888888888,\"#fdca26\"],[1.0,\"#f0f921\"]],\"type\":\"heatmapgl\"}],\"heatmap\":[{\"colorbar\":{\"outlinewidth\":0,\"ticks\":\"\"},\"colorscale\":[[0.0,\"#0d0887\"],[0.1111111111111111,\"#46039f\"],[0.2222222222222222,\"#7201a8\"],[0.3333333333333333,\"#9c179e\"],[0.4444444444444444,\"#bd3786\"],[0.5555555555555556,\"#d8576b\"],[0.6666666666666666,\"#ed7953\"],[0.7777777777777778,\"#fb9f3a\"],[0.8888888888888888,\"#fdca26\"],[1.0,\"#f0f921\"]],\"type\":\"heatmap\"}],\"histogram2dcontour\":[{\"colorbar\":{\"outlinewidth\":0,\"ticks\":\"\"},\"colorscale\":[[0.0,\"#0d0887\"],[0.1111111111111111,\"#46039f\"],[0.2222222222222222,\"#7201a8\"],[0.3333333333333333,\"#9c179e\"],[0.4444444444444444,\"#bd3786\"],[0.5555555555555556,\"#d8576b\"],[0.6666666666666666,\"#ed7953\"],[0.7777777777777778,\"#fb9f3a\"],[0.8888888888888888,\"#fdca26\"],[1.0,\"#f0f921\"]],\"type\":\"histogram2dcontour\"}],\"histogram2d\":[{\"colorbar\":{\"outlinewidth\":0,\"ticks\":\"\"},\"colorscale\":[[0.0,\"#0d0887\"],[0.1111111111111111,\"#46039f\"],[0.2222222222222222,\"#7201a8\"],[0.3333333333333333,\"#9c179e\"],[0.4444444444444444,\"#bd3786\"],[0.5555555555555556,\"#d8576b\"],[0.6666666666666666,\"#ed7953\"],[0.7777777777777778,\"#fb9f3a\"],[0.8888888888888888,\"#fdca26\"],[1.0,\"#f0f921\"]],\"type\":\"histogram2d\"}],\"histogram\":[{\"marker\":{\"pattern\":{\"fillmode\":\"overlay\",\"size\":10,\"solidity\":0.2}},\"type\":\"histogram\"}],\"mesh3d\":[{\"colorbar\":{\"outlinewidth\":0,\"ticks\":\"\"},\"type\":\"mesh3d\"}],\"parcoords\":[{\"line\":{\"colorbar\":{\"outlinewidth\":0,\"ticks\":\"\"}},\"type\":\"parcoords\"}],\"pie\":[{\"automargin\":true,\"type\":\"pie\"}],\"scatter3d\":[{\"line\":{\"colorbar\":{\"outlinewidth\":0,\"ticks\":\"\"}},\"marker\":{\"colorbar\":{\"outlinewidth\":0,\"ticks\":\"\"}},\"type\":\"scatter3d\"}],\"scattercarpet\":[{\"marker\":{\"colorbar\":{\"outlinewidth\":0,\"ticks\":\"\"}},\"type\":\"scattercarpet\"}],\"scattergeo\":[{\"marker\":{\"colorbar\":{\"outlinewidth\":0,\"ticks\":\"\"}},\"type\":\"scattergeo\"}],\"scattergl\":[{\"marker\":{\"colorbar\":{\"outlinewidth\":0,\"ticks\":\"\"}},\"type\":\"scattergl\"}],\"scattermapbox\":[{\"marker\":{\"colorbar\":{\"outlinewidth\":0,\"ticks\":\"\"}},\"type\":\"scattermapbox\"}],\"scatterpolargl\":[{\"marker\":{\"colorbar\":{\"outlinewidth\":0,\"ticks\":\"\"}},\"type\":\"scatterpolargl\"}],\"scatterpolar\":[{\"marker\":{\"colorbar\":{\"outlinewidth\":0,\"ticks\":\"\"}},\"type\":\"scatterpolar\"}],\"scatter\":[{\"marker\":{\"colorbar\":{\"outlinewidth\":0,\"ticks\":\"\"}},\"type\":\"scatter\"}],\"scatterternary\":[{\"marker\":{\"colorbar\":{\"outlinewidth\":0,\"ticks\":\"\"}},\"type\":\"scatterternary\"}],\"surface\":[{\"colorbar\":{\"outlinewidth\":0,\"ticks\":\"\"},\"colorscale\":[[0.0,\"#0d0887\"],[0.1111111111111111,\"#46039f\"],[0.2222222222222222,\"#7201a8\"],[0.3333333333333333,\"#9c179e\"],[0.4444444444444444,\"#bd3786\"],[0.5555555555555556,\"#d8576b\"],[0.6666666666666666,\"#ed7953\"],[0.7777777777777778,\"#fb9f3a\"],[0.8888888888888888,\"#fdca26\"],[1.0,\"#f0f921\"]],\"type\":\"surface\"}],\"table\":[{\"cells\":{\"fill\":{\"color\":\"#EBF0F8\"},\"line\":{\"color\":\"white\"}},\"header\":{\"fill\":{\"color\":\"#C8D4E3\"},\"line\":{\"color\":\"white\"}},\"type\":\"table\"}]},\"layout\":{\"annotationdefaults\":{\"arrowcolor\":\"#2a3f5f\",\"arrowhead\":0,\"arrowwidth\":1},\"autotypenumbers\":\"strict\",\"coloraxis\":{\"colorbar\":{\"outlinewidth\":0,\"ticks\":\"\"}},\"colorscale\":{\"diverging\":[[0,\"#8e0152\"],[0.1,\"#c51b7d\"],[0.2,\"#de77ae\"],[0.3,\"#f1b6da\"],[0.4,\"#fde0ef\"],[0.5,\"#f7f7f7\"],[0.6,\"#e6f5d0\"],[0.7,\"#b8e186\"],[0.8,\"#7fbc41\"],[0.9,\"#4d9221\"],[1,\"#276419\"]],\"sequential\":[[0.0,\"#0d0887\"],[0.1111111111111111,\"#46039f\"],[0.2222222222222222,\"#7201a8\"],[0.3333333333333333,\"#9c179e\"],[0.4444444444444444,\"#bd3786\"],[0.5555555555555556,\"#d8576b\"],[0.6666666666666666,\"#ed7953\"],[0.7777777777777778,\"#fb9f3a\"],[0.8888888888888888,\"#fdca26\"],[1.0,\"#f0f921\"]],\"sequentialminus\":[[0.0,\"#0d0887\"],[0.1111111111111111,\"#46039f\"],[0.2222222222222222,\"#7201a8\"],[0.3333333333333333,\"#9c179e\"],[0.4444444444444444,\"#bd3786\"],[0.5555555555555556,\"#d8576b\"],[0.6666666666666666,\"#ed7953\"],[0.7777777777777778,\"#fb9f3a\"],[0.8888888888888888,\"#fdca26\"],[1.0,\"#f0f921\"]]},\"colorway\":[\"#636efa\",\"#EF553B\",\"#00cc96\",\"#ab63fa\",\"#FFA15A\",\"#19d3f3\",\"#FF6692\",\"#B6E880\",\"#FF97FF\",\"#FECB52\"],\"font\":{\"color\":\"#2a3f5f\"},\"geo\":{\"bgcolor\":\"white\",\"lakecolor\":\"white\",\"landcolor\":\"#E5ECF6\",\"showlakes\":true,\"showland\":true,\"subunitcolor\":\"white\"},\"hoverlabel\":{\"align\":\"left\"},\"hovermode\":\"closest\",\"mapbox\":{\"style\":\"light\"},\"paper_bgcolor\":\"white\",\"plot_bgcolor\":\"#E5ECF6\",\"polar\":{\"angularaxis\":{\"gridcolor\":\"white\",\"linecolor\":\"white\",\"ticks\":\"\"},\"bgcolor\":\"#E5ECF6\",\"radialaxis\":{\"gridcolor\":\"white\",\"linecolor\":\"white\",\"ticks\":\"\"}},\"scene\":{\"xaxis\":{\"backgroundcolor\":\"#E5ECF6\",\"gridcolor\":\"white\",\"gridwidth\":2,\"linecolor\":\"white\",\"showbackground\":true,\"ticks\":\"\",\"zerolinecolor\":\"white\"},\"yaxis\":{\"backgroundcolor\":\"#E5ECF6\",\"gridcolor\":\"white\",\"gridwidth\":2,\"linecolor\":\"white\",\"showbackground\":true,\"ticks\":\"\",\"zerolinecolor\":\"white\"},\"zaxis\":{\"backgroundcolor\":\"#E5ECF6\",\"gridcolor\":\"white\",\"gridwidth\":2,\"linecolor\":\"white\",\"showbackground\":true,\"ticks\":\"\",\"zerolinecolor\":\"white\"}},\"shapedefaults\":{\"line\":{\"color\":\"#2a3f5f\"}},\"ternary\":{\"aaxis\":{\"gridcolor\":\"white\",\"linecolor\":\"white\",\"ticks\":\"\"},\"baxis\":{\"gridcolor\":\"white\",\"linecolor\":\"white\",\"ticks\":\"\"},\"bgcolor\":\"#E5ECF6\",\"caxis\":{\"gridcolor\":\"white\",\"linecolor\":\"white\",\"ticks\":\"\"}},\"title\":{\"x\":0.05},\"xaxis\":{\"automargin\":true,\"gridcolor\":\"white\",\"linecolor\":\"white\",\"ticks\":\"\",\"title\":{\"standoff\":15},\"zerolinecolor\":\"white\",\"zerolinewidth\":2},\"yaxis\":{\"automargin\":true,\"gridcolor\":\"white\",\"linecolor\":\"white\",\"ticks\":\"\",\"title\":{\"standoff\":15},\"zerolinecolor\":\"white\",\"zerolinewidth\":2}}},\"title\":{\"font\":{\"color\":\"#4D5663\"}},\"xaxis\":{\"gridcolor\":\"#E1E5ED\",\"showgrid\":true,\"tickfont\":{\"color\":\"#4D5663\"},\"title\":{\"font\":{\"color\":\"#4D5663\"},\"text\":\"\"},\"zerolinecolor\":\"#E1E5ED\"},\"yaxis\":{\"gridcolor\":\"#E1E5ED\",\"showgrid\":true,\"tickfont\":{\"color\":\"#4D5663\"},\"title\":{\"font\":{\"color\":\"#4D5663\"},\"text\":\"\"},\"zerolinecolor\":\"#E1E5ED\"}},                        {\"showLink\": true, \"linkText\": \"Export to plot.ly\", \"plotlyServerURL\": \"https://plot.ly\", \"responsive\": true}                    ).then(function(){\n",
       "                            \n",
       "var gd = document.getElementById('734110ef-1325-4e0a-bdee-d626f7b7f762');\n",
       "var x = new MutationObserver(function (mutations, observer) {{\n",
       "        var display = window.getComputedStyle(gd).display;\n",
       "        if (!display || display === 'none') {{\n",
       "            console.log([gd, 'removed!']);\n",
       "            Plotly.purge(gd);\n",
       "            observer.disconnect();\n",
       "        }}\n",
       "}});\n",
       "\n",
       "// Listen for the removal of the full notebook cells\n",
       "var notebookContainer = gd.closest('#notebook-container');\n",
       "if (notebookContainer) {{\n",
       "    x.observe(notebookContainer, {childList: true});\n",
       "}}\n",
       "\n",
       "// Listen for the clearing of the current output cell\n",
       "var outputEl = gd.closest('.output');\n",
       "if (outputEl) {{\n",
       "    x.observe(outputEl, {childList: true});\n",
       "}}\n",
       "\n",
       "                        })                };                });            </script>        </div>"
      ]
     },
     "metadata": {},
     "output_type": "display_data"
    }
   ],
   "source": [
    "df.iplot(kind='bubble',x='A',y='B',size='C')"
   ]
  },
  {
   "cell_type": "markdown",
   "metadata": {},
   "source": [
    "## scatter_matrix()\n",
    "\n",
    "Similar to sns.pairplot()"
   ]
  },
  {
   "cell_type": "code",
   "execution_count": 32,
   "metadata": {},
   "outputs": [
    {
     "data": {
      "text/html": [
       "<div>\n",
       "<style scoped>\n",
       "    .dataframe tbody tr th:only-of-type {\n",
       "        vertical-align: middle;\n",
       "    }\n",
       "\n",
       "    .dataframe tbody tr th {\n",
       "        vertical-align: top;\n",
       "    }\n",
       "\n",
       "    .dataframe thead th {\n",
       "        text-align: right;\n",
       "    }\n",
       "</style>\n",
       "<table border=\"1\" class=\"dataframe\">\n",
       "  <thead>\n",
       "    <tr style=\"text-align: right;\">\n",
       "      <th></th>\n",
       "      <th>A</th>\n",
       "      <th>B</th>\n",
       "      <th>C</th>\n",
       "      <th>D</th>\n",
       "    </tr>\n",
       "  </thead>\n",
       "  <tbody>\n",
       "    <tr>\n",
       "      <th>0</th>\n",
       "      <td>-1.727725</td>\n",
       "      <td>-0.359274</td>\n",
       "      <td>-0.857660</td>\n",
       "      <td>-0.496558</td>\n",
       "    </tr>\n",
       "    <tr>\n",
       "      <th>1</th>\n",
       "      <td>-0.652395</td>\n",
       "      <td>0.274849</td>\n",
       "      <td>-0.575013</td>\n",
       "      <td>-1.353897</td>\n",
       "    </tr>\n",
       "    <tr>\n",
       "      <th>2</th>\n",
       "      <td>1.711169</td>\n",
       "      <td>-1.840245</td>\n",
       "      <td>0.054437</td>\n",
       "      <td>-0.172236</td>\n",
       "    </tr>\n",
       "    <tr>\n",
       "      <th>3</th>\n",
       "      <td>1.885493</td>\n",
       "      <td>0.419897</td>\n",
       "      <td>0.785222</td>\n",
       "      <td>1.623158</td>\n",
       "    </tr>\n",
       "    <tr>\n",
       "      <th>4</th>\n",
       "      <td>0.279775</td>\n",
       "      <td>0.440880</td>\n",
       "      <td>-0.481549</td>\n",
       "      <td>1.733545</td>\n",
       "    </tr>\n",
       "    <tr>\n",
       "      <th>...</th>\n",
       "      <td>...</td>\n",
       "      <td>...</td>\n",
       "      <td>...</td>\n",
       "      <td>...</td>\n",
       "    </tr>\n",
       "    <tr>\n",
       "      <th>95</th>\n",
       "      <td>-0.628808</td>\n",
       "      <td>-2.152301</td>\n",
       "      <td>0.204131</td>\n",
       "      <td>-0.282723</td>\n",
       "    </tr>\n",
       "    <tr>\n",
       "      <th>96</th>\n",
       "      <td>0.175156</td>\n",
       "      <td>1.692729</td>\n",
       "      <td>-1.130179</td>\n",
       "      <td>-0.541301</td>\n",
       "    </tr>\n",
       "    <tr>\n",
       "      <th>97</th>\n",
       "      <td>0.430067</td>\n",
       "      <td>-1.418549</td>\n",
       "      <td>0.536725</td>\n",
       "      <td>0.783187</td>\n",
       "    </tr>\n",
       "    <tr>\n",
       "      <th>98</th>\n",
       "      <td>-0.162712</td>\n",
       "      <td>-0.283786</td>\n",
       "      <td>1.128455</td>\n",
       "      <td>-0.773879</td>\n",
       "    </tr>\n",
       "    <tr>\n",
       "      <th>99</th>\n",
       "      <td>-1.124138</td>\n",
       "      <td>-2.051294</td>\n",
       "      <td>-0.453575</td>\n",
       "      <td>-0.282019</td>\n",
       "    </tr>\n",
       "  </tbody>\n",
       "</table>\n",
       "<p>100 rows × 4 columns</p>\n",
       "</div>"
      ],
      "text/plain": [
       "           A         B         C         D\n",
       "0  -1.727725 -0.359274 -0.857660 -0.496558\n",
       "1  -0.652395  0.274849 -0.575013 -1.353897\n",
       "2   1.711169 -1.840245  0.054437 -0.172236\n",
       "3   1.885493  0.419897  0.785222  1.623158\n",
       "4   0.279775  0.440880 -0.481549  1.733545\n",
       "..       ...       ...       ...       ...\n",
       "95 -0.628808 -2.152301  0.204131 -0.282723\n",
       "96  0.175156  1.692729 -1.130179 -0.541301\n",
       "97  0.430067 -1.418549  0.536725  0.783187\n",
       "98 -0.162712 -0.283786  1.128455 -0.773879\n",
       "99 -1.124138 -2.051294 -0.453575 -0.282019\n",
       "\n",
       "[100 rows x 4 columns]"
      ]
     },
     "execution_count": 32,
     "metadata": {},
     "output_type": "execute_result"
    }
   ],
   "source": [
    "df"
   ]
  },
  {
   "cell_type": "code",
   "execution_count": 31,
   "metadata": {
    "jupyter": {
     "outputs_hidden": false
    }
   },
   "outputs": [
    {
     "data": {
      "application/vnd.plotly.v1+json": {
       "config": {
        "linkText": "Export to plot.ly",
        "plotlyServerURL": "https://plot.ly",
        "showLink": true
       },
       "data": [
        {
         "histfunc": "count",
         "histnorm": "",
         "marker": {
          "color": "rgba(255, 153, 51, 1.0)",
          "line": {
           "color": "#4D5663",
           "width": 1.3
          }
         },
         "name": "A",
         "nbinsx": 10,
         "opacity": 0.8,
         "orientation": "v",
         "type": "histogram",
         "x": [
          -1.727725252579994,
          -0.6523954972283168,
          1.7111687573755276,
          1.8854926884160432,
          0.2797752300463759,
          -0.12278394235318713,
          -2.4629864633042837,
          -0.78629519698013,
          1.5013687819523045,
          0.5778433356227098,
          -2.1250130799216187,
          0.3074884774377496,
          -0.39557538193393044,
          -0.7210189703241677,
          0.6061344398049183,
          0.7253202601114827,
          0.7539556248165138,
          -0.6899826023857759,
          -1.9861820267153667,
          2.4724627179818857,
          -1.4921740674205082,
          0.21778649632986308,
          -1.2225982276441731,
          0.3022845411813817,
          0.5009163667793719,
          -0.27518666748581294,
          0.3332232948659106,
          0.5530183129927184,
          2.1813543514946936,
          2.3674713894348414,
          0.4040344645695381,
          0.1038752830651099,
          0.8189814485190792,
          0.6565628023965491,
          0.9649713911033581,
          0.4770077483354942,
          -1.1877719893116574,
          -0.3185818235127667,
          -0.4156429945784772,
          0.09263219619292881,
          1.1664812938353366,
          -1.664581973843618,
          0.8941099556511569,
          -0.059261618500232864,
          -0.42899090930167383,
          1.4204537434359545,
          -1.9614667808680513,
          0.5392218409350615,
          0.47024725448087334,
          1.1467256719334287,
          0.6683405973503002,
          -0.1653528442340094,
          0.2720390477214452,
          -0.6859510913281808,
          0.873018803874626,
          -0.4897179349388602,
          0.2791268821380968,
          -0.01369544344158681,
          0.9219045630189825,
          -0.17979824847298675,
          -1.4115107328459895,
          -0.4411751400820583,
          -0.13716549658502647,
          1.0502522594862551,
          -0.19931089910380348,
          1.2830450947207823,
          -0.7369514961753213,
          -0.43860412360855694,
          1.0940477429003814,
          0.8058780282388065,
          -0.2924536277044239,
          2.852728649349453,
          0.04370968310871116,
          -0.8464521149500591,
          2.28771812749006,
          0.010509765405440371,
          -1.4659896454578434,
          0.36111835740287185,
          1.080204647892336,
          0.21540806709294769,
          -1.2746246503442467,
          -0.7772846266240038,
          1.0151964174987262,
          -0.06308949328548494,
          0.6685557331125359,
          1.613021300620463,
          0.47658038207031683,
          -0.0906659850021094,
          -0.2727332447383256,
          -1.1830977459293435,
          1.5018775786963818,
          1.1466140817409018,
          -0.5606275116117502,
          -0.10446970457486329,
          0.3496968132069453,
          -0.6288080145360863,
          0.17515626102678597,
          0.4300673887181837,
          -0.1627117716049884,
          -1.1241376448948244
         ],
         "xaxis": "x",
         "yaxis": "y"
        },
        {
         "line": {
          "color": "rgba(128, 128, 128, 1.0)",
          "dash": "solid",
          "shape": "linear",
          "width": 1.3
         },
         "marker": {
          "size": 2,
          "symbol": "circle"
         },
         "mode": "markers",
         "name": "A",
         "text": "",
         "type": "scatter",
         "x": [
          -0.35927390814104476,
          0.27484927832288925,
          -1.8402446516963689,
          0.4198969961056575,
          0.4408799218403844,
          -0.665006993082131,
          0.46215986015186405,
          0.5573938040479566,
          0.6821486464071536,
          -0.43277368434188607,
          -1.2513044483714728,
          -0.11800881518163064,
          0.4836095280558225,
          0.7198624924810973,
          0.769734040934067,
          0.32344267033603896,
          -0.5870259090687044,
          1.3764179686571287,
          0.5414625905049074,
          -0.598832443850317,
          -0.3195569510147842,
          1.2187240035662579,
          1.7219914761158468,
          1.0019398201832288,
          1.2712216685342188,
          -0.15169413108128366,
          -2.0769689079471245,
          -0.24617444450180453,
          0.2170377560005709,
          -0.2729310917822944,
          1.0580304337908448,
          0.49066385442413696,
          -0.0634690171707887,
          0.8761236894078324,
          -1.156182292111743,
          -1.7239496549607745,
          0.39963598889609775,
          -1.2405253270562735,
          -1.0844575996887613,
          0.9674204439722415,
          -2.3541883593272517,
          0.8451426886740392,
          0.48949596951889196,
          -1.048367046734212,
          -1.7815751279077898,
          0.09603552656022948,
          1.022949626357811,
          -1.0023988657385754,
          1.426874982960192,
          1.3283805405466318,
          -0.6826435013929715,
          -0.06948124309346751,
          1.197488186443602,
          1.2254917825595262,
          -1.0980833401848957,
          -1.2936343077373555,
          1.1510079929317878,
          0.8458703244821476,
          -1.2145888081746545,
          -0.8788190625374599,
          -1.5966273166290912,
          -0.7875422511564634,
          -0.1341321161518695,
          -1.4763238379407928,
          0.20797838521634457,
          -0.8900356418694271,
          -0.03371763647518824,
          0.7039356095584622,
          0.04616317679909543,
          0.6189737947401249,
          -0.020343437881330532,
          0.5241198908709517,
          -0.7207502317444129,
          -0.5982659043959154,
          -0.9178947753869992,
          1.2093861312135417,
          0.8309601781784342,
          0.5021465962618618,
          0.7693337137248092,
          0.8802821133026897,
          0.8837223679022095,
          0.4640030703367322,
          0.4763622196705976,
          1.4159694950025428,
          -0.29871965306664355,
          -0.8294071562311018,
          2.3446506464640398,
          -1.8637575195725096,
          -0.9628217613471104,
          -0.8981321973001141,
          -1.2529064074869203,
          -0.9883955824352328,
          0.3543575984448734,
          -0.9402400967736599,
          0.27223807132119077,
          -2.1523011662984852,
          1.692728902747629,
          -1.41854939516216,
          -0.2837856089408107,
          -2.0512938927588813
         ],
         "xaxis": "x2",
         "y": [
          -1.727725252579994,
          -0.6523954972283168,
          1.7111687573755276,
          1.8854926884160432,
          0.2797752300463759,
          -0.12278394235318713,
          -2.4629864633042837,
          -0.78629519698013,
          1.5013687819523045,
          0.5778433356227098,
          -2.1250130799216187,
          0.3074884774377496,
          -0.39557538193393044,
          -0.7210189703241677,
          0.6061344398049183,
          0.7253202601114827,
          0.7539556248165138,
          -0.6899826023857759,
          -1.9861820267153667,
          2.4724627179818857,
          -1.4921740674205082,
          0.21778649632986308,
          -1.2225982276441731,
          0.3022845411813817,
          0.5009163667793719,
          -0.27518666748581294,
          0.3332232948659106,
          0.5530183129927184,
          2.1813543514946936,
          2.3674713894348414,
          0.4040344645695381,
          0.1038752830651099,
          0.8189814485190792,
          0.6565628023965491,
          0.9649713911033581,
          0.4770077483354942,
          -1.1877719893116574,
          -0.3185818235127667,
          -0.4156429945784772,
          0.09263219619292881,
          1.1664812938353366,
          -1.664581973843618,
          0.8941099556511569,
          -0.059261618500232864,
          -0.42899090930167383,
          1.4204537434359545,
          -1.9614667808680513,
          0.5392218409350615,
          0.47024725448087334,
          1.1467256719334287,
          0.6683405973503002,
          -0.1653528442340094,
          0.2720390477214452,
          -0.6859510913281808,
          0.873018803874626,
          -0.4897179349388602,
          0.2791268821380968,
          -0.01369544344158681,
          0.9219045630189825,
          -0.17979824847298675,
          -1.4115107328459895,
          -0.4411751400820583,
          -0.13716549658502647,
          1.0502522594862551,
          -0.19931089910380348,
          1.2830450947207823,
          -0.7369514961753213,
          -0.43860412360855694,
          1.0940477429003814,
          0.8058780282388065,
          -0.2924536277044239,
          2.852728649349453,
          0.04370968310871116,
          -0.8464521149500591,
          2.28771812749006,
          0.010509765405440371,
          -1.4659896454578434,
          0.36111835740287185,
          1.080204647892336,
          0.21540806709294769,
          -1.2746246503442467,
          -0.7772846266240038,
          1.0151964174987262,
          -0.06308949328548494,
          0.6685557331125359,
          1.613021300620463,
          0.47658038207031683,
          -0.0906659850021094,
          -0.2727332447383256,
          -1.1830977459293435,
          1.5018775786963818,
          1.1466140817409018,
          -0.5606275116117502,
          -0.10446970457486329,
          0.3496968132069453,
          -0.6288080145360863,
          0.17515626102678597,
          0.4300673887181837,
          -0.1627117716049884,
          -1.1241376448948244
         ],
         "yaxis": "y2"
        },
        {
         "line": {
          "color": "rgba(128, 128, 128, 1.0)",
          "dash": "solid",
          "shape": "linear",
          "width": 1.3
         },
         "marker": {
          "size": 2,
          "symbol": "circle"
         },
         "mode": "markers",
         "name": "A",
         "text": "",
         "type": "scatter",
         "x": [
          -0.8576600851820129,
          -0.5750127788884318,
          0.05443737876004868,
          0.7852219652757143,
          -0.4815487628257627,
          0.04459261934043061,
          -0.06139117924853256,
          0.20633355242056056,
          0.3062438902586826,
          1.3296776414925178,
          -0.7677373671277309,
          -0.006243911503915224,
          1.1498310264509497,
          0.18172294440474673,
          -0.19866413611852404,
          -0.8526807024276805,
          0.699245848585638,
          2.3023684100320927,
          -0.9026964338652707,
          -2.126841132369603,
          -0.842454782703909,
          0.6287313876116941,
          0.6682264230511928,
          -0.1769443401341622,
          0.26285762319922845,
          -1.9182082898691377,
          -0.35284934610786284,
          0.10958556503104956,
          -0.39624950688927235,
          0.31471637953316495,
          -0.6383841995137576,
          2.1191646816111716,
          0.1071863837033177,
          -1.0993467054046555,
          -1.1851231161420908,
          0.9078673017445265,
          -0.9240942974216836,
          1.1082905281639326,
          0.5761749525009726,
          -0.5528240035959081,
          -1.08319747021649,
          -0.3976494677458565,
          -0.1518796496642728,
          1.057216241490009,
          0.0864398733826944,
          0.3100534812829789,
          -0.6269403739297886,
          -0.04947723555628706,
          -0.9613648546663213,
          0.8097916556373664,
          -0.4449950508578437,
          0.1853574945940702,
          -0.40107114793418475,
          -1.003082928001767,
          -0.752919299080358,
          -0.5950415455443309,
          -0.28500485049306346,
          0.22621527955495616,
          -1.4791742950433293,
          0.0863555425022727,
          -1.477818299284184,
          0.3181940813153153,
          -1.852121414840407,
          -0.5261400848800919,
          -0.19445599174652403,
          1.2692789684904169,
          0.9994959914342512,
          0.6236723493406674,
          0.6178352553527662,
          0.01180667443335035,
          -0.7145856073326051,
          -0.21614168674591627,
          0.47703388972485505,
          0.8951840409390931,
          0.12843544193826878,
          0.5830450541273284,
          -0.5229493660653698,
          0.1806833566529037,
          1.2369892036717165,
          1.5121942236516193,
          -1.0073202348756185,
          -0.561204749188291,
          -0.20193194149857496,
          -0.08287312206897211,
          0.8298502678698525,
          1.0807107053419196,
          -0.9480437842389379,
          0.19593365881638544,
          -0.07374676095263155,
          -1.20932451397519,
          -1.431085577517493,
          1.816668237644611,
          -0.3765677734224466,
          0.7154783027959628,
          1.4930900832089968,
          0.20413077793277046,
          -1.1301792997773459,
          0.536724977053704,
          1.1284546732489456,
          -0.45357490395777833
         ],
         "xaxis": "x3",
         "y": [
          -1.727725252579994,
          -0.6523954972283168,
          1.7111687573755276,
          1.8854926884160432,
          0.2797752300463759,
          -0.12278394235318713,
          -2.4629864633042837,
          -0.78629519698013,
          1.5013687819523045,
          0.5778433356227098,
          -2.1250130799216187,
          0.3074884774377496,
          -0.39557538193393044,
          -0.7210189703241677,
          0.6061344398049183,
          0.7253202601114827,
          0.7539556248165138,
          -0.6899826023857759,
          -1.9861820267153667,
          2.4724627179818857,
          -1.4921740674205082,
          0.21778649632986308,
          -1.2225982276441731,
          0.3022845411813817,
          0.5009163667793719,
          -0.27518666748581294,
          0.3332232948659106,
          0.5530183129927184,
          2.1813543514946936,
          2.3674713894348414,
          0.4040344645695381,
          0.1038752830651099,
          0.8189814485190792,
          0.6565628023965491,
          0.9649713911033581,
          0.4770077483354942,
          -1.1877719893116574,
          -0.3185818235127667,
          -0.4156429945784772,
          0.09263219619292881,
          1.1664812938353366,
          -1.664581973843618,
          0.8941099556511569,
          -0.059261618500232864,
          -0.42899090930167383,
          1.4204537434359545,
          -1.9614667808680513,
          0.5392218409350615,
          0.47024725448087334,
          1.1467256719334287,
          0.6683405973503002,
          -0.1653528442340094,
          0.2720390477214452,
          -0.6859510913281808,
          0.873018803874626,
          -0.4897179349388602,
          0.2791268821380968,
          -0.01369544344158681,
          0.9219045630189825,
          -0.17979824847298675,
          -1.4115107328459895,
          -0.4411751400820583,
          -0.13716549658502647,
          1.0502522594862551,
          -0.19931089910380348,
          1.2830450947207823,
          -0.7369514961753213,
          -0.43860412360855694,
          1.0940477429003814,
          0.8058780282388065,
          -0.2924536277044239,
          2.852728649349453,
          0.04370968310871116,
          -0.8464521149500591,
          2.28771812749006,
          0.010509765405440371,
          -1.4659896454578434,
          0.36111835740287185,
          1.080204647892336,
          0.21540806709294769,
          -1.2746246503442467,
          -0.7772846266240038,
          1.0151964174987262,
          -0.06308949328548494,
          0.6685557331125359,
          1.613021300620463,
          0.47658038207031683,
          -0.0906659850021094,
          -0.2727332447383256,
          -1.1830977459293435,
          1.5018775786963818,
          1.1466140817409018,
          -0.5606275116117502,
          -0.10446970457486329,
          0.3496968132069453,
          -0.6288080145360863,
          0.17515626102678597,
          0.4300673887181837,
          -0.1627117716049884,
          -1.1241376448948244
         ],
         "yaxis": "y3"
        },
        {
         "line": {
          "color": "rgba(128, 128, 128, 1.0)",
          "dash": "solid",
          "shape": "linear",
          "width": 1.3
         },
         "marker": {
          "size": 2,
          "symbol": "circle"
         },
         "mode": "markers",
         "name": "A",
         "text": "",
         "type": "scatter",
         "x": [
          -0.4965581735356254,
          -1.3538967874345176,
          -0.17223560818573722,
          1.6231579665908973,
          1.7335446296311334,
          -0.2030650778601564,
          -0.8452123865917006,
          1.0521305282835511,
          1.0398148392863902,
          -0.050987236786020504,
          -0.57258304732208,
          0.04327595603432784,
          -1.3940547164717714,
          -0.7525124487105035,
          -0.07855624829631365,
          -1.1287941535485626,
          0.04187240456777008,
          1.4784163179354148,
          0.37467197907364774,
          -0.7017974813352993,
          -0.15403843626666303,
          -0.5716045712901606,
          -0.15591731115513588,
          1.0827404114215546,
          0.06824294928725971,
          -0.6664063407263672,
          0.058527585690782445,
          -0.9858046686548356,
          -0.6166101461902966,
          -1.1015216262366498,
          0.48213629877689473,
          0.7272580763180592,
          1.1927992467132755,
          0.007447607351678447,
          0.9569922129220856,
          -1.1567796253878748,
          -0.1064287862458562,
          0.13029253387854112,
          0.035064494826886665,
          0.007923565519073762,
          0.6666927681045107,
          -0.2975599094544142,
          0.5143305432258334,
          -0.5314002154044901,
          0.9862378459404866,
          -0.8561390311252871,
          -0.08201694272839874,
          0.658484445292848,
          -1.1019741335941395,
          1.7357110245871454,
          -0.11175638362924363,
          1.4145749280314097,
          0.0053422645864003295,
          -0.04697930289317601,
          -0.7801131973483182,
          -1.1054144127714947,
          -0.3191975559484706,
          2.1400811034734475,
          -0.28546278269794334,
          -0.026399679763879018,
          -0.13923411297599422,
          0.5953884586032037,
          -0.6078720153987348,
          0.4475031099532303,
          1.3609915633404095,
          -0.3970043698105668,
          -1.483018792788209,
          -0.5391846912785562,
          -0.9115268037798887,
          0.15120485573677836,
          1.188222846229542,
          -0.9754873702920279,
          0.6138966578280636,
          -0.7061571324872323,
          -0.03124596441063452,
          0.2649153628508299,
          -0.27760614222920704,
          1.0501757511701886,
          -1.6212716213140699,
          -0.8593940651917895,
          -0.4191976458232712,
          -0.7588387619889834,
          0.04786717019872002,
          -1.491149338625276,
          0.5932183950134358,
          0.6539229166253674,
          0.6982652058189514,
          0.6481823342092639,
          -1.0097184189627435,
          -0.7995847706776723,
          -1.1795007881349875,
          -1.2948637331231025,
          0.9988398953252201,
          0.811056302157581,
          -0.498460662658745,
          -0.28272291971528696,
          -0.5413007010612112,
          0.7831871945780672,
          -0.7738786516659488,
          -0.2820191552854569
         ],
         "xaxis": "x4",
         "y": [
          -1.727725252579994,
          -0.6523954972283168,
          1.7111687573755276,
          1.8854926884160432,
          0.2797752300463759,
          -0.12278394235318713,
          -2.4629864633042837,
          -0.78629519698013,
          1.5013687819523045,
          0.5778433356227098,
          -2.1250130799216187,
          0.3074884774377496,
          -0.39557538193393044,
          -0.7210189703241677,
          0.6061344398049183,
          0.7253202601114827,
          0.7539556248165138,
          -0.6899826023857759,
          -1.9861820267153667,
          2.4724627179818857,
          -1.4921740674205082,
          0.21778649632986308,
          -1.2225982276441731,
          0.3022845411813817,
          0.5009163667793719,
          -0.27518666748581294,
          0.3332232948659106,
          0.5530183129927184,
          2.1813543514946936,
          2.3674713894348414,
          0.4040344645695381,
          0.1038752830651099,
          0.8189814485190792,
          0.6565628023965491,
          0.9649713911033581,
          0.4770077483354942,
          -1.1877719893116574,
          -0.3185818235127667,
          -0.4156429945784772,
          0.09263219619292881,
          1.1664812938353366,
          -1.664581973843618,
          0.8941099556511569,
          -0.059261618500232864,
          -0.42899090930167383,
          1.4204537434359545,
          -1.9614667808680513,
          0.5392218409350615,
          0.47024725448087334,
          1.1467256719334287,
          0.6683405973503002,
          -0.1653528442340094,
          0.2720390477214452,
          -0.6859510913281808,
          0.873018803874626,
          -0.4897179349388602,
          0.2791268821380968,
          -0.01369544344158681,
          0.9219045630189825,
          -0.17979824847298675,
          -1.4115107328459895,
          -0.4411751400820583,
          -0.13716549658502647,
          1.0502522594862551,
          -0.19931089910380348,
          1.2830450947207823,
          -0.7369514961753213,
          -0.43860412360855694,
          1.0940477429003814,
          0.8058780282388065,
          -0.2924536277044239,
          2.852728649349453,
          0.04370968310871116,
          -0.8464521149500591,
          2.28771812749006,
          0.010509765405440371,
          -1.4659896454578434,
          0.36111835740287185,
          1.080204647892336,
          0.21540806709294769,
          -1.2746246503442467,
          -0.7772846266240038,
          1.0151964174987262,
          -0.06308949328548494,
          0.6685557331125359,
          1.613021300620463,
          0.47658038207031683,
          -0.0906659850021094,
          -0.2727332447383256,
          -1.1830977459293435,
          1.5018775786963818,
          1.1466140817409018,
          -0.5606275116117502,
          -0.10446970457486329,
          0.3496968132069453,
          -0.6288080145360863,
          0.17515626102678597,
          0.4300673887181837,
          -0.1627117716049884,
          -1.1241376448948244
         ],
         "yaxis": "y4"
        },
        {
         "line": {
          "color": "rgba(128, 128, 128, 1.0)",
          "dash": "solid",
          "shape": "linear",
          "width": 1.3
         },
         "marker": {
          "size": 2,
          "symbol": "circle"
         },
         "mode": "markers",
         "name": "B",
         "text": "",
         "type": "scatter",
         "x": [
          -1.727725252579994,
          -0.6523954972283168,
          1.7111687573755276,
          1.8854926884160432,
          0.2797752300463759,
          -0.12278394235318713,
          -2.4629864633042837,
          -0.78629519698013,
          1.5013687819523045,
          0.5778433356227098,
          -2.1250130799216187,
          0.3074884774377496,
          -0.39557538193393044,
          -0.7210189703241677,
          0.6061344398049183,
          0.7253202601114827,
          0.7539556248165138,
          -0.6899826023857759,
          -1.9861820267153667,
          2.4724627179818857,
          -1.4921740674205082,
          0.21778649632986308,
          -1.2225982276441731,
          0.3022845411813817,
          0.5009163667793719,
          -0.27518666748581294,
          0.3332232948659106,
          0.5530183129927184,
          2.1813543514946936,
          2.3674713894348414,
          0.4040344645695381,
          0.1038752830651099,
          0.8189814485190792,
          0.6565628023965491,
          0.9649713911033581,
          0.4770077483354942,
          -1.1877719893116574,
          -0.3185818235127667,
          -0.4156429945784772,
          0.09263219619292881,
          1.1664812938353366,
          -1.664581973843618,
          0.8941099556511569,
          -0.059261618500232864,
          -0.42899090930167383,
          1.4204537434359545,
          -1.9614667808680513,
          0.5392218409350615,
          0.47024725448087334,
          1.1467256719334287,
          0.6683405973503002,
          -0.1653528442340094,
          0.2720390477214452,
          -0.6859510913281808,
          0.873018803874626,
          -0.4897179349388602,
          0.2791268821380968,
          -0.01369544344158681,
          0.9219045630189825,
          -0.17979824847298675,
          -1.4115107328459895,
          -0.4411751400820583,
          -0.13716549658502647,
          1.0502522594862551,
          -0.19931089910380348,
          1.2830450947207823,
          -0.7369514961753213,
          -0.43860412360855694,
          1.0940477429003814,
          0.8058780282388065,
          -0.2924536277044239,
          2.852728649349453,
          0.04370968310871116,
          -0.8464521149500591,
          2.28771812749006,
          0.010509765405440371,
          -1.4659896454578434,
          0.36111835740287185,
          1.080204647892336,
          0.21540806709294769,
          -1.2746246503442467,
          -0.7772846266240038,
          1.0151964174987262,
          -0.06308949328548494,
          0.6685557331125359,
          1.613021300620463,
          0.47658038207031683,
          -0.0906659850021094,
          -0.2727332447383256,
          -1.1830977459293435,
          1.5018775786963818,
          1.1466140817409018,
          -0.5606275116117502,
          -0.10446970457486329,
          0.3496968132069453,
          -0.6288080145360863,
          0.17515626102678597,
          0.4300673887181837,
          -0.1627117716049884,
          -1.1241376448948244
         ],
         "xaxis": "x5",
         "y": [
          -0.35927390814104476,
          0.27484927832288925,
          -1.8402446516963689,
          0.4198969961056575,
          0.4408799218403844,
          -0.665006993082131,
          0.46215986015186405,
          0.5573938040479566,
          0.6821486464071536,
          -0.43277368434188607,
          -1.2513044483714728,
          -0.11800881518163064,
          0.4836095280558225,
          0.7198624924810973,
          0.769734040934067,
          0.32344267033603896,
          -0.5870259090687044,
          1.3764179686571287,
          0.5414625905049074,
          -0.598832443850317,
          -0.3195569510147842,
          1.2187240035662579,
          1.7219914761158468,
          1.0019398201832288,
          1.2712216685342188,
          -0.15169413108128366,
          -2.0769689079471245,
          -0.24617444450180453,
          0.2170377560005709,
          -0.2729310917822944,
          1.0580304337908448,
          0.49066385442413696,
          -0.0634690171707887,
          0.8761236894078324,
          -1.156182292111743,
          -1.7239496549607745,
          0.39963598889609775,
          -1.2405253270562735,
          -1.0844575996887613,
          0.9674204439722415,
          -2.3541883593272517,
          0.8451426886740392,
          0.48949596951889196,
          -1.048367046734212,
          -1.7815751279077898,
          0.09603552656022948,
          1.022949626357811,
          -1.0023988657385754,
          1.426874982960192,
          1.3283805405466318,
          -0.6826435013929715,
          -0.06948124309346751,
          1.197488186443602,
          1.2254917825595262,
          -1.0980833401848957,
          -1.2936343077373555,
          1.1510079929317878,
          0.8458703244821476,
          -1.2145888081746545,
          -0.8788190625374599,
          -1.5966273166290912,
          -0.7875422511564634,
          -0.1341321161518695,
          -1.4763238379407928,
          0.20797838521634457,
          -0.8900356418694271,
          -0.03371763647518824,
          0.7039356095584622,
          0.04616317679909543,
          0.6189737947401249,
          -0.020343437881330532,
          0.5241198908709517,
          -0.7207502317444129,
          -0.5982659043959154,
          -0.9178947753869992,
          1.2093861312135417,
          0.8309601781784342,
          0.5021465962618618,
          0.7693337137248092,
          0.8802821133026897,
          0.8837223679022095,
          0.4640030703367322,
          0.4763622196705976,
          1.4159694950025428,
          -0.29871965306664355,
          -0.8294071562311018,
          2.3446506464640398,
          -1.8637575195725096,
          -0.9628217613471104,
          -0.8981321973001141,
          -1.2529064074869203,
          -0.9883955824352328,
          0.3543575984448734,
          -0.9402400967736599,
          0.27223807132119077,
          -2.1523011662984852,
          1.692728902747629,
          -1.41854939516216,
          -0.2837856089408107,
          -2.0512938927588813
         ],
         "yaxis": "y5"
        },
        {
         "histfunc": "count",
         "histnorm": "",
         "marker": {
          "color": "rgba(55, 128, 191, 1.0)",
          "line": {
           "color": "#4D5663",
           "width": 1.3
          }
         },
         "name": "B",
         "nbinsx": 10,
         "opacity": 0.8,
         "orientation": "v",
         "type": "histogram",
         "x": [
          -0.35927390814104476,
          0.27484927832288925,
          -1.8402446516963689,
          0.4198969961056575,
          0.4408799218403844,
          -0.665006993082131,
          0.46215986015186405,
          0.5573938040479566,
          0.6821486464071536,
          -0.43277368434188607,
          -1.2513044483714728,
          -0.11800881518163064,
          0.4836095280558225,
          0.7198624924810973,
          0.769734040934067,
          0.32344267033603896,
          -0.5870259090687044,
          1.3764179686571287,
          0.5414625905049074,
          -0.598832443850317,
          -0.3195569510147842,
          1.2187240035662579,
          1.7219914761158468,
          1.0019398201832288,
          1.2712216685342188,
          -0.15169413108128366,
          -2.0769689079471245,
          -0.24617444450180453,
          0.2170377560005709,
          -0.2729310917822944,
          1.0580304337908448,
          0.49066385442413696,
          -0.0634690171707887,
          0.8761236894078324,
          -1.156182292111743,
          -1.7239496549607745,
          0.39963598889609775,
          -1.2405253270562735,
          -1.0844575996887613,
          0.9674204439722415,
          -2.3541883593272517,
          0.8451426886740392,
          0.48949596951889196,
          -1.048367046734212,
          -1.7815751279077898,
          0.09603552656022948,
          1.022949626357811,
          -1.0023988657385754,
          1.426874982960192,
          1.3283805405466318,
          -0.6826435013929715,
          -0.06948124309346751,
          1.197488186443602,
          1.2254917825595262,
          -1.0980833401848957,
          -1.2936343077373555,
          1.1510079929317878,
          0.8458703244821476,
          -1.2145888081746545,
          -0.8788190625374599,
          -1.5966273166290912,
          -0.7875422511564634,
          -0.1341321161518695,
          -1.4763238379407928,
          0.20797838521634457,
          -0.8900356418694271,
          -0.03371763647518824,
          0.7039356095584622,
          0.04616317679909543,
          0.6189737947401249,
          -0.020343437881330532,
          0.5241198908709517,
          -0.7207502317444129,
          -0.5982659043959154,
          -0.9178947753869992,
          1.2093861312135417,
          0.8309601781784342,
          0.5021465962618618,
          0.7693337137248092,
          0.8802821133026897,
          0.8837223679022095,
          0.4640030703367322,
          0.4763622196705976,
          1.4159694950025428,
          -0.29871965306664355,
          -0.8294071562311018,
          2.3446506464640398,
          -1.8637575195725096,
          -0.9628217613471104,
          -0.8981321973001141,
          -1.2529064074869203,
          -0.9883955824352328,
          0.3543575984448734,
          -0.9402400967736599,
          0.27223807132119077,
          -2.1523011662984852,
          1.692728902747629,
          -1.41854939516216,
          -0.2837856089408107,
          -2.0512938927588813
         ],
         "xaxis": "x6",
         "yaxis": "y6"
        },
        {
         "line": {
          "color": "rgba(128, 128, 128, 1.0)",
          "dash": "solid",
          "shape": "linear",
          "width": 1.3
         },
         "marker": {
          "size": 2,
          "symbol": "circle"
         },
         "mode": "markers",
         "name": "B",
         "text": "",
         "type": "scatter",
         "x": [
          -0.8576600851820129,
          -0.5750127788884318,
          0.05443737876004868,
          0.7852219652757143,
          -0.4815487628257627,
          0.04459261934043061,
          -0.06139117924853256,
          0.20633355242056056,
          0.3062438902586826,
          1.3296776414925178,
          -0.7677373671277309,
          -0.006243911503915224,
          1.1498310264509497,
          0.18172294440474673,
          -0.19866413611852404,
          -0.8526807024276805,
          0.699245848585638,
          2.3023684100320927,
          -0.9026964338652707,
          -2.126841132369603,
          -0.842454782703909,
          0.6287313876116941,
          0.6682264230511928,
          -0.1769443401341622,
          0.26285762319922845,
          -1.9182082898691377,
          -0.35284934610786284,
          0.10958556503104956,
          -0.39624950688927235,
          0.31471637953316495,
          -0.6383841995137576,
          2.1191646816111716,
          0.1071863837033177,
          -1.0993467054046555,
          -1.1851231161420908,
          0.9078673017445265,
          -0.9240942974216836,
          1.1082905281639326,
          0.5761749525009726,
          -0.5528240035959081,
          -1.08319747021649,
          -0.3976494677458565,
          -0.1518796496642728,
          1.057216241490009,
          0.0864398733826944,
          0.3100534812829789,
          -0.6269403739297886,
          -0.04947723555628706,
          -0.9613648546663213,
          0.8097916556373664,
          -0.4449950508578437,
          0.1853574945940702,
          -0.40107114793418475,
          -1.003082928001767,
          -0.752919299080358,
          -0.5950415455443309,
          -0.28500485049306346,
          0.22621527955495616,
          -1.4791742950433293,
          0.0863555425022727,
          -1.477818299284184,
          0.3181940813153153,
          -1.852121414840407,
          -0.5261400848800919,
          -0.19445599174652403,
          1.2692789684904169,
          0.9994959914342512,
          0.6236723493406674,
          0.6178352553527662,
          0.01180667443335035,
          -0.7145856073326051,
          -0.21614168674591627,
          0.47703388972485505,
          0.8951840409390931,
          0.12843544193826878,
          0.5830450541273284,
          -0.5229493660653698,
          0.1806833566529037,
          1.2369892036717165,
          1.5121942236516193,
          -1.0073202348756185,
          -0.561204749188291,
          -0.20193194149857496,
          -0.08287312206897211,
          0.8298502678698525,
          1.0807107053419196,
          -0.9480437842389379,
          0.19593365881638544,
          -0.07374676095263155,
          -1.20932451397519,
          -1.431085577517493,
          1.816668237644611,
          -0.3765677734224466,
          0.7154783027959628,
          1.4930900832089968,
          0.20413077793277046,
          -1.1301792997773459,
          0.536724977053704,
          1.1284546732489456,
          -0.45357490395777833
         ],
         "xaxis": "x7",
         "y": [
          -0.35927390814104476,
          0.27484927832288925,
          -1.8402446516963689,
          0.4198969961056575,
          0.4408799218403844,
          -0.665006993082131,
          0.46215986015186405,
          0.5573938040479566,
          0.6821486464071536,
          -0.43277368434188607,
          -1.2513044483714728,
          -0.11800881518163064,
          0.4836095280558225,
          0.7198624924810973,
          0.769734040934067,
          0.32344267033603896,
          -0.5870259090687044,
          1.3764179686571287,
          0.5414625905049074,
          -0.598832443850317,
          -0.3195569510147842,
          1.2187240035662579,
          1.7219914761158468,
          1.0019398201832288,
          1.2712216685342188,
          -0.15169413108128366,
          -2.0769689079471245,
          -0.24617444450180453,
          0.2170377560005709,
          -0.2729310917822944,
          1.0580304337908448,
          0.49066385442413696,
          -0.0634690171707887,
          0.8761236894078324,
          -1.156182292111743,
          -1.7239496549607745,
          0.39963598889609775,
          -1.2405253270562735,
          -1.0844575996887613,
          0.9674204439722415,
          -2.3541883593272517,
          0.8451426886740392,
          0.48949596951889196,
          -1.048367046734212,
          -1.7815751279077898,
          0.09603552656022948,
          1.022949626357811,
          -1.0023988657385754,
          1.426874982960192,
          1.3283805405466318,
          -0.6826435013929715,
          -0.06948124309346751,
          1.197488186443602,
          1.2254917825595262,
          -1.0980833401848957,
          -1.2936343077373555,
          1.1510079929317878,
          0.8458703244821476,
          -1.2145888081746545,
          -0.8788190625374599,
          -1.5966273166290912,
          -0.7875422511564634,
          -0.1341321161518695,
          -1.4763238379407928,
          0.20797838521634457,
          -0.8900356418694271,
          -0.03371763647518824,
          0.7039356095584622,
          0.04616317679909543,
          0.6189737947401249,
          -0.020343437881330532,
          0.5241198908709517,
          -0.7207502317444129,
          -0.5982659043959154,
          -0.9178947753869992,
          1.2093861312135417,
          0.8309601781784342,
          0.5021465962618618,
          0.7693337137248092,
          0.8802821133026897,
          0.8837223679022095,
          0.4640030703367322,
          0.4763622196705976,
          1.4159694950025428,
          -0.29871965306664355,
          -0.8294071562311018,
          2.3446506464640398,
          -1.8637575195725096,
          -0.9628217613471104,
          -0.8981321973001141,
          -1.2529064074869203,
          -0.9883955824352328,
          0.3543575984448734,
          -0.9402400967736599,
          0.27223807132119077,
          -2.1523011662984852,
          1.692728902747629,
          -1.41854939516216,
          -0.2837856089408107,
          -2.0512938927588813
         ],
         "yaxis": "y7"
        },
        {
         "line": {
          "color": "rgba(128, 128, 128, 1.0)",
          "dash": "solid",
          "shape": "linear",
          "width": 1.3
         },
         "marker": {
          "size": 2,
          "symbol": "circle"
         },
         "mode": "markers",
         "name": "B",
         "text": "",
         "type": "scatter",
         "x": [
          -0.4965581735356254,
          -1.3538967874345176,
          -0.17223560818573722,
          1.6231579665908973,
          1.7335446296311334,
          -0.2030650778601564,
          -0.8452123865917006,
          1.0521305282835511,
          1.0398148392863902,
          -0.050987236786020504,
          -0.57258304732208,
          0.04327595603432784,
          -1.3940547164717714,
          -0.7525124487105035,
          -0.07855624829631365,
          -1.1287941535485626,
          0.04187240456777008,
          1.4784163179354148,
          0.37467197907364774,
          -0.7017974813352993,
          -0.15403843626666303,
          -0.5716045712901606,
          -0.15591731115513588,
          1.0827404114215546,
          0.06824294928725971,
          -0.6664063407263672,
          0.058527585690782445,
          -0.9858046686548356,
          -0.6166101461902966,
          -1.1015216262366498,
          0.48213629877689473,
          0.7272580763180592,
          1.1927992467132755,
          0.007447607351678447,
          0.9569922129220856,
          -1.1567796253878748,
          -0.1064287862458562,
          0.13029253387854112,
          0.035064494826886665,
          0.007923565519073762,
          0.6666927681045107,
          -0.2975599094544142,
          0.5143305432258334,
          -0.5314002154044901,
          0.9862378459404866,
          -0.8561390311252871,
          -0.08201694272839874,
          0.658484445292848,
          -1.1019741335941395,
          1.7357110245871454,
          -0.11175638362924363,
          1.4145749280314097,
          0.0053422645864003295,
          -0.04697930289317601,
          -0.7801131973483182,
          -1.1054144127714947,
          -0.3191975559484706,
          2.1400811034734475,
          -0.28546278269794334,
          -0.026399679763879018,
          -0.13923411297599422,
          0.5953884586032037,
          -0.6078720153987348,
          0.4475031099532303,
          1.3609915633404095,
          -0.3970043698105668,
          -1.483018792788209,
          -0.5391846912785562,
          -0.9115268037798887,
          0.15120485573677836,
          1.188222846229542,
          -0.9754873702920279,
          0.6138966578280636,
          -0.7061571324872323,
          -0.03124596441063452,
          0.2649153628508299,
          -0.27760614222920704,
          1.0501757511701886,
          -1.6212716213140699,
          -0.8593940651917895,
          -0.4191976458232712,
          -0.7588387619889834,
          0.04786717019872002,
          -1.491149338625276,
          0.5932183950134358,
          0.6539229166253674,
          0.6982652058189514,
          0.6481823342092639,
          -1.0097184189627435,
          -0.7995847706776723,
          -1.1795007881349875,
          -1.2948637331231025,
          0.9988398953252201,
          0.811056302157581,
          -0.498460662658745,
          -0.28272291971528696,
          -0.5413007010612112,
          0.7831871945780672,
          -0.7738786516659488,
          -0.2820191552854569
         ],
         "xaxis": "x8",
         "y": [
          -0.35927390814104476,
          0.27484927832288925,
          -1.8402446516963689,
          0.4198969961056575,
          0.4408799218403844,
          -0.665006993082131,
          0.46215986015186405,
          0.5573938040479566,
          0.6821486464071536,
          -0.43277368434188607,
          -1.2513044483714728,
          -0.11800881518163064,
          0.4836095280558225,
          0.7198624924810973,
          0.769734040934067,
          0.32344267033603896,
          -0.5870259090687044,
          1.3764179686571287,
          0.5414625905049074,
          -0.598832443850317,
          -0.3195569510147842,
          1.2187240035662579,
          1.7219914761158468,
          1.0019398201832288,
          1.2712216685342188,
          -0.15169413108128366,
          -2.0769689079471245,
          -0.24617444450180453,
          0.2170377560005709,
          -0.2729310917822944,
          1.0580304337908448,
          0.49066385442413696,
          -0.0634690171707887,
          0.8761236894078324,
          -1.156182292111743,
          -1.7239496549607745,
          0.39963598889609775,
          -1.2405253270562735,
          -1.0844575996887613,
          0.9674204439722415,
          -2.3541883593272517,
          0.8451426886740392,
          0.48949596951889196,
          -1.048367046734212,
          -1.7815751279077898,
          0.09603552656022948,
          1.022949626357811,
          -1.0023988657385754,
          1.426874982960192,
          1.3283805405466318,
          -0.6826435013929715,
          -0.06948124309346751,
          1.197488186443602,
          1.2254917825595262,
          -1.0980833401848957,
          -1.2936343077373555,
          1.1510079929317878,
          0.8458703244821476,
          -1.2145888081746545,
          -0.8788190625374599,
          -1.5966273166290912,
          -0.7875422511564634,
          -0.1341321161518695,
          -1.4763238379407928,
          0.20797838521634457,
          -0.8900356418694271,
          -0.03371763647518824,
          0.7039356095584622,
          0.04616317679909543,
          0.6189737947401249,
          -0.020343437881330532,
          0.5241198908709517,
          -0.7207502317444129,
          -0.5982659043959154,
          -0.9178947753869992,
          1.2093861312135417,
          0.8309601781784342,
          0.5021465962618618,
          0.7693337137248092,
          0.8802821133026897,
          0.8837223679022095,
          0.4640030703367322,
          0.4763622196705976,
          1.4159694950025428,
          -0.29871965306664355,
          -0.8294071562311018,
          2.3446506464640398,
          -1.8637575195725096,
          -0.9628217613471104,
          -0.8981321973001141,
          -1.2529064074869203,
          -0.9883955824352328,
          0.3543575984448734,
          -0.9402400967736599,
          0.27223807132119077,
          -2.1523011662984852,
          1.692728902747629,
          -1.41854939516216,
          -0.2837856089408107,
          -2.0512938927588813
         ],
         "yaxis": "y8"
        },
        {
         "line": {
          "color": "rgba(128, 128, 128, 1.0)",
          "dash": "solid",
          "shape": "linear",
          "width": 1.3
         },
         "marker": {
          "size": 2,
          "symbol": "circle"
         },
         "mode": "markers",
         "name": "C",
         "text": "",
         "type": "scatter",
         "x": [
          -1.727725252579994,
          -0.6523954972283168,
          1.7111687573755276,
          1.8854926884160432,
          0.2797752300463759,
          -0.12278394235318713,
          -2.4629864633042837,
          -0.78629519698013,
          1.5013687819523045,
          0.5778433356227098,
          -2.1250130799216187,
          0.3074884774377496,
          -0.39557538193393044,
          -0.7210189703241677,
          0.6061344398049183,
          0.7253202601114827,
          0.7539556248165138,
          -0.6899826023857759,
          -1.9861820267153667,
          2.4724627179818857,
          -1.4921740674205082,
          0.21778649632986308,
          -1.2225982276441731,
          0.3022845411813817,
          0.5009163667793719,
          -0.27518666748581294,
          0.3332232948659106,
          0.5530183129927184,
          2.1813543514946936,
          2.3674713894348414,
          0.4040344645695381,
          0.1038752830651099,
          0.8189814485190792,
          0.6565628023965491,
          0.9649713911033581,
          0.4770077483354942,
          -1.1877719893116574,
          -0.3185818235127667,
          -0.4156429945784772,
          0.09263219619292881,
          1.1664812938353366,
          -1.664581973843618,
          0.8941099556511569,
          -0.059261618500232864,
          -0.42899090930167383,
          1.4204537434359545,
          -1.9614667808680513,
          0.5392218409350615,
          0.47024725448087334,
          1.1467256719334287,
          0.6683405973503002,
          -0.1653528442340094,
          0.2720390477214452,
          -0.6859510913281808,
          0.873018803874626,
          -0.4897179349388602,
          0.2791268821380968,
          -0.01369544344158681,
          0.9219045630189825,
          -0.17979824847298675,
          -1.4115107328459895,
          -0.4411751400820583,
          -0.13716549658502647,
          1.0502522594862551,
          -0.19931089910380348,
          1.2830450947207823,
          -0.7369514961753213,
          -0.43860412360855694,
          1.0940477429003814,
          0.8058780282388065,
          -0.2924536277044239,
          2.852728649349453,
          0.04370968310871116,
          -0.8464521149500591,
          2.28771812749006,
          0.010509765405440371,
          -1.4659896454578434,
          0.36111835740287185,
          1.080204647892336,
          0.21540806709294769,
          -1.2746246503442467,
          -0.7772846266240038,
          1.0151964174987262,
          -0.06308949328548494,
          0.6685557331125359,
          1.613021300620463,
          0.47658038207031683,
          -0.0906659850021094,
          -0.2727332447383256,
          -1.1830977459293435,
          1.5018775786963818,
          1.1466140817409018,
          -0.5606275116117502,
          -0.10446970457486329,
          0.3496968132069453,
          -0.6288080145360863,
          0.17515626102678597,
          0.4300673887181837,
          -0.1627117716049884,
          -1.1241376448948244
         ],
         "xaxis": "x9",
         "y": [
          -0.8576600851820129,
          -0.5750127788884318,
          0.05443737876004868,
          0.7852219652757143,
          -0.4815487628257627,
          0.04459261934043061,
          -0.06139117924853256,
          0.20633355242056056,
          0.3062438902586826,
          1.3296776414925178,
          -0.7677373671277309,
          -0.006243911503915224,
          1.1498310264509497,
          0.18172294440474673,
          -0.19866413611852404,
          -0.8526807024276805,
          0.699245848585638,
          2.3023684100320927,
          -0.9026964338652707,
          -2.126841132369603,
          -0.842454782703909,
          0.6287313876116941,
          0.6682264230511928,
          -0.1769443401341622,
          0.26285762319922845,
          -1.9182082898691377,
          -0.35284934610786284,
          0.10958556503104956,
          -0.39624950688927235,
          0.31471637953316495,
          -0.6383841995137576,
          2.1191646816111716,
          0.1071863837033177,
          -1.0993467054046555,
          -1.1851231161420908,
          0.9078673017445265,
          -0.9240942974216836,
          1.1082905281639326,
          0.5761749525009726,
          -0.5528240035959081,
          -1.08319747021649,
          -0.3976494677458565,
          -0.1518796496642728,
          1.057216241490009,
          0.0864398733826944,
          0.3100534812829789,
          -0.6269403739297886,
          -0.04947723555628706,
          -0.9613648546663213,
          0.8097916556373664,
          -0.4449950508578437,
          0.1853574945940702,
          -0.40107114793418475,
          -1.003082928001767,
          -0.752919299080358,
          -0.5950415455443309,
          -0.28500485049306346,
          0.22621527955495616,
          -1.4791742950433293,
          0.0863555425022727,
          -1.477818299284184,
          0.3181940813153153,
          -1.852121414840407,
          -0.5261400848800919,
          -0.19445599174652403,
          1.2692789684904169,
          0.9994959914342512,
          0.6236723493406674,
          0.6178352553527662,
          0.01180667443335035,
          -0.7145856073326051,
          -0.21614168674591627,
          0.47703388972485505,
          0.8951840409390931,
          0.12843544193826878,
          0.5830450541273284,
          -0.5229493660653698,
          0.1806833566529037,
          1.2369892036717165,
          1.5121942236516193,
          -1.0073202348756185,
          -0.561204749188291,
          -0.20193194149857496,
          -0.08287312206897211,
          0.8298502678698525,
          1.0807107053419196,
          -0.9480437842389379,
          0.19593365881638544,
          -0.07374676095263155,
          -1.20932451397519,
          -1.431085577517493,
          1.816668237644611,
          -0.3765677734224466,
          0.7154783027959628,
          1.4930900832089968,
          0.20413077793277046,
          -1.1301792997773459,
          0.536724977053704,
          1.1284546732489456,
          -0.45357490395777833
         ],
         "yaxis": "y9"
        },
        {
         "line": {
          "color": "rgba(128, 128, 128, 1.0)",
          "dash": "solid",
          "shape": "linear",
          "width": 1.3
         },
         "marker": {
          "size": 2,
          "symbol": "circle"
         },
         "mode": "markers",
         "name": "C",
         "text": "",
         "type": "scatter",
         "x": [
          -0.35927390814104476,
          0.27484927832288925,
          -1.8402446516963689,
          0.4198969961056575,
          0.4408799218403844,
          -0.665006993082131,
          0.46215986015186405,
          0.5573938040479566,
          0.6821486464071536,
          -0.43277368434188607,
          -1.2513044483714728,
          -0.11800881518163064,
          0.4836095280558225,
          0.7198624924810973,
          0.769734040934067,
          0.32344267033603896,
          -0.5870259090687044,
          1.3764179686571287,
          0.5414625905049074,
          -0.598832443850317,
          -0.3195569510147842,
          1.2187240035662579,
          1.7219914761158468,
          1.0019398201832288,
          1.2712216685342188,
          -0.15169413108128366,
          -2.0769689079471245,
          -0.24617444450180453,
          0.2170377560005709,
          -0.2729310917822944,
          1.0580304337908448,
          0.49066385442413696,
          -0.0634690171707887,
          0.8761236894078324,
          -1.156182292111743,
          -1.7239496549607745,
          0.39963598889609775,
          -1.2405253270562735,
          -1.0844575996887613,
          0.9674204439722415,
          -2.3541883593272517,
          0.8451426886740392,
          0.48949596951889196,
          -1.048367046734212,
          -1.7815751279077898,
          0.09603552656022948,
          1.022949626357811,
          -1.0023988657385754,
          1.426874982960192,
          1.3283805405466318,
          -0.6826435013929715,
          -0.06948124309346751,
          1.197488186443602,
          1.2254917825595262,
          -1.0980833401848957,
          -1.2936343077373555,
          1.1510079929317878,
          0.8458703244821476,
          -1.2145888081746545,
          -0.8788190625374599,
          -1.5966273166290912,
          -0.7875422511564634,
          -0.1341321161518695,
          -1.4763238379407928,
          0.20797838521634457,
          -0.8900356418694271,
          -0.03371763647518824,
          0.7039356095584622,
          0.04616317679909543,
          0.6189737947401249,
          -0.020343437881330532,
          0.5241198908709517,
          -0.7207502317444129,
          -0.5982659043959154,
          -0.9178947753869992,
          1.2093861312135417,
          0.8309601781784342,
          0.5021465962618618,
          0.7693337137248092,
          0.8802821133026897,
          0.8837223679022095,
          0.4640030703367322,
          0.4763622196705976,
          1.4159694950025428,
          -0.29871965306664355,
          -0.8294071562311018,
          2.3446506464640398,
          -1.8637575195725096,
          -0.9628217613471104,
          -0.8981321973001141,
          -1.2529064074869203,
          -0.9883955824352328,
          0.3543575984448734,
          -0.9402400967736599,
          0.27223807132119077,
          -2.1523011662984852,
          1.692728902747629,
          -1.41854939516216,
          -0.2837856089408107,
          -2.0512938927588813
         ],
         "xaxis": "x10",
         "y": [
          -0.8576600851820129,
          -0.5750127788884318,
          0.05443737876004868,
          0.7852219652757143,
          -0.4815487628257627,
          0.04459261934043061,
          -0.06139117924853256,
          0.20633355242056056,
          0.3062438902586826,
          1.3296776414925178,
          -0.7677373671277309,
          -0.006243911503915224,
          1.1498310264509497,
          0.18172294440474673,
          -0.19866413611852404,
          -0.8526807024276805,
          0.699245848585638,
          2.3023684100320927,
          -0.9026964338652707,
          -2.126841132369603,
          -0.842454782703909,
          0.6287313876116941,
          0.6682264230511928,
          -0.1769443401341622,
          0.26285762319922845,
          -1.9182082898691377,
          -0.35284934610786284,
          0.10958556503104956,
          -0.39624950688927235,
          0.31471637953316495,
          -0.6383841995137576,
          2.1191646816111716,
          0.1071863837033177,
          -1.0993467054046555,
          -1.1851231161420908,
          0.9078673017445265,
          -0.9240942974216836,
          1.1082905281639326,
          0.5761749525009726,
          -0.5528240035959081,
          -1.08319747021649,
          -0.3976494677458565,
          -0.1518796496642728,
          1.057216241490009,
          0.0864398733826944,
          0.3100534812829789,
          -0.6269403739297886,
          -0.04947723555628706,
          -0.9613648546663213,
          0.8097916556373664,
          -0.4449950508578437,
          0.1853574945940702,
          -0.40107114793418475,
          -1.003082928001767,
          -0.752919299080358,
          -0.5950415455443309,
          -0.28500485049306346,
          0.22621527955495616,
          -1.4791742950433293,
          0.0863555425022727,
          -1.477818299284184,
          0.3181940813153153,
          -1.852121414840407,
          -0.5261400848800919,
          -0.19445599174652403,
          1.2692789684904169,
          0.9994959914342512,
          0.6236723493406674,
          0.6178352553527662,
          0.01180667443335035,
          -0.7145856073326051,
          -0.21614168674591627,
          0.47703388972485505,
          0.8951840409390931,
          0.12843544193826878,
          0.5830450541273284,
          -0.5229493660653698,
          0.1806833566529037,
          1.2369892036717165,
          1.5121942236516193,
          -1.0073202348756185,
          -0.561204749188291,
          -0.20193194149857496,
          -0.08287312206897211,
          0.8298502678698525,
          1.0807107053419196,
          -0.9480437842389379,
          0.19593365881638544,
          -0.07374676095263155,
          -1.20932451397519,
          -1.431085577517493,
          1.816668237644611,
          -0.3765677734224466,
          0.7154783027959628,
          1.4930900832089968,
          0.20413077793277046,
          -1.1301792997773459,
          0.536724977053704,
          1.1284546732489456,
          -0.45357490395777833
         ],
         "yaxis": "y10"
        },
        {
         "histfunc": "count",
         "histnorm": "",
         "marker": {
          "color": "rgba(50, 171, 96, 1.0)",
          "line": {
           "color": "#4D5663",
           "width": 1.3
          }
         },
         "name": "C",
         "nbinsx": 10,
         "opacity": 0.8,
         "orientation": "v",
         "type": "histogram",
         "x": [
          -0.8576600851820129,
          -0.5750127788884318,
          0.05443737876004868,
          0.7852219652757143,
          -0.4815487628257627,
          0.04459261934043061,
          -0.06139117924853256,
          0.20633355242056056,
          0.3062438902586826,
          1.3296776414925178,
          -0.7677373671277309,
          -0.006243911503915224,
          1.1498310264509497,
          0.18172294440474673,
          -0.19866413611852404,
          -0.8526807024276805,
          0.699245848585638,
          2.3023684100320927,
          -0.9026964338652707,
          -2.126841132369603,
          -0.842454782703909,
          0.6287313876116941,
          0.6682264230511928,
          -0.1769443401341622,
          0.26285762319922845,
          -1.9182082898691377,
          -0.35284934610786284,
          0.10958556503104956,
          -0.39624950688927235,
          0.31471637953316495,
          -0.6383841995137576,
          2.1191646816111716,
          0.1071863837033177,
          -1.0993467054046555,
          -1.1851231161420908,
          0.9078673017445265,
          -0.9240942974216836,
          1.1082905281639326,
          0.5761749525009726,
          -0.5528240035959081,
          -1.08319747021649,
          -0.3976494677458565,
          -0.1518796496642728,
          1.057216241490009,
          0.0864398733826944,
          0.3100534812829789,
          -0.6269403739297886,
          -0.04947723555628706,
          -0.9613648546663213,
          0.8097916556373664,
          -0.4449950508578437,
          0.1853574945940702,
          -0.40107114793418475,
          -1.003082928001767,
          -0.752919299080358,
          -0.5950415455443309,
          -0.28500485049306346,
          0.22621527955495616,
          -1.4791742950433293,
          0.0863555425022727,
          -1.477818299284184,
          0.3181940813153153,
          -1.852121414840407,
          -0.5261400848800919,
          -0.19445599174652403,
          1.2692789684904169,
          0.9994959914342512,
          0.6236723493406674,
          0.6178352553527662,
          0.01180667443335035,
          -0.7145856073326051,
          -0.21614168674591627,
          0.47703388972485505,
          0.8951840409390931,
          0.12843544193826878,
          0.5830450541273284,
          -0.5229493660653698,
          0.1806833566529037,
          1.2369892036717165,
          1.5121942236516193,
          -1.0073202348756185,
          -0.561204749188291,
          -0.20193194149857496,
          -0.08287312206897211,
          0.8298502678698525,
          1.0807107053419196,
          -0.9480437842389379,
          0.19593365881638544,
          -0.07374676095263155,
          -1.20932451397519,
          -1.431085577517493,
          1.816668237644611,
          -0.3765677734224466,
          0.7154783027959628,
          1.4930900832089968,
          0.20413077793277046,
          -1.1301792997773459,
          0.536724977053704,
          1.1284546732489456,
          -0.45357490395777833
         ],
         "xaxis": "x11",
         "yaxis": "y11"
        },
        {
         "line": {
          "color": "rgba(128, 128, 128, 1.0)",
          "dash": "solid",
          "shape": "linear",
          "width": 1.3
         },
         "marker": {
          "size": 2,
          "symbol": "circle"
         },
         "mode": "markers",
         "name": "C",
         "text": "",
         "type": "scatter",
         "x": [
          -0.4965581735356254,
          -1.3538967874345176,
          -0.17223560818573722,
          1.6231579665908973,
          1.7335446296311334,
          -0.2030650778601564,
          -0.8452123865917006,
          1.0521305282835511,
          1.0398148392863902,
          -0.050987236786020504,
          -0.57258304732208,
          0.04327595603432784,
          -1.3940547164717714,
          -0.7525124487105035,
          -0.07855624829631365,
          -1.1287941535485626,
          0.04187240456777008,
          1.4784163179354148,
          0.37467197907364774,
          -0.7017974813352993,
          -0.15403843626666303,
          -0.5716045712901606,
          -0.15591731115513588,
          1.0827404114215546,
          0.06824294928725971,
          -0.6664063407263672,
          0.058527585690782445,
          -0.9858046686548356,
          -0.6166101461902966,
          -1.1015216262366498,
          0.48213629877689473,
          0.7272580763180592,
          1.1927992467132755,
          0.007447607351678447,
          0.9569922129220856,
          -1.1567796253878748,
          -0.1064287862458562,
          0.13029253387854112,
          0.035064494826886665,
          0.007923565519073762,
          0.6666927681045107,
          -0.2975599094544142,
          0.5143305432258334,
          -0.5314002154044901,
          0.9862378459404866,
          -0.8561390311252871,
          -0.08201694272839874,
          0.658484445292848,
          -1.1019741335941395,
          1.7357110245871454,
          -0.11175638362924363,
          1.4145749280314097,
          0.0053422645864003295,
          -0.04697930289317601,
          -0.7801131973483182,
          -1.1054144127714947,
          -0.3191975559484706,
          2.1400811034734475,
          -0.28546278269794334,
          -0.026399679763879018,
          -0.13923411297599422,
          0.5953884586032037,
          -0.6078720153987348,
          0.4475031099532303,
          1.3609915633404095,
          -0.3970043698105668,
          -1.483018792788209,
          -0.5391846912785562,
          -0.9115268037798887,
          0.15120485573677836,
          1.188222846229542,
          -0.9754873702920279,
          0.6138966578280636,
          -0.7061571324872323,
          -0.03124596441063452,
          0.2649153628508299,
          -0.27760614222920704,
          1.0501757511701886,
          -1.6212716213140699,
          -0.8593940651917895,
          -0.4191976458232712,
          -0.7588387619889834,
          0.04786717019872002,
          -1.491149338625276,
          0.5932183950134358,
          0.6539229166253674,
          0.6982652058189514,
          0.6481823342092639,
          -1.0097184189627435,
          -0.7995847706776723,
          -1.1795007881349875,
          -1.2948637331231025,
          0.9988398953252201,
          0.811056302157581,
          -0.498460662658745,
          -0.28272291971528696,
          -0.5413007010612112,
          0.7831871945780672,
          -0.7738786516659488,
          -0.2820191552854569
         ],
         "xaxis": "x12",
         "y": [
          -0.8576600851820129,
          -0.5750127788884318,
          0.05443737876004868,
          0.7852219652757143,
          -0.4815487628257627,
          0.04459261934043061,
          -0.06139117924853256,
          0.20633355242056056,
          0.3062438902586826,
          1.3296776414925178,
          -0.7677373671277309,
          -0.006243911503915224,
          1.1498310264509497,
          0.18172294440474673,
          -0.19866413611852404,
          -0.8526807024276805,
          0.699245848585638,
          2.3023684100320927,
          -0.9026964338652707,
          -2.126841132369603,
          -0.842454782703909,
          0.6287313876116941,
          0.6682264230511928,
          -0.1769443401341622,
          0.26285762319922845,
          -1.9182082898691377,
          -0.35284934610786284,
          0.10958556503104956,
          -0.39624950688927235,
          0.31471637953316495,
          -0.6383841995137576,
          2.1191646816111716,
          0.1071863837033177,
          -1.0993467054046555,
          -1.1851231161420908,
          0.9078673017445265,
          -0.9240942974216836,
          1.1082905281639326,
          0.5761749525009726,
          -0.5528240035959081,
          -1.08319747021649,
          -0.3976494677458565,
          -0.1518796496642728,
          1.057216241490009,
          0.0864398733826944,
          0.3100534812829789,
          -0.6269403739297886,
          -0.04947723555628706,
          -0.9613648546663213,
          0.8097916556373664,
          -0.4449950508578437,
          0.1853574945940702,
          -0.40107114793418475,
          -1.003082928001767,
          -0.752919299080358,
          -0.5950415455443309,
          -0.28500485049306346,
          0.22621527955495616,
          -1.4791742950433293,
          0.0863555425022727,
          -1.477818299284184,
          0.3181940813153153,
          -1.852121414840407,
          -0.5261400848800919,
          -0.19445599174652403,
          1.2692789684904169,
          0.9994959914342512,
          0.6236723493406674,
          0.6178352553527662,
          0.01180667443335035,
          -0.7145856073326051,
          -0.21614168674591627,
          0.47703388972485505,
          0.8951840409390931,
          0.12843544193826878,
          0.5830450541273284,
          -0.5229493660653698,
          0.1806833566529037,
          1.2369892036717165,
          1.5121942236516193,
          -1.0073202348756185,
          -0.561204749188291,
          -0.20193194149857496,
          -0.08287312206897211,
          0.8298502678698525,
          1.0807107053419196,
          -0.9480437842389379,
          0.19593365881638544,
          -0.07374676095263155,
          -1.20932451397519,
          -1.431085577517493,
          1.816668237644611,
          -0.3765677734224466,
          0.7154783027959628,
          1.4930900832089968,
          0.20413077793277046,
          -1.1301792997773459,
          0.536724977053704,
          1.1284546732489456,
          -0.45357490395777833
         ],
         "yaxis": "y12"
        },
        {
         "line": {
          "color": "rgba(128, 128, 128, 1.0)",
          "dash": "solid",
          "shape": "linear",
          "width": 1.3
         },
         "marker": {
          "size": 2,
          "symbol": "circle"
         },
         "mode": "markers",
         "name": "D",
         "text": "",
         "type": "scatter",
         "x": [
          -1.727725252579994,
          -0.6523954972283168,
          1.7111687573755276,
          1.8854926884160432,
          0.2797752300463759,
          -0.12278394235318713,
          -2.4629864633042837,
          -0.78629519698013,
          1.5013687819523045,
          0.5778433356227098,
          -2.1250130799216187,
          0.3074884774377496,
          -0.39557538193393044,
          -0.7210189703241677,
          0.6061344398049183,
          0.7253202601114827,
          0.7539556248165138,
          -0.6899826023857759,
          -1.9861820267153667,
          2.4724627179818857,
          -1.4921740674205082,
          0.21778649632986308,
          -1.2225982276441731,
          0.3022845411813817,
          0.5009163667793719,
          -0.27518666748581294,
          0.3332232948659106,
          0.5530183129927184,
          2.1813543514946936,
          2.3674713894348414,
          0.4040344645695381,
          0.1038752830651099,
          0.8189814485190792,
          0.6565628023965491,
          0.9649713911033581,
          0.4770077483354942,
          -1.1877719893116574,
          -0.3185818235127667,
          -0.4156429945784772,
          0.09263219619292881,
          1.1664812938353366,
          -1.664581973843618,
          0.8941099556511569,
          -0.059261618500232864,
          -0.42899090930167383,
          1.4204537434359545,
          -1.9614667808680513,
          0.5392218409350615,
          0.47024725448087334,
          1.1467256719334287,
          0.6683405973503002,
          -0.1653528442340094,
          0.2720390477214452,
          -0.6859510913281808,
          0.873018803874626,
          -0.4897179349388602,
          0.2791268821380968,
          -0.01369544344158681,
          0.9219045630189825,
          -0.17979824847298675,
          -1.4115107328459895,
          -0.4411751400820583,
          -0.13716549658502647,
          1.0502522594862551,
          -0.19931089910380348,
          1.2830450947207823,
          -0.7369514961753213,
          -0.43860412360855694,
          1.0940477429003814,
          0.8058780282388065,
          -0.2924536277044239,
          2.852728649349453,
          0.04370968310871116,
          -0.8464521149500591,
          2.28771812749006,
          0.010509765405440371,
          -1.4659896454578434,
          0.36111835740287185,
          1.080204647892336,
          0.21540806709294769,
          -1.2746246503442467,
          -0.7772846266240038,
          1.0151964174987262,
          -0.06308949328548494,
          0.6685557331125359,
          1.613021300620463,
          0.47658038207031683,
          -0.0906659850021094,
          -0.2727332447383256,
          -1.1830977459293435,
          1.5018775786963818,
          1.1466140817409018,
          -0.5606275116117502,
          -0.10446970457486329,
          0.3496968132069453,
          -0.6288080145360863,
          0.17515626102678597,
          0.4300673887181837,
          -0.1627117716049884,
          -1.1241376448948244
         ],
         "xaxis": "x13",
         "y": [
          -0.4965581735356254,
          -1.3538967874345176,
          -0.17223560818573722,
          1.6231579665908973,
          1.7335446296311334,
          -0.2030650778601564,
          -0.8452123865917006,
          1.0521305282835511,
          1.0398148392863902,
          -0.050987236786020504,
          -0.57258304732208,
          0.04327595603432784,
          -1.3940547164717714,
          -0.7525124487105035,
          -0.07855624829631365,
          -1.1287941535485626,
          0.04187240456777008,
          1.4784163179354148,
          0.37467197907364774,
          -0.7017974813352993,
          -0.15403843626666303,
          -0.5716045712901606,
          -0.15591731115513588,
          1.0827404114215546,
          0.06824294928725971,
          -0.6664063407263672,
          0.058527585690782445,
          -0.9858046686548356,
          -0.6166101461902966,
          -1.1015216262366498,
          0.48213629877689473,
          0.7272580763180592,
          1.1927992467132755,
          0.007447607351678447,
          0.9569922129220856,
          -1.1567796253878748,
          -0.1064287862458562,
          0.13029253387854112,
          0.035064494826886665,
          0.007923565519073762,
          0.6666927681045107,
          -0.2975599094544142,
          0.5143305432258334,
          -0.5314002154044901,
          0.9862378459404866,
          -0.8561390311252871,
          -0.08201694272839874,
          0.658484445292848,
          -1.1019741335941395,
          1.7357110245871454,
          -0.11175638362924363,
          1.4145749280314097,
          0.0053422645864003295,
          -0.04697930289317601,
          -0.7801131973483182,
          -1.1054144127714947,
          -0.3191975559484706,
          2.1400811034734475,
          -0.28546278269794334,
          -0.026399679763879018,
          -0.13923411297599422,
          0.5953884586032037,
          -0.6078720153987348,
          0.4475031099532303,
          1.3609915633404095,
          -0.3970043698105668,
          -1.483018792788209,
          -0.5391846912785562,
          -0.9115268037798887,
          0.15120485573677836,
          1.188222846229542,
          -0.9754873702920279,
          0.6138966578280636,
          -0.7061571324872323,
          -0.03124596441063452,
          0.2649153628508299,
          -0.27760614222920704,
          1.0501757511701886,
          -1.6212716213140699,
          -0.8593940651917895,
          -0.4191976458232712,
          -0.7588387619889834,
          0.04786717019872002,
          -1.491149338625276,
          0.5932183950134358,
          0.6539229166253674,
          0.6982652058189514,
          0.6481823342092639,
          -1.0097184189627435,
          -0.7995847706776723,
          -1.1795007881349875,
          -1.2948637331231025,
          0.9988398953252201,
          0.811056302157581,
          -0.498460662658745,
          -0.28272291971528696,
          -0.5413007010612112,
          0.7831871945780672,
          -0.7738786516659488,
          -0.2820191552854569
         ],
         "yaxis": "y13"
        },
        {
         "line": {
          "color": "rgba(128, 128, 128, 1.0)",
          "dash": "solid",
          "shape": "linear",
          "width": 1.3
         },
         "marker": {
          "size": 2,
          "symbol": "circle"
         },
         "mode": "markers",
         "name": "D",
         "text": "",
         "type": "scatter",
         "x": [
          -0.35927390814104476,
          0.27484927832288925,
          -1.8402446516963689,
          0.4198969961056575,
          0.4408799218403844,
          -0.665006993082131,
          0.46215986015186405,
          0.5573938040479566,
          0.6821486464071536,
          -0.43277368434188607,
          -1.2513044483714728,
          -0.11800881518163064,
          0.4836095280558225,
          0.7198624924810973,
          0.769734040934067,
          0.32344267033603896,
          -0.5870259090687044,
          1.3764179686571287,
          0.5414625905049074,
          -0.598832443850317,
          -0.3195569510147842,
          1.2187240035662579,
          1.7219914761158468,
          1.0019398201832288,
          1.2712216685342188,
          -0.15169413108128366,
          -2.0769689079471245,
          -0.24617444450180453,
          0.2170377560005709,
          -0.2729310917822944,
          1.0580304337908448,
          0.49066385442413696,
          -0.0634690171707887,
          0.8761236894078324,
          -1.156182292111743,
          -1.7239496549607745,
          0.39963598889609775,
          -1.2405253270562735,
          -1.0844575996887613,
          0.9674204439722415,
          -2.3541883593272517,
          0.8451426886740392,
          0.48949596951889196,
          -1.048367046734212,
          -1.7815751279077898,
          0.09603552656022948,
          1.022949626357811,
          -1.0023988657385754,
          1.426874982960192,
          1.3283805405466318,
          -0.6826435013929715,
          -0.06948124309346751,
          1.197488186443602,
          1.2254917825595262,
          -1.0980833401848957,
          -1.2936343077373555,
          1.1510079929317878,
          0.8458703244821476,
          -1.2145888081746545,
          -0.8788190625374599,
          -1.5966273166290912,
          -0.7875422511564634,
          -0.1341321161518695,
          -1.4763238379407928,
          0.20797838521634457,
          -0.8900356418694271,
          -0.03371763647518824,
          0.7039356095584622,
          0.04616317679909543,
          0.6189737947401249,
          -0.020343437881330532,
          0.5241198908709517,
          -0.7207502317444129,
          -0.5982659043959154,
          -0.9178947753869992,
          1.2093861312135417,
          0.8309601781784342,
          0.5021465962618618,
          0.7693337137248092,
          0.8802821133026897,
          0.8837223679022095,
          0.4640030703367322,
          0.4763622196705976,
          1.4159694950025428,
          -0.29871965306664355,
          -0.8294071562311018,
          2.3446506464640398,
          -1.8637575195725096,
          -0.9628217613471104,
          -0.8981321973001141,
          -1.2529064074869203,
          -0.9883955824352328,
          0.3543575984448734,
          -0.9402400967736599,
          0.27223807132119077,
          -2.1523011662984852,
          1.692728902747629,
          -1.41854939516216,
          -0.2837856089408107,
          -2.0512938927588813
         ],
         "xaxis": "x14",
         "y": [
          -0.4965581735356254,
          -1.3538967874345176,
          -0.17223560818573722,
          1.6231579665908973,
          1.7335446296311334,
          -0.2030650778601564,
          -0.8452123865917006,
          1.0521305282835511,
          1.0398148392863902,
          -0.050987236786020504,
          -0.57258304732208,
          0.04327595603432784,
          -1.3940547164717714,
          -0.7525124487105035,
          -0.07855624829631365,
          -1.1287941535485626,
          0.04187240456777008,
          1.4784163179354148,
          0.37467197907364774,
          -0.7017974813352993,
          -0.15403843626666303,
          -0.5716045712901606,
          -0.15591731115513588,
          1.0827404114215546,
          0.06824294928725971,
          -0.6664063407263672,
          0.058527585690782445,
          -0.9858046686548356,
          -0.6166101461902966,
          -1.1015216262366498,
          0.48213629877689473,
          0.7272580763180592,
          1.1927992467132755,
          0.007447607351678447,
          0.9569922129220856,
          -1.1567796253878748,
          -0.1064287862458562,
          0.13029253387854112,
          0.035064494826886665,
          0.007923565519073762,
          0.6666927681045107,
          -0.2975599094544142,
          0.5143305432258334,
          -0.5314002154044901,
          0.9862378459404866,
          -0.8561390311252871,
          -0.08201694272839874,
          0.658484445292848,
          -1.1019741335941395,
          1.7357110245871454,
          -0.11175638362924363,
          1.4145749280314097,
          0.0053422645864003295,
          -0.04697930289317601,
          -0.7801131973483182,
          -1.1054144127714947,
          -0.3191975559484706,
          2.1400811034734475,
          -0.28546278269794334,
          -0.026399679763879018,
          -0.13923411297599422,
          0.5953884586032037,
          -0.6078720153987348,
          0.4475031099532303,
          1.3609915633404095,
          -0.3970043698105668,
          -1.483018792788209,
          -0.5391846912785562,
          -0.9115268037798887,
          0.15120485573677836,
          1.188222846229542,
          -0.9754873702920279,
          0.6138966578280636,
          -0.7061571324872323,
          -0.03124596441063452,
          0.2649153628508299,
          -0.27760614222920704,
          1.0501757511701886,
          -1.6212716213140699,
          -0.8593940651917895,
          -0.4191976458232712,
          -0.7588387619889834,
          0.04786717019872002,
          -1.491149338625276,
          0.5932183950134358,
          0.6539229166253674,
          0.6982652058189514,
          0.6481823342092639,
          -1.0097184189627435,
          -0.7995847706776723,
          -1.1795007881349875,
          -1.2948637331231025,
          0.9988398953252201,
          0.811056302157581,
          -0.498460662658745,
          -0.28272291971528696,
          -0.5413007010612112,
          0.7831871945780672,
          -0.7738786516659488,
          -0.2820191552854569
         ],
         "yaxis": "y14"
        },
        {
         "line": {
          "color": "rgba(128, 128, 128, 1.0)",
          "dash": "solid",
          "shape": "linear",
          "width": 1.3
         },
         "marker": {
          "size": 2,
          "symbol": "circle"
         },
         "mode": "markers",
         "name": "D",
         "text": "",
         "type": "scatter",
         "x": [
          -0.8576600851820129,
          -0.5750127788884318,
          0.05443737876004868,
          0.7852219652757143,
          -0.4815487628257627,
          0.04459261934043061,
          -0.06139117924853256,
          0.20633355242056056,
          0.3062438902586826,
          1.3296776414925178,
          -0.7677373671277309,
          -0.006243911503915224,
          1.1498310264509497,
          0.18172294440474673,
          -0.19866413611852404,
          -0.8526807024276805,
          0.699245848585638,
          2.3023684100320927,
          -0.9026964338652707,
          -2.126841132369603,
          -0.842454782703909,
          0.6287313876116941,
          0.6682264230511928,
          -0.1769443401341622,
          0.26285762319922845,
          -1.9182082898691377,
          -0.35284934610786284,
          0.10958556503104956,
          -0.39624950688927235,
          0.31471637953316495,
          -0.6383841995137576,
          2.1191646816111716,
          0.1071863837033177,
          -1.0993467054046555,
          -1.1851231161420908,
          0.9078673017445265,
          -0.9240942974216836,
          1.1082905281639326,
          0.5761749525009726,
          -0.5528240035959081,
          -1.08319747021649,
          -0.3976494677458565,
          -0.1518796496642728,
          1.057216241490009,
          0.0864398733826944,
          0.3100534812829789,
          -0.6269403739297886,
          -0.04947723555628706,
          -0.9613648546663213,
          0.8097916556373664,
          -0.4449950508578437,
          0.1853574945940702,
          -0.40107114793418475,
          -1.003082928001767,
          -0.752919299080358,
          -0.5950415455443309,
          -0.28500485049306346,
          0.22621527955495616,
          -1.4791742950433293,
          0.0863555425022727,
          -1.477818299284184,
          0.3181940813153153,
          -1.852121414840407,
          -0.5261400848800919,
          -0.19445599174652403,
          1.2692789684904169,
          0.9994959914342512,
          0.6236723493406674,
          0.6178352553527662,
          0.01180667443335035,
          -0.7145856073326051,
          -0.21614168674591627,
          0.47703388972485505,
          0.8951840409390931,
          0.12843544193826878,
          0.5830450541273284,
          -0.5229493660653698,
          0.1806833566529037,
          1.2369892036717165,
          1.5121942236516193,
          -1.0073202348756185,
          -0.561204749188291,
          -0.20193194149857496,
          -0.08287312206897211,
          0.8298502678698525,
          1.0807107053419196,
          -0.9480437842389379,
          0.19593365881638544,
          -0.07374676095263155,
          -1.20932451397519,
          -1.431085577517493,
          1.816668237644611,
          -0.3765677734224466,
          0.7154783027959628,
          1.4930900832089968,
          0.20413077793277046,
          -1.1301792997773459,
          0.536724977053704,
          1.1284546732489456,
          -0.45357490395777833
         ],
         "xaxis": "x15",
         "y": [
          -0.4965581735356254,
          -1.3538967874345176,
          -0.17223560818573722,
          1.6231579665908973,
          1.7335446296311334,
          -0.2030650778601564,
          -0.8452123865917006,
          1.0521305282835511,
          1.0398148392863902,
          -0.050987236786020504,
          -0.57258304732208,
          0.04327595603432784,
          -1.3940547164717714,
          -0.7525124487105035,
          -0.07855624829631365,
          -1.1287941535485626,
          0.04187240456777008,
          1.4784163179354148,
          0.37467197907364774,
          -0.7017974813352993,
          -0.15403843626666303,
          -0.5716045712901606,
          -0.15591731115513588,
          1.0827404114215546,
          0.06824294928725971,
          -0.6664063407263672,
          0.058527585690782445,
          -0.9858046686548356,
          -0.6166101461902966,
          -1.1015216262366498,
          0.48213629877689473,
          0.7272580763180592,
          1.1927992467132755,
          0.007447607351678447,
          0.9569922129220856,
          -1.1567796253878748,
          -0.1064287862458562,
          0.13029253387854112,
          0.035064494826886665,
          0.007923565519073762,
          0.6666927681045107,
          -0.2975599094544142,
          0.5143305432258334,
          -0.5314002154044901,
          0.9862378459404866,
          -0.8561390311252871,
          -0.08201694272839874,
          0.658484445292848,
          -1.1019741335941395,
          1.7357110245871454,
          -0.11175638362924363,
          1.4145749280314097,
          0.0053422645864003295,
          -0.04697930289317601,
          -0.7801131973483182,
          -1.1054144127714947,
          -0.3191975559484706,
          2.1400811034734475,
          -0.28546278269794334,
          -0.026399679763879018,
          -0.13923411297599422,
          0.5953884586032037,
          -0.6078720153987348,
          0.4475031099532303,
          1.3609915633404095,
          -0.3970043698105668,
          -1.483018792788209,
          -0.5391846912785562,
          -0.9115268037798887,
          0.15120485573677836,
          1.188222846229542,
          -0.9754873702920279,
          0.6138966578280636,
          -0.7061571324872323,
          -0.03124596441063452,
          0.2649153628508299,
          -0.27760614222920704,
          1.0501757511701886,
          -1.6212716213140699,
          -0.8593940651917895,
          -0.4191976458232712,
          -0.7588387619889834,
          0.04786717019872002,
          -1.491149338625276,
          0.5932183950134358,
          0.6539229166253674,
          0.6982652058189514,
          0.6481823342092639,
          -1.0097184189627435,
          -0.7995847706776723,
          -1.1795007881349875,
          -1.2948637331231025,
          0.9988398953252201,
          0.811056302157581,
          -0.498460662658745,
          -0.28272291971528696,
          -0.5413007010612112,
          0.7831871945780672,
          -0.7738786516659488,
          -0.2820191552854569
         ],
         "yaxis": "y15"
        },
        {
         "histfunc": "count",
         "histnorm": "",
         "marker": {
          "color": "rgba(128, 0, 128, 1.0)",
          "line": {
           "color": "#4D5663",
           "width": 1.3
          }
         },
         "name": "D",
         "nbinsx": 10,
         "opacity": 0.8,
         "orientation": "v",
         "type": "histogram",
         "x": [
          -0.4965581735356254,
          -1.3538967874345176,
          -0.17223560818573722,
          1.6231579665908973,
          1.7335446296311334,
          -0.2030650778601564,
          -0.8452123865917006,
          1.0521305282835511,
          1.0398148392863902,
          -0.050987236786020504,
          -0.57258304732208,
          0.04327595603432784,
          -1.3940547164717714,
          -0.7525124487105035,
          -0.07855624829631365,
          -1.1287941535485626,
          0.04187240456777008,
          1.4784163179354148,
          0.37467197907364774,
          -0.7017974813352993,
          -0.15403843626666303,
          -0.5716045712901606,
          -0.15591731115513588,
          1.0827404114215546,
          0.06824294928725971,
          -0.6664063407263672,
          0.058527585690782445,
          -0.9858046686548356,
          -0.6166101461902966,
          -1.1015216262366498,
          0.48213629877689473,
          0.7272580763180592,
          1.1927992467132755,
          0.007447607351678447,
          0.9569922129220856,
          -1.1567796253878748,
          -0.1064287862458562,
          0.13029253387854112,
          0.035064494826886665,
          0.007923565519073762,
          0.6666927681045107,
          -0.2975599094544142,
          0.5143305432258334,
          -0.5314002154044901,
          0.9862378459404866,
          -0.8561390311252871,
          -0.08201694272839874,
          0.658484445292848,
          -1.1019741335941395,
          1.7357110245871454,
          -0.11175638362924363,
          1.4145749280314097,
          0.0053422645864003295,
          -0.04697930289317601,
          -0.7801131973483182,
          -1.1054144127714947,
          -0.3191975559484706,
          2.1400811034734475,
          -0.28546278269794334,
          -0.026399679763879018,
          -0.13923411297599422,
          0.5953884586032037,
          -0.6078720153987348,
          0.4475031099532303,
          1.3609915633404095,
          -0.3970043698105668,
          -1.483018792788209,
          -0.5391846912785562,
          -0.9115268037798887,
          0.15120485573677836,
          1.188222846229542,
          -0.9754873702920279,
          0.6138966578280636,
          -0.7061571324872323,
          -0.03124596441063452,
          0.2649153628508299,
          -0.27760614222920704,
          1.0501757511701886,
          -1.6212716213140699,
          -0.8593940651917895,
          -0.4191976458232712,
          -0.7588387619889834,
          0.04786717019872002,
          -1.491149338625276,
          0.5932183950134358,
          0.6539229166253674,
          0.6982652058189514,
          0.6481823342092639,
          -1.0097184189627435,
          -0.7995847706776723,
          -1.1795007881349875,
          -1.2948637331231025,
          0.9988398953252201,
          0.811056302157581,
          -0.498460662658745,
          -0.28272291971528696,
          -0.5413007010612112,
          0.7831871945780672,
          -0.7738786516659488,
          -0.2820191552854569
         ],
         "xaxis": "x16",
         "yaxis": "y16"
        }
       ],
       "layout": {
        "bargap": 0.02,
        "legend": {
         "bgcolor": "#F5F6F9",
         "font": {
          "color": "#4D5663"
         }
        },
        "paper_bgcolor": "#F5F6F9",
        "plot_bgcolor": "#F5F6F9",
        "showlegend": false,
        "template": {
         "data": {
          "bar": [
           {
            "error_x": {
             "color": "#2a3f5f"
            },
            "error_y": {
             "color": "#2a3f5f"
            },
            "marker": {
             "line": {
              "color": "#E5ECF6",
              "width": 0.5
             },
             "pattern": {
              "fillmode": "overlay",
              "size": 10,
              "solidity": 0.2
             }
            },
            "type": "bar"
           }
          ],
          "barpolar": [
           {
            "marker": {
             "line": {
              "color": "#E5ECF6",
              "width": 0.5
             },
             "pattern": {
              "fillmode": "overlay",
              "size": 10,
              "solidity": 0.2
             }
            },
            "type": "barpolar"
           }
          ],
          "carpet": [
           {
            "aaxis": {
             "endlinecolor": "#2a3f5f",
             "gridcolor": "white",
             "linecolor": "white",
             "minorgridcolor": "white",
             "startlinecolor": "#2a3f5f"
            },
            "baxis": {
             "endlinecolor": "#2a3f5f",
             "gridcolor": "white",
             "linecolor": "white",
             "minorgridcolor": "white",
             "startlinecolor": "#2a3f5f"
            },
            "type": "carpet"
           }
          ],
          "choropleth": [
           {
            "colorbar": {
             "outlinewidth": 0,
             "ticks": ""
            },
            "type": "choropleth"
           }
          ],
          "contour": [
           {
            "colorbar": {
             "outlinewidth": 0,
             "ticks": ""
            },
            "colorscale": [
             [
              0,
              "#0d0887"
             ],
             [
              0.1111111111111111,
              "#46039f"
             ],
             [
              0.2222222222222222,
              "#7201a8"
             ],
             [
              0.3333333333333333,
              "#9c179e"
             ],
             [
              0.4444444444444444,
              "#bd3786"
             ],
             [
              0.5555555555555556,
              "#d8576b"
             ],
             [
              0.6666666666666666,
              "#ed7953"
             ],
             [
              0.7777777777777778,
              "#fb9f3a"
             ],
             [
              0.8888888888888888,
              "#fdca26"
             ],
             [
              1,
              "#f0f921"
             ]
            ],
            "type": "contour"
           }
          ],
          "contourcarpet": [
           {
            "colorbar": {
             "outlinewidth": 0,
             "ticks": ""
            },
            "type": "contourcarpet"
           }
          ],
          "heatmap": [
           {
            "colorbar": {
             "outlinewidth": 0,
             "ticks": ""
            },
            "colorscale": [
             [
              0,
              "#0d0887"
             ],
             [
              0.1111111111111111,
              "#46039f"
             ],
             [
              0.2222222222222222,
              "#7201a8"
             ],
             [
              0.3333333333333333,
              "#9c179e"
             ],
             [
              0.4444444444444444,
              "#bd3786"
             ],
             [
              0.5555555555555556,
              "#d8576b"
             ],
             [
              0.6666666666666666,
              "#ed7953"
             ],
             [
              0.7777777777777778,
              "#fb9f3a"
             ],
             [
              0.8888888888888888,
              "#fdca26"
             ],
             [
              1,
              "#f0f921"
             ]
            ],
            "type": "heatmap"
           }
          ],
          "heatmapgl": [
           {
            "colorbar": {
             "outlinewidth": 0,
             "ticks": ""
            },
            "colorscale": [
             [
              0,
              "#0d0887"
             ],
             [
              0.1111111111111111,
              "#46039f"
             ],
             [
              0.2222222222222222,
              "#7201a8"
             ],
             [
              0.3333333333333333,
              "#9c179e"
             ],
             [
              0.4444444444444444,
              "#bd3786"
             ],
             [
              0.5555555555555556,
              "#d8576b"
             ],
             [
              0.6666666666666666,
              "#ed7953"
             ],
             [
              0.7777777777777778,
              "#fb9f3a"
             ],
             [
              0.8888888888888888,
              "#fdca26"
             ],
             [
              1,
              "#f0f921"
             ]
            ],
            "type": "heatmapgl"
           }
          ],
          "histogram": [
           {
            "marker": {
             "pattern": {
              "fillmode": "overlay",
              "size": 10,
              "solidity": 0.2
             }
            },
            "type": "histogram"
           }
          ],
          "histogram2d": [
           {
            "colorbar": {
             "outlinewidth": 0,
             "ticks": ""
            },
            "colorscale": [
             [
              0,
              "#0d0887"
             ],
             [
              0.1111111111111111,
              "#46039f"
             ],
             [
              0.2222222222222222,
              "#7201a8"
             ],
             [
              0.3333333333333333,
              "#9c179e"
             ],
             [
              0.4444444444444444,
              "#bd3786"
             ],
             [
              0.5555555555555556,
              "#d8576b"
             ],
             [
              0.6666666666666666,
              "#ed7953"
             ],
             [
              0.7777777777777778,
              "#fb9f3a"
             ],
             [
              0.8888888888888888,
              "#fdca26"
             ],
             [
              1,
              "#f0f921"
             ]
            ],
            "type": "histogram2d"
           }
          ],
          "histogram2dcontour": [
           {
            "colorbar": {
             "outlinewidth": 0,
             "ticks": ""
            },
            "colorscale": [
             [
              0,
              "#0d0887"
             ],
             [
              0.1111111111111111,
              "#46039f"
             ],
             [
              0.2222222222222222,
              "#7201a8"
             ],
             [
              0.3333333333333333,
              "#9c179e"
             ],
             [
              0.4444444444444444,
              "#bd3786"
             ],
             [
              0.5555555555555556,
              "#d8576b"
             ],
             [
              0.6666666666666666,
              "#ed7953"
             ],
             [
              0.7777777777777778,
              "#fb9f3a"
             ],
             [
              0.8888888888888888,
              "#fdca26"
             ],
             [
              1,
              "#f0f921"
             ]
            ],
            "type": "histogram2dcontour"
           }
          ],
          "mesh3d": [
           {
            "colorbar": {
             "outlinewidth": 0,
             "ticks": ""
            },
            "type": "mesh3d"
           }
          ],
          "parcoords": [
           {
            "line": {
             "colorbar": {
              "outlinewidth": 0,
              "ticks": ""
             }
            },
            "type": "parcoords"
           }
          ],
          "pie": [
           {
            "automargin": true,
            "type": "pie"
           }
          ],
          "scatter": [
           {
            "marker": {
             "colorbar": {
              "outlinewidth": 0,
              "ticks": ""
             }
            },
            "type": "scatter"
           }
          ],
          "scatter3d": [
           {
            "line": {
             "colorbar": {
              "outlinewidth": 0,
              "ticks": ""
             }
            },
            "marker": {
             "colorbar": {
              "outlinewidth": 0,
              "ticks": ""
             }
            },
            "type": "scatter3d"
           }
          ],
          "scattercarpet": [
           {
            "marker": {
             "colorbar": {
              "outlinewidth": 0,
              "ticks": ""
             }
            },
            "type": "scattercarpet"
           }
          ],
          "scattergeo": [
           {
            "marker": {
             "colorbar": {
              "outlinewidth": 0,
              "ticks": ""
             }
            },
            "type": "scattergeo"
           }
          ],
          "scattergl": [
           {
            "marker": {
             "colorbar": {
              "outlinewidth": 0,
              "ticks": ""
             }
            },
            "type": "scattergl"
           }
          ],
          "scattermapbox": [
           {
            "marker": {
             "colorbar": {
              "outlinewidth": 0,
              "ticks": ""
             }
            },
            "type": "scattermapbox"
           }
          ],
          "scatterpolar": [
           {
            "marker": {
             "colorbar": {
              "outlinewidth": 0,
              "ticks": ""
             }
            },
            "type": "scatterpolar"
           }
          ],
          "scatterpolargl": [
           {
            "marker": {
             "colorbar": {
              "outlinewidth": 0,
              "ticks": ""
             }
            },
            "type": "scatterpolargl"
           }
          ],
          "scatterternary": [
           {
            "marker": {
             "colorbar": {
              "outlinewidth": 0,
              "ticks": ""
             }
            },
            "type": "scatterternary"
           }
          ],
          "surface": [
           {
            "colorbar": {
             "outlinewidth": 0,
             "ticks": ""
            },
            "colorscale": [
             [
              0,
              "#0d0887"
             ],
             [
              0.1111111111111111,
              "#46039f"
             ],
             [
              0.2222222222222222,
              "#7201a8"
             ],
             [
              0.3333333333333333,
              "#9c179e"
             ],
             [
              0.4444444444444444,
              "#bd3786"
             ],
             [
              0.5555555555555556,
              "#d8576b"
             ],
             [
              0.6666666666666666,
              "#ed7953"
             ],
             [
              0.7777777777777778,
              "#fb9f3a"
             ],
             [
              0.8888888888888888,
              "#fdca26"
             ],
             [
              1,
              "#f0f921"
             ]
            ],
            "type": "surface"
           }
          ],
          "table": [
           {
            "cells": {
             "fill": {
              "color": "#EBF0F8"
             },
             "line": {
              "color": "white"
             }
            },
            "header": {
             "fill": {
              "color": "#C8D4E3"
             },
             "line": {
              "color": "white"
             }
            },
            "type": "table"
           }
          ]
         },
         "layout": {
          "annotationdefaults": {
           "arrowcolor": "#2a3f5f",
           "arrowhead": 0,
           "arrowwidth": 1
          },
          "autotypenumbers": "strict",
          "coloraxis": {
           "colorbar": {
            "outlinewidth": 0,
            "ticks": ""
           }
          },
          "colorscale": {
           "diverging": [
            [
             0,
             "#8e0152"
            ],
            [
             0.1,
             "#c51b7d"
            ],
            [
             0.2,
             "#de77ae"
            ],
            [
             0.3,
             "#f1b6da"
            ],
            [
             0.4,
             "#fde0ef"
            ],
            [
             0.5,
             "#f7f7f7"
            ],
            [
             0.6,
             "#e6f5d0"
            ],
            [
             0.7,
             "#b8e186"
            ],
            [
             0.8,
             "#7fbc41"
            ],
            [
             0.9,
             "#4d9221"
            ],
            [
             1,
             "#276419"
            ]
           ],
           "sequential": [
            [
             0,
             "#0d0887"
            ],
            [
             0.1111111111111111,
             "#46039f"
            ],
            [
             0.2222222222222222,
             "#7201a8"
            ],
            [
             0.3333333333333333,
             "#9c179e"
            ],
            [
             0.4444444444444444,
             "#bd3786"
            ],
            [
             0.5555555555555556,
             "#d8576b"
            ],
            [
             0.6666666666666666,
             "#ed7953"
            ],
            [
             0.7777777777777778,
             "#fb9f3a"
            ],
            [
             0.8888888888888888,
             "#fdca26"
            ],
            [
             1,
             "#f0f921"
            ]
           ],
           "sequentialminus": [
            [
             0,
             "#0d0887"
            ],
            [
             0.1111111111111111,
             "#46039f"
            ],
            [
             0.2222222222222222,
             "#7201a8"
            ],
            [
             0.3333333333333333,
             "#9c179e"
            ],
            [
             0.4444444444444444,
             "#bd3786"
            ],
            [
             0.5555555555555556,
             "#d8576b"
            ],
            [
             0.6666666666666666,
             "#ed7953"
            ],
            [
             0.7777777777777778,
             "#fb9f3a"
            ],
            [
             0.8888888888888888,
             "#fdca26"
            ],
            [
             1,
             "#f0f921"
            ]
           ]
          },
          "colorway": [
           "#636efa",
           "#EF553B",
           "#00cc96",
           "#ab63fa",
           "#FFA15A",
           "#19d3f3",
           "#FF6692",
           "#B6E880",
           "#FF97FF",
           "#FECB52"
          ],
          "font": {
           "color": "#2a3f5f"
          },
          "geo": {
           "bgcolor": "white",
           "lakecolor": "white",
           "landcolor": "#E5ECF6",
           "showlakes": true,
           "showland": true,
           "subunitcolor": "white"
          },
          "hoverlabel": {
           "align": "left"
          },
          "hovermode": "closest",
          "mapbox": {
           "style": "light"
          },
          "paper_bgcolor": "white",
          "plot_bgcolor": "#E5ECF6",
          "polar": {
           "angularaxis": {
            "gridcolor": "white",
            "linecolor": "white",
            "ticks": ""
           },
           "bgcolor": "#E5ECF6",
           "radialaxis": {
            "gridcolor": "white",
            "linecolor": "white",
            "ticks": ""
           }
          },
          "scene": {
           "xaxis": {
            "backgroundcolor": "#E5ECF6",
            "gridcolor": "white",
            "gridwidth": 2,
            "linecolor": "white",
            "showbackground": true,
            "ticks": "",
            "zerolinecolor": "white"
           },
           "yaxis": {
            "backgroundcolor": "#E5ECF6",
            "gridcolor": "white",
            "gridwidth": 2,
            "linecolor": "white",
            "showbackground": true,
            "ticks": "",
            "zerolinecolor": "white"
           },
           "zaxis": {
            "backgroundcolor": "#E5ECF6",
            "gridcolor": "white",
            "gridwidth": 2,
            "linecolor": "white",
            "showbackground": true,
            "ticks": "",
            "zerolinecolor": "white"
           }
          },
          "shapedefaults": {
           "line": {
            "color": "#2a3f5f"
           }
          },
          "ternary": {
           "aaxis": {
            "gridcolor": "white",
            "linecolor": "white",
            "ticks": ""
           },
           "baxis": {
            "gridcolor": "white",
            "linecolor": "white",
            "ticks": ""
           },
           "bgcolor": "#E5ECF6",
           "caxis": {
            "gridcolor": "white",
            "linecolor": "white",
            "ticks": ""
           }
          },
          "title": {
           "x": 0.05
          },
          "xaxis": {
           "automargin": true,
           "gridcolor": "white",
           "linecolor": "white",
           "ticks": "",
           "title": {
            "standoff": 15
           },
           "zerolinecolor": "white",
           "zerolinewidth": 2
          },
          "yaxis": {
           "automargin": true,
           "gridcolor": "white",
           "linecolor": "white",
           "ticks": "",
           "title": {
            "standoff": 15
           },
           "zerolinecolor": "white",
           "zerolinewidth": 2
          }
         }
        },
        "title": {
         "font": {
          "color": "#4D5663"
         }
        },
        "xaxis": {
         "anchor": "y",
         "domain": [
          0,
          0.2125
         ],
         "gridcolor": "#E1E5ED",
         "showgrid": false,
         "tickfont": {
          "color": "#4D5663"
         },
         "title": {
          "font": {
           "color": "#4D5663"
          },
          "text": ""
         },
         "zerolinecolor": "#E1E5ED"
        },
        "xaxis10": {
         "anchor": "y10",
         "domain": [
          0.2625,
          0.475
         ],
         "gridcolor": "#E1E5ED",
         "showgrid": false,
         "tickfont": {
          "color": "#4D5663"
         },
         "title": {
          "font": {
           "color": "#4D5663"
          },
          "text": ""
         },
         "zerolinecolor": "#E1E5ED"
        },
        "xaxis11": {
         "anchor": "y11",
         "domain": [
          0.525,
          0.7375
         ],
         "gridcolor": "#E1E5ED",
         "showgrid": false,
         "tickfont": {
          "color": "#4D5663"
         },
         "title": {
          "font": {
           "color": "#4D5663"
          },
          "text": ""
         },
         "zerolinecolor": "#E1E5ED"
        },
        "xaxis12": {
         "anchor": "y12",
         "domain": [
          0.7875,
          1
         ],
         "gridcolor": "#E1E5ED",
         "showgrid": false,
         "tickfont": {
          "color": "#4D5663"
         },
         "title": {
          "font": {
           "color": "#4D5663"
          },
          "text": ""
         },
         "zerolinecolor": "#E1E5ED"
        },
        "xaxis13": {
         "anchor": "y13",
         "domain": [
          0,
          0.2125
         ],
         "gridcolor": "#E1E5ED",
         "showgrid": false,
         "tickfont": {
          "color": "#4D5663"
         },
         "title": {
          "font": {
           "color": "#4D5663"
          },
          "text": ""
         },
         "zerolinecolor": "#E1E5ED"
        },
        "xaxis14": {
         "anchor": "y14",
         "domain": [
          0.2625,
          0.475
         ],
         "gridcolor": "#E1E5ED",
         "showgrid": false,
         "tickfont": {
          "color": "#4D5663"
         },
         "title": {
          "font": {
           "color": "#4D5663"
          },
          "text": ""
         },
         "zerolinecolor": "#E1E5ED"
        },
        "xaxis15": {
         "anchor": "y15",
         "domain": [
          0.525,
          0.7375
         ],
         "gridcolor": "#E1E5ED",
         "showgrid": false,
         "tickfont": {
          "color": "#4D5663"
         },
         "title": {
          "font": {
           "color": "#4D5663"
          },
          "text": ""
         },
         "zerolinecolor": "#E1E5ED"
        },
        "xaxis16": {
         "anchor": "y16",
         "domain": [
          0.7875,
          1
         ],
         "gridcolor": "#E1E5ED",
         "showgrid": false,
         "tickfont": {
          "color": "#4D5663"
         },
         "title": {
          "font": {
           "color": "#4D5663"
          },
          "text": ""
         },
         "zerolinecolor": "#E1E5ED"
        },
        "xaxis2": {
         "anchor": "y2",
         "domain": [
          0.2625,
          0.475
         ],
         "gridcolor": "#E1E5ED",
         "showgrid": false,
         "tickfont": {
          "color": "#4D5663"
         },
         "title": {
          "font": {
           "color": "#4D5663"
          },
          "text": ""
         },
         "zerolinecolor": "#E1E5ED"
        },
        "xaxis3": {
         "anchor": "y3",
         "domain": [
          0.525,
          0.7375
         ],
         "gridcolor": "#E1E5ED",
         "showgrid": false,
         "tickfont": {
          "color": "#4D5663"
         },
         "title": {
          "font": {
           "color": "#4D5663"
          },
          "text": ""
         },
         "zerolinecolor": "#E1E5ED"
        },
        "xaxis4": {
         "anchor": "y4",
         "domain": [
          0.7875,
          1
         ],
         "gridcolor": "#E1E5ED",
         "showgrid": false,
         "tickfont": {
          "color": "#4D5663"
         },
         "title": {
          "font": {
           "color": "#4D5663"
          },
          "text": ""
         },
         "zerolinecolor": "#E1E5ED"
        },
        "xaxis5": {
         "anchor": "y5",
         "domain": [
          0,
          0.2125
         ],
         "gridcolor": "#E1E5ED",
         "showgrid": false,
         "tickfont": {
          "color": "#4D5663"
         },
         "title": {
          "font": {
           "color": "#4D5663"
          },
          "text": ""
         },
         "zerolinecolor": "#E1E5ED"
        },
        "xaxis6": {
         "anchor": "y6",
         "domain": [
          0.2625,
          0.475
         ],
         "gridcolor": "#E1E5ED",
         "showgrid": false,
         "tickfont": {
          "color": "#4D5663"
         },
         "title": {
          "font": {
           "color": "#4D5663"
          },
          "text": ""
         },
         "zerolinecolor": "#E1E5ED"
        },
        "xaxis7": {
         "anchor": "y7",
         "domain": [
          0.525,
          0.7375
         ],
         "gridcolor": "#E1E5ED",
         "showgrid": false,
         "tickfont": {
          "color": "#4D5663"
         },
         "title": {
          "font": {
           "color": "#4D5663"
          },
          "text": ""
         },
         "zerolinecolor": "#E1E5ED"
        },
        "xaxis8": {
         "anchor": "y8",
         "domain": [
          0.7875,
          1
         ],
         "gridcolor": "#E1E5ED",
         "showgrid": false,
         "tickfont": {
          "color": "#4D5663"
         },
         "title": {
          "font": {
           "color": "#4D5663"
          },
          "text": ""
         },
         "zerolinecolor": "#E1E5ED"
        },
        "xaxis9": {
         "anchor": "y9",
         "domain": [
          0,
          0.2125
         ],
         "gridcolor": "#E1E5ED",
         "showgrid": false,
         "tickfont": {
          "color": "#4D5663"
         },
         "title": {
          "font": {
           "color": "#4D5663"
          },
          "text": ""
         },
         "zerolinecolor": "#E1E5ED"
        },
        "yaxis": {
         "anchor": "x",
         "domain": [
          0.8025,
          1
         ],
         "gridcolor": "#E1E5ED",
         "showgrid": false,
         "tickfont": {
          "color": "#4D5663"
         },
         "title": {
          "font": {
           "color": "#4D5663"
          },
          "text": ""
         },
         "zerolinecolor": "#E1E5ED"
        },
        "yaxis10": {
         "anchor": "x10",
         "domain": [
          0.2675,
          0.465
         ],
         "gridcolor": "#E1E5ED",
         "showgrid": false,
         "tickfont": {
          "color": "#4D5663"
         },
         "title": {
          "font": {
           "color": "#4D5663"
          },
          "text": ""
         },
         "zerolinecolor": "#E1E5ED"
        },
        "yaxis11": {
         "anchor": "x11",
         "domain": [
          0.2675,
          0.465
         ],
         "gridcolor": "#E1E5ED",
         "showgrid": false,
         "tickfont": {
          "color": "#4D5663"
         },
         "title": {
          "font": {
           "color": "#4D5663"
          },
          "text": ""
         },
         "zerolinecolor": "#E1E5ED"
        },
        "yaxis12": {
         "anchor": "x12",
         "domain": [
          0.2675,
          0.465
         ],
         "gridcolor": "#E1E5ED",
         "showgrid": false,
         "tickfont": {
          "color": "#4D5663"
         },
         "title": {
          "font": {
           "color": "#4D5663"
          },
          "text": ""
         },
         "zerolinecolor": "#E1E5ED"
        },
        "yaxis13": {
         "anchor": "x13",
         "domain": [
          0,
          0.1975
         ],
         "gridcolor": "#E1E5ED",
         "showgrid": false,
         "tickfont": {
          "color": "#4D5663"
         },
         "title": {
          "font": {
           "color": "#4D5663"
          },
          "text": ""
         },
         "zerolinecolor": "#E1E5ED"
        },
        "yaxis14": {
         "anchor": "x14",
         "domain": [
          0,
          0.1975
         ],
         "gridcolor": "#E1E5ED",
         "showgrid": false,
         "tickfont": {
          "color": "#4D5663"
         },
         "title": {
          "font": {
           "color": "#4D5663"
          },
          "text": ""
         },
         "zerolinecolor": "#E1E5ED"
        },
        "yaxis15": {
         "anchor": "x15",
         "domain": [
          0,
          0.1975
         ],
         "gridcolor": "#E1E5ED",
         "showgrid": false,
         "tickfont": {
          "color": "#4D5663"
         },
         "title": {
          "font": {
           "color": "#4D5663"
          },
          "text": ""
         },
         "zerolinecolor": "#E1E5ED"
        },
        "yaxis16": {
         "anchor": "x16",
         "domain": [
          0,
          0.1975
         ],
         "gridcolor": "#E1E5ED",
         "showgrid": false,
         "tickfont": {
          "color": "#4D5663"
         },
         "title": {
          "font": {
           "color": "#4D5663"
          },
          "text": ""
         },
         "zerolinecolor": "#E1E5ED"
        },
        "yaxis2": {
         "anchor": "x2",
         "domain": [
          0.8025,
          1
         ],
         "gridcolor": "#E1E5ED",
         "showgrid": false,
         "tickfont": {
          "color": "#4D5663"
         },
         "title": {
          "font": {
           "color": "#4D5663"
          },
          "text": ""
         },
         "zerolinecolor": "#E1E5ED"
        },
        "yaxis3": {
         "anchor": "x3",
         "domain": [
          0.8025,
          1
         ],
         "gridcolor": "#E1E5ED",
         "showgrid": false,
         "tickfont": {
          "color": "#4D5663"
         },
         "title": {
          "font": {
           "color": "#4D5663"
          },
          "text": ""
         },
         "zerolinecolor": "#E1E5ED"
        },
        "yaxis4": {
         "anchor": "x4",
         "domain": [
          0.8025,
          1
         ],
         "gridcolor": "#E1E5ED",
         "showgrid": false,
         "tickfont": {
          "color": "#4D5663"
         },
         "title": {
          "font": {
           "color": "#4D5663"
          },
          "text": ""
         },
         "zerolinecolor": "#E1E5ED"
        },
        "yaxis5": {
         "anchor": "x5",
         "domain": [
          0.535,
          0.7325
         ],
         "gridcolor": "#E1E5ED",
         "showgrid": false,
         "tickfont": {
          "color": "#4D5663"
         },
         "title": {
          "font": {
           "color": "#4D5663"
          },
          "text": ""
         },
         "zerolinecolor": "#E1E5ED"
        },
        "yaxis6": {
         "anchor": "x6",
         "domain": [
          0.535,
          0.7325
         ],
         "gridcolor": "#E1E5ED",
         "showgrid": false,
         "tickfont": {
          "color": "#4D5663"
         },
         "title": {
          "font": {
           "color": "#4D5663"
          },
          "text": ""
         },
         "zerolinecolor": "#E1E5ED"
        },
        "yaxis7": {
         "anchor": "x7",
         "domain": [
          0.535,
          0.7325
         ],
         "gridcolor": "#E1E5ED",
         "showgrid": false,
         "tickfont": {
          "color": "#4D5663"
         },
         "title": {
          "font": {
           "color": "#4D5663"
          },
          "text": ""
         },
         "zerolinecolor": "#E1E5ED"
        },
        "yaxis8": {
         "anchor": "x8",
         "domain": [
          0.535,
          0.7325
         ],
         "gridcolor": "#E1E5ED",
         "showgrid": false,
         "tickfont": {
          "color": "#4D5663"
         },
         "title": {
          "font": {
           "color": "#4D5663"
          },
          "text": ""
         },
         "zerolinecolor": "#E1E5ED"
        },
        "yaxis9": {
         "anchor": "x9",
         "domain": [
          0.2675,
          0.465
         ],
         "gridcolor": "#E1E5ED",
         "showgrid": false,
         "tickfont": {
          "color": "#4D5663"
         },
         "title": {
          "font": {
           "color": "#4D5663"
          },
          "text": ""
         },
         "zerolinecolor": "#E1E5ED"
        }
       }
      },
      "text/html": [
       "<div>                            <div id=\"ea44185a-b1e4-44cd-97d6-41718ce7635d\" class=\"plotly-graph-div\" style=\"height:525px; width:100%;\"></div>            <script type=\"text/javascript\">                require([\"plotly\"], function(Plotly) {                    window.PLOTLYENV=window.PLOTLYENV || {};\n",
       "                    window.PLOTLYENV.BASE_URL='https://plot.ly';                                    if (document.getElementById(\"ea44185a-b1e4-44cd-97d6-41718ce7635d\")) {                    Plotly.newPlot(                        \"ea44185a-b1e4-44cd-97d6-41718ce7635d\",                        [{\"histfunc\":\"count\",\"histnorm\":\"\",\"marker\":{\"color\":\"rgba(255, 153, 51, 1.0)\",\"line\":{\"color\":\"#4D5663\",\"width\":1.3}},\"name\":\"A\",\"nbinsx\":10,\"opacity\":0.8,\"orientation\":\"v\",\"x\":[-1.727725252579994,-0.6523954972283168,1.7111687573755276,1.8854926884160432,0.2797752300463759,-0.12278394235318713,-2.4629864633042837,-0.78629519698013,1.5013687819523045,0.5778433356227098,-2.1250130799216187,0.3074884774377496,-0.39557538193393044,-0.7210189703241677,0.6061344398049183,0.7253202601114827,0.7539556248165138,-0.6899826023857759,-1.9861820267153667,2.4724627179818857,-1.4921740674205082,0.21778649632986308,-1.2225982276441731,0.3022845411813817,0.5009163667793719,-0.27518666748581294,0.3332232948659106,0.5530183129927184,2.1813543514946936,2.3674713894348414,0.4040344645695381,0.1038752830651099,0.8189814485190792,0.6565628023965491,0.9649713911033581,0.4770077483354942,-1.1877719893116574,-0.3185818235127667,-0.4156429945784772,0.09263219619292881,1.1664812938353366,-1.664581973843618,0.8941099556511569,-0.059261618500232864,-0.42899090930167383,1.4204537434359545,-1.9614667808680513,0.5392218409350615,0.47024725448087334,1.1467256719334287,0.6683405973503002,-0.1653528442340094,0.2720390477214452,-0.6859510913281808,0.873018803874626,-0.4897179349388602,0.2791268821380968,-0.01369544344158681,0.9219045630189825,-0.17979824847298675,-1.4115107328459895,-0.4411751400820583,-0.13716549658502647,1.0502522594862551,-0.19931089910380348,1.2830450947207823,-0.7369514961753213,-0.43860412360855694,1.0940477429003814,0.8058780282388065,-0.2924536277044239,2.852728649349453,0.04370968310871116,-0.8464521149500591,2.28771812749006,0.010509765405440371,-1.4659896454578434,0.36111835740287185,1.080204647892336,0.21540806709294769,-1.2746246503442467,-0.7772846266240038,1.0151964174987262,-0.06308949328548494,0.6685557331125359,1.613021300620463,0.47658038207031683,-0.0906659850021094,-0.2727332447383256,-1.1830977459293435,1.5018775786963818,1.1466140817409018,-0.5606275116117502,-0.10446970457486329,0.3496968132069453,-0.6288080145360863,0.17515626102678597,0.4300673887181837,-0.1627117716049884,-1.1241376448948244],\"xaxis\":\"x\",\"yaxis\":\"y\",\"type\":\"histogram\"},{\"line\":{\"color\":\"rgba(128, 128, 128, 1.0)\",\"dash\":\"solid\",\"shape\":\"linear\",\"width\":1.3},\"marker\":{\"size\":2,\"symbol\":\"circle\"},\"mode\":\"markers\",\"name\":\"A\",\"text\":\"\",\"x\":[-0.35927390814104476,0.27484927832288925,-1.8402446516963689,0.4198969961056575,0.4408799218403844,-0.665006993082131,0.46215986015186405,0.5573938040479566,0.6821486464071536,-0.43277368434188607,-1.2513044483714728,-0.11800881518163064,0.4836095280558225,0.7198624924810973,0.769734040934067,0.32344267033603896,-0.5870259090687044,1.3764179686571287,0.5414625905049074,-0.598832443850317,-0.3195569510147842,1.2187240035662579,1.7219914761158468,1.0019398201832288,1.2712216685342188,-0.15169413108128366,-2.0769689079471245,-0.24617444450180453,0.2170377560005709,-0.2729310917822944,1.0580304337908448,0.49066385442413696,-0.0634690171707887,0.8761236894078324,-1.156182292111743,-1.7239496549607745,0.39963598889609775,-1.2405253270562735,-1.0844575996887613,0.9674204439722415,-2.3541883593272517,0.8451426886740392,0.48949596951889196,-1.048367046734212,-1.7815751279077898,0.09603552656022948,1.022949626357811,-1.0023988657385754,1.426874982960192,1.3283805405466318,-0.6826435013929715,-0.06948124309346751,1.197488186443602,1.2254917825595262,-1.0980833401848957,-1.2936343077373555,1.1510079929317878,0.8458703244821476,-1.2145888081746545,-0.8788190625374599,-1.5966273166290912,-0.7875422511564634,-0.1341321161518695,-1.4763238379407928,0.20797838521634457,-0.8900356418694271,-0.03371763647518824,0.7039356095584622,0.04616317679909543,0.6189737947401249,-0.020343437881330532,0.5241198908709517,-0.7207502317444129,-0.5982659043959154,-0.9178947753869992,1.2093861312135417,0.8309601781784342,0.5021465962618618,0.7693337137248092,0.8802821133026897,0.8837223679022095,0.4640030703367322,0.4763622196705976,1.4159694950025428,-0.29871965306664355,-0.8294071562311018,2.3446506464640398,-1.8637575195725096,-0.9628217613471104,-0.8981321973001141,-1.2529064074869203,-0.9883955824352328,0.3543575984448734,-0.9402400967736599,0.27223807132119077,-2.1523011662984852,1.692728902747629,-1.41854939516216,-0.2837856089408107,-2.0512938927588813],\"xaxis\":\"x2\",\"y\":[-1.727725252579994,-0.6523954972283168,1.7111687573755276,1.8854926884160432,0.2797752300463759,-0.12278394235318713,-2.4629864633042837,-0.78629519698013,1.5013687819523045,0.5778433356227098,-2.1250130799216187,0.3074884774377496,-0.39557538193393044,-0.7210189703241677,0.6061344398049183,0.7253202601114827,0.7539556248165138,-0.6899826023857759,-1.9861820267153667,2.4724627179818857,-1.4921740674205082,0.21778649632986308,-1.2225982276441731,0.3022845411813817,0.5009163667793719,-0.27518666748581294,0.3332232948659106,0.5530183129927184,2.1813543514946936,2.3674713894348414,0.4040344645695381,0.1038752830651099,0.8189814485190792,0.6565628023965491,0.9649713911033581,0.4770077483354942,-1.1877719893116574,-0.3185818235127667,-0.4156429945784772,0.09263219619292881,1.1664812938353366,-1.664581973843618,0.8941099556511569,-0.059261618500232864,-0.42899090930167383,1.4204537434359545,-1.9614667808680513,0.5392218409350615,0.47024725448087334,1.1467256719334287,0.6683405973503002,-0.1653528442340094,0.2720390477214452,-0.6859510913281808,0.873018803874626,-0.4897179349388602,0.2791268821380968,-0.01369544344158681,0.9219045630189825,-0.17979824847298675,-1.4115107328459895,-0.4411751400820583,-0.13716549658502647,1.0502522594862551,-0.19931089910380348,1.2830450947207823,-0.7369514961753213,-0.43860412360855694,1.0940477429003814,0.8058780282388065,-0.2924536277044239,2.852728649349453,0.04370968310871116,-0.8464521149500591,2.28771812749006,0.010509765405440371,-1.4659896454578434,0.36111835740287185,1.080204647892336,0.21540806709294769,-1.2746246503442467,-0.7772846266240038,1.0151964174987262,-0.06308949328548494,0.6685557331125359,1.613021300620463,0.47658038207031683,-0.0906659850021094,-0.2727332447383256,-1.1830977459293435,1.5018775786963818,1.1466140817409018,-0.5606275116117502,-0.10446970457486329,0.3496968132069453,-0.6288080145360863,0.17515626102678597,0.4300673887181837,-0.1627117716049884,-1.1241376448948244],\"yaxis\":\"y2\",\"type\":\"scatter\"},{\"line\":{\"color\":\"rgba(128, 128, 128, 1.0)\",\"dash\":\"solid\",\"shape\":\"linear\",\"width\":1.3},\"marker\":{\"size\":2,\"symbol\":\"circle\"},\"mode\":\"markers\",\"name\":\"A\",\"text\":\"\",\"x\":[-0.8576600851820129,-0.5750127788884318,0.05443737876004868,0.7852219652757143,-0.4815487628257627,0.04459261934043061,-0.06139117924853256,0.20633355242056056,0.3062438902586826,1.3296776414925178,-0.7677373671277309,-0.006243911503915224,1.1498310264509497,0.18172294440474673,-0.19866413611852404,-0.8526807024276805,0.699245848585638,2.3023684100320927,-0.9026964338652707,-2.126841132369603,-0.842454782703909,0.6287313876116941,0.6682264230511928,-0.1769443401341622,0.26285762319922845,-1.9182082898691377,-0.35284934610786284,0.10958556503104956,-0.39624950688927235,0.31471637953316495,-0.6383841995137576,2.1191646816111716,0.1071863837033177,-1.0993467054046555,-1.1851231161420908,0.9078673017445265,-0.9240942974216836,1.1082905281639326,0.5761749525009726,-0.5528240035959081,-1.08319747021649,-0.3976494677458565,-0.1518796496642728,1.057216241490009,0.0864398733826944,0.3100534812829789,-0.6269403739297886,-0.04947723555628706,-0.9613648546663213,0.8097916556373664,-0.4449950508578437,0.1853574945940702,-0.40107114793418475,-1.003082928001767,-0.752919299080358,-0.5950415455443309,-0.28500485049306346,0.22621527955495616,-1.4791742950433293,0.0863555425022727,-1.477818299284184,0.3181940813153153,-1.852121414840407,-0.5261400848800919,-0.19445599174652403,1.2692789684904169,0.9994959914342512,0.6236723493406674,0.6178352553527662,0.01180667443335035,-0.7145856073326051,-0.21614168674591627,0.47703388972485505,0.8951840409390931,0.12843544193826878,0.5830450541273284,-0.5229493660653698,0.1806833566529037,1.2369892036717165,1.5121942236516193,-1.0073202348756185,-0.561204749188291,-0.20193194149857496,-0.08287312206897211,0.8298502678698525,1.0807107053419196,-0.9480437842389379,0.19593365881638544,-0.07374676095263155,-1.20932451397519,-1.431085577517493,1.816668237644611,-0.3765677734224466,0.7154783027959628,1.4930900832089968,0.20413077793277046,-1.1301792997773459,0.536724977053704,1.1284546732489456,-0.45357490395777833],\"xaxis\":\"x3\",\"y\":[-1.727725252579994,-0.6523954972283168,1.7111687573755276,1.8854926884160432,0.2797752300463759,-0.12278394235318713,-2.4629864633042837,-0.78629519698013,1.5013687819523045,0.5778433356227098,-2.1250130799216187,0.3074884774377496,-0.39557538193393044,-0.7210189703241677,0.6061344398049183,0.7253202601114827,0.7539556248165138,-0.6899826023857759,-1.9861820267153667,2.4724627179818857,-1.4921740674205082,0.21778649632986308,-1.2225982276441731,0.3022845411813817,0.5009163667793719,-0.27518666748581294,0.3332232948659106,0.5530183129927184,2.1813543514946936,2.3674713894348414,0.4040344645695381,0.1038752830651099,0.8189814485190792,0.6565628023965491,0.9649713911033581,0.4770077483354942,-1.1877719893116574,-0.3185818235127667,-0.4156429945784772,0.09263219619292881,1.1664812938353366,-1.664581973843618,0.8941099556511569,-0.059261618500232864,-0.42899090930167383,1.4204537434359545,-1.9614667808680513,0.5392218409350615,0.47024725448087334,1.1467256719334287,0.6683405973503002,-0.1653528442340094,0.2720390477214452,-0.6859510913281808,0.873018803874626,-0.4897179349388602,0.2791268821380968,-0.01369544344158681,0.9219045630189825,-0.17979824847298675,-1.4115107328459895,-0.4411751400820583,-0.13716549658502647,1.0502522594862551,-0.19931089910380348,1.2830450947207823,-0.7369514961753213,-0.43860412360855694,1.0940477429003814,0.8058780282388065,-0.2924536277044239,2.852728649349453,0.04370968310871116,-0.8464521149500591,2.28771812749006,0.010509765405440371,-1.4659896454578434,0.36111835740287185,1.080204647892336,0.21540806709294769,-1.2746246503442467,-0.7772846266240038,1.0151964174987262,-0.06308949328548494,0.6685557331125359,1.613021300620463,0.47658038207031683,-0.0906659850021094,-0.2727332447383256,-1.1830977459293435,1.5018775786963818,1.1466140817409018,-0.5606275116117502,-0.10446970457486329,0.3496968132069453,-0.6288080145360863,0.17515626102678597,0.4300673887181837,-0.1627117716049884,-1.1241376448948244],\"yaxis\":\"y3\",\"type\":\"scatter\"},{\"line\":{\"color\":\"rgba(128, 128, 128, 1.0)\",\"dash\":\"solid\",\"shape\":\"linear\",\"width\":1.3},\"marker\":{\"size\":2,\"symbol\":\"circle\"},\"mode\":\"markers\",\"name\":\"A\",\"text\":\"\",\"x\":[-0.4965581735356254,-1.3538967874345176,-0.17223560818573722,1.6231579665908973,1.7335446296311334,-0.2030650778601564,-0.8452123865917006,1.0521305282835511,1.0398148392863902,-0.050987236786020504,-0.57258304732208,0.04327595603432784,-1.3940547164717714,-0.7525124487105035,-0.07855624829631365,-1.1287941535485626,0.04187240456777008,1.4784163179354148,0.37467197907364774,-0.7017974813352993,-0.15403843626666303,-0.5716045712901606,-0.15591731115513588,1.0827404114215546,0.06824294928725971,-0.6664063407263672,0.058527585690782445,-0.9858046686548356,-0.6166101461902966,-1.1015216262366498,0.48213629877689473,0.7272580763180592,1.1927992467132755,0.007447607351678447,0.9569922129220856,-1.1567796253878748,-0.1064287862458562,0.13029253387854112,0.035064494826886665,0.007923565519073762,0.6666927681045107,-0.2975599094544142,0.5143305432258334,-0.5314002154044901,0.9862378459404866,-0.8561390311252871,-0.08201694272839874,0.658484445292848,-1.1019741335941395,1.7357110245871454,-0.11175638362924363,1.4145749280314097,0.0053422645864003295,-0.04697930289317601,-0.7801131973483182,-1.1054144127714947,-0.3191975559484706,2.1400811034734475,-0.28546278269794334,-0.026399679763879018,-0.13923411297599422,0.5953884586032037,-0.6078720153987348,0.4475031099532303,1.3609915633404095,-0.3970043698105668,-1.483018792788209,-0.5391846912785562,-0.9115268037798887,0.15120485573677836,1.188222846229542,-0.9754873702920279,0.6138966578280636,-0.7061571324872323,-0.03124596441063452,0.2649153628508299,-0.27760614222920704,1.0501757511701886,-1.6212716213140699,-0.8593940651917895,-0.4191976458232712,-0.7588387619889834,0.04786717019872002,-1.491149338625276,0.5932183950134358,0.6539229166253674,0.6982652058189514,0.6481823342092639,-1.0097184189627435,-0.7995847706776723,-1.1795007881349875,-1.2948637331231025,0.9988398953252201,0.811056302157581,-0.498460662658745,-0.28272291971528696,-0.5413007010612112,0.7831871945780672,-0.7738786516659488,-0.2820191552854569],\"xaxis\":\"x4\",\"y\":[-1.727725252579994,-0.6523954972283168,1.7111687573755276,1.8854926884160432,0.2797752300463759,-0.12278394235318713,-2.4629864633042837,-0.78629519698013,1.5013687819523045,0.5778433356227098,-2.1250130799216187,0.3074884774377496,-0.39557538193393044,-0.7210189703241677,0.6061344398049183,0.7253202601114827,0.7539556248165138,-0.6899826023857759,-1.9861820267153667,2.4724627179818857,-1.4921740674205082,0.21778649632986308,-1.2225982276441731,0.3022845411813817,0.5009163667793719,-0.27518666748581294,0.3332232948659106,0.5530183129927184,2.1813543514946936,2.3674713894348414,0.4040344645695381,0.1038752830651099,0.8189814485190792,0.6565628023965491,0.9649713911033581,0.4770077483354942,-1.1877719893116574,-0.3185818235127667,-0.4156429945784772,0.09263219619292881,1.1664812938353366,-1.664581973843618,0.8941099556511569,-0.059261618500232864,-0.42899090930167383,1.4204537434359545,-1.9614667808680513,0.5392218409350615,0.47024725448087334,1.1467256719334287,0.6683405973503002,-0.1653528442340094,0.2720390477214452,-0.6859510913281808,0.873018803874626,-0.4897179349388602,0.2791268821380968,-0.01369544344158681,0.9219045630189825,-0.17979824847298675,-1.4115107328459895,-0.4411751400820583,-0.13716549658502647,1.0502522594862551,-0.19931089910380348,1.2830450947207823,-0.7369514961753213,-0.43860412360855694,1.0940477429003814,0.8058780282388065,-0.2924536277044239,2.852728649349453,0.04370968310871116,-0.8464521149500591,2.28771812749006,0.010509765405440371,-1.4659896454578434,0.36111835740287185,1.080204647892336,0.21540806709294769,-1.2746246503442467,-0.7772846266240038,1.0151964174987262,-0.06308949328548494,0.6685557331125359,1.613021300620463,0.47658038207031683,-0.0906659850021094,-0.2727332447383256,-1.1830977459293435,1.5018775786963818,1.1466140817409018,-0.5606275116117502,-0.10446970457486329,0.3496968132069453,-0.6288080145360863,0.17515626102678597,0.4300673887181837,-0.1627117716049884,-1.1241376448948244],\"yaxis\":\"y4\",\"type\":\"scatter\"},{\"line\":{\"color\":\"rgba(128, 128, 128, 1.0)\",\"dash\":\"solid\",\"shape\":\"linear\",\"width\":1.3},\"marker\":{\"size\":2,\"symbol\":\"circle\"},\"mode\":\"markers\",\"name\":\"B\",\"text\":\"\",\"x\":[-1.727725252579994,-0.6523954972283168,1.7111687573755276,1.8854926884160432,0.2797752300463759,-0.12278394235318713,-2.4629864633042837,-0.78629519698013,1.5013687819523045,0.5778433356227098,-2.1250130799216187,0.3074884774377496,-0.39557538193393044,-0.7210189703241677,0.6061344398049183,0.7253202601114827,0.7539556248165138,-0.6899826023857759,-1.9861820267153667,2.4724627179818857,-1.4921740674205082,0.21778649632986308,-1.2225982276441731,0.3022845411813817,0.5009163667793719,-0.27518666748581294,0.3332232948659106,0.5530183129927184,2.1813543514946936,2.3674713894348414,0.4040344645695381,0.1038752830651099,0.8189814485190792,0.6565628023965491,0.9649713911033581,0.4770077483354942,-1.1877719893116574,-0.3185818235127667,-0.4156429945784772,0.09263219619292881,1.1664812938353366,-1.664581973843618,0.8941099556511569,-0.059261618500232864,-0.42899090930167383,1.4204537434359545,-1.9614667808680513,0.5392218409350615,0.47024725448087334,1.1467256719334287,0.6683405973503002,-0.1653528442340094,0.2720390477214452,-0.6859510913281808,0.873018803874626,-0.4897179349388602,0.2791268821380968,-0.01369544344158681,0.9219045630189825,-0.17979824847298675,-1.4115107328459895,-0.4411751400820583,-0.13716549658502647,1.0502522594862551,-0.19931089910380348,1.2830450947207823,-0.7369514961753213,-0.43860412360855694,1.0940477429003814,0.8058780282388065,-0.2924536277044239,2.852728649349453,0.04370968310871116,-0.8464521149500591,2.28771812749006,0.010509765405440371,-1.4659896454578434,0.36111835740287185,1.080204647892336,0.21540806709294769,-1.2746246503442467,-0.7772846266240038,1.0151964174987262,-0.06308949328548494,0.6685557331125359,1.613021300620463,0.47658038207031683,-0.0906659850021094,-0.2727332447383256,-1.1830977459293435,1.5018775786963818,1.1466140817409018,-0.5606275116117502,-0.10446970457486329,0.3496968132069453,-0.6288080145360863,0.17515626102678597,0.4300673887181837,-0.1627117716049884,-1.1241376448948244],\"xaxis\":\"x5\",\"y\":[-0.35927390814104476,0.27484927832288925,-1.8402446516963689,0.4198969961056575,0.4408799218403844,-0.665006993082131,0.46215986015186405,0.5573938040479566,0.6821486464071536,-0.43277368434188607,-1.2513044483714728,-0.11800881518163064,0.4836095280558225,0.7198624924810973,0.769734040934067,0.32344267033603896,-0.5870259090687044,1.3764179686571287,0.5414625905049074,-0.598832443850317,-0.3195569510147842,1.2187240035662579,1.7219914761158468,1.0019398201832288,1.2712216685342188,-0.15169413108128366,-2.0769689079471245,-0.24617444450180453,0.2170377560005709,-0.2729310917822944,1.0580304337908448,0.49066385442413696,-0.0634690171707887,0.8761236894078324,-1.156182292111743,-1.7239496549607745,0.39963598889609775,-1.2405253270562735,-1.0844575996887613,0.9674204439722415,-2.3541883593272517,0.8451426886740392,0.48949596951889196,-1.048367046734212,-1.7815751279077898,0.09603552656022948,1.022949626357811,-1.0023988657385754,1.426874982960192,1.3283805405466318,-0.6826435013929715,-0.06948124309346751,1.197488186443602,1.2254917825595262,-1.0980833401848957,-1.2936343077373555,1.1510079929317878,0.8458703244821476,-1.2145888081746545,-0.8788190625374599,-1.5966273166290912,-0.7875422511564634,-0.1341321161518695,-1.4763238379407928,0.20797838521634457,-0.8900356418694271,-0.03371763647518824,0.7039356095584622,0.04616317679909543,0.6189737947401249,-0.020343437881330532,0.5241198908709517,-0.7207502317444129,-0.5982659043959154,-0.9178947753869992,1.2093861312135417,0.8309601781784342,0.5021465962618618,0.7693337137248092,0.8802821133026897,0.8837223679022095,0.4640030703367322,0.4763622196705976,1.4159694950025428,-0.29871965306664355,-0.8294071562311018,2.3446506464640398,-1.8637575195725096,-0.9628217613471104,-0.8981321973001141,-1.2529064074869203,-0.9883955824352328,0.3543575984448734,-0.9402400967736599,0.27223807132119077,-2.1523011662984852,1.692728902747629,-1.41854939516216,-0.2837856089408107,-2.0512938927588813],\"yaxis\":\"y5\",\"type\":\"scatter\"},{\"histfunc\":\"count\",\"histnorm\":\"\",\"marker\":{\"color\":\"rgba(55, 128, 191, 1.0)\",\"line\":{\"color\":\"#4D5663\",\"width\":1.3}},\"name\":\"B\",\"nbinsx\":10,\"opacity\":0.8,\"orientation\":\"v\",\"x\":[-0.35927390814104476,0.27484927832288925,-1.8402446516963689,0.4198969961056575,0.4408799218403844,-0.665006993082131,0.46215986015186405,0.5573938040479566,0.6821486464071536,-0.43277368434188607,-1.2513044483714728,-0.11800881518163064,0.4836095280558225,0.7198624924810973,0.769734040934067,0.32344267033603896,-0.5870259090687044,1.3764179686571287,0.5414625905049074,-0.598832443850317,-0.3195569510147842,1.2187240035662579,1.7219914761158468,1.0019398201832288,1.2712216685342188,-0.15169413108128366,-2.0769689079471245,-0.24617444450180453,0.2170377560005709,-0.2729310917822944,1.0580304337908448,0.49066385442413696,-0.0634690171707887,0.8761236894078324,-1.156182292111743,-1.7239496549607745,0.39963598889609775,-1.2405253270562735,-1.0844575996887613,0.9674204439722415,-2.3541883593272517,0.8451426886740392,0.48949596951889196,-1.048367046734212,-1.7815751279077898,0.09603552656022948,1.022949626357811,-1.0023988657385754,1.426874982960192,1.3283805405466318,-0.6826435013929715,-0.06948124309346751,1.197488186443602,1.2254917825595262,-1.0980833401848957,-1.2936343077373555,1.1510079929317878,0.8458703244821476,-1.2145888081746545,-0.8788190625374599,-1.5966273166290912,-0.7875422511564634,-0.1341321161518695,-1.4763238379407928,0.20797838521634457,-0.8900356418694271,-0.03371763647518824,0.7039356095584622,0.04616317679909543,0.6189737947401249,-0.020343437881330532,0.5241198908709517,-0.7207502317444129,-0.5982659043959154,-0.9178947753869992,1.2093861312135417,0.8309601781784342,0.5021465962618618,0.7693337137248092,0.8802821133026897,0.8837223679022095,0.4640030703367322,0.4763622196705976,1.4159694950025428,-0.29871965306664355,-0.8294071562311018,2.3446506464640398,-1.8637575195725096,-0.9628217613471104,-0.8981321973001141,-1.2529064074869203,-0.9883955824352328,0.3543575984448734,-0.9402400967736599,0.27223807132119077,-2.1523011662984852,1.692728902747629,-1.41854939516216,-0.2837856089408107,-2.0512938927588813],\"xaxis\":\"x6\",\"yaxis\":\"y6\",\"type\":\"histogram\"},{\"line\":{\"color\":\"rgba(128, 128, 128, 1.0)\",\"dash\":\"solid\",\"shape\":\"linear\",\"width\":1.3},\"marker\":{\"size\":2,\"symbol\":\"circle\"},\"mode\":\"markers\",\"name\":\"B\",\"text\":\"\",\"x\":[-0.8576600851820129,-0.5750127788884318,0.05443737876004868,0.7852219652757143,-0.4815487628257627,0.04459261934043061,-0.06139117924853256,0.20633355242056056,0.3062438902586826,1.3296776414925178,-0.7677373671277309,-0.006243911503915224,1.1498310264509497,0.18172294440474673,-0.19866413611852404,-0.8526807024276805,0.699245848585638,2.3023684100320927,-0.9026964338652707,-2.126841132369603,-0.842454782703909,0.6287313876116941,0.6682264230511928,-0.1769443401341622,0.26285762319922845,-1.9182082898691377,-0.35284934610786284,0.10958556503104956,-0.39624950688927235,0.31471637953316495,-0.6383841995137576,2.1191646816111716,0.1071863837033177,-1.0993467054046555,-1.1851231161420908,0.9078673017445265,-0.9240942974216836,1.1082905281639326,0.5761749525009726,-0.5528240035959081,-1.08319747021649,-0.3976494677458565,-0.1518796496642728,1.057216241490009,0.0864398733826944,0.3100534812829789,-0.6269403739297886,-0.04947723555628706,-0.9613648546663213,0.8097916556373664,-0.4449950508578437,0.1853574945940702,-0.40107114793418475,-1.003082928001767,-0.752919299080358,-0.5950415455443309,-0.28500485049306346,0.22621527955495616,-1.4791742950433293,0.0863555425022727,-1.477818299284184,0.3181940813153153,-1.852121414840407,-0.5261400848800919,-0.19445599174652403,1.2692789684904169,0.9994959914342512,0.6236723493406674,0.6178352553527662,0.01180667443335035,-0.7145856073326051,-0.21614168674591627,0.47703388972485505,0.8951840409390931,0.12843544193826878,0.5830450541273284,-0.5229493660653698,0.1806833566529037,1.2369892036717165,1.5121942236516193,-1.0073202348756185,-0.561204749188291,-0.20193194149857496,-0.08287312206897211,0.8298502678698525,1.0807107053419196,-0.9480437842389379,0.19593365881638544,-0.07374676095263155,-1.20932451397519,-1.431085577517493,1.816668237644611,-0.3765677734224466,0.7154783027959628,1.4930900832089968,0.20413077793277046,-1.1301792997773459,0.536724977053704,1.1284546732489456,-0.45357490395777833],\"xaxis\":\"x7\",\"y\":[-0.35927390814104476,0.27484927832288925,-1.8402446516963689,0.4198969961056575,0.4408799218403844,-0.665006993082131,0.46215986015186405,0.5573938040479566,0.6821486464071536,-0.43277368434188607,-1.2513044483714728,-0.11800881518163064,0.4836095280558225,0.7198624924810973,0.769734040934067,0.32344267033603896,-0.5870259090687044,1.3764179686571287,0.5414625905049074,-0.598832443850317,-0.3195569510147842,1.2187240035662579,1.7219914761158468,1.0019398201832288,1.2712216685342188,-0.15169413108128366,-2.0769689079471245,-0.24617444450180453,0.2170377560005709,-0.2729310917822944,1.0580304337908448,0.49066385442413696,-0.0634690171707887,0.8761236894078324,-1.156182292111743,-1.7239496549607745,0.39963598889609775,-1.2405253270562735,-1.0844575996887613,0.9674204439722415,-2.3541883593272517,0.8451426886740392,0.48949596951889196,-1.048367046734212,-1.7815751279077898,0.09603552656022948,1.022949626357811,-1.0023988657385754,1.426874982960192,1.3283805405466318,-0.6826435013929715,-0.06948124309346751,1.197488186443602,1.2254917825595262,-1.0980833401848957,-1.2936343077373555,1.1510079929317878,0.8458703244821476,-1.2145888081746545,-0.8788190625374599,-1.5966273166290912,-0.7875422511564634,-0.1341321161518695,-1.4763238379407928,0.20797838521634457,-0.8900356418694271,-0.03371763647518824,0.7039356095584622,0.04616317679909543,0.6189737947401249,-0.020343437881330532,0.5241198908709517,-0.7207502317444129,-0.5982659043959154,-0.9178947753869992,1.2093861312135417,0.8309601781784342,0.5021465962618618,0.7693337137248092,0.8802821133026897,0.8837223679022095,0.4640030703367322,0.4763622196705976,1.4159694950025428,-0.29871965306664355,-0.8294071562311018,2.3446506464640398,-1.8637575195725096,-0.9628217613471104,-0.8981321973001141,-1.2529064074869203,-0.9883955824352328,0.3543575984448734,-0.9402400967736599,0.27223807132119077,-2.1523011662984852,1.692728902747629,-1.41854939516216,-0.2837856089408107,-2.0512938927588813],\"yaxis\":\"y7\",\"type\":\"scatter\"},{\"line\":{\"color\":\"rgba(128, 128, 128, 1.0)\",\"dash\":\"solid\",\"shape\":\"linear\",\"width\":1.3},\"marker\":{\"size\":2,\"symbol\":\"circle\"},\"mode\":\"markers\",\"name\":\"B\",\"text\":\"\",\"x\":[-0.4965581735356254,-1.3538967874345176,-0.17223560818573722,1.6231579665908973,1.7335446296311334,-0.2030650778601564,-0.8452123865917006,1.0521305282835511,1.0398148392863902,-0.050987236786020504,-0.57258304732208,0.04327595603432784,-1.3940547164717714,-0.7525124487105035,-0.07855624829631365,-1.1287941535485626,0.04187240456777008,1.4784163179354148,0.37467197907364774,-0.7017974813352993,-0.15403843626666303,-0.5716045712901606,-0.15591731115513588,1.0827404114215546,0.06824294928725971,-0.6664063407263672,0.058527585690782445,-0.9858046686548356,-0.6166101461902966,-1.1015216262366498,0.48213629877689473,0.7272580763180592,1.1927992467132755,0.007447607351678447,0.9569922129220856,-1.1567796253878748,-0.1064287862458562,0.13029253387854112,0.035064494826886665,0.007923565519073762,0.6666927681045107,-0.2975599094544142,0.5143305432258334,-0.5314002154044901,0.9862378459404866,-0.8561390311252871,-0.08201694272839874,0.658484445292848,-1.1019741335941395,1.7357110245871454,-0.11175638362924363,1.4145749280314097,0.0053422645864003295,-0.04697930289317601,-0.7801131973483182,-1.1054144127714947,-0.3191975559484706,2.1400811034734475,-0.28546278269794334,-0.026399679763879018,-0.13923411297599422,0.5953884586032037,-0.6078720153987348,0.4475031099532303,1.3609915633404095,-0.3970043698105668,-1.483018792788209,-0.5391846912785562,-0.9115268037798887,0.15120485573677836,1.188222846229542,-0.9754873702920279,0.6138966578280636,-0.7061571324872323,-0.03124596441063452,0.2649153628508299,-0.27760614222920704,1.0501757511701886,-1.6212716213140699,-0.8593940651917895,-0.4191976458232712,-0.7588387619889834,0.04786717019872002,-1.491149338625276,0.5932183950134358,0.6539229166253674,0.6982652058189514,0.6481823342092639,-1.0097184189627435,-0.7995847706776723,-1.1795007881349875,-1.2948637331231025,0.9988398953252201,0.811056302157581,-0.498460662658745,-0.28272291971528696,-0.5413007010612112,0.7831871945780672,-0.7738786516659488,-0.2820191552854569],\"xaxis\":\"x8\",\"y\":[-0.35927390814104476,0.27484927832288925,-1.8402446516963689,0.4198969961056575,0.4408799218403844,-0.665006993082131,0.46215986015186405,0.5573938040479566,0.6821486464071536,-0.43277368434188607,-1.2513044483714728,-0.11800881518163064,0.4836095280558225,0.7198624924810973,0.769734040934067,0.32344267033603896,-0.5870259090687044,1.3764179686571287,0.5414625905049074,-0.598832443850317,-0.3195569510147842,1.2187240035662579,1.7219914761158468,1.0019398201832288,1.2712216685342188,-0.15169413108128366,-2.0769689079471245,-0.24617444450180453,0.2170377560005709,-0.2729310917822944,1.0580304337908448,0.49066385442413696,-0.0634690171707887,0.8761236894078324,-1.156182292111743,-1.7239496549607745,0.39963598889609775,-1.2405253270562735,-1.0844575996887613,0.9674204439722415,-2.3541883593272517,0.8451426886740392,0.48949596951889196,-1.048367046734212,-1.7815751279077898,0.09603552656022948,1.022949626357811,-1.0023988657385754,1.426874982960192,1.3283805405466318,-0.6826435013929715,-0.06948124309346751,1.197488186443602,1.2254917825595262,-1.0980833401848957,-1.2936343077373555,1.1510079929317878,0.8458703244821476,-1.2145888081746545,-0.8788190625374599,-1.5966273166290912,-0.7875422511564634,-0.1341321161518695,-1.4763238379407928,0.20797838521634457,-0.8900356418694271,-0.03371763647518824,0.7039356095584622,0.04616317679909543,0.6189737947401249,-0.020343437881330532,0.5241198908709517,-0.7207502317444129,-0.5982659043959154,-0.9178947753869992,1.2093861312135417,0.8309601781784342,0.5021465962618618,0.7693337137248092,0.8802821133026897,0.8837223679022095,0.4640030703367322,0.4763622196705976,1.4159694950025428,-0.29871965306664355,-0.8294071562311018,2.3446506464640398,-1.8637575195725096,-0.9628217613471104,-0.8981321973001141,-1.2529064074869203,-0.9883955824352328,0.3543575984448734,-0.9402400967736599,0.27223807132119077,-2.1523011662984852,1.692728902747629,-1.41854939516216,-0.2837856089408107,-2.0512938927588813],\"yaxis\":\"y8\",\"type\":\"scatter\"},{\"line\":{\"color\":\"rgba(128, 128, 128, 1.0)\",\"dash\":\"solid\",\"shape\":\"linear\",\"width\":1.3},\"marker\":{\"size\":2,\"symbol\":\"circle\"},\"mode\":\"markers\",\"name\":\"C\",\"text\":\"\",\"x\":[-1.727725252579994,-0.6523954972283168,1.7111687573755276,1.8854926884160432,0.2797752300463759,-0.12278394235318713,-2.4629864633042837,-0.78629519698013,1.5013687819523045,0.5778433356227098,-2.1250130799216187,0.3074884774377496,-0.39557538193393044,-0.7210189703241677,0.6061344398049183,0.7253202601114827,0.7539556248165138,-0.6899826023857759,-1.9861820267153667,2.4724627179818857,-1.4921740674205082,0.21778649632986308,-1.2225982276441731,0.3022845411813817,0.5009163667793719,-0.27518666748581294,0.3332232948659106,0.5530183129927184,2.1813543514946936,2.3674713894348414,0.4040344645695381,0.1038752830651099,0.8189814485190792,0.6565628023965491,0.9649713911033581,0.4770077483354942,-1.1877719893116574,-0.3185818235127667,-0.4156429945784772,0.09263219619292881,1.1664812938353366,-1.664581973843618,0.8941099556511569,-0.059261618500232864,-0.42899090930167383,1.4204537434359545,-1.9614667808680513,0.5392218409350615,0.47024725448087334,1.1467256719334287,0.6683405973503002,-0.1653528442340094,0.2720390477214452,-0.6859510913281808,0.873018803874626,-0.4897179349388602,0.2791268821380968,-0.01369544344158681,0.9219045630189825,-0.17979824847298675,-1.4115107328459895,-0.4411751400820583,-0.13716549658502647,1.0502522594862551,-0.19931089910380348,1.2830450947207823,-0.7369514961753213,-0.43860412360855694,1.0940477429003814,0.8058780282388065,-0.2924536277044239,2.852728649349453,0.04370968310871116,-0.8464521149500591,2.28771812749006,0.010509765405440371,-1.4659896454578434,0.36111835740287185,1.080204647892336,0.21540806709294769,-1.2746246503442467,-0.7772846266240038,1.0151964174987262,-0.06308949328548494,0.6685557331125359,1.613021300620463,0.47658038207031683,-0.0906659850021094,-0.2727332447383256,-1.1830977459293435,1.5018775786963818,1.1466140817409018,-0.5606275116117502,-0.10446970457486329,0.3496968132069453,-0.6288080145360863,0.17515626102678597,0.4300673887181837,-0.1627117716049884,-1.1241376448948244],\"xaxis\":\"x9\",\"y\":[-0.8576600851820129,-0.5750127788884318,0.05443737876004868,0.7852219652757143,-0.4815487628257627,0.04459261934043061,-0.06139117924853256,0.20633355242056056,0.3062438902586826,1.3296776414925178,-0.7677373671277309,-0.006243911503915224,1.1498310264509497,0.18172294440474673,-0.19866413611852404,-0.8526807024276805,0.699245848585638,2.3023684100320927,-0.9026964338652707,-2.126841132369603,-0.842454782703909,0.6287313876116941,0.6682264230511928,-0.1769443401341622,0.26285762319922845,-1.9182082898691377,-0.35284934610786284,0.10958556503104956,-0.39624950688927235,0.31471637953316495,-0.6383841995137576,2.1191646816111716,0.1071863837033177,-1.0993467054046555,-1.1851231161420908,0.9078673017445265,-0.9240942974216836,1.1082905281639326,0.5761749525009726,-0.5528240035959081,-1.08319747021649,-0.3976494677458565,-0.1518796496642728,1.057216241490009,0.0864398733826944,0.3100534812829789,-0.6269403739297886,-0.04947723555628706,-0.9613648546663213,0.8097916556373664,-0.4449950508578437,0.1853574945940702,-0.40107114793418475,-1.003082928001767,-0.752919299080358,-0.5950415455443309,-0.28500485049306346,0.22621527955495616,-1.4791742950433293,0.0863555425022727,-1.477818299284184,0.3181940813153153,-1.852121414840407,-0.5261400848800919,-0.19445599174652403,1.2692789684904169,0.9994959914342512,0.6236723493406674,0.6178352553527662,0.01180667443335035,-0.7145856073326051,-0.21614168674591627,0.47703388972485505,0.8951840409390931,0.12843544193826878,0.5830450541273284,-0.5229493660653698,0.1806833566529037,1.2369892036717165,1.5121942236516193,-1.0073202348756185,-0.561204749188291,-0.20193194149857496,-0.08287312206897211,0.8298502678698525,1.0807107053419196,-0.9480437842389379,0.19593365881638544,-0.07374676095263155,-1.20932451397519,-1.431085577517493,1.816668237644611,-0.3765677734224466,0.7154783027959628,1.4930900832089968,0.20413077793277046,-1.1301792997773459,0.536724977053704,1.1284546732489456,-0.45357490395777833],\"yaxis\":\"y9\",\"type\":\"scatter\"},{\"line\":{\"color\":\"rgba(128, 128, 128, 1.0)\",\"dash\":\"solid\",\"shape\":\"linear\",\"width\":1.3},\"marker\":{\"size\":2,\"symbol\":\"circle\"},\"mode\":\"markers\",\"name\":\"C\",\"text\":\"\",\"x\":[-0.35927390814104476,0.27484927832288925,-1.8402446516963689,0.4198969961056575,0.4408799218403844,-0.665006993082131,0.46215986015186405,0.5573938040479566,0.6821486464071536,-0.43277368434188607,-1.2513044483714728,-0.11800881518163064,0.4836095280558225,0.7198624924810973,0.769734040934067,0.32344267033603896,-0.5870259090687044,1.3764179686571287,0.5414625905049074,-0.598832443850317,-0.3195569510147842,1.2187240035662579,1.7219914761158468,1.0019398201832288,1.2712216685342188,-0.15169413108128366,-2.0769689079471245,-0.24617444450180453,0.2170377560005709,-0.2729310917822944,1.0580304337908448,0.49066385442413696,-0.0634690171707887,0.8761236894078324,-1.156182292111743,-1.7239496549607745,0.39963598889609775,-1.2405253270562735,-1.0844575996887613,0.9674204439722415,-2.3541883593272517,0.8451426886740392,0.48949596951889196,-1.048367046734212,-1.7815751279077898,0.09603552656022948,1.022949626357811,-1.0023988657385754,1.426874982960192,1.3283805405466318,-0.6826435013929715,-0.06948124309346751,1.197488186443602,1.2254917825595262,-1.0980833401848957,-1.2936343077373555,1.1510079929317878,0.8458703244821476,-1.2145888081746545,-0.8788190625374599,-1.5966273166290912,-0.7875422511564634,-0.1341321161518695,-1.4763238379407928,0.20797838521634457,-0.8900356418694271,-0.03371763647518824,0.7039356095584622,0.04616317679909543,0.6189737947401249,-0.020343437881330532,0.5241198908709517,-0.7207502317444129,-0.5982659043959154,-0.9178947753869992,1.2093861312135417,0.8309601781784342,0.5021465962618618,0.7693337137248092,0.8802821133026897,0.8837223679022095,0.4640030703367322,0.4763622196705976,1.4159694950025428,-0.29871965306664355,-0.8294071562311018,2.3446506464640398,-1.8637575195725096,-0.9628217613471104,-0.8981321973001141,-1.2529064074869203,-0.9883955824352328,0.3543575984448734,-0.9402400967736599,0.27223807132119077,-2.1523011662984852,1.692728902747629,-1.41854939516216,-0.2837856089408107,-2.0512938927588813],\"xaxis\":\"x10\",\"y\":[-0.8576600851820129,-0.5750127788884318,0.05443737876004868,0.7852219652757143,-0.4815487628257627,0.04459261934043061,-0.06139117924853256,0.20633355242056056,0.3062438902586826,1.3296776414925178,-0.7677373671277309,-0.006243911503915224,1.1498310264509497,0.18172294440474673,-0.19866413611852404,-0.8526807024276805,0.699245848585638,2.3023684100320927,-0.9026964338652707,-2.126841132369603,-0.842454782703909,0.6287313876116941,0.6682264230511928,-0.1769443401341622,0.26285762319922845,-1.9182082898691377,-0.35284934610786284,0.10958556503104956,-0.39624950688927235,0.31471637953316495,-0.6383841995137576,2.1191646816111716,0.1071863837033177,-1.0993467054046555,-1.1851231161420908,0.9078673017445265,-0.9240942974216836,1.1082905281639326,0.5761749525009726,-0.5528240035959081,-1.08319747021649,-0.3976494677458565,-0.1518796496642728,1.057216241490009,0.0864398733826944,0.3100534812829789,-0.6269403739297886,-0.04947723555628706,-0.9613648546663213,0.8097916556373664,-0.4449950508578437,0.1853574945940702,-0.40107114793418475,-1.003082928001767,-0.752919299080358,-0.5950415455443309,-0.28500485049306346,0.22621527955495616,-1.4791742950433293,0.0863555425022727,-1.477818299284184,0.3181940813153153,-1.852121414840407,-0.5261400848800919,-0.19445599174652403,1.2692789684904169,0.9994959914342512,0.6236723493406674,0.6178352553527662,0.01180667443335035,-0.7145856073326051,-0.21614168674591627,0.47703388972485505,0.8951840409390931,0.12843544193826878,0.5830450541273284,-0.5229493660653698,0.1806833566529037,1.2369892036717165,1.5121942236516193,-1.0073202348756185,-0.561204749188291,-0.20193194149857496,-0.08287312206897211,0.8298502678698525,1.0807107053419196,-0.9480437842389379,0.19593365881638544,-0.07374676095263155,-1.20932451397519,-1.431085577517493,1.816668237644611,-0.3765677734224466,0.7154783027959628,1.4930900832089968,0.20413077793277046,-1.1301792997773459,0.536724977053704,1.1284546732489456,-0.45357490395777833],\"yaxis\":\"y10\",\"type\":\"scatter\"},{\"histfunc\":\"count\",\"histnorm\":\"\",\"marker\":{\"color\":\"rgba(50, 171, 96, 1.0)\",\"line\":{\"color\":\"#4D5663\",\"width\":1.3}},\"name\":\"C\",\"nbinsx\":10,\"opacity\":0.8,\"orientation\":\"v\",\"x\":[-0.8576600851820129,-0.5750127788884318,0.05443737876004868,0.7852219652757143,-0.4815487628257627,0.04459261934043061,-0.06139117924853256,0.20633355242056056,0.3062438902586826,1.3296776414925178,-0.7677373671277309,-0.006243911503915224,1.1498310264509497,0.18172294440474673,-0.19866413611852404,-0.8526807024276805,0.699245848585638,2.3023684100320927,-0.9026964338652707,-2.126841132369603,-0.842454782703909,0.6287313876116941,0.6682264230511928,-0.1769443401341622,0.26285762319922845,-1.9182082898691377,-0.35284934610786284,0.10958556503104956,-0.39624950688927235,0.31471637953316495,-0.6383841995137576,2.1191646816111716,0.1071863837033177,-1.0993467054046555,-1.1851231161420908,0.9078673017445265,-0.9240942974216836,1.1082905281639326,0.5761749525009726,-0.5528240035959081,-1.08319747021649,-0.3976494677458565,-0.1518796496642728,1.057216241490009,0.0864398733826944,0.3100534812829789,-0.6269403739297886,-0.04947723555628706,-0.9613648546663213,0.8097916556373664,-0.4449950508578437,0.1853574945940702,-0.40107114793418475,-1.003082928001767,-0.752919299080358,-0.5950415455443309,-0.28500485049306346,0.22621527955495616,-1.4791742950433293,0.0863555425022727,-1.477818299284184,0.3181940813153153,-1.852121414840407,-0.5261400848800919,-0.19445599174652403,1.2692789684904169,0.9994959914342512,0.6236723493406674,0.6178352553527662,0.01180667443335035,-0.7145856073326051,-0.21614168674591627,0.47703388972485505,0.8951840409390931,0.12843544193826878,0.5830450541273284,-0.5229493660653698,0.1806833566529037,1.2369892036717165,1.5121942236516193,-1.0073202348756185,-0.561204749188291,-0.20193194149857496,-0.08287312206897211,0.8298502678698525,1.0807107053419196,-0.9480437842389379,0.19593365881638544,-0.07374676095263155,-1.20932451397519,-1.431085577517493,1.816668237644611,-0.3765677734224466,0.7154783027959628,1.4930900832089968,0.20413077793277046,-1.1301792997773459,0.536724977053704,1.1284546732489456,-0.45357490395777833],\"xaxis\":\"x11\",\"yaxis\":\"y11\",\"type\":\"histogram\"},{\"line\":{\"color\":\"rgba(128, 128, 128, 1.0)\",\"dash\":\"solid\",\"shape\":\"linear\",\"width\":1.3},\"marker\":{\"size\":2,\"symbol\":\"circle\"},\"mode\":\"markers\",\"name\":\"C\",\"text\":\"\",\"x\":[-0.4965581735356254,-1.3538967874345176,-0.17223560818573722,1.6231579665908973,1.7335446296311334,-0.2030650778601564,-0.8452123865917006,1.0521305282835511,1.0398148392863902,-0.050987236786020504,-0.57258304732208,0.04327595603432784,-1.3940547164717714,-0.7525124487105035,-0.07855624829631365,-1.1287941535485626,0.04187240456777008,1.4784163179354148,0.37467197907364774,-0.7017974813352993,-0.15403843626666303,-0.5716045712901606,-0.15591731115513588,1.0827404114215546,0.06824294928725971,-0.6664063407263672,0.058527585690782445,-0.9858046686548356,-0.6166101461902966,-1.1015216262366498,0.48213629877689473,0.7272580763180592,1.1927992467132755,0.007447607351678447,0.9569922129220856,-1.1567796253878748,-0.1064287862458562,0.13029253387854112,0.035064494826886665,0.007923565519073762,0.6666927681045107,-0.2975599094544142,0.5143305432258334,-0.5314002154044901,0.9862378459404866,-0.8561390311252871,-0.08201694272839874,0.658484445292848,-1.1019741335941395,1.7357110245871454,-0.11175638362924363,1.4145749280314097,0.0053422645864003295,-0.04697930289317601,-0.7801131973483182,-1.1054144127714947,-0.3191975559484706,2.1400811034734475,-0.28546278269794334,-0.026399679763879018,-0.13923411297599422,0.5953884586032037,-0.6078720153987348,0.4475031099532303,1.3609915633404095,-0.3970043698105668,-1.483018792788209,-0.5391846912785562,-0.9115268037798887,0.15120485573677836,1.188222846229542,-0.9754873702920279,0.6138966578280636,-0.7061571324872323,-0.03124596441063452,0.2649153628508299,-0.27760614222920704,1.0501757511701886,-1.6212716213140699,-0.8593940651917895,-0.4191976458232712,-0.7588387619889834,0.04786717019872002,-1.491149338625276,0.5932183950134358,0.6539229166253674,0.6982652058189514,0.6481823342092639,-1.0097184189627435,-0.7995847706776723,-1.1795007881349875,-1.2948637331231025,0.9988398953252201,0.811056302157581,-0.498460662658745,-0.28272291971528696,-0.5413007010612112,0.7831871945780672,-0.7738786516659488,-0.2820191552854569],\"xaxis\":\"x12\",\"y\":[-0.8576600851820129,-0.5750127788884318,0.05443737876004868,0.7852219652757143,-0.4815487628257627,0.04459261934043061,-0.06139117924853256,0.20633355242056056,0.3062438902586826,1.3296776414925178,-0.7677373671277309,-0.006243911503915224,1.1498310264509497,0.18172294440474673,-0.19866413611852404,-0.8526807024276805,0.699245848585638,2.3023684100320927,-0.9026964338652707,-2.126841132369603,-0.842454782703909,0.6287313876116941,0.6682264230511928,-0.1769443401341622,0.26285762319922845,-1.9182082898691377,-0.35284934610786284,0.10958556503104956,-0.39624950688927235,0.31471637953316495,-0.6383841995137576,2.1191646816111716,0.1071863837033177,-1.0993467054046555,-1.1851231161420908,0.9078673017445265,-0.9240942974216836,1.1082905281639326,0.5761749525009726,-0.5528240035959081,-1.08319747021649,-0.3976494677458565,-0.1518796496642728,1.057216241490009,0.0864398733826944,0.3100534812829789,-0.6269403739297886,-0.04947723555628706,-0.9613648546663213,0.8097916556373664,-0.4449950508578437,0.1853574945940702,-0.40107114793418475,-1.003082928001767,-0.752919299080358,-0.5950415455443309,-0.28500485049306346,0.22621527955495616,-1.4791742950433293,0.0863555425022727,-1.477818299284184,0.3181940813153153,-1.852121414840407,-0.5261400848800919,-0.19445599174652403,1.2692789684904169,0.9994959914342512,0.6236723493406674,0.6178352553527662,0.01180667443335035,-0.7145856073326051,-0.21614168674591627,0.47703388972485505,0.8951840409390931,0.12843544193826878,0.5830450541273284,-0.5229493660653698,0.1806833566529037,1.2369892036717165,1.5121942236516193,-1.0073202348756185,-0.561204749188291,-0.20193194149857496,-0.08287312206897211,0.8298502678698525,1.0807107053419196,-0.9480437842389379,0.19593365881638544,-0.07374676095263155,-1.20932451397519,-1.431085577517493,1.816668237644611,-0.3765677734224466,0.7154783027959628,1.4930900832089968,0.20413077793277046,-1.1301792997773459,0.536724977053704,1.1284546732489456,-0.45357490395777833],\"yaxis\":\"y12\",\"type\":\"scatter\"},{\"line\":{\"color\":\"rgba(128, 128, 128, 1.0)\",\"dash\":\"solid\",\"shape\":\"linear\",\"width\":1.3},\"marker\":{\"size\":2,\"symbol\":\"circle\"},\"mode\":\"markers\",\"name\":\"D\",\"text\":\"\",\"x\":[-1.727725252579994,-0.6523954972283168,1.7111687573755276,1.8854926884160432,0.2797752300463759,-0.12278394235318713,-2.4629864633042837,-0.78629519698013,1.5013687819523045,0.5778433356227098,-2.1250130799216187,0.3074884774377496,-0.39557538193393044,-0.7210189703241677,0.6061344398049183,0.7253202601114827,0.7539556248165138,-0.6899826023857759,-1.9861820267153667,2.4724627179818857,-1.4921740674205082,0.21778649632986308,-1.2225982276441731,0.3022845411813817,0.5009163667793719,-0.27518666748581294,0.3332232948659106,0.5530183129927184,2.1813543514946936,2.3674713894348414,0.4040344645695381,0.1038752830651099,0.8189814485190792,0.6565628023965491,0.9649713911033581,0.4770077483354942,-1.1877719893116574,-0.3185818235127667,-0.4156429945784772,0.09263219619292881,1.1664812938353366,-1.664581973843618,0.8941099556511569,-0.059261618500232864,-0.42899090930167383,1.4204537434359545,-1.9614667808680513,0.5392218409350615,0.47024725448087334,1.1467256719334287,0.6683405973503002,-0.1653528442340094,0.2720390477214452,-0.6859510913281808,0.873018803874626,-0.4897179349388602,0.2791268821380968,-0.01369544344158681,0.9219045630189825,-0.17979824847298675,-1.4115107328459895,-0.4411751400820583,-0.13716549658502647,1.0502522594862551,-0.19931089910380348,1.2830450947207823,-0.7369514961753213,-0.43860412360855694,1.0940477429003814,0.8058780282388065,-0.2924536277044239,2.852728649349453,0.04370968310871116,-0.8464521149500591,2.28771812749006,0.010509765405440371,-1.4659896454578434,0.36111835740287185,1.080204647892336,0.21540806709294769,-1.2746246503442467,-0.7772846266240038,1.0151964174987262,-0.06308949328548494,0.6685557331125359,1.613021300620463,0.47658038207031683,-0.0906659850021094,-0.2727332447383256,-1.1830977459293435,1.5018775786963818,1.1466140817409018,-0.5606275116117502,-0.10446970457486329,0.3496968132069453,-0.6288080145360863,0.17515626102678597,0.4300673887181837,-0.1627117716049884,-1.1241376448948244],\"xaxis\":\"x13\",\"y\":[-0.4965581735356254,-1.3538967874345176,-0.17223560818573722,1.6231579665908973,1.7335446296311334,-0.2030650778601564,-0.8452123865917006,1.0521305282835511,1.0398148392863902,-0.050987236786020504,-0.57258304732208,0.04327595603432784,-1.3940547164717714,-0.7525124487105035,-0.07855624829631365,-1.1287941535485626,0.04187240456777008,1.4784163179354148,0.37467197907364774,-0.7017974813352993,-0.15403843626666303,-0.5716045712901606,-0.15591731115513588,1.0827404114215546,0.06824294928725971,-0.6664063407263672,0.058527585690782445,-0.9858046686548356,-0.6166101461902966,-1.1015216262366498,0.48213629877689473,0.7272580763180592,1.1927992467132755,0.007447607351678447,0.9569922129220856,-1.1567796253878748,-0.1064287862458562,0.13029253387854112,0.035064494826886665,0.007923565519073762,0.6666927681045107,-0.2975599094544142,0.5143305432258334,-0.5314002154044901,0.9862378459404866,-0.8561390311252871,-0.08201694272839874,0.658484445292848,-1.1019741335941395,1.7357110245871454,-0.11175638362924363,1.4145749280314097,0.0053422645864003295,-0.04697930289317601,-0.7801131973483182,-1.1054144127714947,-0.3191975559484706,2.1400811034734475,-0.28546278269794334,-0.026399679763879018,-0.13923411297599422,0.5953884586032037,-0.6078720153987348,0.4475031099532303,1.3609915633404095,-0.3970043698105668,-1.483018792788209,-0.5391846912785562,-0.9115268037798887,0.15120485573677836,1.188222846229542,-0.9754873702920279,0.6138966578280636,-0.7061571324872323,-0.03124596441063452,0.2649153628508299,-0.27760614222920704,1.0501757511701886,-1.6212716213140699,-0.8593940651917895,-0.4191976458232712,-0.7588387619889834,0.04786717019872002,-1.491149338625276,0.5932183950134358,0.6539229166253674,0.6982652058189514,0.6481823342092639,-1.0097184189627435,-0.7995847706776723,-1.1795007881349875,-1.2948637331231025,0.9988398953252201,0.811056302157581,-0.498460662658745,-0.28272291971528696,-0.5413007010612112,0.7831871945780672,-0.7738786516659488,-0.2820191552854569],\"yaxis\":\"y13\",\"type\":\"scatter\"},{\"line\":{\"color\":\"rgba(128, 128, 128, 1.0)\",\"dash\":\"solid\",\"shape\":\"linear\",\"width\":1.3},\"marker\":{\"size\":2,\"symbol\":\"circle\"},\"mode\":\"markers\",\"name\":\"D\",\"text\":\"\",\"x\":[-0.35927390814104476,0.27484927832288925,-1.8402446516963689,0.4198969961056575,0.4408799218403844,-0.665006993082131,0.46215986015186405,0.5573938040479566,0.6821486464071536,-0.43277368434188607,-1.2513044483714728,-0.11800881518163064,0.4836095280558225,0.7198624924810973,0.769734040934067,0.32344267033603896,-0.5870259090687044,1.3764179686571287,0.5414625905049074,-0.598832443850317,-0.3195569510147842,1.2187240035662579,1.7219914761158468,1.0019398201832288,1.2712216685342188,-0.15169413108128366,-2.0769689079471245,-0.24617444450180453,0.2170377560005709,-0.2729310917822944,1.0580304337908448,0.49066385442413696,-0.0634690171707887,0.8761236894078324,-1.156182292111743,-1.7239496549607745,0.39963598889609775,-1.2405253270562735,-1.0844575996887613,0.9674204439722415,-2.3541883593272517,0.8451426886740392,0.48949596951889196,-1.048367046734212,-1.7815751279077898,0.09603552656022948,1.022949626357811,-1.0023988657385754,1.426874982960192,1.3283805405466318,-0.6826435013929715,-0.06948124309346751,1.197488186443602,1.2254917825595262,-1.0980833401848957,-1.2936343077373555,1.1510079929317878,0.8458703244821476,-1.2145888081746545,-0.8788190625374599,-1.5966273166290912,-0.7875422511564634,-0.1341321161518695,-1.4763238379407928,0.20797838521634457,-0.8900356418694271,-0.03371763647518824,0.7039356095584622,0.04616317679909543,0.6189737947401249,-0.020343437881330532,0.5241198908709517,-0.7207502317444129,-0.5982659043959154,-0.9178947753869992,1.2093861312135417,0.8309601781784342,0.5021465962618618,0.7693337137248092,0.8802821133026897,0.8837223679022095,0.4640030703367322,0.4763622196705976,1.4159694950025428,-0.29871965306664355,-0.8294071562311018,2.3446506464640398,-1.8637575195725096,-0.9628217613471104,-0.8981321973001141,-1.2529064074869203,-0.9883955824352328,0.3543575984448734,-0.9402400967736599,0.27223807132119077,-2.1523011662984852,1.692728902747629,-1.41854939516216,-0.2837856089408107,-2.0512938927588813],\"xaxis\":\"x14\",\"y\":[-0.4965581735356254,-1.3538967874345176,-0.17223560818573722,1.6231579665908973,1.7335446296311334,-0.2030650778601564,-0.8452123865917006,1.0521305282835511,1.0398148392863902,-0.050987236786020504,-0.57258304732208,0.04327595603432784,-1.3940547164717714,-0.7525124487105035,-0.07855624829631365,-1.1287941535485626,0.04187240456777008,1.4784163179354148,0.37467197907364774,-0.7017974813352993,-0.15403843626666303,-0.5716045712901606,-0.15591731115513588,1.0827404114215546,0.06824294928725971,-0.6664063407263672,0.058527585690782445,-0.9858046686548356,-0.6166101461902966,-1.1015216262366498,0.48213629877689473,0.7272580763180592,1.1927992467132755,0.007447607351678447,0.9569922129220856,-1.1567796253878748,-0.1064287862458562,0.13029253387854112,0.035064494826886665,0.007923565519073762,0.6666927681045107,-0.2975599094544142,0.5143305432258334,-0.5314002154044901,0.9862378459404866,-0.8561390311252871,-0.08201694272839874,0.658484445292848,-1.1019741335941395,1.7357110245871454,-0.11175638362924363,1.4145749280314097,0.0053422645864003295,-0.04697930289317601,-0.7801131973483182,-1.1054144127714947,-0.3191975559484706,2.1400811034734475,-0.28546278269794334,-0.026399679763879018,-0.13923411297599422,0.5953884586032037,-0.6078720153987348,0.4475031099532303,1.3609915633404095,-0.3970043698105668,-1.483018792788209,-0.5391846912785562,-0.9115268037798887,0.15120485573677836,1.188222846229542,-0.9754873702920279,0.6138966578280636,-0.7061571324872323,-0.03124596441063452,0.2649153628508299,-0.27760614222920704,1.0501757511701886,-1.6212716213140699,-0.8593940651917895,-0.4191976458232712,-0.7588387619889834,0.04786717019872002,-1.491149338625276,0.5932183950134358,0.6539229166253674,0.6982652058189514,0.6481823342092639,-1.0097184189627435,-0.7995847706776723,-1.1795007881349875,-1.2948637331231025,0.9988398953252201,0.811056302157581,-0.498460662658745,-0.28272291971528696,-0.5413007010612112,0.7831871945780672,-0.7738786516659488,-0.2820191552854569],\"yaxis\":\"y14\",\"type\":\"scatter\"},{\"line\":{\"color\":\"rgba(128, 128, 128, 1.0)\",\"dash\":\"solid\",\"shape\":\"linear\",\"width\":1.3},\"marker\":{\"size\":2,\"symbol\":\"circle\"},\"mode\":\"markers\",\"name\":\"D\",\"text\":\"\",\"x\":[-0.8576600851820129,-0.5750127788884318,0.05443737876004868,0.7852219652757143,-0.4815487628257627,0.04459261934043061,-0.06139117924853256,0.20633355242056056,0.3062438902586826,1.3296776414925178,-0.7677373671277309,-0.006243911503915224,1.1498310264509497,0.18172294440474673,-0.19866413611852404,-0.8526807024276805,0.699245848585638,2.3023684100320927,-0.9026964338652707,-2.126841132369603,-0.842454782703909,0.6287313876116941,0.6682264230511928,-0.1769443401341622,0.26285762319922845,-1.9182082898691377,-0.35284934610786284,0.10958556503104956,-0.39624950688927235,0.31471637953316495,-0.6383841995137576,2.1191646816111716,0.1071863837033177,-1.0993467054046555,-1.1851231161420908,0.9078673017445265,-0.9240942974216836,1.1082905281639326,0.5761749525009726,-0.5528240035959081,-1.08319747021649,-0.3976494677458565,-0.1518796496642728,1.057216241490009,0.0864398733826944,0.3100534812829789,-0.6269403739297886,-0.04947723555628706,-0.9613648546663213,0.8097916556373664,-0.4449950508578437,0.1853574945940702,-0.40107114793418475,-1.003082928001767,-0.752919299080358,-0.5950415455443309,-0.28500485049306346,0.22621527955495616,-1.4791742950433293,0.0863555425022727,-1.477818299284184,0.3181940813153153,-1.852121414840407,-0.5261400848800919,-0.19445599174652403,1.2692789684904169,0.9994959914342512,0.6236723493406674,0.6178352553527662,0.01180667443335035,-0.7145856073326051,-0.21614168674591627,0.47703388972485505,0.8951840409390931,0.12843544193826878,0.5830450541273284,-0.5229493660653698,0.1806833566529037,1.2369892036717165,1.5121942236516193,-1.0073202348756185,-0.561204749188291,-0.20193194149857496,-0.08287312206897211,0.8298502678698525,1.0807107053419196,-0.9480437842389379,0.19593365881638544,-0.07374676095263155,-1.20932451397519,-1.431085577517493,1.816668237644611,-0.3765677734224466,0.7154783027959628,1.4930900832089968,0.20413077793277046,-1.1301792997773459,0.536724977053704,1.1284546732489456,-0.45357490395777833],\"xaxis\":\"x15\",\"y\":[-0.4965581735356254,-1.3538967874345176,-0.17223560818573722,1.6231579665908973,1.7335446296311334,-0.2030650778601564,-0.8452123865917006,1.0521305282835511,1.0398148392863902,-0.050987236786020504,-0.57258304732208,0.04327595603432784,-1.3940547164717714,-0.7525124487105035,-0.07855624829631365,-1.1287941535485626,0.04187240456777008,1.4784163179354148,0.37467197907364774,-0.7017974813352993,-0.15403843626666303,-0.5716045712901606,-0.15591731115513588,1.0827404114215546,0.06824294928725971,-0.6664063407263672,0.058527585690782445,-0.9858046686548356,-0.6166101461902966,-1.1015216262366498,0.48213629877689473,0.7272580763180592,1.1927992467132755,0.007447607351678447,0.9569922129220856,-1.1567796253878748,-0.1064287862458562,0.13029253387854112,0.035064494826886665,0.007923565519073762,0.6666927681045107,-0.2975599094544142,0.5143305432258334,-0.5314002154044901,0.9862378459404866,-0.8561390311252871,-0.08201694272839874,0.658484445292848,-1.1019741335941395,1.7357110245871454,-0.11175638362924363,1.4145749280314097,0.0053422645864003295,-0.04697930289317601,-0.7801131973483182,-1.1054144127714947,-0.3191975559484706,2.1400811034734475,-0.28546278269794334,-0.026399679763879018,-0.13923411297599422,0.5953884586032037,-0.6078720153987348,0.4475031099532303,1.3609915633404095,-0.3970043698105668,-1.483018792788209,-0.5391846912785562,-0.9115268037798887,0.15120485573677836,1.188222846229542,-0.9754873702920279,0.6138966578280636,-0.7061571324872323,-0.03124596441063452,0.2649153628508299,-0.27760614222920704,1.0501757511701886,-1.6212716213140699,-0.8593940651917895,-0.4191976458232712,-0.7588387619889834,0.04786717019872002,-1.491149338625276,0.5932183950134358,0.6539229166253674,0.6982652058189514,0.6481823342092639,-1.0097184189627435,-0.7995847706776723,-1.1795007881349875,-1.2948637331231025,0.9988398953252201,0.811056302157581,-0.498460662658745,-0.28272291971528696,-0.5413007010612112,0.7831871945780672,-0.7738786516659488,-0.2820191552854569],\"yaxis\":\"y15\",\"type\":\"scatter\"},{\"histfunc\":\"count\",\"histnorm\":\"\",\"marker\":{\"color\":\"rgba(128, 0, 128, 1.0)\",\"line\":{\"color\":\"#4D5663\",\"width\":1.3}},\"name\":\"D\",\"nbinsx\":10,\"opacity\":0.8,\"orientation\":\"v\",\"x\":[-0.4965581735356254,-1.3538967874345176,-0.17223560818573722,1.6231579665908973,1.7335446296311334,-0.2030650778601564,-0.8452123865917006,1.0521305282835511,1.0398148392863902,-0.050987236786020504,-0.57258304732208,0.04327595603432784,-1.3940547164717714,-0.7525124487105035,-0.07855624829631365,-1.1287941535485626,0.04187240456777008,1.4784163179354148,0.37467197907364774,-0.7017974813352993,-0.15403843626666303,-0.5716045712901606,-0.15591731115513588,1.0827404114215546,0.06824294928725971,-0.6664063407263672,0.058527585690782445,-0.9858046686548356,-0.6166101461902966,-1.1015216262366498,0.48213629877689473,0.7272580763180592,1.1927992467132755,0.007447607351678447,0.9569922129220856,-1.1567796253878748,-0.1064287862458562,0.13029253387854112,0.035064494826886665,0.007923565519073762,0.6666927681045107,-0.2975599094544142,0.5143305432258334,-0.5314002154044901,0.9862378459404866,-0.8561390311252871,-0.08201694272839874,0.658484445292848,-1.1019741335941395,1.7357110245871454,-0.11175638362924363,1.4145749280314097,0.0053422645864003295,-0.04697930289317601,-0.7801131973483182,-1.1054144127714947,-0.3191975559484706,2.1400811034734475,-0.28546278269794334,-0.026399679763879018,-0.13923411297599422,0.5953884586032037,-0.6078720153987348,0.4475031099532303,1.3609915633404095,-0.3970043698105668,-1.483018792788209,-0.5391846912785562,-0.9115268037798887,0.15120485573677836,1.188222846229542,-0.9754873702920279,0.6138966578280636,-0.7061571324872323,-0.03124596441063452,0.2649153628508299,-0.27760614222920704,1.0501757511701886,-1.6212716213140699,-0.8593940651917895,-0.4191976458232712,-0.7588387619889834,0.04786717019872002,-1.491149338625276,0.5932183950134358,0.6539229166253674,0.6982652058189514,0.6481823342092639,-1.0097184189627435,-0.7995847706776723,-1.1795007881349875,-1.2948637331231025,0.9988398953252201,0.811056302157581,-0.498460662658745,-0.28272291971528696,-0.5413007010612112,0.7831871945780672,-0.7738786516659488,-0.2820191552854569],\"xaxis\":\"x16\",\"yaxis\":\"y16\",\"type\":\"histogram\"}],                        {\"bargap\":0.02,\"legend\":{\"bgcolor\":\"#F5F6F9\",\"font\":{\"color\":\"#4D5663\"}},\"paper_bgcolor\":\"#F5F6F9\",\"plot_bgcolor\":\"#F5F6F9\",\"showlegend\":false,\"template\":{\"data\":{\"barpolar\":[{\"marker\":{\"line\":{\"color\":\"#E5ECF6\",\"width\":0.5},\"pattern\":{\"fillmode\":\"overlay\",\"size\":10,\"solidity\":0.2}},\"type\":\"barpolar\"}],\"bar\":[{\"error_x\":{\"color\":\"#2a3f5f\"},\"error_y\":{\"color\":\"#2a3f5f\"},\"marker\":{\"line\":{\"color\":\"#E5ECF6\",\"width\":0.5},\"pattern\":{\"fillmode\":\"overlay\",\"size\":10,\"solidity\":0.2}},\"type\":\"bar\"}],\"carpet\":[{\"aaxis\":{\"endlinecolor\":\"#2a3f5f\",\"gridcolor\":\"white\",\"linecolor\":\"white\",\"minorgridcolor\":\"white\",\"startlinecolor\":\"#2a3f5f\"},\"baxis\":{\"endlinecolor\":\"#2a3f5f\",\"gridcolor\":\"white\",\"linecolor\":\"white\",\"minorgridcolor\":\"white\",\"startlinecolor\":\"#2a3f5f\"},\"type\":\"carpet\"}],\"choropleth\":[{\"colorbar\":{\"outlinewidth\":0,\"ticks\":\"\"},\"type\":\"choropleth\"}],\"contourcarpet\":[{\"colorbar\":{\"outlinewidth\":0,\"ticks\":\"\"},\"type\":\"contourcarpet\"}],\"contour\":[{\"colorbar\":{\"outlinewidth\":0,\"ticks\":\"\"},\"colorscale\":[[0.0,\"#0d0887\"],[0.1111111111111111,\"#46039f\"],[0.2222222222222222,\"#7201a8\"],[0.3333333333333333,\"#9c179e\"],[0.4444444444444444,\"#bd3786\"],[0.5555555555555556,\"#d8576b\"],[0.6666666666666666,\"#ed7953\"],[0.7777777777777778,\"#fb9f3a\"],[0.8888888888888888,\"#fdca26\"],[1.0,\"#f0f921\"]],\"type\":\"contour\"}],\"heatmapgl\":[{\"colorbar\":{\"outlinewidth\":0,\"ticks\":\"\"},\"colorscale\":[[0.0,\"#0d0887\"],[0.1111111111111111,\"#46039f\"],[0.2222222222222222,\"#7201a8\"],[0.3333333333333333,\"#9c179e\"],[0.4444444444444444,\"#bd3786\"],[0.5555555555555556,\"#d8576b\"],[0.6666666666666666,\"#ed7953\"],[0.7777777777777778,\"#fb9f3a\"],[0.8888888888888888,\"#fdca26\"],[1.0,\"#f0f921\"]],\"type\":\"heatmapgl\"}],\"heatmap\":[{\"colorbar\":{\"outlinewidth\":0,\"ticks\":\"\"},\"colorscale\":[[0.0,\"#0d0887\"],[0.1111111111111111,\"#46039f\"],[0.2222222222222222,\"#7201a8\"],[0.3333333333333333,\"#9c179e\"],[0.4444444444444444,\"#bd3786\"],[0.5555555555555556,\"#d8576b\"],[0.6666666666666666,\"#ed7953\"],[0.7777777777777778,\"#fb9f3a\"],[0.8888888888888888,\"#fdca26\"],[1.0,\"#f0f921\"]],\"type\":\"heatmap\"}],\"histogram2dcontour\":[{\"colorbar\":{\"outlinewidth\":0,\"ticks\":\"\"},\"colorscale\":[[0.0,\"#0d0887\"],[0.1111111111111111,\"#46039f\"],[0.2222222222222222,\"#7201a8\"],[0.3333333333333333,\"#9c179e\"],[0.4444444444444444,\"#bd3786\"],[0.5555555555555556,\"#d8576b\"],[0.6666666666666666,\"#ed7953\"],[0.7777777777777778,\"#fb9f3a\"],[0.8888888888888888,\"#fdca26\"],[1.0,\"#f0f921\"]],\"type\":\"histogram2dcontour\"}],\"histogram2d\":[{\"colorbar\":{\"outlinewidth\":0,\"ticks\":\"\"},\"colorscale\":[[0.0,\"#0d0887\"],[0.1111111111111111,\"#46039f\"],[0.2222222222222222,\"#7201a8\"],[0.3333333333333333,\"#9c179e\"],[0.4444444444444444,\"#bd3786\"],[0.5555555555555556,\"#d8576b\"],[0.6666666666666666,\"#ed7953\"],[0.7777777777777778,\"#fb9f3a\"],[0.8888888888888888,\"#fdca26\"],[1.0,\"#f0f921\"]],\"type\":\"histogram2d\"}],\"histogram\":[{\"marker\":{\"pattern\":{\"fillmode\":\"overlay\",\"size\":10,\"solidity\":0.2}},\"type\":\"histogram\"}],\"mesh3d\":[{\"colorbar\":{\"outlinewidth\":0,\"ticks\":\"\"},\"type\":\"mesh3d\"}],\"parcoords\":[{\"line\":{\"colorbar\":{\"outlinewidth\":0,\"ticks\":\"\"}},\"type\":\"parcoords\"}],\"pie\":[{\"automargin\":true,\"type\":\"pie\"}],\"scatter3d\":[{\"line\":{\"colorbar\":{\"outlinewidth\":0,\"ticks\":\"\"}},\"marker\":{\"colorbar\":{\"outlinewidth\":0,\"ticks\":\"\"}},\"type\":\"scatter3d\"}],\"scattercarpet\":[{\"marker\":{\"colorbar\":{\"outlinewidth\":0,\"ticks\":\"\"}},\"type\":\"scattercarpet\"}],\"scattergeo\":[{\"marker\":{\"colorbar\":{\"outlinewidth\":0,\"ticks\":\"\"}},\"type\":\"scattergeo\"}],\"scattergl\":[{\"marker\":{\"colorbar\":{\"outlinewidth\":0,\"ticks\":\"\"}},\"type\":\"scattergl\"}],\"scattermapbox\":[{\"marker\":{\"colorbar\":{\"outlinewidth\":0,\"ticks\":\"\"}},\"type\":\"scattermapbox\"}],\"scatterpolargl\":[{\"marker\":{\"colorbar\":{\"outlinewidth\":0,\"ticks\":\"\"}},\"type\":\"scatterpolargl\"}],\"scatterpolar\":[{\"marker\":{\"colorbar\":{\"outlinewidth\":0,\"ticks\":\"\"}},\"type\":\"scatterpolar\"}],\"scatter\":[{\"marker\":{\"colorbar\":{\"outlinewidth\":0,\"ticks\":\"\"}},\"type\":\"scatter\"}],\"scatterternary\":[{\"marker\":{\"colorbar\":{\"outlinewidth\":0,\"ticks\":\"\"}},\"type\":\"scatterternary\"}],\"surface\":[{\"colorbar\":{\"outlinewidth\":0,\"ticks\":\"\"},\"colorscale\":[[0.0,\"#0d0887\"],[0.1111111111111111,\"#46039f\"],[0.2222222222222222,\"#7201a8\"],[0.3333333333333333,\"#9c179e\"],[0.4444444444444444,\"#bd3786\"],[0.5555555555555556,\"#d8576b\"],[0.6666666666666666,\"#ed7953\"],[0.7777777777777778,\"#fb9f3a\"],[0.8888888888888888,\"#fdca26\"],[1.0,\"#f0f921\"]],\"type\":\"surface\"}],\"table\":[{\"cells\":{\"fill\":{\"color\":\"#EBF0F8\"},\"line\":{\"color\":\"white\"}},\"header\":{\"fill\":{\"color\":\"#C8D4E3\"},\"line\":{\"color\":\"white\"}},\"type\":\"table\"}]},\"layout\":{\"annotationdefaults\":{\"arrowcolor\":\"#2a3f5f\",\"arrowhead\":0,\"arrowwidth\":1},\"autotypenumbers\":\"strict\",\"coloraxis\":{\"colorbar\":{\"outlinewidth\":0,\"ticks\":\"\"}},\"colorscale\":{\"diverging\":[[0,\"#8e0152\"],[0.1,\"#c51b7d\"],[0.2,\"#de77ae\"],[0.3,\"#f1b6da\"],[0.4,\"#fde0ef\"],[0.5,\"#f7f7f7\"],[0.6,\"#e6f5d0\"],[0.7,\"#b8e186\"],[0.8,\"#7fbc41\"],[0.9,\"#4d9221\"],[1,\"#276419\"]],\"sequential\":[[0.0,\"#0d0887\"],[0.1111111111111111,\"#46039f\"],[0.2222222222222222,\"#7201a8\"],[0.3333333333333333,\"#9c179e\"],[0.4444444444444444,\"#bd3786\"],[0.5555555555555556,\"#d8576b\"],[0.6666666666666666,\"#ed7953\"],[0.7777777777777778,\"#fb9f3a\"],[0.8888888888888888,\"#fdca26\"],[1.0,\"#f0f921\"]],\"sequentialminus\":[[0.0,\"#0d0887\"],[0.1111111111111111,\"#46039f\"],[0.2222222222222222,\"#7201a8\"],[0.3333333333333333,\"#9c179e\"],[0.4444444444444444,\"#bd3786\"],[0.5555555555555556,\"#d8576b\"],[0.6666666666666666,\"#ed7953\"],[0.7777777777777778,\"#fb9f3a\"],[0.8888888888888888,\"#fdca26\"],[1.0,\"#f0f921\"]]},\"colorway\":[\"#636efa\",\"#EF553B\",\"#00cc96\",\"#ab63fa\",\"#FFA15A\",\"#19d3f3\",\"#FF6692\",\"#B6E880\",\"#FF97FF\",\"#FECB52\"],\"font\":{\"color\":\"#2a3f5f\"},\"geo\":{\"bgcolor\":\"white\",\"lakecolor\":\"white\",\"landcolor\":\"#E5ECF6\",\"showlakes\":true,\"showland\":true,\"subunitcolor\":\"white\"},\"hoverlabel\":{\"align\":\"left\"},\"hovermode\":\"closest\",\"mapbox\":{\"style\":\"light\"},\"paper_bgcolor\":\"white\",\"plot_bgcolor\":\"#E5ECF6\",\"polar\":{\"angularaxis\":{\"gridcolor\":\"white\",\"linecolor\":\"white\",\"ticks\":\"\"},\"bgcolor\":\"#E5ECF6\",\"radialaxis\":{\"gridcolor\":\"white\",\"linecolor\":\"white\",\"ticks\":\"\"}},\"scene\":{\"xaxis\":{\"backgroundcolor\":\"#E5ECF6\",\"gridcolor\":\"white\",\"gridwidth\":2,\"linecolor\":\"white\",\"showbackground\":true,\"ticks\":\"\",\"zerolinecolor\":\"white\"},\"yaxis\":{\"backgroundcolor\":\"#E5ECF6\",\"gridcolor\":\"white\",\"gridwidth\":2,\"linecolor\":\"white\",\"showbackground\":true,\"ticks\":\"\",\"zerolinecolor\":\"white\"},\"zaxis\":{\"backgroundcolor\":\"#E5ECF6\",\"gridcolor\":\"white\",\"gridwidth\":2,\"linecolor\":\"white\",\"showbackground\":true,\"ticks\":\"\",\"zerolinecolor\":\"white\"}},\"shapedefaults\":{\"line\":{\"color\":\"#2a3f5f\"}},\"ternary\":{\"aaxis\":{\"gridcolor\":\"white\",\"linecolor\":\"white\",\"ticks\":\"\"},\"baxis\":{\"gridcolor\":\"white\",\"linecolor\":\"white\",\"ticks\":\"\"},\"bgcolor\":\"#E5ECF6\",\"caxis\":{\"gridcolor\":\"white\",\"linecolor\":\"white\",\"ticks\":\"\"}},\"title\":{\"x\":0.05},\"xaxis\":{\"automargin\":true,\"gridcolor\":\"white\",\"linecolor\":\"white\",\"ticks\":\"\",\"title\":{\"standoff\":15},\"zerolinecolor\":\"white\",\"zerolinewidth\":2},\"yaxis\":{\"automargin\":true,\"gridcolor\":\"white\",\"linecolor\":\"white\",\"ticks\":\"\",\"title\":{\"standoff\":15},\"zerolinecolor\":\"white\",\"zerolinewidth\":2}}},\"title\":{\"font\":{\"color\":\"#4D5663\"}},\"xaxis\":{\"anchor\":\"y\",\"domain\":[0.0,0.2125],\"gridcolor\":\"#E1E5ED\",\"showgrid\":false,\"tickfont\":{\"color\":\"#4D5663\"},\"title\":{\"font\":{\"color\":\"#4D5663\"},\"text\":\"\"},\"zerolinecolor\":\"#E1E5ED\"},\"yaxis\":{\"anchor\":\"x\",\"domain\":[0.8025,1.0],\"gridcolor\":\"#E1E5ED\",\"showgrid\":false,\"tickfont\":{\"color\":\"#4D5663\"},\"title\":{\"font\":{\"color\":\"#4D5663\"},\"text\":\"\"},\"zerolinecolor\":\"#E1E5ED\"},\"xaxis2\":{\"anchor\":\"y2\",\"domain\":[0.2625,0.475],\"gridcolor\":\"#E1E5ED\",\"showgrid\":false,\"tickfont\":{\"color\":\"#4D5663\"},\"title\":{\"font\":{\"color\":\"#4D5663\"},\"text\":\"\"},\"zerolinecolor\":\"#E1E5ED\"},\"yaxis2\":{\"anchor\":\"x2\",\"domain\":[0.8025,1.0],\"gridcolor\":\"#E1E5ED\",\"showgrid\":false,\"tickfont\":{\"color\":\"#4D5663\"},\"title\":{\"font\":{\"color\":\"#4D5663\"},\"text\":\"\"},\"zerolinecolor\":\"#E1E5ED\"},\"xaxis3\":{\"anchor\":\"y3\",\"domain\":[0.525,0.7375],\"gridcolor\":\"#E1E5ED\",\"showgrid\":false,\"tickfont\":{\"color\":\"#4D5663\"},\"title\":{\"font\":{\"color\":\"#4D5663\"},\"text\":\"\"},\"zerolinecolor\":\"#E1E5ED\"},\"yaxis3\":{\"anchor\":\"x3\",\"domain\":[0.8025,1.0],\"gridcolor\":\"#E1E5ED\",\"showgrid\":false,\"tickfont\":{\"color\":\"#4D5663\"},\"title\":{\"font\":{\"color\":\"#4D5663\"},\"text\":\"\"},\"zerolinecolor\":\"#E1E5ED\"},\"xaxis4\":{\"anchor\":\"y4\",\"domain\":[0.7875,1.0],\"gridcolor\":\"#E1E5ED\",\"showgrid\":false,\"tickfont\":{\"color\":\"#4D5663\"},\"title\":{\"font\":{\"color\":\"#4D5663\"},\"text\":\"\"},\"zerolinecolor\":\"#E1E5ED\"},\"yaxis4\":{\"anchor\":\"x4\",\"domain\":[0.8025,1.0],\"gridcolor\":\"#E1E5ED\",\"showgrid\":false,\"tickfont\":{\"color\":\"#4D5663\"},\"title\":{\"font\":{\"color\":\"#4D5663\"},\"text\":\"\"},\"zerolinecolor\":\"#E1E5ED\"},\"xaxis5\":{\"anchor\":\"y5\",\"domain\":[0.0,0.2125],\"gridcolor\":\"#E1E5ED\",\"showgrid\":false,\"tickfont\":{\"color\":\"#4D5663\"},\"title\":{\"font\":{\"color\":\"#4D5663\"},\"text\":\"\"},\"zerolinecolor\":\"#E1E5ED\"},\"yaxis5\":{\"anchor\":\"x5\",\"domain\":[0.535,0.7325],\"gridcolor\":\"#E1E5ED\",\"showgrid\":false,\"tickfont\":{\"color\":\"#4D5663\"},\"title\":{\"font\":{\"color\":\"#4D5663\"},\"text\":\"\"},\"zerolinecolor\":\"#E1E5ED\"},\"xaxis6\":{\"anchor\":\"y6\",\"domain\":[0.2625,0.475],\"gridcolor\":\"#E1E5ED\",\"showgrid\":false,\"tickfont\":{\"color\":\"#4D5663\"},\"title\":{\"font\":{\"color\":\"#4D5663\"},\"text\":\"\"},\"zerolinecolor\":\"#E1E5ED\"},\"yaxis6\":{\"anchor\":\"x6\",\"domain\":[0.535,0.7325],\"gridcolor\":\"#E1E5ED\",\"showgrid\":false,\"tickfont\":{\"color\":\"#4D5663\"},\"title\":{\"font\":{\"color\":\"#4D5663\"},\"text\":\"\"},\"zerolinecolor\":\"#E1E5ED\"},\"xaxis7\":{\"anchor\":\"y7\",\"domain\":[0.525,0.7375],\"gridcolor\":\"#E1E5ED\",\"showgrid\":false,\"tickfont\":{\"color\":\"#4D5663\"},\"title\":{\"font\":{\"color\":\"#4D5663\"},\"text\":\"\"},\"zerolinecolor\":\"#E1E5ED\"},\"yaxis7\":{\"anchor\":\"x7\",\"domain\":[0.535,0.7325],\"gridcolor\":\"#E1E5ED\",\"showgrid\":false,\"tickfont\":{\"color\":\"#4D5663\"},\"title\":{\"font\":{\"color\":\"#4D5663\"},\"text\":\"\"},\"zerolinecolor\":\"#E1E5ED\"},\"xaxis8\":{\"anchor\":\"y8\",\"domain\":[0.7875,1.0],\"gridcolor\":\"#E1E5ED\",\"showgrid\":false,\"tickfont\":{\"color\":\"#4D5663\"},\"title\":{\"font\":{\"color\":\"#4D5663\"},\"text\":\"\"},\"zerolinecolor\":\"#E1E5ED\"},\"yaxis8\":{\"anchor\":\"x8\",\"domain\":[0.535,0.7325],\"gridcolor\":\"#E1E5ED\",\"showgrid\":false,\"tickfont\":{\"color\":\"#4D5663\"},\"title\":{\"font\":{\"color\":\"#4D5663\"},\"text\":\"\"},\"zerolinecolor\":\"#E1E5ED\"},\"xaxis9\":{\"anchor\":\"y9\",\"domain\":[0.0,0.2125],\"gridcolor\":\"#E1E5ED\",\"showgrid\":false,\"tickfont\":{\"color\":\"#4D5663\"},\"title\":{\"font\":{\"color\":\"#4D5663\"},\"text\":\"\"},\"zerolinecolor\":\"#E1E5ED\"},\"yaxis9\":{\"anchor\":\"x9\",\"domain\":[0.2675,0.465],\"gridcolor\":\"#E1E5ED\",\"showgrid\":false,\"tickfont\":{\"color\":\"#4D5663\"},\"title\":{\"font\":{\"color\":\"#4D5663\"},\"text\":\"\"},\"zerolinecolor\":\"#E1E5ED\"},\"xaxis10\":{\"anchor\":\"y10\",\"domain\":[0.2625,0.475],\"gridcolor\":\"#E1E5ED\",\"showgrid\":false,\"tickfont\":{\"color\":\"#4D5663\"},\"title\":{\"font\":{\"color\":\"#4D5663\"},\"text\":\"\"},\"zerolinecolor\":\"#E1E5ED\"},\"yaxis10\":{\"anchor\":\"x10\",\"domain\":[0.2675,0.465],\"gridcolor\":\"#E1E5ED\",\"showgrid\":false,\"tickfont\":{\"color\":\"#4D5663\"},\"title\":{\"font\":{\"color\":\"#4D5663\"},\"text\":\"\"},\"zerolinecolor\":\"#E1E5ED\"},\"xaxis11\":{\"anchor\":\"y11\",\"domain\":[0.525,0.7375],\"gridcolor\":\"#E1E5ED\",\"showgrid\":false,\"tickfont\":{\"color\":\"#4D5663\"},\"title\":{\"font\":{\"color\":\"#4D5663\"},\"text\":\"\"},\"zerolinecolor\":\"#E1E5ED\"},\"yaxis11\":{\"anchor\":\"x11\",\"domain\":[0.2675,0.465],\"gridcolor\":\"#E1E5ED\",\"showgrid\":false,\"tickfont\":{\"color\":\"#4D5663\"},\"title\":{\"font\":{\"color\":\"#4D5663\"},\"text\":\"\"},\"zerolinecolor\":\"#E1E5ED\"},\"xaxis12\":{\"anchor\":\"y12\",\"domain\":[0.7875,1.0],\"gridcolor\":\"#E1E5ED\",\"showgrid\":false,\"tickfont\":{\"color\":\"#4D5663\"},\"title\":{\"font\":{\"color\":\"#4D5663\"},\"text\":\"\"},\"zerolinecolor\":\"#E1E5ED\"},\"yaxis12\":{\"anchor\":\"x12\",\"domain\":[0.2675,0.465],\"gridcolor\":\"#E1E5ED\",\"showgrid\":false,\"tickfont\":{\"color\":\"#4D5663\"},\"title\":{\"font\":{\"color\":\"#4D5663\"},\"text\":\"\"},\"zerolinecolor\":\"#E1E5ED\"},\"xaxis13\":{\"anchor\":\"y13\",\"domain\":[0.0,0.2125],\"gridcolor\":\"#E1E5ED\",\"showgrid\":false,\"tickfont\":{\"color\":\"#4D5663\"},\"title\":{\"font\":{\"color\":\"#4D5663\"},\"text\":\"\"},\"zerolinecolor\":\"#E1E5ED\"},\"yaxis13\":{\"anchor\":\"x13\",\"domain\":[0.0,0.1975],\"gridcolor\":\"#E1E5ED\",\"showgrid\":false,\"tickfont\":{\"color\":\"#4D5663\"},\"title\":{\"font\":{\"color\":\"#4D5663\"},\"text\":\"\"},\"zerolinecolor\":\"#E1E5ED\"},\"xaxis14\":{\"anchor\":\"y14\",\"domain\":[0.2625,0.475],\"gridcolor\":\"#E1E5ED\",\"showgrid\":false,\"tickfont\":{\"color\":\"#4D5663\"},\"title\":{\"font\":{\"color\":\"#4D5663\"},\"text\":\"\"},\"zerolinecolor\":\"#E1E5ED\"},\"yaxis14\":{\"anchor\":\"x14\",\"domain\":[0.0,0.1975],\"gridcolor\":\"#E1E5ED\",\"showgrid\":false,\"tickfont\":{\"color\":\"#4D5663\"},\"title\":{\"font\":{\"color\":\"#4D5663\"},\"text\":\"\"},\"zerolinecolor\":\"#E1E5ED\"},\"xaxis15\":{\"anchor\":\"y15\",\"domain\":[0.525,0.7375],\"gridcolor\":\"#E1E5ED\",\"showgrid\":false,\"tickfont\":{\"color\":\"#4D5663\"},\"title\":{\"font\":{\"color\":\"#4D5663\"},\"text\":\"\"},\"zerolinecolor\":\"#E1E5ED\"},\"yaxis15\":{\"anchor\":\"x15\",\"domain\":[0.0,0.1975],\"gridcolor\":\"#E1E5ED\",\"showgrid\":false,\"tickfont\":{\"color\":\"#4D5663\"},\"title\":{\"font\":{\"color\":\"#4D5663\"},\"text\":\"\"},\"zerolinecolor\":\"#E1E5ED\"},\"xaxis16\":{\"anchor\":\"y16\",\"domain\":[0.7875,1.0],\"gridcolor\":\"#E1E5ED\",\"showgrid\":false,\"tickfont\":{\"color\":\"#4D5663\"},\"title\":{\"font\":{\"color\":\"#4D5663\"},\"text\":\"\"},\"zerolinecolor\":\"#E1E5ED\"},\"yaxis16\":{\"anchor\":\"x16\",\"domain\":[0.0,0.1975],\"gridcolor\":\"#E1E5ED\",\"showgrid\":false,\"tickfont\":{\"color\":\"#4D5663\"},\"title\":{\"font\":{\"color\":\"#4D5663\"},\"text\":\"\"},\"zerolinecolor\":\"#E1E5ED\"}},                        {\"showLink\": true, \"linkText\": \"Export to plot.ly\", \"plotlyServerURL\": \"https://plot.ly\", \"responsive\": true}                    ).then(function(){\n",
       "                            \n",
       "var gd = document.getElementById('ea44185a-b1e4-44cd-97d6-41718ce7635d');\n",
       "var x = new MutationObserver(function (mutations, observer) {{\n",
       "        var display = window.getComputedStyle(gd).display;\n",
       "        if (!display || display === 'none') {{\n",
       "            console.log([gd, 'removed!']);\n",
       "            Plotly.purge(gd);\n",
       "            observer.disconnect();\n",
       "        }}\n",
       "}});\n",
       "\n",
       "// Listen for the removal of the full notebook cells\n",
       "var notebookContainer = gd.closest('#notebook-container');\n",
       "if (notebookContainer) {{\n",
       "    x.observe(notebookContainer, {childList: true});\n",
       "}}\n",
       "\n",
       "// Listen for the clearing of the current output cell\n",
       "var outputEl = gd.closest('.output');\n",
       "if (outputEl) {{\n",
       "    x.observe(outputEl, {childList: true});\n",
       "}}\n",
       "\n",
       "                        })                };                });            </script>        </div>"
      ]
     },
     "metadata": {},
     "output_type": "display_data"
    }
   ],
   "source": [
    "df.scatter_matrix()"
   ]
  },
  {
   "cell_type": "markdown",
   "metadata": {},
   "source": [
    "# Great Job!"
   ]
  }
 ],
 "metadata": {
  "kernelspec": {
   "display_name": "Python 3",
   "language": "python",
   "name": "python3"
  },
  "language_info": {
   "codemirror_mode": {
    "name": "ipython",
    "version": 3
   },
   "file_extension": ".py",
   "mimetype": "text/x-python",
   "name": "python",
   "nbconvert_exporter": "python",
   "pygments_lexer": "ipython3",
   "version": "3.8.10"
  }
 },
 "nbformat": 4,
 "nbformat_minor": 4
}
